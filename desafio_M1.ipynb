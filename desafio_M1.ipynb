{
  "nbformat": 4,
  "nbformat_minor": 5,
  "metadata": {
    "kernelspec": {
      "display_name": "Python 3",
      "language": "python",
      "name": "python3"
    },
    "language_info": {
      "codemirror_mode": {
        "name": "ipython",
        "version": 3
      },
      "file_extension": ".py",
      "mimetype": "text/x-python",
      "name": "python",
      "nbconvert_exporter": "python",
      "pygments_lexer": "ipython3",
      "version": "3.8.10"
    },
    "colab": {
      "name": "desafio_M1.ipynb",
      "provenance": [],
      "collapsed_sections": [],
      "include_colab_link": true
    }
  },
  "cells": [
    {
      "cell_type": "markdown",
      "metadata": {
        "id": "view-in-github",
        "colab_type": "text"
      },
      "source": [
        "<a href=\"https://colab.research.google.com/github/Rosangelafl/exercicios_python_inovacao_civica/blob/main/desafio_M1.ipynb\" target=\"_parent\"><img src=\"https://colab.research.google.com/assets/colab-badge.svg\" alt=\"Open In Colab\"/></a>"
      ]
    },
    {
      "cell_type": "markdown",
      "metadata": {
        "id": "97a2694e"
      },
      "source": [
        "### Dicas\n",
        "\n",
        "*   Antes de ir pro código, leia a descrição do desafio e busque definir pequenos passos para chegar a solução.  \n",
        "*   Leia o código para se familiarizar com a solução que está em desenvolvimento;\n",
        "\n",
        "*  Tente entender o que o código faz ou significa. \n",
        "\n",
        "*  Busque encontrar as partes que faltam ser colocadas e erros no código que precisam ser corrigidos;\n",
        "\n",
        "*  Se aparecer erros, procure corrigir e/ou repita os passos acima.\n",
        "\n",
        "\n",
        "\n",
        "# 1. Desafio: dicionário\n",
        "\n",
        "Utilizando o conhecimento que obtivemos essa semana, utilize o Google Colab ou o Jupyter Notebook  para fazer um programa que consiga responder às seguintes perguntas:\n",
        "\n",
        "1. Quantas pessoas candidatas no estado de Pernambuco seriam mais novas do que você?\n",
        "2. Quantos porcentos isso representa em relação ao total de pessoas candidatas?\n",
        "\n",
        "Dica: Use como referência a coluna \"NR_IDADE_DATA_POSSE\" do conjunto de dados \"consulta_cand_2020_PE_desafio1.csv\"\n",
        "\n",
        "\n",
        "> Fonte: TSE. Repositório de dados eleitorais. Conjunto de dados [Candidatos - 2020](https://www.tse.jus.br/eleicoes/estatisticas/repositorio-de-dados-eleitorais-1)"
      ],
      "id": "97a2694e"
    },
    {
      "cell_type": "markdown",
      "metadata": {
        "id": "623268b2"
      },
      "source": [
        "### Importe as bibliotecas que usuará no código"
      ],
      "id": "623268b2"
    },
    {
      "cell_type": "code",
      "metadata": {
        "colab": {
          "base_uri": "https://localhost:8080/"
        },
        "id": "JyxNQCySDY76",
        "outputId": "64ef0fae-573f-467b-e550-3e0d5d63464a"
      },
      "source": [
        "from google.colab import drive\n",
        "drive.mount('/content/drive')"
      ],
      "id": "JyxNQCySDY76",
      "execution_count": null,
      "outputs": [
        {
          "output_type": "stream",
          "name": "stdout",
          "text": [
            "Drive already mounted at /content/drive; to attempt to forcibly remount, call drive.mount(\"/content/drive\", force_remount=True).\n"
          ]
        }
      ]
    },
    {
      "cell_type": "code",
      "metadata": {
        "colab": {
          "base_uri": "https://localhost:8080/"
        },
        "id": "vSkSZbumFw5B",
        "outputId": "2da9cc06-959d-49a5-b94f-77afb54d981a"
      },
      "source": [
        "!pip install --upgrade plotly"
      ],
      "id": "vSkSZbumFw5B",
      "execution_count": null,
      "outputs": [
        {
          "output_type": "stream",
          "name": "stdout",
          "text": [
            "Requirement already satisfied: plotly in /usr/local/lib/python3.7/dist-packages (5.3.0)\n",
            "Requirement already satisfied: six in /usr/local/lib/python3.7/dist-packages (from plotly) (1.15.0)\n",
            "Requirement already satisfied: tenacity>=6.2.0 in /usr/local/lib/python3.7/dist-packages (from plotly) (8.0.1)\n"
          ]
        }
      ]
    },
    {
      "cell_type": "code",
      "metadata": {
        "id": "287a13e3"
      },
      "source": [
        "import pandas as pd\n",
        "\n",
        "pd.options.plotting.backend = 'plotly'"
      ],
      "id": "287a13e3",
      "execution_count": null,
      "outputs": []
    },
    {
      "cell_type": "code",
      "metadata": {
        "id": "MbBMjjf3G5Eo"
      },
      "source": [
        "import plotly.io as pio\n",
        "pio.renderers\n",
        "pio.renderers.default = \"colab\""
      ],
      "id": "MbBMjjf3G5Eo",
      "execution_count": null,
      "outputs": []
    },
    {
      "cell_type": "markdown",
      "metadata": {
        "id": "bfc5092a"
      },
      "source": [
        "### Determine sua idade"
      ],
      "id": "bfc5092a"
    },
    {
      "cell_type": "code",
      "metadata": {
        "id": "acb8de62"
      },
      "source": [
        "idade = 57"
      ],
      "id": "acb8de62",
      "execution_count": null,
      "outputs": []
    },
    {
      "cell_type": "markdown",
      "metadata": {
        "id": "4ae99d52"
      },
      "source": [
        "### Leia o csv e converta para dicionário"
      ],
      "id": "4ae99d52"
    },
    {
      "cell_type": "code",
      "metadata": {
        "colab": {
          "base_uri": "https://localhost:8080/",
          "height": 289
        },
        "id": "ad03e5a6",
        "outputId": "e3b03fcb-967f-4360-f5cb-2433d6d77b54"
      },
      "source": [
        "df = pd.read_csv('/content/drive/MyDrive/Python para inovação civica/semana_1/desafio/consulta_cand_2020_PE_desafio.csv',\n",
        "                 sep=',', encoding='latin-1')\n",
        "df.head()"
      ],
      "id": "ad03e5a6",
      "execution_count": null,
      "outputs": [
        {
          "output_type": "execute_result",
          "data": {
            "text/html": [
              "<div>\n",
              "<style scoped>\n",
              "    .dataframe tbody tr th:only-of-type {\n",
              "        vertical-align: middle;\n",
              "    }\n",
              "\n",
              "    .dataframe tbody tr th {\n",
              "        vertical-align: top;\n",
              "    }\n",
              "\n",
              "    .dataframe thead th {\n",
              "        text-align: right;\n",
              "    }\n",
              "</style>\n",
              "<table border=\"1\" class=\"dataframe\">\n",
              "  <thead>\n",
              "    <tr style=\"text-align: right;\">\n",
              "      <th></th>\n",
              "      <th>ANO_ELEICAO</th>\n",
              "      <th>NM_UE</th>\n",
              "      <th>DS_CARGO</th>\n",
              "      <th>NM_CANDIDATO</th>\n",
              "      <th>SG_PARTIDO</th>\n",
              "      <th>NR_IDADE_DATA_POSSE</th>\n",
              "      <th>CD_GENERO</th>\n",
              "      <th>DS_GENERO</th>\n",
              "      <th>DS_COR_RACA</th>\n",
              "      <th>VR_DESPESA_MAX_CAMPANHA</th>\n",
              "    </tr>\n",
              "  </thead>\n",
              "  <tbody>\n",
              "    <tr>\n",
              "      <th>0</th>\n",
              "      <td>2020</td>\n",
              "      <td>GAMELEIRA</td>\n",
              "      <td>VEREADOR</td>\n",
              "      <td>ANDREIA LÚCIA DE FREITAS PEIXOTO</td>\n",
              "      <td>PP</td>\n",
              "      <td>52</td>\n",
              "      <td>4</td>\n",
              "      <td>FEMININO</td>\n",
              "      <td>BRANCA</td>\n",
              "      <td>12307.75</td>\n",
              "    </tr>\n",
              "    <tr>\n",
              "      <th>1</th>\n",
              "      <td>2020</td>\n",
              "      <td>CABO DE SANTO AGOSTINHO</td>\n",
              "      <td>VEREADOR</td>\n",
              "      <td>MIZAEL JOSÉ DA SILVA</td>\n",
              "      <td>PDT</td>\n",
              "      <td>40</td>\n",
              "      <td>2</td>\n",
              "      <td>MASCULINO</td>\n",
              "      <td>PARDA</td>\n",
              "      <td>109902.99</td>\n",
              "    </tr>\n",
              "    <tr>\n",
              "      <th>2</th>\n",
              "      <td>2020</td>\n",
              "      <td>TUPARETAMA</td>\n",
              "      <td>VEREADOR</td>\n",
              "      <td>CARLOS ANTONIO NOGUEIRA</td>\n",
              "      <td>PSB</td>\n",
              "      <td>53</td>\n",
              "      <td>2</td>\n",
              "      <td>MASCULINO</td>\n",
              "      <td>PARDA</td>\n",
              "      <td>12307.75</td>\n",
              "    </tr>\n",
              "    <tr>\n",
              "      <th>3</th>\n",
              "      <td>2020</td>\n",
              "      <td>GRAVATÁ</td>\n",
              "      <td>VEREADOR</td>\n",
              "      <td>JOSÉ SOARES DA SILVA</td>\n",
              "      <td>PTC</td>\n",
              "      <td>43</td>\n",
              "      <td>2</td>\n",
              "      <td>MASCULINO</td>\n",
              "      <td>BRANCA</td>\n",
              "      <td>134612.46</td>\n",
              "    </tr>\n",
              "    <tr>\n",
              "      <th>4</th>\n",
              "      <td>2020</td>\n",
              "      <td>SERRITA</td>\n",
              "      <td>VEREADOR</td>\n",
              "      <td>MARIA ZULEIDE DOMINGOS</td>\n",
              "      <td>PSD</td>\n",
              "      <td>48</td>\n",
              "      <td>4</td>\n",
              "      <td>FEMININO</td>\n",
              "      <td>PARDA</td>\n",
              "      <td>12307.75</td>\n",
              "    </tr>\n",
              "  </tbody>\n",
              "</table>\n",
              "</div>"
            ],
            "text/plain": [
              "   ANO_ELEICAO                    NM_UE  ... DS_COR_RACA VR_DESPESA_MAX_CAMPANHA\n",
              "0         2020                GAMELEIRA  ...      BRANCA                12307.75\n",
              "1         2020  CABO DE SANTO AGOSTINHO  ...       PARDA               109902.99\n",
              "2         2020               TUPARETAMA  ...       PARDA                12307.75\n",
              "3         2020                  GRAVATÁ  ...      BRANCA               134612.46\n",
              "4         2020                  SERRITA  ...       PARDA                12307.75\n",
              "\n",
              "[5 rows x 10 columns]"
            ]
          },
          "metadata": {},
          "execution_count": 23
        }
      ]
    },
    {
      "cell_type": "code",
      "metadata": {
        "colab": {
          "base_uri": "https://localhost:8080/"
        },
        "id": "JQ-RJUxDET0f",
        "outputId": "aa4ebc78-2335-4ab6-96f2-b348261ec1fe"
      },
      "source": [
        "df.columns.values"
      ],
      "id": "JQ-RJUxDET0f",
      "execution_count": null,
      "outputs": [
        {
          "output_type": "execute_result",
          "data": {
            "text/plain": [
              "array(['ANO_ELEICAO', 'NM_UE', 'DS_CARGO', 'NM_CANDIDATO', 'SG_PARTIDO',\n",
              "       'NR_IDADE_DATA_POSSE', 'CD_GENERO', 'DS_GENERO', 'DS_COR_RACA',\n",
              "       'VR_DESPESA_MAX_CAMPANHA'], dtype=object)"
            ]
          },
          "metadata": {},
          "execution_count": 24
        }
      ]
    },
    {
      "cell_type": "code",
      "metadata": {
        "colab": {
          "base_uri": "https://localhost:8080/"
        },
        "id": "itT6xhdYKSzp",
        "outputId": "b47633fc-a5db-4ba3-d168-8e2adad2651b"
      },
      "source": [
        "df.info()"
      ],
      "id": "itT6xhdYKSzp",
      "execution_count": null,
      "outputs": [
        {
          "output_type": "stream",
          "name": "stdout",
          "text": [
            "<class 'pandas.core.frame.DataFrame'>\n",
            "RangeIndex: 21101 entries, 0 to 21100\n",
            "Data columns (total 10 columns):\n",
            " #   Column                   Non-Null Count  Dtype  \n",
            "---  ------                   --------------  -----  \n",
            " 0   ANO_ELEICAO              21101 non-null  int64  \n",
            " 1   NM_UE                    21101 non-null  object \n",
            " 2   DS_CARGO                 21101 non-null  object \n",
            " 3   NM_CANDIDATO             21101 non-null  object \n",
            " 4   SG_PARTIDO               21101 non-null  object \n",
            " 5   NR_IDADE_DATA_POSSE      21101 non-null  int64  \n",
            " 6   CD_GENERO                21101 non-null  int64  \n",
            " 7   DS_GENERO                21101 non-null  object \n",
            " 8   DS_COR_RACA              21101 non-null  object \n",
            " 9   VR_DESPESA_MAX_CAMPANHA  21101 non-null  float64\n",
            "dtypes: float64(1), int64(3), object(6)\n",
            "memory usage: 1.6+ MB\n"
          ]
        }
      ]
    },
    {
      "cell_type": "code",
      "metadata": {
        "colab": {
          "base_uri": "https://localhost:8080/"
        },
        "id": "mTNEQoxRHwvl",
        "outputId": "b63ef2f6-26de-48e8-b88c-4d1f9e5ee6be"
      },
      "source": [
        "df.NR_IDADE_DATA_POSSE[df.NR_IDADE_DATA_POSSE == 57].sum()"
      ],
      "id": "mTNEQoxRHwvl",
      "execution_count": null,
      "outputs": [
        {
          "output_type": "execute_result",
          "data": {
            "text/plain": [
              "23142"
            ]
          },
          "metadata": {},
          "execution_count": 28
        }
      ]
    },
    {
      "cell_type": "code",
      "metadata": {
        "colab": {
          "base_uri": "https://localhost:8080/",
          "height": 542
        },
        "id": "HXSAp93FEUAy",
        "outputId": "302a6f3e-3684-4362-a685-1b5ffb66e0e6"
      },
      "source": [
        "df.NR_IDADE_DATA_POSSE.value_counts().sort_index().plot(kind='bar', title='Entre os candidatos a cargos municipais na eleição de 2020, em Pernambuco, 23.142 tinham 57 anos na data da posse')"
      ],
      "id": "HXSAp93FEUAy",
      "execution_count": null,
      "outputs": [
        {
          "output_type": "display_data",
          "data": {
            "text/html": [
              "<html>\n",
              "<head><meta charset=\"utf-8\" /></head>\n",
              "<body>\n",
              "    <div>            <script src=\"https://cdnjs.cloudflare.com/ajax/libs/mathjax/2.7.5/MathJax.js?config=TeX-AMS-MML_SVG\"></script><script type=\"text/javascript\">if (window.MathJax) {MathJax.Hub.Config({SVG: {font: \"STIX-Web\"}});}</script>                <script type=\"text/javascript\">window.PlotlyConfig = {MathJaxConfig: 'local'};</script>\n",
              "        <script src=\"https://cdn.plot.ly/plotly-2.4.1.min.js\"></script>                <div id=\"0c096ccc-b5c8-4bc2-98ec-87515609fce5\" class=\"plotly-graph-div\" style=\"height:525px; width:100%;\"></div>            <script type=\"text/javascript\">                                    window.PLOTLYENV=window.PLOTLYENV || {};                                    if (document.getElementById(\"0c096ccc-b5c8-4bc2-98ec-87515609fce5\")) {                    Plotly.newPlot(                        \"0c096ccc-b5c8-4bc2-98ec-87515609fce5\",                        [{\"alignmentgroup\":\"True\",\"hovertemplate\":\"variable=NR_IDADE_DATA_POSSE<br>index=%{x}<br>value=%{y}<extra></extra>\",\"legendgroup\":\"NR_IDADE_DATA_POSSE\",\"marker\":{\"color\":\"#636efa\",\"pattern\":{\"shape\":\"\"}},\"name\":\"NR_IDADE_DATA_POSSE\",\"offsetgroup\":\"NR_IDADE_DATA_POSSE\",\"orientation\":\"v\",\"showlegend\":true,\"textposition\":\"auto\",\"type\":\"bar\",\"x\":[16,18,19,20,21,22,23,24,25,26,27,28,29,30,31,32,33,34,35,36,37,38,39,40,41,42,43,44,45,46,47,48,49,50,51,52,53,54,55,56,57,58,59,60,61,62,63,64,65,66,67,68,69,70,71,72,73,74,75,76,77,78,79,80,81,82,83,84,85,86,90,93],\"xaxis\":\"x\",\"y\":[1,35,64,83,113,122,142,164,182,213,237,258,271,292,367,428,489,518,514,555,614,699,727,673,716,745,707,680,687,705,636,713,600,622,612,547,522,510,522,469,406,378,323,325,276,247,223,173,173,156,101,104,78,77,65,52,35,38,27,23,15,13,5,8,9,3,4,4,2,2,1,1],\"yaxis\":\"y\"}],                        {\"barmode\":\"relative\",\"legend\":{\"title\":{\"text\":\"variable\"},\"tracegroupgap\":0},\"template\":{\"data\":{\"bar\":[{\"error_x\":{\"color\":\"#2a3f5f\"},\"error_y\":{\"color\":\"#2a3f5f\"},\"marker\":{\"line\":{\"color\":\"#E5ECF6\",\"width\":0.5},\"pattern\":{\"fillmode\":\"overlay\",\"size\":10,\"solidity\":0.2}},\"type\":\"bar\"}],\"barpolar\":[{\"marker\":{\"line\":{\"color\":\"#E5ECF6\",\"width\":0.5},\"pattern\":{\"fillmode\":\"overlay\",\"size\":10,\"solidity\":0.2}},\"type\":\"barpolar\"}],\"carpet\":[{\"aaxis\":{\"endlinecolor\":\"#2a3f5f\",\"gridcolor\":\"white\",\"linecolor\":\"white\",\"minorgridcolor\":\"white\",\"startlinecolor\":\"#2a3f5f\"},\"baxis\":{\"endlinecolor\":\"#2a3f5f\",\"gridcolor\":\"white\",\"linecolor\":\"white\",\"minorgridcolor\":\"white\",\"startlinecolor\":\"#2a3f5f\"},\"type\":\"carpet\"}],\"choropleth\":[{\"colorbar\":{\"outlinewidth\":0,\"ticks\":\"\"},\"type\":\"choropleth\"}],\"contour\":[{\"colorbar\":{\"outlinewidth\":0,\"ticks\":\"\"},\"colorscale\":[[0.0,\"#0d0887\"],[0.1111111111111111,\"#46039f\"],[0.2222222222222222,\"#7201a8\"],[0.3333333333333333,\"#9c179e\"],[0.4444444444444444,\"#bd3786\"],[0.5555555555555556,\"#d8576b\"],[0.6666666666666666,\"#ed7953\"],[0.7777777777777778,\"#fb9f3a\"],[0.8888888888888888,\"#fdca26\"],[1.0,\"#f0f921\"]],\"type\":\"contour\"}],\"contourcarpet\":[{\"colorbar\":{\"outlinewidth\":0,\"ticks\":\"\"},\"type\":\"contourcarpet\"}],\"heatmap\":[{\"colorbar\":{\"outlinewidth\":0,\"ticks\":\"\"},\"colorscale\":[[0.0,\"#0d0887\"],[0.1111111111111111,\"#46039f\"],[0.2222222222222222,\"#7201a8\"],[0.3333333333333333,\"#9c179e\"],[0.4444444444444444,\"#bd3786\"],[0.5555555555555556,\"#d8576b\"],[0.6666666666666666,\"#ed7953\"],[0.7777777777777778,\"#fb9f3a\"],[0.8888888888888888,\"#fdca26\"],[1.0,\"#f0f921\"]],\"type\":\"heatmap\"}],\"heatmapgl\":[{\"colorbar\":{\"outlinewidth\":0,\"ticks\":\"\"},\"colorscale\":[[0.0,\"#0d0887\"],[0.1111111111111111,\"#46039f\"],[0.2222222222222222,\"#7201a8\"],[0.3333333333333333,\"#9c179e\"],[0.4444444444444444,\"#bd3786\"],[0.5555555555555556,\"#d8576b\"],[0.6666666666666666,\"#ed7953\"],[0.7777777777777778,\"#fb9f3a\"],[0.8888888888888888,\"#fdca26\"],[1.0,\"#f0f921\"]],\"type\":\"heatmapgl\"}],\"histogram\":[{\"marker\":{\"pattern\":{\"fillmode\":\"overlay\",\"size\":10,\"solidity\":0.2}},\"type\":\"histogram\"}],\"histogram2d\":[{\"colorbar\":{\"outlinewidth\":0,\"ticks\":\"\"},\"colorscale\":[[0.0,\"#0d0887\"],[0.1111111111111111,\"#46039f\"],[0.2222222222222222,\"#7201a8\"],[0.3333333333333333,\"#9c179e\"],[0.4444444444444444,\"#bd3786\"],[0.5555555555555556,\"#d8576b\"],[0.6666666666666666,\"#ed7953\"],[0.7777777777777778,\"#fb9f3a\"],[0.8888888888888888,\"#fdca26\"],[1.0,\"#f0f921\"]],\"type\":\"histogram2d\"}],\"histogram2dcontour\":[{\"colorbar\":{\"outlinewidth\":0,\"ticks\":\"\"},\"colorscale\":[[0.0,\"#0d0887\"],[0.1111111111111111,\"#46039f\"],[0.2222222222222222,\"#7201a8\"],[0.3333333333333333,\"#9c179e\"],[0.4444444444444444,\"#bd3786\"],[0.5555555555555556,\"#d8576b\"],[0.6666666666666666,\"#ed7953\"],[0.7777777777777778,\"#fb9f3a\"],[0.8888888888888888,\"#fdca26\"],[1.0,\"#f0f921\"]],\"type\":\"histogram2dcontour\"}],\"mesh3d\":[{\"colorbar\":{\"outlinewidth\":0,\"ticks\":\"\"},\"type\":\"mesh3d\"}],\"parcoords\":[{\"line\":{\"colorbar\":{\"outlinewidth\":0,\"ticks\":\"\"}},\"type\":\"parcoords\"}],\"pie\":[{\"automargin\":true,\"type\":\"pie\"}],\"scatter\":[{\"marker\":{\"colorbar\":{\"outlinewidth\":0,\"ticks\":\"\"}},\"type\":\"scatter\"}],\"scatter3d\":[{\"line\":{\"colorbar\":{\"outlinewidth\":0,\"ticks\":\"\"}},\"marker\":{\"colorbar\":{\"outlinewidth\":0,\"ticks\":\"\"}},\"type\":\"scatter3d\"}],\"scattercarpet\":[{\"marker\":{\"colorbar\":{\"outlinewidth\":0,\"ticks\":\"\"}},\"type\":\"scattercarpet\"}],\"scattergeo\":[{\"marker\":{\"colorbar\":{\"outlinewidth\":0,\"ticks\":\"\"}},\"type\":\"scattergeo\"}],\"scattergl\":[{\"marker\":{\"colorbar\":{\"outlinewidth\":0,\"ticks\":\"\"}},\"type\":\"scattergl\"}],\"scattermapbox\":[{\"marker\":{\"colorbar\":{\"outlinewidth\":0,\"ticks\":\"\"}},\"type\":\"scattermapbox\"}],\"scatterpolar\":[{\"marker\":{\"colorbar\":{\"outlinewidth\":0,\"ticks\":\"\"}},\"type\":\"scatterpolar\"}],\"scatterpolargl\":[{\"marker\":{\"colorbar\":{\"outlinewidth\":0,\"ticks\":\"\"}},\"type\":\"scatterpolargl\"}],\"scatterternary\":[{\"marker\":{\"colorbar\":{\"outlinewidth\":0,\"ticks\":\"\"}},\"type\":\"scatterternary\"}],\"surface\":[{\"colorbar\":{\"outlinewidth\":0,\"ticks\":\"\"},\"colorscale\":[[0.0,\"#0d0887\"],[0.1111111111111111,\"#46039f\"],[0.2222222222222222,\"#7201a8\"],[0.3333333333333333,\"#9c179e\"],[0.4444444444444444,\"#bd3786\"],[0.5555555555555556,\"#d8576b\"],[0.6666666666666666,\"#ed7953\"],[0.7777777777777778,\"#fb9f3a\"],[0.8888888888888888,\"#fdca26\"],[1.0,\"#f0f921\"]],\"type\":\"surface\"}],\"table\":[{\"cells\":{\"fill\":{\"color\":\"#EBF0F8\"},\"line\":{\"color\":\"white\"}},\"header\":{\"fill\":{\"color\":\"#C8D4E3\"},\"line\":{\"color\":\"white\"}},\"type\":\"table\"}]},\"layout\":{\"annotationdefaults\":{\"arrowcolor\":\"#2a3f5f\",\"arrowhead\":0,\"arrowwidth\":1},\"autotypenumbers\":\"strict\",\"coloraxis\":{\"colorbar\":{\"outlinewidth\":0,\"ticks\":\"\"}},\"colorscale\":{\"diverging\":[[0,\"#8e0152\"],[0.1,\"#c51b7d\"],[0.2,\"#de77ae\"],[0.3,\"#f1b6da\"],[0.4,\"#fde0ef\"],[0.5,\"#f7f7f7\"],[0.6,\"#e6f5d0\"],[0.7,\"#b8e186\"],[0.8,\"#7fbc41\"],[0.9,\"#4d9221\"],[1,\"#276419\"]],\"sequential\":[[0.0,\"#0d0887\"],[0.1111111111111111,\"#46039f\"],[0.2222222222222222,\"#7201a8\"],[0.3333333333333333,\"#9c179e\"],[0.4444444444444444,\"#bd3786\"],[0.5555555555555556,\"#d8576b\"],[0.6666666666666666,\"#ed7953\"],[0.7777777777777778,\"#fb9f3a\"],[0.8888888888888888,\"#fdca26\"],[1.0,\"#f0f921\"]],\"sequentialminus\":[[0.0,\"#0d0887\"],[0.1111111111111111,\"#46039f\"],[0.2222222222222222,\"#7201a8\"],[0.3333333333333333,\"#9c179e\"],[0.4444444444444444,\"#bd3786\"],[0.5555555555555556,\"#d8576b\"],[0.6666666666666666,\"#ed7953\"],[0.7777777777777778,\"#fb9f3a\"],[0.8888888888888888,\"#fdca26\"],[1.0,\"#f0f921\"]]},\"colorway\":[\"#636efa\",\"#EF553B\",\"#00cc96\",\"#ab63fa\",\"#FFA15A\",\"#19d3f3\",\"#FF6692\",\"#B6E880\",\"#FF97FF\",\"#FECB52\"],\"font\":{\"color\":\"#2a3f5f\"},\"geo\":{\"bgcolor\":\"white\",\"lakecolor\":\"white\",\"landcolor\":\"#E5ECF6\",\"showlakes\":true,\"showland\":true,\"subunitcolor\":\"white\"},\"hoverlabel\":{\"align\":\"left\"},\"hovermode\":\"closest\",\"mapbox\":{\"style\":\"light\"},\"paper_bgcolor\":\"white\",\"plot_bgcolor\":\"#E5ECF6\",\"polar\":{\"angularaxis\":{\"gridcolor\":\"white\",\"linecolor\":\"white\",\"ticks\":\"\"},\"bgcolor\":\"#E5ECF6\",\"radialaxis\":{\"gridcolor\":\"white\",\"linecolor\":\"white\",\"ticks\":\"\"}},\"scene\":{\"xaxis\":{\"backgroundcolor\":\"#E5ECF6\",\"gridcolor\":\"white\",\"gridwidth\":2,\"linecolor\":\"white\",\"showbackground\":true,\"ticks\":\"\",\"zerolinecolor\":\"white\"},\"yaxis\":{\"backgroundcolor\":\"#E5ECF6\",\"gridcolor\":\"white\",\"gridwidth\":2,\"linecolor\":\"white\",\"showbackground\":true,\"ticks\":\"\",\"zerolinecolor\":\"white\"},\"zaxis\":{\"backgroundcolor\":\"#E5ECF6\",\"gridcolor\":\"white\",\"gridwidth\":2,\"linecolor\":\"white\",\"showbackground\":true,\"ticks\":\"\",\"zerolinecolor\":\"white\"}},\"shapedefaults\":{\"line\":{\"color\":\"#2a3f5f\"}},\"ternary\":{\"aaxis\":{\"gridcolor\":\"white\",\"linecolor\":\"white\",\"ticks\":\"\"},\"baxis\":{\"gridcolor\":\"white\",\"linecolor\":\"white\",\"ticks\":\"\"},\"bgcolor\":\"#E5ECF6\",\"caxis\":{\"gridcolor\":\"white\",\"linecolor\":\"white\",\"ticks\":\"\"}},\"title\":{\"x\":0.05},\"xaxis\":{\"automargin\":true,\"gridcolor\":\"white\",\"linecolor\":\"white\",\"ticks\":\"\",\"title\":{\"standoff\":15},\"zerolinecolor\":\"white\",\"zerolinewidth\":2},\"yaxis\":{\"automargin\":true,\"gridcolor\":\"white\",\"linecolor\":\"white\",\"ticks\":\"\",\"title\":{\"standoff\":15},\"zerolinecolor\":\"white\",\"zerolinewidth\":2}}},\"title\":{\"text\":\"Entre os candidatos a cargos municipais na elei\\u00e7\\u00e3o de 2020, em Pernambuco, 23.142 tinham 57 anos na data da posse\"},\"xaxis\":{\"anchor\":\"y\",\"domain\":[0.0,1.0],\"title\":{\"text\":\"index\"}},\"yaxis\":{\"anchor\":\"x\",\"domain\":[0.0,1.0],\"title\":{\"text\":\"value\"}}},                        {\"responsive\": true}                    ).then(function(){\n",
              "                            \n",
              "var gd = document.getElementById('0c096ccc-b5c8-4bc2-98ec-87515609fce5');\n",
              "var x = new MutationObserver(function (mutations, observer) {{\n",
              "        var display = window.getComputedStyle(gd).display;\n",
              "        if (!display || display === 'none') {{\n",
              "            console.log([gd, 'removed!']);\n",
              "            Plotly.purge(gd);\n",
              "            observer.disconnect();\n",
              "        }}\n",
              "}});\n",
              "\n",
              "// Listen for the removal of the full notebook cells\n",
              "var notebookContainer = gd.closest('#notebook-container');\n",
              "if (notebookContainer) {{\n",
              "    x.observe(notebookContainer, {childList: true});\n",
              "}}\n",
              "\n",
              "// Listen for the clearing of the current output cell\n",
              "var outputEl = gd.closest('.output');\n",
              "if (outputEl) {{\n",
              "    x.observe(outputEl, {childList: true});\n",
              "}}\n",
              "\n",
              "                        })                };                            </script>        </div>\n",
              "</body>\n",
              "</html>"
            ]
          },
          "metadata": {}
        }
      ]
    },
    {
      "cell_type": "code",
      "metadata": {
        "colab": {
          "base_uri": "https://localhost:8080/",
          "height": 542
        },
        "id": "Z0SMjzF2HRxo",
        "outputId": "7df0e0b9-7ec1-4c3d-e6cf-5d1343d0b3d0"
      },
      "source": [
        "df.NR_IDADE_DATA_POSSE.hist(bins=30)"
      ],
      "id": "Z0SMjzF2HRxo",
      "execution_count": null,
      "outputs": [
        {
          "output_type": "display_data",
          "data": {
            "text/html": [
              "<html>\n",
              "<head><meta charset=\"utf-8\" /></head>\n",
              "<body>\n",
              "    <div>            <script src=\"https://cdnjs.cloudflare.com/ajax/libs/mathjax/2.7.5/MathJax.js?config=TeX-AMS-MML_SVG\"></script><script type=\"text/javascript\">if (window.MathJax) {MathJax.Hub.Config({SVG: {font: \"STIX-Web\"}});}</script>                <script type=\"text/javascript\">window.PlotlyConfig = {MathJaxConfig: 'local'};</script>\n",
              "        <script src=\"https://cdn.plot.ly/plotly-2.4.1.min.js\"></script>                <div id=\"07fcf1a7-d851-4152-afa4-eb5062e31185\" class=\"plotly-graph-div\" style=\"height:525px; width:100%;\"></div>            <script type=\"text/javascript\">                                    window.PLOTLYENV=window.PLOTLYENV || {};                                    if (document.getElementById(\"07fcf1a7-d851-4152-afa4-eb5062e31185\")) {                    Plotly.newPlot(                        \"07fcf1a7-d851-4152-afa4-eb5062e31185\",                        [{\"alignmentgroup\":\"True\",\"bingroup\":\"x\",\"hovertemplate\":\"variable=NR_IDADE_DATA_POSSE<br>value=%{x}<br>count=%{y}<extra></extra>\",\"legendgroup\":\"NR_IDADE_DATA_POSSE\",\"marker\":{\"color\":\"#636efa\",\"pattern\":{\"shape\":\"\"}},\"name\":\"NR_IDADE_DATA_POSSE\",\"offsetgroup\":\"NR_IDADE_DATA_POSSE\",\"orientation\":\"v\",\"showlegend\":true,\"type\":\"histogram\",\"x\":[52,40,53,43,48,49,56,50,54,40,50,41,62,29,40,43,37,42,36,38,58,46,53,34,45,79,32,32,57,46,35,21,58,47,27,35,55,28,41,57,24,48,33,47,62,34,50,34,28,58,19,43,41,54,34,53,29,31,45,54,37,49,50,55,42,27,28,40,69,53,33,52,41,53,38,37,51,48,45,44,43,56,42,32,34,57,36,49,40,40,52,50,45,36,37,72,45,44,55,51,27,47,62,48,48,47,25,37,49,35,57,40,71,62,36,68,44,85,21,55,58,35,44,22,54,41,46,29,48,30,52,47,31,51,54,51,34,40,38,37,45,38,55,49,39,55,29,57,44,38,48,28,66,46,37,45,57,55,50,63,39,45,40,36,46,56,56,42,46,49,48,29,55,59,64,39,42,39,55,40,32,39,41,41,32,61,48,50,42,19,44,52,53,36,50,47,53,27,48,64,58,56,53,50,48,30,54,31,40,49,51,58,51,38,24,37,32,51,43,43,44,63,46,34,30,49,50,33,43,40,48,54,35,41,38,34,50,49,74,61,55,58,31,27,66,61,38,40,28,22,31,41,70,36,52,47,50,61,39,61,38,75,29,41,52,36,36,52,23,61,40,33,20,57,50,52,35,60,47,44,67,71,51,48,23,56,65,46,41,43,54,43,46,31,57,32,45,34,33,49,29,28,49,60,45,41,41,45,53,37,53,31,40,28,62,51,69,56,26,41,35,30,37,30,33,42,43,46,23,66,39,50,41,66,45,45,31,47,34,38,60,44,53,45,33,38,39,27,39,35,32,37,35,54,55,46,50,66,30,28,53,39,60,42,37,56,36,38,41,25,40,40,71,49,38,62,43,39,65,37,45,42,23,29,60,45,47,44,70,51,35,40,63,42,33,32,55,35,50,26,45,45,56,59,44,48,49,49,40,39,57,50,44,42,46,45,41,32,57,25,31,63,41,54,40,50,57,54,55,62,61,49,36,46,40,30,60,53,42,42,53,43,36,55,39,24,62,63,48,27,35,27,43,27,41,52,49,49,44,34,34,49,81,33,45,48,61,37,46,34,41,39,53,47,50,35,53,39,57,32,28,53,37,42,52,53,54,35,76,51,44,40,58,46,43,26,49,56,41,35,64,70,37,63,48,60,38,51,43,23,59,44,23,50,61,36,39,49,24,32,46,40,40,43,41,77,31,52,73,55,46,38,55,26,28,50,59,36,37,40,34,35,61,43,53,39,20,36,52,69,52,51,64,43,53,55,39,52,49,55,46,45,70,31,47,47,41,63,41,60,48,31,55,44,32,54,41,35,23,54,38,38,21,45,28,26,40,52,43,47,49,29,50,49,33,45,28,41,46,41,37,34,52,65,65,49,51,39,65,55,48,40,34,38,34,36,29,42,51,34,50,36,42,45,39,40,19,56,56,62,64,51,64,43,20,23,43,31,35,51,52,43,49,40,34,59,34,63,43,34,57,45,52,36,50,52,27,66,52,37,47,43,48,42,42,30,63,47,46,50,37,53,71,56,46,24,34,28,27,33,56,48,22,38,32,41,65,46,21,44,32,39,27,38,57,40,32,49,71,44,59,46,59,57,43,24,46,58,40,37,44,48,40,50,55,38,30,63,45,26,38,60,34,28,33,55,45,34,55,21,44,56,54,60,34,34,39,57,41,49,70,66,31,49,33,32,47,41,48,63,52,51,46,47,44,35,54,43,37,59,74,24,30,56,49,38,33,37,56,58,30,31,68,61,68,44,52,52,34,64,44,63,43,34,49,48,72,40,40,56,44,38,38,37,45,40,43,27,46,28,20,69,45,39,42,59,35,53,63,36,33,46,40,45,27,39,56,31,40,62,34,67,40,43,56,60,46,21,65,28,33,32,50,33,45,37,47,58,51,46,42,25,47,31,64,42,45,33,46,42,30,52,32,31,32,49,26,64,39,54,39,21,45,55,50,55,43,39,36,35,54,52,61,42,35,37,56,49,41,28,63,41,43,40,42,22,38,54,35,43,26,74,72,46,55,55,69,36,53,54,67,55,45,51,34,55,43,41,26,49,37,43,36,33,50,42,67,27,46,84,29,50,68,63,54,51,49,60,36,57,44,45,19,32,35,34,64,31,39,38,39,43,58,35,30,33,57,37,37,40,60,48,43,38,51,25,30,41,27,47,60,31,35,60,47,53,35,50,55,68,53,42,36,62,34,39,51,44,27,36,32,56,33,36,45,30,34,48,58,25,41,21,58,47,51,44,23,62,39,41,34,50,79,49,56,23,23,39,54,24,40,30,40,57,40,57,48,34,55,50,53,31,54,57,49,37,47,38,35,44,30,58,50,58,63,51,38,50,41,53,57,50,27,56,45,56,31,57,47,39,41,50,39,56,37,46,56,45,53,45,45,41,34,34,32,47,38,54,38,56,55,58,57,33,29,31,44,54,36,55,65,51,33,22,43,57,45,56,47,54,29,32,42,43,48,34,43,49,27,25,49,51,46,44,25,37,49,63,25,35,41,36,58,53,42,67,36,50,57,32,68,32,31,46,46,46,45,53,51,43,30,51,42,81,33,42,35,60,45,49,37,29,50,34,29,23,41,54,43,48,47,50,51,26,35,49,44,50,37,50,61,51,30,46,50,62,38,65,40,51,43,61,51,68,64,38,46,39,38,20,63,44,51,46,44,46,29,34,31,31,60,46,64,33,45,46,25,37,54,74,34,51,62,45,31,51,39,53,58,42,50,54,40,52,45,20,41,36,41,56,36,76,29,38,53,51,52,44,43,47,59,30,38,37,34,42,54,30,44,54,35,48,40,47,23,44,46,28,33,49,48,45,43,61,43,37,35,42,41,54,57,33,23,38,62,49,58,33,51,51,54,35,44,55,48,50,38,48,64,45,34,23,48,29,33,35,36,54,65,43,58,53,41,58,60,36,44,44,54,45,43,58,30,61,52,34,37,37,50,47,41,54,62,33,26,35,53,39,28,63,42,50,43,47,35,52,40,37,56,51,42,35,49,49,41,67,46,45,48,42,47,72,65,38,68,47,32,38,57,28,21,46,38,36,52,50,37,37,24,39,35,45,31,50,53,44,27,23,56,50,54,33,51,63,43,48,43,54,54,34,48,38,58,55,58,30,46,45,32,46,62,54,59,37,46,44,62,58,42,30,37,54,37,36,32,46,48,45,59,52,40,63,47,65,32,28,45,36,59,47,33,55,46,42,54,36,45,59,41,59,58,58,62,40,45,36,51,48,76,39,21,62,45,46,72,25,51,42,71,36,43,46,43,24,46,51,38,57,41,52,32,64,53,40,38,61,39,43,31,44,40,41,44,39,22,26,67,44,28,45,47,48,28,35,44,34,53,47,44,46,29,48,58,37,39,39,49,39,23,46,36,29,38,28,28,53,41,32,49,53,30,61,41,43,34,45,42,42,56,50,42,41,37,39,36,48,53,27,38,46,24,52,28,41,46,31,57,48,37,37,52,44,46,45,36,52,31,52,55,42,26,34,60,51,37,34,47,46,33,42,50,45,45,47,35,60,45,31,50,61,26,36,35,51,41,49,58,20,42,49,26,38,24,32,30,43,61,44,53,51,54,43,51,46,37,64,50,55,51,57,44,35,51,40,68,44,36,32,33,57,35,59,34,43,31,38,49,37,47,54,39,37,42,39,46,44,19,36,36,41,45,46,43,60,40,39,44,78,59,75,24,49,49,54,64,56,50,46,39,58,40,45,50,56,22,35,30,44,29,39,34,66,40,38,55,41,42,51,34,64,45,43,33,65,47,54,49,51,33,49,63,44,36,29,29,44,58,54,48,40,60,55,38,27,63,36,36,52,53,49,19,47,26,56,54,36,61,36,43,61,50,41,65,42,67,51,24,65,49,59,44,48,38,28,39,41,42,24,64,46,53,76,61,41,42,70,75,60,49,34,20,45,44,60,44,42,50,47,58,57,45,52,53,70,27,60,55,44,47,34,44,38,37,45,43,30,36,32,40,35,50,50,45,41,47,49,43,49,40,61,49,50,65,37,44,36,41,62,27,47,45,34,35,47,39,43,40,58,60,44,39,55,40,35,40,25,50,39,44,58,54,56,46,52,37,33,49,50,56,59,22,40,41,22,56,50,50,34,37,43,47,55,50,46,54,34,54,60,34,58,61,52,49,51,48,41,23,35,25,39,49,57,37,46,35,33,44,38,57,48,40,22,28,41,26,35,48,51,40,49,21,42,37,38,33,24,47,46,31,32,44,56,42,69,39,38,37,40,26,54,53,58,56,25,42,68,40,44,34,53,55,69,43,56,46,43,36,55,44,57,57,44,63,43,37,70,49,45,54,48,27,34,30,60,60,38,51,41,48,47,31,28,26,43,44,29,47,43,36,38,42,61,45,42,34,42,51,30,44,44,42,41,66,49,24,52,60,54,45,57,57,42,62,44,67,28,36,33,43,66,44,41,41,57,44,44,44,49,54,46,39,33,58,51,48,50,53,32,44,65,55,41,54,38,38,36,44,60,58,61,62,69,23,55,58,41,43,61,37,38,40,44,50,49,41,65,40,33,30,30,55,42,49,37,47,30,26,38,57,38,54,49,48,45,49,48,52,47,47,58,33,44,19,51,34,49,39,41,49,35,47,42,49,51,47,60,48,22,42,29,54,46,30,58,34,40,64,33,41,28,43,39,56,46,66,54,42,50,44,38,49,68,52,38,48,43,55,46,56,59,34,44,38,60,48,37,19,40,56,44,43,57,45,52,66,46,44,42,67,54,36,63,50,25,44,63,43,50,33,37,57,51,60,42,49,44,26,35,62,39,26,58,62,49,34,33,21,55,47,71,60,55,34,32,36,41,35,41,67,48,51,24,34,43,50,47,36,46,47,61,68,56,39,52,41,27,47,26,55,30,40,50,45,60,39,38,59,41,21,37,56,39,47,31,30,54,59,48,26,34,56,47,43,60,33,27,32,42,59,46,41,52,41,66,50,60,40,35,61,29,50,43,27,22,43,62,26,41,30,64,31,32,70,24,64,35,48,20,53,53,47,32,54,29,53,37,36,28,44,53,39,46,60,46,42,45,35,50,30,49,40,57,34,28,32,37,42,51,38,47,34,33,43,38,45,52,56,44,25,41,22,41,56,32,48,48,18,52,52,40,53,75,50,60,51,59,22,38,35,21,35,49,48,56,55,40,33,28,62,54,65,64,53,42,48,42,42,57,43,46,50,48,58,50,43,33,27,54,33,55,60,35,38,39,41,48,52,32,47,66,48,28,34,39,46,58,42,71,49,51,35,59,50,58,37,33,37,46,53,34,57,24,46,52,51,52,58,35,62,52,36,54,30,63,51,41,33,26,41,46,48,46,52,25,45,45,61,35,46,30,68,50,60,34,55,43,33,48,39,45,27,52,48,67,39,41,58,43,38,66,32,45,42,66,45,46,47,42,64,38,70,67,48,63,34,45,45,43,37,56,38,53,38,32,39,36,38,42,45,61,30,50,58,58,45,35,46,46,47,58,44,59,62,46,65,36,61,39,41,22,31,47,35,63,37,47,49,44,49,52,65,50,44,53,33,38,48,55,55,50,25,63,36,54,55,42,25,36,30,44,35,47,49,29,52,49,64,34,50,50,37,24,41,39,52,56,54,21,43,40,32,49,41,71,34,56,40,26,44,52,47,36,30,65,49,58,47,37,62,53,37,59,42,38,42,52,55,49,33,39,44,56,35,40,51,34,67,49,43,39,18,62,31,51,42,39,28,49,51,62,57,50,48,38,57,50,49,47,24,43,50,67,50,19,52,42,76,38,36,36,35,40,37,57,56,45,60,48,37,41,56,36,47,42,47,60,32,58,31,61,40,34,44,23,63,40,49,46,23,39,63,34,47,35,41,43,58,52,35,57,41,37,40,18,39,30,34,24,33,46,23,35,60,36,33,51,70,57,20,33,27,64,48,52,43,51,48,38,39,47,51,46,32,36,51,59,45,41,39,55,47,65,34,49,40,64,43,50,47,22,26,51,46,18,45,42,26,53,45,68,35,42,65,39,50,42,51,48,48,48,42,39,35,28,46,43,45,35,35,34,46,49,31,38,35,35,62,58,52,39,35,60,60,57,55,29,26,45,50,24,34,39,53,39,43,40,25,40,38,49,42,48,35,43,53,47,52,31,59,48,25,26,36,35,44,74,23,46,66,52,33,42,30,50,39,33,42,54,62,60,46,53,37,31,52,30,34,39,55,33,65,50,48,61,40,54,61,50,57,40,42,39,54,34,38,29,47,32,63,54,32,70,33,46,50,45,58,40,62,45,43,58,40,33,62,65,57,52,70,47,53,49,35,51,21,43,29,59,54,33,37,54,53,51,42,40,38,36,36,50,28,54,41,43,41,64,36,39,45,35,32,32,56,48,37,40,48,66,62,53,45,49,37,53,32,53,36,41,48,42,44,37,38,48,36,46,60,50,37,41,58,39,43,46,22,38,57,60,52,46,61,37,65,74,61,27,44,72,48,48,50,45,66,29,32,26,57,54,66,21,62,18,57,27,37,41,45,34,72,21,62,51,57,27,53,37,45,58,37,62,24,48,55,33,32,65,23,42,41,30,45,45,36,28,23,60,33,29,30,26,50,45,49,24,51,57,44,43,21,73,31,41,40,42,47,28,46,72,25,39,65,55,40,40,36,53,46,56,45,52,32,63,52,60,35,38,54,52,44,53,19,51,49,44,58,60,54,50,30,55,30,51,51,54,57,42,35,30,50,35,62,66,33,65,47,59,63,39,49,40,38,47,43,33,48,45,61,31,58,30,52,55,33,50,46,66,62,30,47,42,55,62,39,33,42,38,33,59,70,41,38,34,56,40,40,45,42,28,59,43,34,55,40,38,46,48,46,46,53,57,33,38,56,25,61,47,44,36,40,25,53,47,40,44,40,38,31,46,42,51,52,55,49,40,54,36,57,55,73,38,41,58,54,25,45,47,40,29,39,33,41,42,39,47,58,31,35,39,54,46,42,44,48,57,44,43,39,48,45,48,41,44,44,39,34,63,58,45,43,34,34,62,19,42,47,37,44,31,33,33,28,42,28,36,35,36,31,60,40,51,51,54,35,45,42,34,45,49,33,49,32,72,38,45,56,47,59,42,48,36,41,40,35,24,44,41,38,45,47,38,55,46,31,67,48,55,39,60,34,62,33,51,51,29,56,65,35,28,39,54,58,51,67,43,31,44,45,55,57,29,45,36,39,31,52,43,48,54,39,26,55,57,39,52,40,49,45,49,48,50,20,51,41,46,54,66,38,42,36,57,24,55,24,19,24,44,36,55,52,38,54,33,34,47,53,33,47,59,27,54,55,56,52,42,52,39,30,58,38,38,49,68,32,29,45,51,54,55,38,50,38,52,43,59,41,32,53,37,50,45,60,37,18,47,70,45,72,51,18,49,29,52,55,39,30,38,29,67,35,51,36,53,42,46,61,32,42,45,56,55,42,33,41,33,31,34,61,42,23,28,46,41,32,26,52,39,24,41,31,49,38,46,37,35,39,44,51,42,53,63,52,34,39,30,63,45,20,43,57,24,48,54,35,45,54,59,35,31,50,56,39,65,39,40,46,41,45,39,32,48,33,67,33,49,32,37,38,44,38,32,46,23,47,39,48,41,39,28,35,50,44,35,41,45,57,62,33,56,44,35,49,51,33,34,18,48,50,54,29,52,32,60,49,51,51,49,45,40,26,55,51,41,39,45,42,49,39,66,61,37,58,40,30,21,74,33,35,49,50,59,57,20,36,37,37,55,54,56,44,47,39,52,42,38,49,55,65,59,45,44,66,45,57,52,52,31,47,54,48,56,49,53,40,32,53,58,55,42,36,47,56,39,54,42,40,61,38,41,40,50,53,42,66,21,44,39,43,58,38,46,44,40,38,49,37,46,57,37,48,60,38,56,44,51,38,42,50,40,26,34,44,51,25,50,63,57,37,52,31,63,29,31,23,38,48,77,56,48,53,48,47,26,57,44,49,43,54,37,48,43,46,61,39,60,43,57,34,40,41,51,28,46,29,54,54,52,48,34,41,54,64,49,64,44,68,49,51,28,48,47,72,30,48,32,63,50,51,34,59,59,35,48,36,63,47,27,45,66,19,40,39,58,53,36,27,64,40,33,37,38,44,47,53,60,57,47,38,37,39,33,55,39,51,53,41,40,42,36,35,59,37,47,50,62,36,30,40,52,48,53,38,65,39,39,34,46,59,44,55,37,43,33,50,43,37,40,34,47,66,41,67,63,49,56,36,23,56,51,50,51,54,55,33,56,46,47,66,23,21,41,38,46,43,48,29,50,41,52,32,41,47,46,32,27,65,37,48,74,40,41,28,51,73,31,49,40,41,58,29,73,52,28,60,49,38,59,58,44,60,61,60,50,68,50,34,40,46,46,73,52,55,40,33,56,42,54,67,26,29,41,36,42,36,45,29,31,58,48,52,44,44,43,34,34,51,67,38,35,27,27,39,52,69,48,54,60,50,42,62,34,40,34,52,49,34,62,41,29,19,58,47,19,66,53,44,35,29,57,42,55,36,46,39,39,52,50,56,38,37,42,64,61,31,34,24,52,40,38,45,58,53,59,49,55,47,47,44,45,43,48,60,38,41,35,51,33,43,60,58,52,48,48,43,42,26,42,55,38,54,34,31,48,35,36,47,58,44,27,45,47,69,58,36,31,44,42,39,51,57,46,62,65,56,46,30,59,41,50,49,47,39,41,25,22,32,43,37,40,39,48,42,48,54,37,51,35,41,38,46,53,40,42,48,33,33,43,76,56,43,46,37,36,42,53,61,42,24,43,69,27,66,71,47,61,49,69,79,57,50,58,50,41,54,48,52,30,33,45,56,43,61,29,45,36,30,41,37,49,60,54,30,41,43,37,57,55,39,45,24,32,31,59,44,64,58,45,49,62,43,61,38,30,36,19,40,40,30,32,45,61,42,35,43,37,49,33,62,41,41,35,20,51,34,35,63,40,45,47,19,31,44,51,38,58,50,62,60,51,56,62,58,50,29,21,61,54,33,54,42,31,49,27,51,41,45,45,53,38,48,43,29,46,48,63,31,54,49,66,50,47,49,37,24,39,40,46,55,68,45,61,55,39,37,27,46,58,35,56,52,65,29,57,47,42,46,43,53,19,49,67,61,44,49,44,40,38,32,58,62,66,57,45,70,49,44,42,38,55,45,41,23,31,50,41,52,35,29,40,46,29,59,41,53,43,50,47,43,52,37,57,45,46,46,57,41,55,48,61,29,57,48,50,52,41,32,43,48,58,72,43,49,47,28,23,21,46,52,27,27,50,45,43,44,69,37,53,39,22,26,62,54,40,52,23,70,32,45,61,39,43,43,49,47,58,42,40,48,47,45,41,28,30,30,30,41,31,66,35,37,38,42,50,45,42,44,46,53,31,20,61,40,47,54,74,38,31,54,45,67,44,56,58,26,23,43,35,55,35,51,60,37,30,46,32,36,39,60,30,33,33,50,39,48,38,40,55,43,40,42,46,53,34,25,35,54,31,45,60,49,41,54,59,53,60,54,52,54,34,39,35,53,30,60,30,50,21,45,42,40,38,62,72,48,64,60,36,45,32,27,24,49,38,44,46,58,26,76,45,21,26,27,48,69,39,45,44,34,44,51,43,44,24,42,41,61,40,49,56,36,54,41,42,65,35,60,78,39,46,52,36,43,42,50,47,31,31,32,46,37,49,35,25,52,44,55,37,64,47,22,40,47,34,40,40,58,32,21,41,38,36,51,37,29,56,52,40,20,33,33,37,36,23,38,49,45,45,41,43,58,39,46,43,61,26,36,46,42,63,38,35,27,50,60,40,43,32,35,53,40,26,51,47,26,52,34,36,30,36,31,44,49,34,46,32,48,44,40,44,43,57,55,31,45,34,55,23,61,55,53,54,57,43,44,60,42,72,42,40,61,59,45,35,33,44,22,54,33,68,58,37,62,36,26,41,44,52,57,29,37,29,42,34,30,42,27,56,59,52,37,43,35,39,41,48,46,57,53,52,53,40,57,32,50,39,26,50,65,46,53,47,26,55,60,42,52,27,57,41,49,60,47,25,21,42,29,50,39,45,43,45,61,57,55,43,52,48,61,54,60,43,51,22,30,37,33,64,69,81,35,29,40,52,27,37,39,52,36,41,49,49,53,52,29,45,51,57,52,43,40,48,37,66,49,58,40,59,44,43,50,29,40,35,35,32,26,58,57,39,66,49,29,38,43,37,61,26,46,39,32,40,23,44,42,52,57,43,39,43,42,56,52,63,57,42,51,71,26,49,47,53,48,48,45,24,34,61,57,43,40,58,24,29,39,59,39,53,55,52,62,39,48,52,29,28,37,41,33,36,29,32,38,48,44,69,66,52,58,39,51,68,45,48,50,53,58,71,58,23,21,35,56,38,28,47,55,44,37,55,46,54,47,31,71,32,28,44,54,31,29,54,43,57,49,50,35,56,40,60,39,32,50,45,38,39,20,39,42,68,48,55,51,76,39,47,43,45,32,32,41,35,18,33,34,26,54,51,54,37,48,47,60,47,22,43,55,49,47,59,37,48,54,47,48,53,34,52,45,40,43,32,47,30,31,33,44,25,28,69,38,60,36,65,42,38,24,41,51,38,48,36,55,31,56,50,51,57,33,48,55,51,47,59,37,54,72,46,44,48,36,61,31,27,30,33,43,52,54,70,42,39,49,62,44,61,22,37,57,56,43,60,32,60,35,20,31,47,60,36,45,45,61,23,67,47,38,38,54,48,66,42,59,70,41,32,47,49,41,42,34,37,42,51,27,53,64,60,34,48,53,36,38,48,53,52,54,48,35,60,36,47,63,53,37,40,42,27,45,59,36,48,44,68,39,47,44,38,58,43,59,43,52,69,32,45,26,48,53,43,39,67,53,58,29,57,51,45,42,39,32,31,41,29,29,36,33,70,58,47,47,46,22,37,43,32,39,45,52,51,43,43,61,51,56,57,48,49,21,49,66,32,46,30,37,56,36,47,47,42,62,36,52,43,54,50,61,41,48,62,51,59,59,45,54,48,29,45,33,62,23,33,55,69,59,23,36,24,32,63,36,50,33,35,52,54,33,25,44,71,54,33,43,32,36,35,41,51,30,36,62,25,50,37,48,58,58,42,51,27,35,51,54,55,36,51,26,60,56,40,38,45,51,51,28,54,54,54,49,62,45,39,48,43,42,60,45,32,35,26,33,46,50,47,68,50,57,33,36,52,45,60,66,41,38,36,56,42,42,41,31,53,24,50,39,50,46,63,40,55,60,32,43,41,39,49,52,41,48,53,52,44,58,46,72,66,21,37,37,54,41,52,54,59,30,41,57,56,49,63,39,41,37,41,39,77,31,36,36,54,35,35,51,42,53,34,38,34,49,32,37,40,57,59,48,35,47,27,38,45,54,41,26,44,66,32,54,49,59,59,45,48,40,38,50,27,58,39,26,43,67,44,48,34,54,56,28,48,63,36,56,53,55,43,46,25,37,40,22,43,64,65,42,57,54,59,44,47,53,28,45,32,37,42,40,23,53,18,41,36,42,56,41,48,34,32,20,36,49,35,56,40,49,56,66,38,42,42,45,25,52,45,51,46,45,45,58,51,48,23,55,35,46,45,43,34,46,57,50,72,57,52,44,38,31,45,25,41,38,51,32,46,50,46,62,61,68,43,44,41,33,37,34,46,67,32,25,74,37,39,30,51,40,25,51,22,29,33,34,58,58,46,36,61,42,56,47,21,42,26,32,46,45,52,38,21,44,32,55,58,34,43,74,56,41,49,66,33,51,47,52,52,57,37,52,48,35,30,50,39,55,53,26,29,23,44,39,36,70,65,61,56,48,59,37,42,38,44,33,25,37,54,48,23,54,30,26,52,38,64,48,62,37,38,67,45,47,57,47,66,52,59,59,49,54,52,45,33,40,41,39,46,80,54,58,47,40,38,58,30,33,55,46,48,42,51,44,46,40,49,51,56,47,44,63,52,42,67,54,55,64,37,43,35,56,51,35,45,66,61,45,50,44,31,55,40,44,26,59,31,24,42,41,40,60,59,48,49,54,62,50,53,36,23,34,52,37,39,44,60,44,44,65,61,44,52,34,30,43,57,57,57,55,55,56,38,29,27,41,43,37,46,55,57,44,53,57,52,21,43,50,49,49,35,56,41,48,56,47,52,42,44,36,55,40,54,48,40,39,40,35,39,62,45,48,29,41,42,59,48,50,30,45,60,44,46,43,49,56,25,43,36,43,61,37,54,51,64,55,38,31,35,61,52,53,36,39,45,33,51,33,50,51,73,59,61,29,44,46,56,37,58,37,33,43,41,32,48,39,54,66,39,63,31,50,44,51,51,44,47,46,41,47,51,69,29,39,46,26,51,47,33,56,38,33,43,54,46,74,70,47,50,39,37,35,56,31,49,49,43,56,55,22,39,41,46,34,42,39,50,43,46,41,47,31,47,54,65,35,55,57,56,36,52,65,34,60,40,36,45,43,27,51,36,42,36,38,43,59,43,48,55,51,68,43,32,27,61,58,62,35,48,37,25,46,43,39,26,38,61,37,43,45,57,35,32,42,22,67,48,52,50,38,71,34,55,55,46,55,68,51,48,48,40,40,66,46,22,41,51,44,57,50,27,46,55,23,51,57,47,32,42,33,49,44,50,52,50,34,20,29,51,36,40,60,42,55,51,67,27,40,36,49,45,43,48,29,60,44,53,50,62,57,43,22,36,51,56,54,43,43,52,51,46,60,32,41,34,32,40,46,85,56,41,37,35,57,29,31,39,42,37,51,44,54,34,35,59,37,37,76,55,29,48,45,45,62,55,43,56,44,38,47,52,49,50,36,74,40,34,22,37,50,43,39,34,42,31,22,48,33,46,51,32,40,47,41,54,31,41,39,34,35,61,73,64,19,52,49,24,61,38,47,50,62,47,53,44,44,82,54,47,33,27,33,45,44,46,32,26,45,40,36,51,40,47,62,34,42,33,54,48,24,30,36,46,51,41,51,26,50,67,53,47,56,45,50,42,56,33,50,55,58,26,51,47,46,37,62,37,25,49,51,31,37,38,57,55,38,47,49,58,51,41,30,60,47,37,51,51,46,33,35,50,55,47,27,31,40,33,40,49,64,53,37,57,53,38,55,37,44,45,49,51,55,42,73,48,25,37,27,45,38,36,44,30,51,62,53,52,35,45,32,34,22,83,38,52,53,37,58,46,35,48,36,45,39,55,28,24,37,40,28,37,48,42,60,50,49,48,37,59,62,63,30,56,34,38,47,52,61,43,47,54,38,39,35,61,43,36,34,41,31,38,35,90,48,40,52,57,49,61,54,63,39,53,39,38,59,46,47,52,34,56,36,27,27,46,81,51,64,32,29,32,55,48,48,58,44,27,39,32,37,20,46,43,56,43,37,56,55,35,27,40,58,34,67,41,24,34,42,67,39,42,31,41,64,24,59,62,31,56,48,55,44,75,59,64,28,39,50,44,43,40,43,38,37,43,48,45,35,50,52,44,53,32,65,52,58,41,44,58,47,43,50,47,58,24,32,24,26,43,59,43,49,65,53,25,52,38,45,30,41,53,52,32,45,39,33,42,48,56,57,65,67,36,31,77,51,37,31,42,55,30,42,37,51,31,67,58,50,55,39,46,73,57,44,45,52,24,38,47,40,36,43,41,51,43,35,34,39,37,40,50,37,48,25,35,43,40,61,32,50,43,51,24,44,43,21,42,43,52,30,48,48,56,42,55,47,41,39,44,43,41,55,53,49,32,34,29,51,26,43,49,55,54,47,37,25,34,27,57,49,30,43,23,36,33,41,50,34,46,33,30,25,56,65,49,40,59,48,41,58,31,29,53,28,44,33,37,45,37,43,35,34,51,49,44,50,58,57,42,58,20,62,42,43,27,39,35,52,31,36,46,46,47,38,63,58,29,30,51,37,57,47,23,50,21,46,57,43,44,37,44,56,31,55,42,43,32,62,39,31,33,70,31,22,41,55,39,45,34,40,36,58,48,33,32,40,55,55,18,39,42,44,32,46,71,48,44,40,55,63,48,48,51,66,69,42,45,46,50,44,47,37,49,37,33,58,46,48,60,42,50,53,53,65,62,41,52,39,56,63,62,45,40,38,59,46,42,29,65,33,48,57,42,34,63,43,66,37,63,43,33,51,49,37,74,58,23,21,60,43,53,50,47,31,42,65,48,31,61,31,51,38,47,39,51,38,53,37,51,49,38,59,36,53,54,40,36,28,44,41,42,41,42,34,36,42,45,36,18,33,50,44,31,45,43,68,48,49,32,43,57,22,59,40,52,41,44,46,38,39,24,58,35,60,39,46,55,32,52,33,38,69,42,36,28,49,47,19,32,65,47,36,53,55,54,49,51,54,35,32,69,48,59,33,36,61,56,72,42,46,54,55,46,56,44,61,41,26,35,63,58,43,31,50,39,20,44,32,51,39,61,53,61,54,39,27,31,48,42,57,46,44,33,56,54,57,26,44,60,77,40,38,72,61,59,57,37,60,30,47,50,42,39,32,57,45,34,42,58,62,40,64,61,44,39,33,41,78,55,47,47,34,56,46,43,45,36,31,55,65,39,37,34,63,46,52,43,40,54,45,31,60,61,65,61,34,44,24,51,49,62,51,44,56,34,37,53,34,33,23,69,34,56,42,59,48,28,44,46,48,45,55,38,53,44,47,52,22,47,42,53,46,54,56,72,37,36,66,51,48,56,25,45,21,53,48,43,32,53,42,29,64,69,46,37,42,50,34,38,50,39,32,41,25,70,66,30,40,50,35,28,43,61,78,56,34,47,46,57,44,55,50,36,65,22,33,49,26,39,38,29,51,41,58,45,40,68,33,36,51,55,55,27,39,34,29,37,46,43,29,43,70,56,51,29,64,59,40,24,34,37,73,34,51,48,61,53,60,63,63,35,39,25,53,43,24,36,52,35,49,48,62,51,49,66,27,58,60,48,47,19,54,45,18,47,25,40,61,56,55,58,55,37,47,52,49,66,29,63,34,64,53,44,33,35,52,54,57,28,43,43,49,26,47,55,59,44,75,55,33,51,64,36,59,81,52,57,60,29,35,43,43,38,28,41,57,44,50,42,52,32,46,41,23,44,57,60,55,51,30,39,38,48,42,40,65,40,44,43,58,19,73,42,33,52,54,42,32,52,48,55,52,51,56,51,34,36,43,50,40,61,51,43,42,32,50,55,39,54,43,39,48,42,66,33,28,41,72,48,45,27,43,45,48,34,42,43,61,50,25,52,28,43,57,78,53,43,38,30,36,45,67,41,32,58,35,37,68,46,35,50,64,52,38,41,56,55,38,28,42,57,62,49,53,38,40,24,55,35,29,45,61,30,53,48,37,50,44,53,51,41,48,48,41,26,29,47,42,36,41,59,43,44,41,48,47,30,28,32,28,53,40,41,49,64,49,51,54,28,27,61,47,55,43,43,31,64,42,50,61,26,50,27,37,49,38,47,25,38,39,39,39,59,50,64,32,32,25,54,36,34,41,45,23,41,31,58,21,50,44,56,28,48,22,34,51,30,70,40,28,38,29,49,34,64,41,46,44,50,47,31,59,50,53,60,38,40,46,33,55,75,52,58,41,72,67,56,39,27,36,35,32,38,27,54,29,57,49,45,44,45,49,27,56,45,46,56,37,56,46,56,36,44,26,37,31,47,38,32,32,30,32,46,32,56,19,50,56,36,63,31,57,55,50,35,31,34,36,32,39,29,41,37,35,29,52,40,36,53,42,47,53,43,47,39,26,51,51,39,38,45,24,67,55,33,39,36,42,45,31,58,70,53,39,53,26,39,54,21,56,42,52,49,48,51,28,47,32,38,55,55,48,45,47,31,60,40,60,34,45,40,47,38,54,36,62,28,37,53,44,37,52,35,36,61,62,55,51,37,34,43,35,41,49,68,63,46,53,37,24,38,39,50,46,46,50,59,34,67,52,54,47,53,46,40,39,46,63,31,74,47,34,62,53,52,35,39,36,63,37,46,61,51,37,44,42,47,52,38,37,41,33,21,44,47,32,33,34,43,43,46,42,31,50,49,22,24,81,23,32,48,62,45,60,62,36,43,60,38,43,24,59,53,56,43,29,22,54,38,58,31,48,54,48,41,58,33,35,46,29,51,43,42,42,40,40,80,46,49,44,44,51,47,25,46,23,37,51,44,42,38,52,44,59,38,56,58,39,41,66,60,39,32,30,32,58,45,42,62,67,38,43,39,39,18,49,25,48,42,44,41,57,56,36,42,33,43,48,35,60,57,41,35,53,59,74,49,35,35,32,57,56,58,46,30,24,26,47,35,37,50,30,61,57,34,48,39,46,59,40,37,50,36,57,46,44,39,51,43,39,30,71,39,38,51,43,53,48,47,28,36,48,43,40,58,46,43,27,24,44,36,77,53,42,46,44,39,48,46,34,27,51,45,56,47,55,48,57,39,45,62,30,55,36,47,33,52,40,59,43,49,42,33,49,53,37,45,38,57,62,55,48,42,34,51,56,53,50,33,60,26,67,66,41,60,22,60,67,46,19,41,61,39,42,62,65,62,37,43,48,38,35,57,42,43,53,48,48,56,39,33,38,58,52,38,35,53,21,44,50,48,57,47,47,49,41,53,58,49,53,58,52,46,35,41,63,44,32,66,50,44,24,71,33,68,68,48,27,35,46,48,52,38,54,35,69,41,54,40,39,29,67,42,46,62,54,54,36,40,40,36,27,63,38,57,56,57,39,44,61,46,51,36,57,45,67,55,49,27,33,33,34,50,48,39,40,42,23,56,31,33,50,46,45,68,50,28,49,58,58,61,51,38,36,42,65,40,42,52,20,51,38,53,31,46,60,50,64,60,32,54,46,70,61,46,29,55,68,37,36,47,41,50,34,26,44,29,42,43,49,51,57,54,66,40,24,36,28,33,51,61,27,33,64,41,44,38,34,53,33,35,36,33,44,30,39,34,38,25,55,57,41,43,59,23,52,50,51,41,54,57,54,56,35,39,41,49,52,46,38,49,52,52,47,33,27,35,55,70,39,40,57,35,59,66,47,58,47,55,52,32,30,54,44,32,41,37,64,63,46,53,44,39,47,78,39,45,52,49,38,41,66,46,22,59,49,45,42,36,23,49,35,46,31,50,23,30,26,42,51,36,58,33,52,23,42,32,29,34,38,42,41,26,67,27,53,48,51,38,53,49,49,52,33,39,43,32,41,38,30,60,72,34,34,48,39,29,36,51,34,49,39,60,41,45,31,46,41,50,51,47,21,38,36,52,31,41,58,36,19,38,48,45,43,70,42,54,52,39,48,46,43,49,26,25,49,40,47,25,44,39,48,41,51,27,45,63,38,35,59,63,57,46,46,41,26,30,48,48,32,50,38,39,35,40,54,54,50,72,33,39,39,41,36,49,45,61,48,41,45,47,24,52,52,47,35,44,43,30,48,35,44,57,40,63,52,54,47,46,42,32,45,63,37,46,52,31,48,71,61,35,44,77,46,43,51,39,56,57,38,57,54,60,50,51,33,41,49,60,49,42,50,36,62,41,48,34,43,24,47,31,48,34,54,47,55,34,38,47,56,40,54,46,69,42,55,23,52,67,40,27,64,51,28,19,60,24,29,61,30,44,41,41,43,32,51,43,27,47,35,24,37,60,60,54,46,49,52,44,52,43,31,32,93,33,51,72,48,26,32,38,39,39,40,39,50,56,45,37,40,53,45,54,41,37,40,32,45,57,40,39,23,49,38,67,40,25,46,41,41,54,55,39,49,47,21,42,31,51,36,47,39,38,49,54,61,50,60,42,69,47,50,44,54,42,32,33,43,47,74,28,65,45,43,38,25,39,44,45,34,42,33,48,35,55,51,43,32,56,38,34,50,55,42,38,42,39,35,43,39,52,47,51,75,56,37,49,53,33,28,63,52,53,25,39,33,42,30,53,43,51,44,50,68,33,32,47,21,35,65,43,31,44,59,42,70,38,35,38,53,42,68,29,56,40,36,56,42,45,37,40,38,34,56,59,62,56,64,61,65,59,45,25,74,47,47,45,23,42,54,44,45,43,40,32,40,31,46,30,27,52,40,31,68,24,46,41,38,73,48,56,48,51,53,46,47,20,21,36,54,57,47,36,63,21,58,53,48,45,64,54,49,31,41,37,44,38,42,39,37,26,38,57,21,39,50,31,36,46,36,38,68,46,33,68,41,39,23,31,29,35,38,67,55,53,49,37,31,58,35,65,51,36,64,48,47,37,46,21,47,58,53,41,47,25,42,33,43,53,55,53,24,59,33,47,40,50,41,53,22,45,63,33,43,46,36,34,32,49,48,42,35,55,63,43,65,61,56,55,44,60,48,54,42,43,46,62,34,41,48,48,56,29,34,53,49,63,54,28,46,26,40,39,45,46,38,43,33,71,55,27,69,54,52,50,43,41,40,38,35,43,39,36,32,41,49,58,37,72,44,33,38,53,49,38,37,28,37,46,60,63,69,37,31,78,41,39,38,51,38,32,51,41,48,50,46,55,38,28,46,44,44,60,39,43,33,40,52,48,43,57,38,20,27,56,48,49,48,38,42,47,34,25,41,44,70,36,33,57,49,51,53,32,49,48,47,56,42,58,34,61,46,50,80,38,69,49,37,20,40,23,37,36,67,52,48,48,47,44,33,51,55,39,34,32,35,34,29,45,50,44,37,48,38,28,32,31,56,57,27,36,45,55,48,40,46,42,39,44,60,57,32,46,42,38,62,53,66,36,45,65,46,34,46,49,43,53,57,49,33,45,57,22,48,22,50,35,44,41,52,48,56,31,30,50,47,18,56,41,27,51,50,45,58,40,50,39,49,45,47,54,40,33,35,41,40,38,32,45,60,44,37,44,46,58,35,46,30,48,58,34,39,53,40,19,60,34,38,61,37,52,54,56,41,44,25,25,38,34,59,50,41,62,38,46,49,44,56,45,57,62,39,30,34,47,48,59,22,71,54,47,27,43,37,46,53,36,66,62,52,51,24,47,34,51,65,66,23,51,34,65,31,40,41,34,29,51,35,42,52,28,31,48,42,30,42,48,45,52,36,31,35,47,57,49,50,51,43,44,55,54,51,46,33,45,48,55,54,58,39,42,75,54,23,29,33,56,74,38,59,41,47,63,33,51,45,48,44,42,64,39,42,45,40,48,50,43,57,49,28,59,67,49,50,33,60,34,22,51,28,41,39,37,37,59,32,35,68,50,31,36,37,55,52,22,55,35,39,51,37,39,21,58,63,74,32,42,28,36,43,27,34,47,62,55,54,36,63,35,52,42,33,34,34,51,48,54,40,47,37,39,33,40,51,46,46,43,47,47,44,43,41,45,44,36,55,46,34,38,43,29,42,42,37,26,50,23,46,42,66,54,38,53,37,42,38,50,64,46,42,50,37,32,41,60,29,52,40,54,70,45,42,34,31,57,48,36,31,42,51,38,36,35,38,65,37,53,69,34,51,54,32,56,41,52,43,39,28,67,53,37,46,47,55,30,33,49,25,49,55,58,25,61,30,51,45,42,51,44,32,47,32,58,38,42,39,26,38,45,58,36,46,42,31,35,48,63,44,31,46,55,28,47,35,50,64,20,41,41,40,34,57,53,38,56,44,42,37,40,55,36,35,65,48,41,49,43,68,58,54,31,36,30,33,43,41,33,34,40,43,40,56,60,36,63,39,32,27,32,50,42,41,29,81,52,36,62,51,41,27,34,43,56,46,60,35,57,52,53,50,40,55,55,36,42,57,51,34,37,65,52,20,35,24,50,29,43,28,39,54,51,48,69,52,49,60,51,32,63,44,36,36,43,31,42,31,55,65,44,36,39,47,48,61,31,47,65,52,41,44,28,25,41,49,38,47,38,46,47,37,47,39,48,39,48,30,44,45,32,24,41,35,59,43,40,57,56,51,40,60,50,48,41,20,49,41,40,67,46,29,54,49,42,38,25,28,59,25,54,41,45,59,39,41,42,26,32,63,56,56,36,24,28,70,33,53,35,38,30,49,59,54,34,40,66,33,36,61,33,23,26,47,49,54,49,35,30,37,32,45,51,49,37,27,30,43,26,45,37,34,50,58,77,25,55,42,36,44,41,46,46,37,46,37,42,44,47,53,36,42,64,51,33,49,45,41,33,58,56,56,29,42,34,35,47,46,50,25,43,67,50,37,53,63,64,32,26,57,46,45,47,45,32,38,43,43,30,55,59,49,36,63,53,40,41,56,41,52,44,74,39,60,54,37,34,40,39,43,57,58,71,69,52,63,37,38,76,45,47,44,53,46,42,41,43,55,69,47,58,34,48,49,44,62,55,55,33,46,41,53,50,52,31,28,63,66,31,33,48,43,37,37,54,47,42,52,62,45,37,47,29,29,29,58,44,34,44,76,51,53,32,40,56,57,47,50,52,36,37,50,69,29,21,21,32,28,34,55,65,32,55,33,39,48,41,34,50,42,53,36,65,38,37,62,28,45,47,47,66,73,41,38,54,43,36,70,39,31,41,50,48,34,36,38,38,48,50,71,35,34,61,31,59,51,38,37,52,38,26,30,35,43,48,54,46,76,30,38,69,27,43,36,43,36,60,46,43,37,47,35,49,45,34,48,61,63,57,56,38,32,58,36,37,36,52,45,52,42,30,55,40,48,62,46,41,61,41,49,62,32,57,45,56,59,49,52,33,54,39,51,37,61,37,39,50,60,30,48,58,50,42,36,38,56,57,34,53,65,39,28,42,25,40,51,54,38,33,52,27,39,45,54,46,28,84,65,22,51,45,38,48,48,48,37,53,67,30,38,68,50,35,52,32,56,54,37,34,55,54,73,44,51,54,45,47,36,51,51,28,41,29,50,53,36,39,56,44,33,48,60,59,68,46,31,31,44,47,41,53,50,48,41,56,43,66,31,53,55,62,45,46,47,60,55,48,56,44,56,45,45,43,45,58,40,38,49,60,39,59,43,31,19,46,45,59,45,57,44,60,34,48,43,32,46,42,37,29,43,25,32,36,23,30,39,38,58,48,35,39,55,44,21,43,37,34,45,46,32,41,40,44,55,41,54,40,35,63,45,60,37,61,24,64,25,51,57,68,22,31,47,39,42,21,52,35,40,59,44,40,65,32,35,38,59,45,39,38,61,47,38,37,64,48,50,24,49,45,35,41,42,62,31,40,49,60,37,42,24,38,41,68,56,40,21,63,42,43,37,46,62,51,53,52,58,56,28,42,38,45,49,44,56,38,50,37,44,38,63,42,63,53,49,50,48,55,42,54,40,29,54,73,37,31,41,37,48,21,46,37,32,36,60,46,26,54,32,53,65,42,38,42,46,31,28,46,37,34,52,38,48,37,48,34,69,47,60,42,53,41,37,29,58,35,31,33,54,44,50,53,45,68,61,60,54,35,42,39,49,41,41,38,36,65,47,31,31,33,60,25,30,35,35,53,40,42,59,33,37,46,42,52,62,31,64,61,46,34,52,23,50,53,54,49,64,56,19,45,53,34,37,55,53,45,42,41,51,54,37,62,72,50,50,38,54,45,44,45,33,56,56,53,52,45,21,39,22,42,42,41,42,24,39,39,23,42,27,49,64,59,59,49,42,63,22,32,38,49,34,47,38,56,38,41,40,52,44,32,52,40,72,46,34,51,36,41,71,61,42,41,67,31,48,54,52,61,45,71,52,58,64,40,35,52,41,54,35,63,41,27,36,44,37,37,37,41,62,43,36,53,57,56,42,28,54,58,51,38,49,49,57,45,39,29,60,60,50,44,30,33,68,42,58,51,40,27,43,22,48,42,40,35,61,31,40,43,38,49,42,49,66,67,30,51,53,51,42,26,41,46,42,41,63,45,64,37,47,55,59,31,58,51,42,54,40,45,34,32,32,41,48,26,34,36,35,42,40,44,59,46,47,54,46,55,37,38,53,33,37,40,22,44,41,29,36,78,63,71,49,53,45,47,44,72,42,39,51,68,50,61,40,41,54,38,60,39,35,60,56,51,53,41,79,48,54,61,43,44,51,44,54,36,27,36,31,46,38,48,45,29,32,32,51,45,29,43,47,30,37,47,53,47,65,54,46,56,55,37,55,56,45,56,21,30,58,55,26,45,48,49,47,55,68,44,26,33,45,57,39,42,43,44,47,51,50,34,40,68,56,38,30,46,53,59,53,54,39,53,54,50,45,39,46,58,53,38,35,57,34,34,39,34,38,51,51,39,58,36,42,20,32,61,43,52,56,38,55,65,39,56,42,38,34,37,57,39,32,20,35,38,46,51,77,63,37,34,58,32,49,34,45,31,43,50,56,32,37,35,34,36,39,48,38,34,26,53,42,49,41,41,65,62,44,45,47,47,48,64,49,36,37,21,38,51,56,43,27,34,61,51,37,39,23,59,28,60,50,59,30,67,50,40,41,61,53,55,61,37,53,49,32,35,36,60,39,45,36,32,43,42,42,52,57,35,53,49,48,62,57,48,34,49,50,61,48,32,64,45,50,38,35,49,47,44,56,37,49,35,51,46,48,31,38,33,46,30,25,49,60,49,34,56,36,54,47,19,61,39,33,42,45,61,60,54,57,63,57,33,61,43,40,48,44,42,55,39,33,30,59,69,53,20,48,57,71,66,36,28,33,55,49,46,57,39,58,46,34,44,54,40,49,49,40,34,47,37,51,27,53,43,31,40,35,59,45,37,50,50,47,60,57,33,56,21,41,30,55,55,65,44,48,29,40,32,38,50,34,51,36,40,32,49,35,35,42,50,47,40,48,50,51,45,33,62,26,42,76,39,76,34,63,57,50,20,53,40,52,54,49,47,57,43,40,39,35,44,21,66,69,24,54,40,60,71,52,27,43,47,52,47,47,43,55,44,33,44,46,24,31,38,57,41,46,61,25,41,32,48,41,31,57,59,51,53,47,29,63,50,33,66,41,36,33,66,68,41,39,41,21,75,52,37,50,56,49,41,48,29,44,33,36,51,45,40,50,38,55,47,24,56,24,33,53,43,43,41,45,50,58,42,24,47,41,51,31,27,47,35,37,41,49,40,31,44,48,35,41,45,32,59,60,63,58,42,67,40,31,44,52,52,53,38,47,29,52,30,42,21,58,29,36,51,40,52,55,60,58,48,56,53,35,37,37,22,56,40,31,57,48,59,39,37,22,39,36,38,59,55,38,46,22,27,32,49,58,33,55,53,35,45,65,22,49,34,39,37,52,38,66,58,37,45,36,37,46,56,34,50,52,38,31,40,30,40,40,40,60,34,59,30,43,58,40,25,37,50,48,74,37,50,40,44,56,27,55,39,67,63,34,62,32,46,43,55,40,19,38,58,76,49,46,41,48,51,22,40,54,45,47,37,37,31,28,18,46,62,50,40,50,40,36,28,43,45,32,59,67,48,48,29,40,32,45,31,57,32,39,63,63,34,48,40,50,42,46,47,23,57,61,36,50,39,51,41,26,49,32,70,30,31,32,61,59,39,47,37,42,38,28,48,40,57,36,39,37,58,45,42,33,59,40,61,43,63,45,45,37,46,57,39,53,40,50,43,57,27,52,48,62,45,42,35,44,52,47,43,48,50,28,44,47,43,22,35,43,48,51,54,53,37,49,38,53,34,44,56,67,50,71,37,40,38,35,28,41,54,40,34,74,29,54,30,69,41,42,50,63,30,44,54,30,20,54,31,62,61,40,46,46,31,47,46,52,35,49,50,50,64,20,29,67,56,43,38,41,44,41,55,59,23,38,36,51,39,34,44,52,47,55,45,29,28,48,45,45,45,49,46,46,62,30,62,26,49,65,39,42,49,61,32,18,46,44,59,46,34,44,32,44,62,45,53,37,46,24,45,52,58,44,25,37,42,34,56,36,61,37,47,58,32,53,43,55,54,46,53,45,34,43,32,42,32,39,49,58,71,50,42,46,41,32,38,35,49,42,36,41,41,48,51,37,40,40,44,38,36,60,41,57,48,62,48,49,45,35,54,49,46,45,53,55,52,51,48,41,21,20,35,31,25,43,47,39,41,39,57,48,43,40,52,43,54,45,49,43,55,26,63,60,44,65,42,46,37,21,40,42,43,36,31,48,45,45,53,67,39,34,39,42,55,28,40,54,48,22,52,19,34,35,22,22,23,34,45,27,61,34,39,70,27,28,52,24,36,56,28,37,31,37,39,51,40,46,48,45,34,41,39,48,60,56,22,27,67,56,61,50,47,64,53,64,35,30,40,50,34,46,56,60,39,56,25,45,23,36,54,35,47,42,50,48,55,48,63,39,38,60,19,47,43,29,54,45,63,68,61,56,59,40,52,35,33,49,40,32,51,23,50,60,38,48,51,28,50,31,43,44,33,57,43,57,52,42,43,35,65,48,48,39,38,47,47,58,39,38,39,48,47,38,47,55,20,55,41,29,30,51,34,36,33,36,37,39,25,55,58,51,49,22,43,35,25,63,59,60,41,62,50,45,48,56,27,61,56,50,41,28,35,32,31,35,42,43,43,49,38,38,50,34,48,49,39,57,57,42,25,33,26,24,31,46,34,59,40,27,30,30,51,51,47,57,64,33,42,56,43,37,41,55,59,44,53,51,52,39,36,63,51,45,77,56,22,50,45,58,31,36,44,58,39,49,54,62,59,38,44,28,35,42,43,66,55,42,53,39,56,40,33,56,48,55,51,43,55,64,34,59,66,19,46,33,50,44,60,48,51,60,34,59,40,34,36,46,48,44,34,51,27,45,53,52,37,42,42,42,61,75,56,39,28,48,50,54,41,58,64,38,60,43,51,47,53,47,54,48,26,50,27,35,44,19,57,34,43,59,41,54,35,31,50,39,48,25,40,46,33,39,47,51,51,59,57,67,52,28,39,26,39,59,45,40,28,37,59,65,19,54,52,49,56,57,43,37,63,52,54,29,51,57,27,44,43,38,57,26,59,56,31,63,49,39,55,48,39,34,46,36,35,47,25,27,26,52,55,48,53,32,38,44,23,50,51,64,46,50,47,45,39,48,45,48,57,31,48,24,51,45,29,52,43,43,37,50,66,36,50,37,44,62,56,59,44,43,58,60,52,46,48,57,59,47,46,43,46,22,62,32,42,59,41,25,48,45,54,55,28,33,45,23,29,47,48,50,24,55,65,60,62,48,31,51,51,52,42,36,44,28,35,24,41,34,28,30,48,34,57,42,32,51,60,41,48,29,42,49,43,29,69,37,44,60,38,51,35,45,56,45,26,55,48,56,48,33,63,37,35,44,38,42,80,53,51,57,41,61,35,56,29,60,51,43,56,21,45,51,53,48,56,55,26,42,51,48,68,64,46,48,38,40,43,63,39,44,35,36,28,65,45,55,34,42,40,47,52,51,37,53,77,63,46,24,65,56,49,49,59,24,44,40,38,67,48,35,53,47,42,33,34,50,31,66,73,33,44,38,37,60,49,37,48,38,41,37,50,55,40,28,44,50,42,34,51,62,28,33,44,43,31,44,42,30,33,48,51,18,51,41,74,22,55,54,37,66,44,32,50,42,35,49,44,53,31,46,26,36,44,45,27,33,49,46,71,33,51,69,33,33,28,32,45,44,39,47,60,51,56,51,45,45,37,51,35,60,56,47,34,53,38,37,51,61,50,39,36,59,42,45,33,36,44,61,60,53,66,56,69,35,29,31,54,36,63,50,29,84,63,47,57,52,35,38,53,49,49,20,57,58,30,19,52,45,55,36,38,43,43,64,45,40,51,43,54,36,59,53,45,29,46,48,51,44,32,44,48,53,46,34,63,45,37,56,36,48,39,61,31,47,45,30,57,44,50,56,31,29,53,26,27,36,53,47,25,42,51,56,38,49,63,46,48,44,55,54,35,57,29,19,30,36,40,63,52,23,52,46,49,36,50,46,21,43,30,39,35,54,47,47,46,44,48,35,26,46,51,50,46,55,29,37,40,45,31,46,26,47,39,56,48,46,66,38,64,48,45,26,44,55,41,65,49,57,36,39,38,54,52,53,31,34,42,52,31,39,54,31,29,45,51,48,43,36,35,46,44,35,48,36,57,46,39,47,64,55,57,28,47,55,52,59,45,34,47,55,35,42,64,40,38,41,52,44,39,36,49,54,30,34,31,37,36,43,21,50,35,45,54,51,33,75,28,45,53,48,50,40,49,50,52,44,42,58,26,39,44,52,40,47,64,52,56,68,45,48,26,41,40,27,65,56,55,71,39,47,72,47,53,39,45,56,32,56,46,56,52,56,37,46,53,29,59,31,63,46,51,61,39,57,44,55,39,32,38,48,33,61,42,56,52,37,33,42,43,40,54,68,27,27,46,45,52,55,60,41,62,48,42,30,26,55,48,39,47,40,63,41,59,59,62,51,49,33,32,56,32,34,45,57,59,41,33,24,44,42,33,39,63,59,32,46,55,41,44,34,45,63,46,49,43,21,40,67,45,53,36,39,46,27,60,45,24,42,30,52,65,42,59,26,47,37,48,36,42,41,30,32,21,34,55,43,52,38,45,59,58,61,60,40,32,51,44,43,42,47,34,56,23,41,40,46,40,43,44,54,49,42,54,40,39,50,37,31,62,45,74,38,46,61,52,55,33,35,21,24,51,41,44,53,48,49,44,62,68,28,44,37,39,54,42,46,40,29,49,36,61,54,45,45,49,38,38,49,53,28,41,48,49,38,42,48,65,41,39,69,57,70,42,55,34,37,41,31,35,37,33,61,52,33,41,32,63,35,37,54,53,31,53,56,62,41,56,60,38,48,34,47,41,37,31,58,47,45,49,51,50,37,38,48,38,49,38,46,19,52,47,26,63,49,73,25,33,46,70,28,47,48,47,42,57,35,24,51,45,51,55,70,30,47,53,43,48,50,53,53,36,55,42,35,32,35,50,32,50,49,68,35,61,55,40,38,26,42,48,41,26,66,38,71,42,59,50,47,57,56,38,40,42,61,60,48,52,56,53,48,57,75,50,53,38,63,23,55,38,42,42,44,52,50,33,70,35,51,38,59,41,41,54,41,58,42,51,52,63,44,21,39,67,73,43,50,31,53,32,46,64,44,41,46,42,39,44,25,25,48,34,48,20,54,41,32,45,34,52,51,71,54,49,56,40,45,28,77,68,61,74,48,33,56,39,44,74,44,38,47,46,45,69,40,36,28,42,54,70,37,47,51,49,42,36,38,34,32,50,35,38,51,24,43,51,61,32,27,61,60,40,28,38,42,20,36,36,24,37,51,44,44,41,21,56,29,61,42,36,58,27,38,59,43,41,49,52,48,61,37,46,54,65,59,46,50,54,35,24,50,34,44,46,52,55,62,43,47,40,46,44,38,59,50,39,25,40,51,60,51,48,50,46,47,55,53,45,51,56,49,67,52,40,31,45,60,44,35,60,44,36,47,25,33,48,22,32,56,55,39,25,29,58,40,36,36,49,39,31,36,53,38,45,40,36,50,52,42,64,38,47,37,53,52,36,48,40,48,41,59,41,30,71,44,58,65,47,42,50,30,43,42,53,60,43,23,46,47,41,42,39,36,46,44,37,60,69,40,52,40,52,41,65,33,33,28,42,35,40,36,42,40,35,29,38,48,51,60,58,23,37,42,51,55,34,26,57,75,29,39,40,42,44,55,54,51,38,48,44,38,70,38,42,39,55,44,60,45,36,55,49,40,50,33,47,65,37,42,69,51,58,46,41,40,52,40,34,50,51,48,45,39,46,30,66,37,34,60,49,47,52,48,63,44,48,70,30,30,26,41,56,53,39,38,60,48,37,44,37,44,45,33,57,26,43,46,59,32,33,42,55,75,65,42,33,52,49,38,43,36,37,65,57,54,44,48,25,30,46,40,28,33,54,53,59,34,22,34,26,27,38,56,46,56,66,52,68,46,38,39,48,51,53,36,24,25,33,29,26,40,33,38,26,62,39,41,29,42,25,67,42,51,47,40,50,38,35,53,26,57,41,35,42,39,55,44,60,54,52,55,53,23,60,50,56,60,39,37,23,47,40,48,32,45,39,46,24,46,54,51,32,67,41,38,23,36,39,52,35,40,61,34,49,26,49,62,51,24,35,35,46,36,50,46,35,70,37,42,49,46,32,46,40,48,28,44,31,49,42,49,32,47,39,65,28,46,54,42,72,48,44,40,22,50,33,42,51,42,50,49,48,27,50,40,56,48,43,36,21,52,38,29,44,56,34,63,65,47,38,37,62,49,31,66,61,41,48,47,45,53,62,50,48,61,25,56,42,36,49,57,56,37,47,54,54,49,56,42,57,40,34,59,21,59,51,64,51,51,51,34,33,54,27,59,59,52,42,51,26,54,42,27,51,42,43,65,46,43,64,47,35,56,28,38,40,42,49,43,52,58,43,47,40,38,41,51,71,38,51,45,40,42,32,41,44,62,37,72,25,33,26,68,43,46,40,42,64,38,67,22,43,30,26,46,29,31,48,69,27,36,55,56,39,26,25,42,42,56,39,39,54,38,50,26,43,34,35,33,57,54,39,28,40,30,68,43,49,40,46,42,45,54,36,54,53,45,30,40,44,32,50,35,38,35,45,46,51,42,58,49,50,42,22,54,32,50,39,59,44,40,59,35,46,38,51,39,55,55,37,48,37,56,44,31,40,51,52,55,27,56,39,33,44,46,48,22,52,43,50,50,33,57,35,70,51,28,48,34,59,40,43,45,31,51,35,30,29,36,49,58,35,33,41,41,62,63,48,33,41,51,45,54,48,66,60,40,24,40,68,38,23,49,43,52,59,32,52,65,50,48,44,41,52,48,39,23,51,25,37,49,28,46,61,42,32,39,51,35,58,56,36,40,39,46,53,28,41,41,39,50,49,37,39,78,33,65,43,37,62,36,59,36,33,54,41,47,46,42,26,45,41,48,39,53,72,49,57,50,28,38,54,64,40,57,60,54,40,49,46,46,40,65,38,67,57,29,54,45,46,33,61,50,42,44,55,38,52,48,44,40,38,29,51,55,48,52,45,56,29,33,45,46,47,38,52,53,23,40,40,36,39,49,46,48,76,44,67,41,42,27,64,52,53,24,50,52,50,38,40,51,31,40,46,36,36,54,41,55,48,61,50,43,19,38,42,58,46,56,53,42,45,64,35,48,44,53,54,31,39,43,53,33,41,43,46,60,55,30,35,63,22,65,43,43,37,55,32,40,53,43,49,42,53,50,39,52,51,32,51,50,32,47,49,53,58,23,48,50,28,54,41,51,48,50,28,32,42,55,23,56,53,38,39,37,54,44,31,39,45,36,39,53,34,21,36,57,39,43,42,47,38,59,39,43,35,53,53,62,39,45,48,48,46,62,53,47,64,31,46,49,41,25,60,47,40,48,41,37,44,58,60,43,41,47,39,42,49,53,45,49,41,39,64,56,64,53,67,46,60,48,62,55,53,54,31,43,56,60,50,34,58,42,33,36,33,44,57,37,32,39,44,53,38,55,33,47,61,40,36,44,46,29,48,36,45,56,44,46,40,33,32,63,40,34,74,37,21,28,34,34,49,51,41,44,48,37,39,54,38,34,29,20,53,64,31,30,59,50,45,63,38,21,29,36,45,46,47,51,42,44,44,48,60,44,38,48,51,51,59,31,70,30,54,70,52,36,43,26,25,47,44,59,32,43,30,55,28,24,54,46,37,31,43,42,33,57,38,26,39,37,39,44,43,64,34,47,46,32,60,52,35,49,58,40,53,39,42,60,46,33,57,50,39,42,50,56,50,44,59,45,65,32,54,29,44,51,42,41,38,42,46,66,52,51,47,56,65,60,59,54,34,33,20,37,49,48,36,47,41,26,50,28,41,46,42,45,45,39,25,45,52,52,36,43,78,33,31,66,56,32,57,49,41,35,28,44,61,21,21,34,50,39,33,28,33,39,39,31,66,49,53,44,48,49,49,38,57,44,57,59,49,38,47,20,59,44,51,40,50,66,39,63,61,62,61,49,54,40,24,58,38,43,65,36,27,28,65,50,63,49,50,61,30,25,44,68,29,54,50,46,38,56,32,37,31,35,41,54,56,54,32,37,39,43,60,58,52,48,53,37,43,40,20,53,43,37,39,45,41,46,54,63,43,29,43,42,43,54,24,30,62,38,45,34,37,52,53,49,23,42,57,21,41,30,32,35,62,52,35,33,57,40,43,70,38,41,51,50,34,33,53,49,40,33,47,42,75,40,30,33,66,57,42,40,61,59,47,59,49,56,44,45,46,49,42,43,60,38,23,33,35,35,39,42,66,35,31,50,37,44,33,35,63,60,57,31,42,51,55,55,39,39,49,45,60,31,33,49,22,39,43,43,55,66,20,49,82,39,42,61,31,46,34,45,43,46,66,37,32,37,52,53,40,40,52,34,64,56,49,43,55,62,46,37,52,57,29,59,50,31,38,58,46,39,40,40,56,54,46,68,29,33,38,45,34,44,60,39,59,29,58,36,26,30,33,39,55,35,45,51,61,52,22,22,30,58,38,58,39,20,47,37,63,61,40,59,51,39,48,43,39,48,53,44,43,44,34,40,44,48,28,33,34,49,47,62,30,39,56,38,39,35,44,41,27,54,52,42,34,35,31,58,57,39,37,40,20,39,52,45,70,39,41,71,55,39,59,44,52,37,46,32,27,52,56,33,33,62,49,44,50,48,55,44,47,37,54,56,51,63,51,59,31,49,56,46,60,29,38,46,50,44,51,43,34,46,38,35,39,53,40,32,44,76,40,32,47,43,26,43,34,35,43,41,37,47,45,31,57,33,30,34,33,61,51,38,48,45,49,42,39,51,42,41,43,54,48,21,33,29,45,39,32,31,46,47,37,36,46,55,26,63,59,47,25,47,28,26,56,49,42,54,37,43,48,58,44,51,46,54,28,24,26,48,61,43,54,38,24,64,38,37,33,44,45,38,46,40,38,55,45,69,38,40,37,57,27,46,30,52,41,41,34,35,26,57,54,40,36,44,32,53,46,42,58,33,21,30,20,42,51,47,38,55,39,30,46,55,66,55,36,52,36,45,55,55,43,50,73,38,32,45,48,37,54,47,50,65,36,44,59,56,31,34,49,33,69,41,24,65,46,57,45,57,37,50,20,30,41,42,59,43,31,37,42,38,49,27,61,66,35,40,43,33,55,39,34,63,23,57,50,59,40,52,23,31,43,47,50,38,52,42,81,29,55,50,55,59,36,46,47,48,25,36,46,49,34,60,22,36,47,30,32,49,31,33,34,32,42,32,55,48,47,54,52,49,49,22,45,46,55,34,55,29,55,62,39,31,41,48,35,55,68,43,19,33,37,33,62,29,53,54,47,32,44,30,34,47,55,45,40,59,49,45,35,37,52,34,35,49,40,33,49,54,49,51,37,37,25,57,71,24,65,21,34,39,53,26,43,43,39,45,42,48,42,55,33,37,39,57,53,65,38,38,52,56,36,41,60,41,52,66,49,25,39,43,61,45,51,38,50,63,53,57,40,55,54,45,66,52,50,61,25,35,52,28,48,32,43,54,38,51,50,36,47,44,49,31,39,61,33,30,40,49,42,41,51,31,35,27,38,40,59,42,34,50,28,41,46,18,27,45,39,41,56,43,35,49,54,38,57,24,36,48,41,44,50,38,33,49,39,53,43,38,40,52,28,33,62,21,57,29,50,63,35,43,38,40,43,50,36,57,51,49,41,31,43,49,47,39,59,48,32,63,39,34,44,36,40,48,48,30,60,21,48,34,52,70,31,51,47,40,46,59,52,32,35,76,46,33,37,42,52,34,57,70,25,53,44,38,49,42,46,49,53,59,54,46,44,32,32,29,43,42,32,28,56,59,38,39,58,43,33,47,52,51,60,48,26,42,48,49,26,45,39,53,39,33,36,48,51,42,26,21,28,52,51,46,55,44,53,46,63,56,48,51,36,53,44,53,39,45,50,48,45,66,44,65,45,35,45,34,32,42,37,27,23,50,63,46,68,43,70,48,36,56,50,71,48,39,34,66,29,23,50,30,24,52,44,31,58,34,22,60,46,60,32,36,46,62,63,57,37,49,33,52,47,56,36,35,66,48,38,47,47,47,45,41,53,40,65,60,20,34,41,38,19,32,34,53,47,43,49,47,38,59,23,22,40,37,41,53,41,41,49,42,50,24,68,50,39,55,36,36,40,71,33,48,41,65,28,58,27,42,37,20,27,50,42,44,40,34,22,26,47,75,27,63,25,42,58,35,52,60,47,43,45,22,33,35,38,43,54,25,41,44,40,55,39,31,41,58,62,33,41,38,39,42,67,36,54,32,44,57,45,59,50,37,40,37,26,38,34,20,42,43,58,48,62,57,40,54,36,39,61,55,43,43,67,50,39,37,33,61,48,53,32,54,36,31,44,58,25,48,41,20,52,40,25,44,38,41,54,46,33,60,47,56,45,47,47,63,33,57,33,45,54,44,41,52,64,65,55,65,34,60,26,49,37,44,70,36,38,41,44,39,42,45,26,30,44,76,56,62,40,40,43,59,42,22,42,59,47,39,51,46,43,46,60,29,38,62,19,35,61,56,64,38,66,50,52,30,40,46,24,37,27,29,63,22,34,58,42,39,46,47,33,41,44,58,45,37,32,52,54,54,43,48,51,21,53,39,34,48,21,32,37,40,45,47,39,61,41,35,58,41,53,30,46,65,38,46,41,44,43,63,59,44,37,49,50,46,48,46,28,47,47,51,43,44,37,51,47,55,46,52,64,35,36,27,60,58,56,39,47,44,57,55,35,45,32,42,60,49,40,30,51,34,43,34,58,52,59,70,39,62,44,20,33,46,42,73,44,50,55,34,18,36,51,45,38,29,43,57,33,37,64,18,28,32,46,29,53,34,43,66,38,62,55,36,46,41,46,58,49,42,40,46,39,48,58,43,41,55,41,41,51,39,50,53,55,28,45,36,57,65,48,29,41,45,46,50,55,47,34,37,35,35,42,47,41,50,45,55,42,58,53,35,57,36,44,26,33,57,36,47,52,33,41,52,32,43,63,44,44,25,45,43,45,43,62,37,57,31,51,32,60,30,51,62,48,53,58,48,70,46,53,36,46,55,25,49,51,77,60,34,60,48,40,34,34,50,58,45,36,46,57,45,45,43,57,54,46,38,42,52,47,40,50,47,60,52,55,46,34,35,28,62,32,68,42,41,65,55,24,38,27,49,59,43,35,43,57,59,34,38,54,48,44,63,34,47,51,46,52,38,28,35,33,63,50,40,59,62,31,45,22,37,30,44,52,44,36,44,55,62,50,32,46,40,26,27,41,57,33,34,40,49,54,26,48,61,45,43,58,66,73,58,34,46,53,51,62,26,22,55,34,37,29,38,51,37,51,34,34,58,43,69,60,48,39,36,25,38,48,50,39,44,37,23,44,41,49,35,43,55,51,60,51,45,52,46,22,51,52,44,51,56,46,34,41,44,55,46,48,69,41,44,61,50,40,33,28,78,36,33,31,21,72,57,59,43,48,38,38,28,40,34,37,54,59,54,64,55,37,64,46,39,57,55,56,54,48,39,46,59,42,38,33,59,36,41,49,44,56,51,38,53,45,68,61,35,43,43,32,47,48,55,44,46,48,68,33,58,36,49,40,39,42,25,36,37,40,56,25,30,39,52,45,43,44,46,47,33,33,28,58,56,42,60,43,55,46,56,56,57,41,40,29,37,56,36,62,45,58,20,32,37,46,43,62,50,41,45,35,33,32,54,45,60,53,62,54,38,44,41,29,56,46,26,34,51,37,33,49,25,34,39,53,21,41,69,22,33,25,49,36,37,66,44,57,47,47,37,24,51,51,51,50,35,26,41,59,41,39,48,47,50,39,41,50,37,45,50,35,42,59,49,42,39,42,27,45,43,32,46,38,42,48,34,51,42,35,38,45,52,40,40,55,51,19,27,65,31,70,52,63,46,26,35,46,42,37,23,37,49,40,45,51,36,31,42,34,33,39,42,50,60,48,53,44,32,57,53,71,38,45,49,46,44,26,53,48,53,61,35,46,54,59,48,36,32,52,69,40,25,35,42,29,45,39,47,59,45,22,46,38,60,39,41,43,48,26,43,55,47,25,33,50,57,47,40,27,47,36,44,45,52,47,63,55,52,55,46,33,54,39,41,50,47,25,47,56,30,50,50,62,49,51,30,39,61,51,33,46,35,43,41,53,52,43,78,65,57,63,41,34,39,20,39,54,60,56,39,46,49,45,54,32,36,49,27,29,47,54,49,39,54,19,40,55,37,65,43,36,32,34,55,50,61,35,41,44,26,43,76,43,31,38,49,43,53,70,56,26,37,55,30,34,47,42,47,44,56,43,49,54,34,38,40,42,57,27,56,56,31,27,58,33,40,38,22,46,46,34,44,52,61,32,43,49,40,53,44,40,55,38,28,38,55,53,57,47,52,25,60,38,38,57,56,36,39,49,32,53,43,46,40,45,28,59,46,60,35,48,39,38,40,41,50,36,41,46,29,56,42,56,44,41,45,47,55,19,62,49,62,36,27,25,33,55,49,37,45,55,30,28,32,30,49,53,61,56,39,50,46,37,57,18,26,57,48,50,34,30,38,41,34,66,33,38,35,32,38,26,53,41,44,40,25,36,30,63,46,29,43,41,43,28,44,43,49,55,51,50,26,47,50,53,39,52,45,48,45,53,42,65,54,64,35,38,41,41,58,41,46,48,61,66,26,41,29,61,50,39,22,65,49,50,30,45,37,38,33,61,62,47,62,55,63,65,26,59,22,64,42,32,56,56,45,40,29,46,42,49,42,34,36,33,47,36,71,66,62,31,58,48,59,41,66,31,50,55,37,50,46,24,32,51,41,51,39,38,55,33,31,31,39,36,44,34,22,39,48,24,43,38,65,38,65,63,48,43,31,32,51,40,58,50,61,22,68,57,36,44,48,52,64,56,30,28,42,24,62,34,39,44,48,26,43,39,34,66,36,44,55,68,74,39,60,55,38,47,35,36,54,44,40,40,44,25,55,43,25,53,44,45,31,24,45,62,42,59,52,56,19,50,51,47,46,44,49,27,27,54,49,31,34,44,54,31,50,54,40,41,49,45,54,42,38,71,40,18,42,34,33,39,62,35,56,49,39,44,37,31,35,58,46,31,68,48,54,23,42,30,58,54,46,52,56,39,46,30,23,43,38,56,67,56,36,56,33,27,58,38,59,51,40,71,33,33,59,38,38,64,50,45,68,39,27,41,38,63,47,44,61,50,54,30,45,44,45,35,44,56,41,51,44,45,39,54,25,32,64,46,35,41,32,41,33,47,59,44,54,25,32,41,30,44,26,39,53,52,63,33,50,28,56,62,32,38,54,35,35,32,25,34,55,52,64,30,48,54,62,47,35,65,53,46,52,30,36,72,40,48,43,44,54,57,39,34,28,51,49,37,40,58,48,21,27,46,41,47,44,59,55,40,28,61,52,29,25,31,34,48,44,23,48,45,43,77,38,50,58,49,37,55,65,64,26,50,51,40,58,42,51,27,42,66,50,62,37,53,28,54,46,36,53,38,51,50,38,35,42,54,41,50,36,40,42,62,47,59,42,55,35,56,33,29,30,73,50,33,44,48,39,69,41,37,49,63,71,42,69,64,42,50,42,38,53,42,42,36,48,50,58,47,38,39,35,55,47,54,24,53,39,55,55,46,48,41,40,52,40,53,48,63,48,28,45,64,37,46,56,52,58,63,41,27,30,48,35,46,46,30,49,33,34,65,69,35,50,50,23,53,49,42,37,50,80,35,28,41,46,43,35,30,68,20,29,24,41,53,41,46,50,45,20,41,64,37,57,47,31,20,50,42,47,27,46,40,66,59,42,39,40,39,37,44,60,54,32,56,55,50,41,47,52,54,41,51,43,54,41,34,33,46,47,31,50,64,61,64,43,49,39,56,56,69,29,64,27,71,37,41,43,38,70,55,37,64,35,35,27,25,32,33,29,46,40,32,50,52,31,61,50,74,44,20,30,51,43,71,50,34,40,63,30,36,59,49,47,32,35,41,56,34,27,58,39,37,51,26,42,52,37,39,62,50,66,41,42,18,43,65,55,66,32,43,21,53,38,60,39,38,66,32,64,34,35,37,46,38,49,58,39,48,55,31,32,38,39,56,34,40,18,40,47,51,44,63,36,48,40,50,38,53,44,39,23,41,42,21,47,54,51,20,34,43,41,28,48,23,54,37,47,46,46,52,53,54,47,55,41,42,55,42,32,43,46,40,74,41,61,37,21,29,34,42,23,48,39,52,39,49,54,45,51,51,50,42,62,44,56,61,41,42,46,38,42,31,64,44,44,39,32,41,38,57,54,43,42,42,44,31,46,40,56,56,43,44,52,36,33,26,31,44,45,56,42,27,46,33,53,58,25,37,36,42,35,41,39,25,56,63,45,46,43,44,33,29,60,57,57,38,36,19,43,41,43,49,58,55,50,35,45,40,38,37,49,34,45,37,33,53,54,43,43,42,32,55,44,35,22,48,70,43,35,40,50,43,48,26,42,52,64,52,64,48,61,27,49,45,50,37,69,50,60,72,73,27,35,63,26,59,68,37,63,29,50,47,23,24,41,42,51,46,25,40,45,32,27,40,39,27,33,49,30,42,40,38,35,35,44,83,71,39,51,42,48,62,64,33,47,45,39,44,59,32,59,43,51,40,41,38,34,33,46,56,32,35,42,27,59,54,71,55,28,45,30,33,53,48,59,26,53,58,44,39,47,42,32,50,46,41,59,38,41,44,57,25,22,32,34,39,47,23,51,49,44,65,43,45,31,45,50,20,44,54,39,42,57,45,68,29,19,38,47,44,43,26,50,22,31,36,60,40,44,67,56,42,38,35,39,41,43,48,49,50,86,26,56,43,37,47,52,39,45,52,36,45,41,37,51,41,30,29,43,42,39,66,46,59,24,36,23,50,45,48,39,35,61,57,50,41,42,54,54,67,50,38,54,37,37,46,39,83,47,36,54,37,42,48,53,38,48,55,59,35,41,58,42,61,68,44,42,57,46,45,38,57,36,41,70,37,54,44,40,58,24,27,43,48,55,34,34,52,55,41,30,44,49,54,29,43,42,40,40,37,49,48,46,49,48,54,37,34,63,37,36,65,43,40,41,58,39,70,30,51,45,51,41,43,56,68,49,46,38,29,71,37,39,40,50,31,33,45,38,29,36,45,50,53,43,46,44,54,57,61,41,51,43,48,65,37,38,58,43,70,45,63,53,55,32,46,55,25,59,38,48,39,47,51,39,40,28,56,36,54,39,45,50,42,37,51,53,33,40,34,35,49,51,27,35,34,49,38,55,41,27,39,42,25,47,27,42,32,36,47,26,59,50,36,47,48,30,48,41,24,30,53,28,36,43,45,34,52,38,61,41,30,42,33,25,31,34,81,30,42,65,54,54,74,42,42,56,57,53,40,36,33,29,43,32,48,19,40,55,51,55,45,69,53,21,40,26,40,38,41,32,48,40,57,30,43,52,32,45,50,32,43,39,38,54,54,41,40,56,60,55,48,54,42,26,44,45,34,40,37,42,56,33,49,59,57,35,68,39,32,49,54,52,45,54,51,38,53,66,38,52,46,50,25,37,39,39,58,55,65,46,52,53,42,35,42,42,32,39,51,37,36,58,66,37,36,32,41,25,56,49,44,35,46,56,39,62,50,52,47,37,41,22,58,63,55,48,43,50,50,53,26,34,73,56,48,40,40,61,56,39,36,61,30,38,55,42,48,43,61,63,39,18,43,46,34,54,51,35,31,18,25,48,46,31,37,43,47,34,44,30,55,40,44,75,35,35,18,42,35,44,32,24,37,43,35,37,48,49,47,51,44,39,52,50,26,52,43,65,54,45,49,19,58,41,40,33,44,50,50,59,42,50,39,20,40,51,42,52,50,60,46,43,27,67,39,50,37,44,37,66,32,56,44,45,38,53,49,42,49,56,38,44,51,47,65,50,52,54,71,54,30,48,29,46,37,49,26,42,69,40,47,51,36,26,45,80,49,51,70,36,24,36,49,36,60,38,50,23,41,27,46,46,28,38,28,54,38,35,60,83,50,33,52,45,55,42,41,27,25,23,48,43,53,34,47,38,38,67,53,47,37,35,58,56,42,20,34,53,50,38,36,62,33,38,22,31,30,35,46,34,54,43,45,45,53,51,60,44,24,47,41,38,57,56,33,34,39,68,40,57,33,53,40,60,52,47,42,46,40,45,56,38,25,49,34,52,38,22,51,25,54,34,43,64,40,45,60,44,28,34,29,38,31,33,22,31,27,46,51,23,26,20,30,64,53,41,57,44,58,61,35,23,49,51,36,33,32,36,54,40,52,46,56,39,68,34,63,56,40,57,43,52,45,67,46,43,37,49,34,55,65,56,50,29,38,45,52,64,35,41,48,24,38,49,56,73,51,52,48,31,37,32,34,48,28,51,52,46,51,38,45,57,34,59,30,47,54,55,58,50,43,59,35,39,64,48,55,58,41,39,45,53,45,57,42,39,40,38,43,45,47,53,54,35,48,47,44,38,63,58,59,46,52,54,39,46,57,46,84,46,56,56,29,47,26,41,61,29,40,21,21,41,37,53,66,58,38,42,44,24,47,39,31,55,39,54,36,53,52,62,28,46,55,46,57,28,41,46,50,53,47,23,41,41,41,53,62,53,20,43,55,67,39,53,46,60,35,44,75,41,59,29,56,36,41,42,42,58,19,36,45,31,45,44,72,61,62,59,37,59,52,64,37,44,57,46,62,53,50,43,43,55,57,23,52,35,36,63,56,23,48,66,41,36,39,18,53,62,35,46,43,43,44,48,21,45,56,43,51,52,24,54,34,53,45,29,55,61,47,36,36,34,59,39,43,24,34,51,35,29,35,47,52,52,52,54,45,71,44,62,35,42,48,46,48,45,49,38,48,42,38,25,44,46,32,43,20,34,46,43,43,71,43,50,36,45,51,62,54,21,35,39,57,43,63,64,18,43,41,39,58,32,30,29,45,40,47,36,47,39,47,48,61,46,44,33,26,50,33,43,46,50,49,46,47,46,54,38,35,47,65,55,33,53,43,43,50,35,42,36,46,42,33,55,53,35,63,33,40,53,72,74,29,42,54,42,20,55,41,35,31,40,33,31,43,42,40,40,30,49,28,44,41,32,56,45,32,54,35,71,40,46,56,69,49,48,46,57,37,41,56,40,41,39,58,57,54,57,40,68,37,66,52,31,40,24,26,46,63,59,41,53,48,24,34,57,42,36,52,66,46,45,42,56,53,27,35,50,33,35,41,41,43,36,25,55,69,55,35,59,50,35,27,60,41,51,53,26,42,52,55,37,58,54,53,52,37,45,40,37,55,41,43,43,19,49,40,20,40,42,60,45,36,43,61,59,42,40,52,48,38,42,33,56,32,35,33,53,61,42,30,60,55,39,49,23,34,37,38,39,50,53,50,55,35,42,38,37,49,28,56,51,46,41,50,55,43,36,25,19,28,65,32,65,40,51,43,49,40,55,55,48,48,29,42,53,47,74,43,41,52,61,31,51,47,48,43,22,43,53,53,43,64,38,33,38,27,49,25,34,62,31,56,40,54,48,52,50,30,36,40,36,33,40,53,56,48,49,51,65,39,39,32,44,19,39,39,36,41,33,56,63,59,57,48,58,51,44,35,66,48,39,53,52,38,45,42,51,39,23,48,60,44,24,39,36,41,41,28,50,47,50,21,40,50,42,47,51,49,43,45,51,80,39,55,59,45,45,63,28,64,34,51,52,40,36,44,39,48,27,34,49,56,31,44,47,32,30,53,58,43,51,41,46,33,52,54,40,71,38,41,73,38,46,49,45,33,45,50,38,51,33,46,49,53,39,43,41,50,51,53,34,39,39,41,48,66,41,36,35,28,59,51,31,41,43,31,73,69,40,54,33,41,57,60,31,56,38,44,35,19,45,58,37,72,43,62,47,45,59,51,29,57,66,41,37,65,36,52,47,46,38,22,47,36,56,55,55,60,68,45,23,48,33,46,52,58,30,66,41,45,45,63,65,40,42,28,43,44,51,26,37,50,37,50,39,40,38,51,38,31,28,54,54,64,58,30,66,34,40,41,42,31,39,45,46,51,44,34,38,44,59,21,48,53,48,46,32,47,47,52,41,21,27,53,42,64,64,34,55,58,29,28,43,33,37,42,35,65,25,55,33,36,28,38,52,48,46,56,30,66,53,57,38,47,37,46,59,41,59,50,44,44,26,78,45,41,29,36,42,34,44,44,31,43,43,52,37,47,40,70,41,57,46,40,51,56,39,24,57,49,73,21,47,42,38,36,51,41,46,23,44,42,51,43,64,22,19,53,59,47,33,58,51,48,45,28,47,34,20,64,60,59,62,58,25,71,31,23,57,48,42,31,38,55,38,59,56,37,40,41,39,40,30,33,38,48,45,55,41,22,65,43,31,38,38,43,42,55,50,62,56,53,48,52,53,67,38,38,64,21,48,25,41,26,45,42,27,34,47,68,30,42,48,66,38,54,38,50,50,33,28,40,62,47,44,36,37,52,27,44,50,28,49,62,46,53,28,39,49,46,56,49,67,55,37,44,49,38,61,55,64,49,51,43,54,53,50,53,71,46,52,46,33,52,53,24,37,30,37,30,53,66,40,46,66,58,30,35,40,44,38,54,62,60,31,69,45,58,39,53,48,33,29,56,48,53,41,38,58,63,20,45,43,27,26,60,39,58,61,50,36,63,50,23,41,27,50,27,38,40,45,53,45,53,50,41,43,39,44,53,51,44,57,37,36,31,47,40,57,60,43,62,32,59,69,46,40,41,39,44,60,57,56,39,42,43,45,28,54,63,55,33,47,28,40,47,36,33,67,42,64,50,67,57,50,36,41,31,49,46,49,46,52,39,55,57,56,38,39,65,70,38,48,49,37,63,49,50,40,51,38,47,37,38,55,44,35,66,42,53,57,28,24,35,66,40,48,51,44,41,42,48,49,29,56,38,43,58,43,39,39,46,44,50,52,36,52,38,56,36,65,30,45,55,36,53,42,57,51,56,44,44,40,40,54,42,39,52,57,36,59,65,42,45,52,48,55,62,41,19,56,32,52,46,51,42,47,38,39,25,71,55,34,43,57,73,40,32,51,38,63,60,47,65,36,19,39,59,25,66,47,62,45,50,38,49,55,38,45,44,41,53,43,38,56,43,56,36,53,45,31,47,32,49,45,53,43,36,54,20,42,27,43,43,26,39,46,53,57,53,34,43,44,30,38,28,54,33,38,38,48,72,60,46,45,61,55,56,51,62,29,44,39,31,68,60,30,20,57,52,37,54,42,33,37,34,27,59,42,44,42,47,41,52,35,41,25,44,32,40,36,36,59,32,39,61,56,52,40,35,36,29,61,39,61,60,61,47,55,62,48,44,72,55,49,50,50,50,53,33,42,53,23,42,41,51,40,67,48,68,36,59,36,38,27,34,28,27,51,48,51,48,41,34,37,31,58,33,55,33,37,52,34,29,59,52,42,50,39,49,60,46,49,55,49,29,34,41,45,52,42,61,34,56,34,38,44,53,64,49,40,53,33,58,40,62,67,52,43,45,52,58,49,42,61,45,45,30,62,43,61,41,50,58,27,76,57,40,72,49,50,60,32,75,30,47,59,50,29,50,37,41,47,30,65,62,64,19,53,29,55,47,40,41,47,42,63,45,49,50,54,49,53,32,42,42,46,44,39,56,62,29,51,43,46,42,37,33,48,36,43,25,21,47,47,53,57,61,18,27,36,42,50,41,40,49,38,51,47,43,31,55,38,23,65,29,48,35,27,61,23,62,52,63,40,49,48,51,70,49,45,45,32,40,41,70,64,55,28,57,23,51,34,45,48,52,39,54,47,38,66,43,57,40,53,61,46,59,55,55,41,40,44,54,53,59,47,36,40,41,34,27,53,58,56,56,34,53,47,23,37,56,55,38,37,46,43,47,54,53,41,37,48,37,50,31,45,59,60,49,56,38,28,67,45,52,47,56,42,38,40,43,36,63,37,58,50,47,35,51,39,48,32,53,59,53,62,38,49,48,61,49,42,35,38,32,35,28,45,36,45,53,39,35,48,38,33,43,34,57,46,38,53,33,31,39,63,58,49,32,32,32,16,46,45,41,36,52,26,32,37,37,55,54,38,57,34,34,36,55,35,69,31,48,60,51,52,63,35,44,51,38,43,56,27,42,63,47,32,32,51,51,58,31,44,37,31,36,43,45,48,37,54,70,45,72,41,38,23,61,49,42,66,36,31,28,46,47,55,32,45,39,52,35,64,42,25,55,61,34,48,58,54,51,37,41,51,38,68,54,40,36,59,53,51,71,60,46,34,44,29,32,31,31,54,36,47,51,29,36,37,44,52,43,54,38,42,46,60,45,38,58,36,39,39,51,54,48,27,54,58,54,24,52,46,48,30,68,42,33,44,55,45,47,40,50,36,70,37,42,39,49,39,55,43,38,68,34,61,43,53,39,53,51,52,49,46,39,34,39,49,39,36,41,31,51,50,38,44,46,54,34,38,52,49,37,41,73,37,43,27,49,39,45,52,54,55,39,55,40,42,42,66,57,59,55,60,31,55,55,41,40,37,50,52,57,37,33,55,55,50,70,48,55,49,38,53,50,28,65,38,36,43,59,48,44,75,59,41,65,36,38,48,56,48,52,41,40,34,40,51,48,57,57,43,33,34,32,49,44,36,22,54,22,32,58,46,24,39,58,46,27,46,40,47,29,58,57,42,42,43,39,34,58,45,50,36,59,39,55,35,35,37,45,57,40,37,37,43,64,65,34,21,63,50,39,37,36,57,33,48,47,45,47,62,55,22,40,42,47,61,44,22,44,35,35,43,35,34,51,26,30,43,42,34,49,25,26,57,39,64,52,42,41,50,62,36,44,52,55,51,53,59,42,39,29,46,72,36,62,72,48,37,45,49,42,40,60,55,27,54,39,29,54,23,43,40,41,41,33,31,48,46,48,37,31,40,70,33,51,59,52,47,43,39,41,24,62,40,32,47,59,39,43,37,43,68,28,48,46,21,20,32,38,38,28,49,46,42,62,48,51,42,33,36,41,50,33,41,51,34,22,45,72,32,58,66,59,36,43,60,30,43,52,43,28,59,39,35,47,50,53,42,47,59,24,51,47,33,31,33,52,54,36,34,55,42,41,47,60,33,39,48,45,47,57,42,39,55,39,38,30,25,36,22,36,48,56,40,46,69,41,51,71,60,42,51,35,26,48,54,36,48,41,51,45,47,37,41,42,58,55,53,63,53,60,56,36,48,46,55,64,35,41,33,31,49,38,54,50,44,37,46,44,49,57,36,66,35,45,53,54,29,41,50,30,63,58,53,47,35,54,30,42,34,34,40,53,32,43,38,56,48,47,57,63,39,41,44,43,64,39,28,29,45,45,63,52,49,46,24,30,46,42,30,52,35,27,61,38,30,42,57,33,41,28,40,25,50,36,42,49,50,29,51,47,46,41,46,42,49,48,32,58,50,45,45,68,34,57,55,37,58,57,44,31,44,62,44,31,33,60,48,59,46,52,49,61,45,58,59,28,39,27,42,46,27,57,43,37,68,45,37,42,30,37,32,59,44,57,63,29,24,39,55,47,39,54,32,59,41,41,50,37,40,28,44,48,45,59,41,55,22,42,58,39,58,42,41,47,28,44,32,56,24,37,27,25,44,41,52,67,40,51,42,58,64,34,35,45,40,58,49,41,52,56,45,34,48,66,54,32,61,51,42,52,29,56,61,64,39,58,64,53,37,22,35,48,46,55,29,38,44,60,50,70,52,31,46,28,42,32,48,67,44,42,54,58,40,63,31,54,79,46,38,56,39,47,63,44,45,54,51,33,35,42,52,62,31,52,37,31,54,51,53,23,25,48,41,21,57,46,54,39,25,45,63,45,40,60,19,39,42,51,46,20,58,65,38,31,57,29,28,53,52,59,48,21,46,44,34,33,67,58,39,35,41,60,42,36,21,49,42,43,37,53,76,33,38,39,29,39,47,34,47,40,60,63,67,68,48,63,55,42,31,38,48,56,32,25,24,40,40,58,58,52,35,42,65,45,59,35,39,29,41,37,50,62,50,38,44,35,45,18,41,46,41,43,37,53,48,43,44,28,61,35,35,50,34,42,64,31,32,51,42,48,37,34,34,48,33,43,42,39,50,62,56,57,61,42,39,45,38,53,45,59,50,52,41,58,48,50,34,55,42,26,34,23,23,43,39,39,46,53,43,48,35,42,53,44,41,40,60,70,60,46,41,39,33,59,34,62,39,60,36,67,40,42,35,29,37,41,44,65,61,47,36,40,62,36,42,52,66,38,56,31,29,34,62,24,31,38,55,66,47,51,27,54,46,62,52,51,65,28,36,68,45,35,36,51,27,36,50,56,33,53,38,44,46,37,28,39,47,47,42,36,53,40,44,39,55,54,74,42,35,43,61,47,60,34,37,53,38,50,40,28,57,45,31,48,28,19,46,34,59,53,50,26,42,52,37,55,43,61,37,26,53,33,66,60,41,46,36,43,45,39,44,77,33,61,53,40,59,52,40,40,44,43,63,33,37,41,33,39,25,36,36,41,67,45,48,53,51,39,40,27,25,34,26,52,72,26,39,49,49,46,33,48,40,40,50,24,75,47,36,57,49,38,52,41,28,40,39,53,25,24,51,52,50,43,61,42,47,50,27,38,37,57,34,55,62,41,45,51,38,51,42,51,40,49,51,26,36,30,52,57,37,47,42,52,39,40,38,75,61,56,41,48,55,48,31,61,46,62,37,41,44,49,39,48,28,49,50,60,27,41,66,29,62,42,43,27,43,49,52,52,37,47,47,42,35,66,68,24,35,48,53,48,34,29,80,25,47,60,54,47,27,40,35,50,61,69,42,40,47,58,33,44,25,39,32,48,58,47,27,41,40,68,44,36,38,24,64,51,55,43,38,58,50,53,45,39,39,49,42,53,50,33,24,41,47,61,46,59,40,39,55,52,41,19,43,60,57,44,46,61,42,41,53,50,32,71,63,48,58,55,58,31,50,34,41,39,56,33,64,37,49,34,53,33,55,37,37,58,36,66,39,55,57,44,53,46,75,43,55,56,45,38,44,61,53,36,27,62,57,38,37,43,48,31,56,32,39,42,32,53,20,56,27,49,29,52,49,60,35,39,63,55,39,53,64,31,48,51,46,48,44,51,49,48,46,41,47,40,58,58,64,63,49,37,37,49,26,49,59,60,44,54,55,34,31,52,51,60,45,33,62,65,34,43,36,30,44,32,58,54,36,47,47,43,43,54,41,45,41,35,36,28,42,59,53,43,33,58,59,56,29,65,69,30,54,40,38,70,57,65,39,69,51,48,39,68,54,47,52,56,52,59,38,55,41,60,72,35,46,42,40,31,51,50,37,32,50,45,57,50,46,53,36,57,30,32,43,56,60,51,44,60,55,39,39,31,69,56,56,48,47,66,33,35,58,34,36,58,20,53,53,64,74,32,61,43,28,48,37,41,44,39,29,40,73,36,33,29,57,45,39,60,37,37,75,46,26,34,58,50,51,56,34,60,39,68,50,52,51,49,57,43,48,59,52,22,31,33,62,41,58,57,46,49,40,40,56,74,56,53,27,38,46,44,60,66,58,36,43,44,44,47,61,34,35,55,29,39,47,23,47,53,49,40,46,51,51,52,38,34,31,30,43,18,25,32,46,59,42,42,51,67,43,23,38,42,45,40,57,49,48,38,49,23,45,47,45,41,51,40,56,42,47,48,39,27,44,40,60,44,41,36,41,30,45,32,39,38,48,40,33,58,18,41,50,52,58,47,41,37,44,41,58,47,35,62,31,57,49,42,73,39,41,43,44,55,66,24,57,18,46,41,68,45,54,51,39,47,47,59,27,42,46,57,45,45,30,55,49,60,28,33,41,34,48,40,48,48,86,41,46,31,45,61,46,38,52,36,45,37,20,57,47,52,39,48,40,37,75,48,32,75,60,36,33,33,35,43,40,62,38,60,52,56,58,35,45,44,54,42,58,46,25,38,37,43,33,32,43,38,37,43,34,36,60,21,55,52,55,41,57,52,51,24,47,34,45,49,60,41,62,54,51,44,38,50,49,51,60,60,57,54,42,49,44,68,41,56,47,32,47,42,28,55,56,43,58,41,72,49,36,55,43,48,37,41,32,46,39,35,25,45,53,46,69,59,49,20,60,40,36,60,26,52,38,62,48,35,48,49,61,65,65,20,54,52,46,32,39,58,30,24,56,48,36,51,28,41,50,49,31,51,55,49,42,45,40,56,40,48,30,72,43,65,46,35,39,28,69,39,23,24,44,47,51,54,55,33,47,45,47,40,32,38,53,24,82,56,45,59,58,41,40,58,42,32,44,41,39,36,52,45,28,52,63,28,51,41,47,37,48,40,52,33,41,46,37,57,41,29,40,33,43,52,49,46,45,53,56,45,27,31,23,32,47,45,39,39,68,76,55,28,69,39,35,45,46,41,41,20,38,51,38,53,44,26,52,61,45,58,30,38,50,34,66,64,44,54,50,71,43,45,54,56,22,45,39,30,55,28,58,58,57,36,46,38,35,33,45,72,71,51,47,56,56,38,56,42,57,55,51,41,42,37,51,36,51,46,57,33,40,43,39,49,68,61,33,40,35,54,41,59,43,62,62,45,38,44,42,54,58,30,31,32,39,72,41,52,27,62,44,36,55,24,29,49,64,45,28,47,58,60,36,68,41,33,58,31,39,46,44,23,42,43,37,34,64,46,48,48,30,23,56,59,37,46,54,64,63,38,27,35,27,48,42,35,39,49,37,44,66,64,39,24,43,63,37,67,54,48,28,52,55,27,62,50,28,28,35,47,33,36,34,41,27,38,30,39,50,70,50,27,53,54,50,50,38,29,41,48,59,28,54,42,51,64,44,32,37,30,32,42,31,52,37,58,35,51,34,29,52,48,50,42,40,24,48,38,42,40,50,49,33,45,52,48,40,35,37,46,47,62,59,54,58,63,31,47,35,59,56,46,47,41,37,41,36,62,22,20,27,51,74,70,58,43,38,50,46,30,58,46,37,31,42,43,45,42,25,51,39,64,32,57,57,33,27,50,47,42,41,41,22,39,38,29,37,51,44,49,40,32,28,49,56,54,55,31,38,35,48,55,40,45,27,28,42,45,38,35,33,66,43,58,58,47,43,50,42,37,48,51,36,56,40,69,71,57,25,43,29,47,35,38,45,73,28,25,38,47,38,45,32,59,56,37,37,49,50,33,69,47,50,44,36,21,38,43,19,35,48,58,32,58,58,61,73,46,33,45,29,39,65,42,33,60,49,65,34,27,54,29,38,29,50,57,28,47,41,48,28,44,35,47,33,51,50,52,37,39,47,64,29,46,25,53,45,47,39,33,31,40,32,50,38,45,45,22,57,46,64,38,56,48,40,43,24,48,44,40,48,66,48,48,60,49,44,61,53,51,53,58,58,43,31,38,63,53,54,41,53,47,28,41,66,50,45,58,48,64,48,30,52,55,40,41,43,53,49,49,22,34,34,33,38,55,30,38,40,44,57,43,30,31,71,39,55,61,55,64,45],\"xaxis\":\"x\",\"yaxis\":\"y\"}],                        {\"barmode\":\"relative\",\"legend\":{\"title\":{\"text\":\"variable\"},\"tracegroupgap\":0},\"margin\":{\"t\":60},\"template\":{\"data\":{\"bar\":[{\"error_x\":{\"color\":\"#2a3f5f\"},\"error_y\":{\"color\":\"#2a3f5f\"},\"marker\":{\"line\":{\"color\":\"#E5ECF6\",\"width\":0.5},\"pattern\":{\"fillmode\":\"overlay\",\"size\":10,\"solidity\":0.2}},\"type\":\"bar\"}],\"barpolar\":[{\"marker\":{\"line\":{\"color\":\"#E5ECF6\",\"width\":0.5},\"pattern\":{\"fillmode\":\"overlay\",\"size\":10,\"solidity\":0.2}},\"type\":\"barpolar\"}],\"carpet\":[{\"aaxis\":{\"endlinecolor\":\"#2a3f5f\",\"gridcolor\":\"white\",\"linecolor\":\"white\",\"minorgridcolor\":\"white\",\"startlinecolor\":\"#2a3f5f\"},\"baxis\":{\"endlinecolor\":\"#2a3f5f\",\"gridcolor\":\"white\",\"linecolor\":\"white\",\"minorgridcolor\":\"white\",\"startlinecolor\":\"#2a3f5f\"},\"type\":\"carpet\"}],\"choropleth\":[{\"colorbar\":{\"outlinewidth\":0,\"ticks\":\"\"},\"type\":\"choropleth\"}],\"contour\":[{\"colorbar\":{\"outlinewidth\":0,\"ticks\":\"\"},\"colorscale\":[[0.0,\"#0d0887\"],[0.1111111111111111,\"#46039f\"],[0.2222222222222222,\"#7201a8\"],[0.3333333333333333,\"#9c179e\"],[0.4444444444444444,\"#bd3786\"],[0.5555555555555556,\"#d8576b\"],[0.6666666666666666,\"#ed7953\"],[0.7777777777777778,\"#fb9f3a\"],[0.8888888888888888,\"#fdca26\"],[1.0,\"#f0f921\"]],\"type\":\"contour\"}],\"contourcarpet\":[{\"colorbar\":{\"outlinewidth\":0,\"ticks\":\"\"},\"type\":\"contourcarpet\"}],\"heatmap\":[{\"colorbar\":{\"outlinewidth\":0,\"ticks\":\"\"},\"colorscale\":[[0.0,\"#0d0887\"],[0.1111111111111111,\"#46039f\"],[0.2222222222222222,\"#7201a8\"],[0.3333333333333333,\"#9c179e\"],[0.4444444444444444,\"#bd3786\"],[0.5555555555555556,\"#d8576b\"],[0.6666666666666666,\"#ed7953\"],[0.7777777777777778,\"#fb9f3a\"],[0.8888888888888888,\"#fdca26\"],[1.0,\"#f0f921\"]],\"type\":\"heatmap\"}],\"heatmapgl\":[{\"colorbar\":{\"outlinewidth\":0,\"ticks\":\"\"},\"colorscale\":[[0.0,\"#0d0887\"],[0.1111111111111111,\"#46039f\"],[0.2222222222222222,\"#7201a8\"],[0.3333333333333333,\"#9c179e\"],[0.4444444444444444,\"#bd3786\"],[0.5555555555555556,\"#d8576b\"],[0.6666666666666666,\"#ed7953\"],[0.7777777777777778,\"#fb9f3a\"],[0.8888888888888888,\"#fdca26\"],[1.0,\"#f0f921\"]],\"type\":\"heatmapgl\"}],\"histogram\":[{\"marker\":{\"pattern\":{\"fillmode\":\"overlay\",\"size\":10,\"solidity\":0.2}},\"type\":\"histogram\"}],\"histogram2d\":[{\"colorbar\":{\"outlinewidth\":0,\"ticks\":\"\"},\"colorscale\":[[0.0,\"#0d0887\"],[0.1111111111111111,\"#46039f\"],[0.2222222222222222,\"#7201a8\"],[0.3333333333333333,\"#9c179e\"],[0.4444444444444444,\"#bd3786\"],[0.5555555555555556,\"#d8576b\"],[0.6666666666666666,\"#ed7953\"],[0.7777777777777778,\"#fb9f3a\"],[0.8888888888888888,\"#fdca26\"],[1.0,\"#f0f921\"]],\"type\":\"histogram2d\"}],\"histogram2dcontour\":[{\"colorbar\":{\"outlinewidth\":0,\"ticks\":\"\"},\"colorscale\":[[0.0,\"#0d0887\"],[0.1111111111111111,\"#46039f\"],[0.2222222222222222,\"#7201a8\"],[0.3333333333333333,\"#9c179e\"],[0.4444444444444444,\"#bd3786\"],[0.5555555555555556,\"#d8576b\"],[0.6666666666666666,\"#ed7953\"],[0.7777777777777778,\"#fb9f3a\"],[0.8888888888888888,\"#fdca26\"],[1.0,\"#f0f921\"]],\"type\":\"histogram2dcontour\"}],\"mesh3d\":[{\"colorbar\":{\"outlinewidth\":0,\"ticks\":\"\"},\"type\":\"mesh3d\"}],\"parcoords\":[{\"line\":{\"colorbar\":{\"outlinewidth\":0,\"ticks\":\"\"}},\"type\":\"parcoords\"}],\"pie\":[{\"automargin\":true,\"type\":\"pie\"}],\"scatter\":[{\"marker\":{\"colorbar\":{\"outlinewidth\":0,\"ticks\":\"\"}},\"type\":\"scatter\"}],\"scatter3d\":[{\"line\":{\"colorbar\":{\"outlinewidth\":0,\"ticks\":\"\"}},\"marker\":{\"colorbar\":{\"outlinewidth\":0,\"ticks\":\"\"}},\"type\":\"scatter3d\"}],\"scattercarpet\":[{\"marker\":{\"colorbar\":{\"outlinewidth\":0,\"ticks\":\"\"}},\"type\":\"scattercarpet\"}],\"scattergeo\":[{\"marker\":{\"colorbar\":{\"outlinewidth\":0,\"ticks\":\"\"}},\"type\":\"scattergeo\"}],\"scattergl\":[{\"marker\":{\"colorbar\":{\"outlinewidth\":0,\"ticks\":\"\"}},\"type\":\"scattergl\"}],\"scattermapbox\":[{\"marker\":{\"colorbar\":{\"outlinewidth\":0,\"ticks\":\"\"}},\"type\":\"scattermapbox\"}],\"scatterpolar\":[{\"marker\":{\"colorbar\":{\"outlinewidth\":0,\"ticks\":\"\"}},\"type\":\"scatterpolar\"}],\"scatterpolargl\":[{\"marker\":{\"colorbar\":{\"outlinewidth\":0,\"ticks\":\"\"}},\"type\":\"scatterpolargl\"}],\"scatterternary\":[{\"marker\":{\"colorbar\":{\"outlinewidth\":0,\"ticks\":\"\"}},\"type\":\"scatterternary\"}],\"surface\":[{\"colorbar\":{\"outlinewidth\":0,\"ticks\":\"\"},\"colorscale\":[[0.0,\"#0d0887\"],[0.1111111111111111,\"#46039f\"],[0.2222222222222222,\"#7201a8\"],[0.3333333333333333,\"#9c179e\"],[0.4444444444444444,\"#bd3786\"],[0.5555555555555556,\"#d8576b\"],[0.6666666666666666,\"#ed7953\"],[0.7777777777777778,\"#fb9f3a\"],[0.8888888888888888,\"#fdca26\"],[1.0,\"#f0f921\"]],\"type\":\"surface\"}],\"table\":[{\"cells\":{\"fill\":{\"color\":\"#EBF0F8\"},\"line\":{\"color\":\"white\"}},\"header\":{\"fill\":{\"color\":\"#C8D4E3\"},\"line\":{\"color\":\"white\"}},\"type\":\"table\"}]},\"layout\":{\"annotationdefaults\":{\"arrowcolor\":\"#2a3f5f\",\"arrowhead\":0,\"arrowwidth\":1},\"autotypenumbers\":\"strict\",\"coloraxis\":{\"colorbar\":{\"outlinewidth\":0,\"ticks\":\"\"}},\"colorscale\":{\"diverging\":[[0,\"#8e0152\"],[0.1,\"#c51b7d\"],[0.2,\"#de77ae\"],[0.3,\"#f1b6da\"],[0.4,\"#fde0ef\"],[0.5,\"#f7f7f7\"],[0.6,\"#e6f5d0\"],[0.7,\"#b8e186\"],[0.8,\"#7fbc41\"],[0.9,\"#4d9221\"],[1,\"#276419\"]],\"sequential\":[[0.0,\"#0d0887\"],[0.1111111111111111,\"#46039f\"],[0.2222222222222222,\"#7201a8\"],[0.3333333333333333,\"#9c179e\"],[0.4444444444444444,\"#bd3786\"],[0.5555555555555556,\"#d8576b\"],[0.6666666666666666,\"#ed7953\"],[0.7777777777777778,\"#fb9f3a\"],[0.8888888888888888,\"#fdca26\"],[1.0,\"#f0f921\"]],\"sequentialminus\":[[0.0,\"#0d0887\"],[0.1111111111111111,\"#46039f\"],[0.2222222222222222,\"#7201a8\"],[0.3333333333333333,\"#9c179e\"],[0.4444444444444444,\"#bd3786\"],[0.5555555555555556,\"#d8576b\"],[0.6666666666666666,\"#ed7953\"],[0.7777777777777778,\"#fb9f3a\"],[0.8888888888888888,\"#fdca26\"],[1.0,\"#f0f921\"]]},\"colorway\":[\"#636efa\",\"#EF553B\",\"#00cc96\",\"#ab63fa\",\"#FFA15A\",\"#19d3f3\",\"#FF6692\",\"#B6E880\",\"#FF97FF\",\"#FECB52\"],\"font\":{\"color\":\"#2a3f5f\"},\"geo\":{\"bgcolor\":\"white\",\"lakecolor\":\"white\",\"landcolor\":\"#E5ECF6\",\"showlakes\":true,\"showland\":true,\"subunitcolor\":\"white\"},\"hoverlabel\":{\"align\":\"left\"},\"hovermode\":\"closest\",\"mapbox\":{\"style\":\"light\"},\"paper_bgcolor\":\"white\",\"plot_bgcolor\":\"#E5ECF6\",\"polar\":{\"angularaxis\":{\"gridcolor\":\"white\",\"linecolor\":\"white\",\"ticks\":\"\"},\"bgcolor\":\"#E5ECF6\",\"radialaxis\":{\"gridcolor\":\"white\",\"linecolor\":\"white\",\"ticks\":\"\"}},\"scene\":{\"xaxis\":{\"backgroundcolor\":\"#E5ECF6\",\"gridcolor\":\"white\",\"gridwidth\":2,\"linecolor\":\"white\",\"showbackground\":true,\"ticks\":\"\",\"zerolinecolor\":\"white\"},\"yaxis\":{\"backgroundcolor\":\"#E5ECF6\",\"gridcolor\":\"white\",\"gridwidth\":2,\"linecolor\":\"white\",\"showbackground\":true,\"ticks\":\"\",\"zerolinecolor\":\"white\"},\"zaxis\":{\"backgroundcolor\":\"#E5ECF6\",\"gridcolor\":\"white\",\"gridwidth\":2,\"linecolor\":\"white\",\"showbackground\":true,\"ticks\":\"\",\"zerolinecolor\":\"white\"}},\"shapedefaults\":{\"line\":{\"color\":\"#2a3f5f\"}},\"ternary\":{\"aaxis\":{\"gridcolor\":\"white\",\"linecolor\":\"white\",\"ticks\":\"\"},\"baxis\":{\"gridcolor\":\"white\",\"linecolor\":\"white\",\"ticks\":\"\"},\"bgcolor\":\"#E5ECF6\",\"caxis\":{\"gridcolor\":\"white\",\"linecolor\":\"white\",\"ticks\":\"\"}},\"title\":{\"x\":0.05},\"xaxis\":{\"automargin\":true,\"gridcolor\":\"white\",\"linecolor\":\"white\",\"ticks\":\"\",\"title\":{\"standoff\":15},\"zerolinecolor\":\"white\",\"zerolinewidth\":2},\"yaxis\":{\"automargin\":true,\"gridcolor\":\"white\",\"linecolor\":\"white\",\"ticks\":\"\",\"title\":{\"standoff\":15},\"zerolinecolor\":\"white\",\"zerolinewidth\":2}}},\"xaxis\":{\"anchor\":\"y\",\"domain\":[0.0,1.0],\"title\":{\"text\":\"value\"}},\"yaxis\":{\"anchor\":\"x\",\"domain\":[0.0,1.0],\"title\":{\"text\":\"count\"}}},                        {\"responsive\": true}                    ).then(function(){\n",
              "                            \n",
              "var gd = document.getElementById('07fcf1a7-d851-4152-afa4-eb5062e31185');\n",
              "var x = new MutationObserver(function (mutations, observer) {{\n",
              "        var display = window.getComputedStyle(gd).display;\n",
              "        if (!display || display === 'none') {{\n",
              "            console.log([gd, 'removed!']);\n",
              "            Plotly.purge(gd);\n",
              "            observer.disconnect();\n",
              "        }}\n",
              "}});\n",
              "\n",
              "// Listen for the removal of the full notebook cells\n",
              "var notebookContainer = gd.closest('#notebook-container');\n",
              "if (notebookContainer) {{\n",
              "    x.observe(notebookContainer, {childList: true});\n",
              "}}\n",
              "\n",
              "// Listen for the clearing of the current output cell\n",
              "var outputEl = gd.closest('.output');\n",
              "if (outputEl) {{\n",
              "    x.observe(outputEl, {childList: true});\n",
              "}}\n",
              "\n",
              "                        })                };                            </script>        </div>\n",
              "</body>\n",
              "</html>"
            ]
          },
          "metadata": {}
        }
      ]
    },
    {
      "cell_type": "code",
      "metadata": {
        "id": "wPCioXnFEUqW"
      },
      "source": [
        ""
      ],
      "id": "wPCioXnFEUqW",
      "execution_count": null,
      "outputs": []
    },
    {
      "cell_type": "markdown",
      "metadata": {
        "id": "6dfee1eb"
      },
      "source": [
        "###  Quantas pessoas candidatas no estado de Pernambuco seriam mais novas do que você "
      ],
      "id": "6dfee1eb"
    },
    {
      "cell_type": "code",
      "metadata": {
        "colab": {
          "base_uri": "https://localhost:8080/"
        },
        "id": "af79eec9",
        "outputId": "ca662f63-7fb8-416e-eae3-e8b41a205b27"
      },
      "source": [
        "qnt_candidaturas_mais_jovens = df.NR_IDADE_DATA_POSSE[df.NR_IDADE_DATA_POSSE < 57].sum()\n",
        "print(qnt_candidaturas_mais_jovens)"
      ],
      "id": "af79eec9",
      "execution_count": null,
      "outputs": [
        {
          "output_type": "stream",
          "name": "stdout",
          "text": [
            "736220\n"
          ]
        }
      ]
    },
    {
      "cell_type": "markdown",
      "metadata": {
        "id": "68ce6ce5"
      },
      "source": [
        "### Quantos porcentos isso representa em relação ao total de pessoas candidatas."
      ],
      "id": "68ce6ce5"
    },
    {
      "cell_type": "code",
      "metadata": {
        "colab": {
          "base_uri": "https://localhost:8080/"
        },
        "id": "336e0593",
        "outputId": "6f6702e0-628f-4672-802a-33417f851a6f"
      },
      "source": [
        "total = df.NR_IDADE_DATA_POSSE.sum()\n",
        "print(total)"
      ],
      "id": "336e0593",
      "execution_count": null,
      "outputs": [
        {
          "output_type": "stream",
          "name": "stdout",
          "text": [
            "946137\n"
          ]
        }
      ]
    },
    {
      "cell_type": "code",
      "metadata": {
        "id": "789WYLt3KK0y"
      },
      "source": [
        "percentual = (qnt_candidaturas_mais_jovens * 100)/ total\n"
      ],
      "id": "789WYLt3KK0y",
      "execution_count": null,
      "outputs": []
    },
    {
      "cell_type": "code",
      "metadata": {
        "colab": {
          "base_uri": "https://localhost:8080/"
        },
        "id": "6ITAG8WkNZx2",
        "outputId": "bb51d136-5a3a-466d-feeb-3eb6b1887837"
      },
      "source": [
        "percentual"
      ],
      "id": "6ITAG8WkNZx2",
      "execution_count": null,
      "outputs": [
        {
          "output_type": "execute_result",
          "data": {
            "text/plain": [
              "77.8132553742217"
            ]
          },
          "metadata": {},
          "execution_count": 44
        }
      ]
    },
    {
      "cell_type": "markdown",
      "metadata": {
        "id": "NS6xe68qNuVe"
      },
      "source": [
        "77,81%  dos candidatos eram mais jovens que EU. #CHOCADA\n"
      ],
      "id": "NS6xe68qNuVe"
    },
    {
      "cell_type": "code",
      "metadata": {
        "id": "qw58oiIuNcAg"
      },
      "source": [
        ""
      ],
      "id": "qw58oiIuNcAg",
      "execution_count": null,
      "outputs": []
    }
  ]
}