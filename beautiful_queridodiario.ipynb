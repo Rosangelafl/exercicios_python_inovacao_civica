{
  "nbformat": 4,
  "nbformat_minor": 0,
  "metadata": {
    "colab": {
      "name": "beautiful_queridodiario.ipynb",
      "provenance": [],
      "collapsed_sections": [],
      "authorship_tag": "ABX9TyOnnvpv24oMUiHpebcvpqpK",
      "include_colab_link": true
    },
    "kernelspec": {
      "name": "python3",
      "display_name": "Python 3"
    },
    "language_info": {
      "name": "python"
    }
  },
  "cells": [
    {
      "cell_type": "markdown",
      "metadata": {
        "id": "view-in-github",
        "colab_type": "text"
      },
      "source": [
        "<a href=\"https://colab.research.google.com/github/Rosangelafl/exercicios_python_inovacao_civica/blob/main/beautiful_queridodiario.ipynb\" target=\"_parent\"><img src=\"https://colab.research.google.com/assets/colab-badge.svg\" alt=\"Open In Colab\"/></a>"
      ]
    },
    {
      "cell_type": "code",
      "metadata": {
        "colab": {
          "base_uri": "https://localhost:8080/"
        },
        "id": "stjlrFh43DI3",
        "outputId": "eb61af62-d130-497a-bc87-0afab4a761e3"
      },
      "source": [
        "from google.colab import drive\n",
        "drive.mount('/content/drive')"
      ],
      "execution_count": 13,
      "outputs": [
        {
          "output_type": "stream",
          "name": "stdout",
          "text": [
            "Drive already mounted at /content/drive; to attempt to forcibly remount, call drive.mount(\"/content/drive\", force_remount=True).\n"
          ]
        }
      ]
    },
    {
      "cell_type": "code",
      "metadata": {
        "colab": {
          "base_uri": "https://localhost:8080/"
        },
        "id": "yl6LwjF03VMa",
        "outputId": "4c9b795c-be07-4018-c7ed-52efab10941e"
      },
      "source": [
        "!pip install beautifulsoup4"
      ],
      "execution_count": 14,
      "outputs": [
        {
          "output_type": "stream",
          "name": "stdout",
          "text": [
            "Requirement already satisfied: beautifulsoup4 in /usr/local/lib/python3.7/dist-packages (4.6.3)\n"
          ]
        }
      ]
    },
    {
      "cell_type": "code",
      "metadata": {
        "colab": {
          "base_uri": "https://localhost:8080/"
        },
        "id": "U5vnXwRP3mKP",
        "outputId": "1e3b1516-e70a-4057-d4d3-c499685ed614"
      },
      "source": [
        "!pip install requests"
      ],
      "execution_count": 15,
      "outputs": [
        {
          "output_type": "stream",
          "name": "stdout",
          "text": [
            "Requirement already satisfied: requests in /usr/local/lib/python3.7/dist-packages (2.23.0)\n",
            "Requirement already satisfied: idna<3,>=2.5 in /usr/local/lib/python3.7/dist-packages (from requests) (2.10)\n",
            "Requirement already satisfied: urllib3!=1.25.0,!=1.25.1,<1.26,>=1.21.1 in /usr/local/lib/python3.7/dist-packages (from requests) (1.24.3)\n",
            "Requirement already satisfied: chardet<4,>=3.0.2 in /usr/local/lib/python3.7/dist-packages (from requests) (3.0.4)\n",
            "Requirement already satisfied: certifi>=2017.4.17 in /usr/local/lib/python3.7/dist-packages (from requests) (2021.5.30)\n"
          ]
        }
      ]
    },
    {
      "cell_type": "code",
      "metadata": {
        "id": "5mnDwUgT4SEF"
      },
      "source": [
        "import re\n",
        "import datetime\n",
        "import json\n",
        "import requests\n",
        "from bs4 import BeautifulSoup"
      ],
      "execution_count": 17,
      "outputs": []
    },
    {
      "cell_type": "code",
      "metadata": {
        "id": "GNHqJ_7F6-ts"
      },
      "source": [
        "start_page = requests.get('http://www.procedebahia.com.br/ba/caetite/edicoes')"
      ],
      "execution_count": 18,
      "outputs": []
    },
    {
      "cell_type": "code",
      "metadata": {
        "colab": {
          "base_uri": "https://localhost:8080/"
        },
        "id": "3YiKCAfk7ies",
        "outputId": "602f8494-de94-4112-94d9-297e57e2f742"
      },
      "source": [
        "start_page"
      ],
      "execution_count": 19,
      "outputs": [
        {
          "output_type": "execute_result",
          "data": {
            "text/plain": [
              "<Response [200]>"
            ]
          },
          "metadata": {},
          "execution_count": 19
        }
      ]
    },
    {
      "cell_type": "code",
      "metadata": {
        "id": "sbRnepZe7l-U"
      },
      "source": [
        "soup= BeautifulSoup(start_page.content, 'html.parser')"
      ],
      "execution_count": 20,
      "outputs": []
    },
    {
      "cell_type": "code",
      "metadata": {
        "id": "NwLuhnVW8Ndf"
      },
      "source": [
        "editions = soup.find(id ='edicoes').find_all('ul')"
      ],
      "execution_count": 21,
      "outputs": []
    },
    {
      "cell_type": "code",
      "metadata": {
        "id": "0TWpgVhL8zoO"
      },
      "source": [
        "outputs = []\n",
        "for edition in editions[1:]:\n",
        "\tlink = edition.find_all('li')[1].find('a')['href']\n",
        "\ttitle = edition.find_all('li')[1].text\n",
        "\tedition_number = re.search(r'Edição Nº. (\\d+)', title).group(1)\n",
        "\tdate_text = edition.find_all('li')[0].find('a').text.strip()\n",
        "\tdate = datetime.datetime.strptime(date_text, \"%d/%m/%Y\").date()\n",
        "\titem = {'date': str(date), \n",
        "         'edition_number': edition_number,\n",
        "         'file_urls':[link],\n",
        "         'power': 'executive',\n",
        "         }\n",
        "\n",
        "outputs.append(item)\n",
        "          \n"
      ],
      "execution_count": 22,
      "outputs": []
    },
    {
      "cell_type": "code",
      "metadata": {
        "id": "iaT1SnsTAAxa"
      },
      "source": [
        "with open('output.json', 'w') as jsonfile:\n",
        "    json.dump(outputs, jsonfile)"
      ],
      "execution_count": 23,
      "outputs": []
    },
    {
      "cell_type": "code",
      "metadata": {
        "colab": {
          "base_uri": "https://localhost:8080/"
        },
        "id": "d9HG69ikByY_",
        "outputId": "b1bd46d6-6d34-485d-fe38-9e13a3be7de2"
      },
      "source": [
        "outputs"
      ],
      "execution_count": 24,
      "outputs": [
        {
          "output_type": "execute_result",
          "data": {
            "text/plain": [
              "[{'date': '2021-04-09',\n",
              "  'edition_number': '1045',\n",
              "  'file_urls': ['http://www.procedebahia.com.br/ba/../caetite/publicacoes/Diario Oficial - PREFEITURA MUNICIPAL DE CAETITE - Ed 1045.pdf'],\n",
              "  'power': 'executive'}]"
            ]
          },
          "metadata": {},
          "execution_count": 24
        }
      ]
    },
    {
      "cell_type": "code",
      "metadata": {
        "id": "KkuOwAhQB7t-"
      },
      "source": [
        ""
      ],
      "execution_count": 24,
      "outputs": []
    },
    {
      "cell_type": "code",
      "metadata": {
        "id": "COKNG4qSEk5l"
      },
      "source": [
        ""
      ],
      "execution_count": 24,
      "outputs": []
    }
  ]
}