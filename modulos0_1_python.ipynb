{
  "nbformat": 4,
  "nbformat_minor": 0,
  "metadata": {
    "colab": {
      "name": "modulos0_1_python.ipynb",
      "provenance": [],
      "collapsed_sections": []
    },
    "kernelspec": {
      "name": "python3",
      "display_name": "Python 3"
    },
    "language_info": {
      "name": "python"
    }
  },
  "cells": [
    {
      "cell_type": "markdown",
      "metadata": {
        "id": "9rMLcX9QpYEY"
      },
      "source": [
        "## Resolvendo o desafio da semana 0"
      ]
    },
    {
      "cell_type": "code",
      "metadata": {
        "colab": {
          "base_uri": "https://localhost:8080/"
        },
        "id": "yj-H8HuWT2ts",
        "outputId": "b14ee59c-b961-4858-c344-820b7ff68c4e"
      },
      "source": [
        "num1 = int(input('Digite o 1º número: '))\n",
        "num2 = int(input('Digite o 2º número: '))\n",
        "num3 = int(input('Digite o 3º número: '))\n",
        "\n",
        "soma = num1 + num2 + num3 \n",
        "\n",
        "print(f'Entrada: {num1}, {num2}, {num3}')\n",
        "print(f'Processamento: {num1} + {num2} + {num3}')\n",
        "print(f'Saída:{soma}')"
      ],
      "execution_count": null,
      "outputs": [
        {
          "output_type": "stream",
          "text": [
            "Digite o 1º número: 10\n",
            "Digite o 2º número: 15\n",
            "Digite o 3º número: 30\n",
            "Entrada: 10, 15, 30\n",
            "Processamento: 10 + 15 + 30\n",
            "Saída:55\n"
          ],
          "name": "stdout"
        }
      ]
    },
    {
      "cell_type": "markdown",
      "metadata": {
        "id": "HL3bkR6MaNFA"
      },
      "source": [
        "## Módulo 1, aula 3 Estrutura condicional"
      ]
    },
    {
      "cell_type": "code",
      "metadata": {
        "id": "Z2jZgT1r-m7z"
      },
      "source": [
        "sg_partido = ['PSOL']"
      ],
      "execution_count": 3,
      "outputs": []
    },
    {
      "cell_type": "code",
      "metadata": {
        "id": "Vs-ttWf9_Tww"
      },
      "source": [
        "sg_partido_letra_p = []\n",
        "sg_partido_letra_nao_definida = []"
      ],
      "execution_count": 4,
      "outputs": []
    },
    {
      "cell_type": "code",
      "metadata": {
        "id": "_MLkUHdM_9b5"
      },
      "source": [
        "# os itens de uma string também podem ser identificados através do índice\n",
        "if sg_partido[0][0] == 'P': # nessa linha estamos identificando o 1º item da lista e o 1º letra da palavra\n",
        "    sg_partido_letra_p.append(sg_partido[0])    \n",
        "else:\n",
        "    sg_partido_letra_nao_definida.append(sg_partido[0])\n"
      ],
      "execution_count": 5,
      "outputs": []
    },
    {
      "cell_type": "code",
      "metadata": {
        "colab": {
          "base_uri": "https://localhost:8080/"
        },
        "id": "ZE3jkOW1ASUf",
        "outputId": "86f30cb1-2ed9-406d-e0ae-57714966e8da"
      },
      "source": [
        "print(f'Os partidos cujas as siglas iniciam com a letra P são: {sg_partido_letra_p}.')\n",
        "print(f'Os partidos cujas as siglas não iniciam com a letra P são: {sg_partido_letra_nao_definida}.')"
      ],
      "execution_count": 6,
      "outputs": [
        {
          "output_type": "stream",
          "text": [
            "Os partidos cujas as siglas iniciam com a letra P são: ['PSOL'].\n",
            "Os partidos cujas as siglas não iniciam com a letra P são: [].\n"
          ],
          "name": "stdout"
        }
      ]
    },
    {
      "cell_type": "markdown",
      "metadata": {
        "id": "Ti5G9hLveUrB"
      },
      "source": [
        "# Estrutura de controle - dicionários"
      ]
    },
    {
      "cell_type": "code",
      "metadata": {
        "id": "CKPTh6A0FpV5"
      },
      "source": [
        "candidatura = {'DT_GERACAO': '22/05/2021',\n",
        "  'HH_GERACAO': '12:18:46',\n",
        "  'ANO_ELEICAO': 2020,\n",
        "  'CD_TIPO_ELEICAO': 2,\n",
        "  'NM_TIPO_ELEICAO': 'ELEIÇÃO ORDINÁRIA',\n",
        "  'NR_TURNO': 1,\n",
        "  'CD_ELEICAO': 426,\n",
        "  'DS_ELEICAO': 'Eleições Municipais 2020',\n",
        "  'DT_ELEICAO': '15/11/2020',\n",
        "  'TP_ABRANGENCIA': 'MUNICIPAL',\n",
        "  'SG_UF': 'PE',\n",
        "  'SG_UE': 25216,\n",
        "  'NM_UE': 'PETROLINA',\n",
        "  'CD_CARGO': 13,\n",
        "  'DS_CARGO': 'VEREADOR',\n",
        "  'SQ_CANDIDATO': 170000824939,\n",
        "  'NR_CANDIDATO': 25100,\n",
        "  'NM_CANDIDATO': 'DANIELA TAMARA SANTOS SILVA',\n",
        "  'NM_URNA_CANDIDATO': 'DANI PLUS',\n",
        "  'NM_SOCIAL_CANDIDATO': '#NULO#',\n",
        "  'NR_CPF_CANDIDATO': 4670632493,\n",
        "  'NM_EMAIL': 'DANIELE.SEDESDH@GMAIL.COM',\n",
        "  'CD_SITUACAO_CANDIDATURA': 12,\n",
        "  'DS_SITUACAO_CANDIDATURA': 'APTO',\n",
        "  'CD_DETALHE_SITUACAO_CAND': 2,\n",
        "  'DS_DETALHE_SITUACAO_CAND': 'DEFERIDO',\n",
        "  'TP_AGREMIACAO': 'PARTIDO ISOLADO',\n",
        "  'NR_PARTIDO': 25,\n",
        "  'SG_PARTIDO': 'DEM',\n",
        "  'NM_PARTIDO': 'DEMOCRATAS',\n",
        "  'SQ_COLIGACAO': 170000086526,\n",
        "  'NM_COLIGACAO': 'PARTIDO ISOLADO',\n",
        "  'DS_COMPOSICAO_COLIGACAO': 'DEM',\n",
        "  'CD_NACIONALIDADE': 1,\n",
        "  'DS_NACIONALIDADE': 'BRASILEIRA NATA',\n",
        "  'SG_UF_NASCIMENTO': 'BA',\n",
        "  'CD_MUNICIPIO_NASCIMENTO': -3,\n",
        "  'NM_MUNICIPIO_NASCIMENTO': 'JUAZEIRO',\n",
        "  'DT_NASCIMENTO': '01/05/1981',\n",
        "  'NR_IDADE_DATA_POSSE': 39,\n",
        "  'NR_TITULO_ELEITORAL_CANDIDATO': 53652250884,\n",
        "  'CD_GENERO': 4,\n",
        "  'DS_GENERO': 'FEMININO',\n",
        "  'CD_GRAU_INSTRUCAO': 7,\n",
        "  'DS_GRAU_INSTRUCAO': 'SUPERIOR INCOMPLETO',\n",
        "  'CD_ESTADO_CIVIL': 1,\n",
        "  'DS_ESTADO_CIVIL': 'SOLTEIRO(A)',\n",
        "  'CD_COR_RACA': 2,\n",
        "  'DS_COR_RACA': 'PRETA',\n",
        "  'CD_OCUPACAO': 931,\n",
        "  'DS_OCUPACAO': 'ESTUDANTE, BOLSISTA, ESTAGIÁRIO E ASSEMELHADOS',\n",
        "  'VR_DESPESA_MAX_CAMPANHA': 131218.52,\n",
        "  'CD_SIT_TOT_TURNO': 5,\n",
        "  'DS_SIT_TOT_TURNO': 'SUPLENTE',\n",
        "  'ST_REELEICAO': 'N',\n",
        "  'ST_DECLARAR_BENS': 'N',\n",
        "  'NR_PROTOCOLO_CANDIDATURA': -1,\n",
        "  'NR_PROCESSO': 6002695420206170083,\n",
        "  'CD_SITUACAO_CANDIDATO_PLEITO': 2,\n",
        "  'DS_SITUACAO_CANDIDATO_PLEITO': 'DEFERIDO',\n",
        "  'CD_SITUACAO_CANDIDATO_URNA': 2,\n",
        "  'DS_SITUACAO_CANDIDATO_URNA': 'DEFERIDO',\n",
        "  'ST_CANDIDATO_INSERIDO_URNA': 'SIM'}"
      ],
      "execution_count": 7,
      "outputs": []
    },
    {
      "cell_type": "code",
      "metadata": {
        "id": "5DL6YMkgA6U9"
      },
      "source": [
        "#estabelecendo faixas etárias co listas vazias\n",
        "anos_18_24 = []\n",
        "anos_25_34 = []\n",
        "anos_35_44 = []\n",
        "anos_45_54 = []\n",
        "anos_55_64 = []\n",
        "anos_acima_64 = []"
      ],
      "execution_count": 8,
      "outputs": []
    },
    {
      "cell_type": "code",
      "metadata": {
        "id": "gJ2wy5y_F1F-"
      },
      "source": [
        "# Expressão condicional\n",
        "\n",
        "if candidatura['NR_IDADE_DATA_POSSE'] >= 18 and candidatura['NR_IDADE_DATA_POSSE'] <= 24:\n",
        "    anos_18_24.append(candidatura['NM_CANDIDATO'])\n",
        "elif candidatura['NR_IDADE_DATA_POSSE'] >= 25 and candidatura['NR_IDADE_DATA_POSSE'] <= 34:\n",
        "    anos_25_34.append(candidatura['NM_CANDIDATO'])\n",
        "elif candidatura['NR_IDADE_DATA_POSSE'] >= 35 and candidatura['NR_IDADE_DATA_POSSE'] <= 44:\n",
        "    anos_35_44.append(candidatura['NM_CANDIDATO'])\n",
        "elif candidatura['NR_IDADE_DATA_POSSE'] >= 45 and candidatura['NR_IDADE_DATA_POSSE'] <= 54:\n",
        "    anos_45_54.append(candidatura['NM_CANDIDATO'])\n",
        "elif candidatura['NR_IDADE_DATA_POSSE'] >= 55 and candidatura['NR_IDADE_DATA_POSSE'] <= 64:\n",
        "    anos_55_64.append(candidatura['NM_CANDIDATO'])\n",
        "else:\n",
        "    anos_acima_64.append(candidatura['NM_CANDIDATO'])"
      ],
      "execution_count": 9,
      "outputs": []
    },
    {
      "cell_type": "code",
      "metadata": {
        "colab": {
          "base_uri": "https://localhost:8080/"
        },
        "id": "XufGKG_rF_zm",
        "outputId": "d13e1834-3770-44b0-cc59-314efe46be78"
      },
      "source": [
        "print(f'Candidaturas por faixa etária:')\n",
        "print(f'18-24 anos: {anos_18_24}')\n",
        "print(f'25-34 anos: {anos_25_34}')\n",
        "print(f'35-44 anos: {anos_35_44}')\n",
        "print(f'45-54 anos: {anos_45_54}')\n",
        "print(f'55-64 anos: {anos_55_64}')\n",
        "print(f'acima 64 anos: {anos_acima_64}')"
      ],
      "execution_count": 10,
      "outputs": [
        {
          "output_type": "stream",
          "text": [
            "Candidaturas por faixa etária:\n",
            "18-24 anos: []\n",
            "25-34 anos: []\n",
            "35-44 anos: ['DANIELA TAMARA SANTOS SILVA']\n",
            "45-54 anos: []\n",
            "55-64 anos: []\n",
            "acima 64 anos: []\n"
          ],
          "name": "stdout"
        }
      ]
    },
    {
      "cell_type": "markdown",
      "metadata": {
        "id": "dTos6yEdGSLx"
      },
      "source": [
        "# Modulo 1, aula 4: Estrutura de controle: interação\n",
        "Repetiremos o exercício da aula anterior, dessa vez complementando o código usando a estrutura de controle do tipo interação (for). Desse modo poderemos classificar vários elementos de uma lista ou dicionário.\n",
        "\n",
        "Nesse primeiro exemplo, classificaremos os itens da lista em um dos seguintes grupos:\n",
        "\n",
        "Partidos que suas siglas iniciem com a letra P\n",
        "Partidos que iniciem com outra letra"
      ]
    },
    {
      "cell_type": "markdown",
      "metadata": {
        "id": "s6dMhsn3KDvX"
      },
      "source": [
        "##### Estrutura do range"
      ]
    },
    {
      "cell_type": "code",
      "metadata": {
        "colab": {
          "base_uri": "https://localhost:8080/"
        },
        "id": "ZCzGjr6zGAN0",
        "outputId": "87fae732-4e96-48b9-b5f5-a7b743e983fc"
      },
      "source": [
        "#range(início, fim, passo)\n",
        "list(range(9))"
      ],
      "execution_count": 11,
      "outputs": [
        {
          "output_type": "execute_result",
          "data": {
            "text/plain": [
              "[0, 1, 2, 3, 4, 5, 6, 7, 8]"
            ]
          },
          "metadata": {
            "tags": []
          },
          "execution_count": 11
        }
      ]
    },
    {
      "cell_type": "code",
      "metadata": {
        "colab": {
          "base_uri": "https://localhost:8080/"
        },
        "id": "wgjxUdgyGAT9",
        "outputId": "70994f4b-ef80-4c28-f1b3-9830bd38b35d"
      },
      "source": [
        "list(range(4,9,2))"
      ],
      "execution_count": 12,
      "outputs": [
        {
          "output_type": "execute_result",
          "data": {
            "text/plain": [
              "[4, 6, 8]"
            ]
          },
          "metadata": {
            "tags": []
          },
          "execution_count": 12
        }
      ]
    },
    {
      "cell_type": "markdown",
      "metadata": {
        "id": "ppeMpDW0L1qz"
      },
      "source": [
        "![for and else.jpg](data:image/jpeg;base64,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)"
      ]
    },
    {
      "cell_type": "code",
      "metadata": {
        "id": "Zz8NlHyKF_-2"
      },
      "source": [
        "sg_partido = ['DEM', 'DC', 'PTB', 'REPUBLICANOS', 'PSL', 'PC do B', 'PTC',\n",
        "       'CIDADANIA', 'PSOL', 'MDB', 'PT', 'PSB', 'AVANTE', 'PATRIOTA',\n",
        "       'PSD', 'PDT', 'PRTB', 'PL', 'REDE', 'PODE', 'PSDB', 'PMN', 'PP',\n",
        "       'PSC', 'SOLIDARIEDADE', 'PROS', 'PV', 'PCB', 'PMB', 'UP', 'NOVO',\n",
        "       'PCO', 'PSTU']"
      ],
      "execution_count": 13,
      "outputs": []
    },
    {
      "cell_type": "code",
      "metadata": {
        "id": "X9xnihMjGfX5"
      },
      "source": [
        "sg_partido_letra_p = []\n",
        "sg_partido_letra_nao_definida = []"
      ],
      "execution_count": null,
      "outputs": []
    },
    {
      "cell_type": "code",
      "metadata": {
        "colab": {
          "base_uri": "https://localhost:8080/"
        },
        "id": "NoT-VmSbGo3_",
        "outputId": "73f5c81e-9753-4b35-a535-20f75932dc0d"
      },
      "source": [
        "for sigla in sg_partido:\n",
        "\n",
        "    if sigla[0] == 'P':\n",
        "        sg_partido_letra_p.append(sigla)    \n",
        "    else:\n",
        "        sg_partido_letra_nao_definida.append(sigla)\n",
        "else:\n",
        "    print('Atividade concluída')"
      ],
      "execution_count": 15,
      "outputs": [
        {
          "output_type": "stream",
          "text": [
            "Atividade concluída\n"
          ],
          "name": "stdout"
        }
      ]
    },
    {
      "cell_type": "code",
      "metadata": {
        "colab": {
          "base_uri": "https://localhost:8080/"
        },
        "id": "fj7rCB2hGADq",
        "outputId": "575d206b-46f3-4e6a-f7ee-15f1b0abcc82"
      },
      "source": [
        "print(f'Os partidos cujas as siglas iniciam com a letra P são: {sg_partido_letra_p}.')"
      ],
      "execution_count": 16,
      "outputs": [
        {
          "output_type": "stream",
          "text": [
            "Os partidos cujas as siglas iniciam com a letra P são: ['PSOL', 'PTB', 'PSL', 'PC do B', 'PTC', 'PSOL', 'PT', 'PSB', 'PATRIOTA', 'PSD', 'PDT', 'PRTB', 'PL', 'PODE', 'PSDB', 'PMN', 'PP', 'PSC', 'PROS', 'PV', 'PCB', 'PMB', 'PCO', 'PSTU'].\n"
          ],
          "name": "stdout"
        }
      ]
    },
    {
      "cell_type": "code",
      "metadata": {
        "colab": {
          "base_uri": "https://localhost:8080/"
        },
        "id": "xllwzJ09GAJb",
        "outputId": "f07eaab8-0033-4731-c1b0-d5c82aba3233"
      },
      "source": [
        "print(f'Os partidos cujas as siglas não iniciam com a letra P são: {sg_partido_letra_nao_definida}.')"
      ],
      "execution_count": 17,
      "outputs": [
        {
          "output_type": "stream",
          "text": [
            "Os partidos cujas as siglas não iniciam com a letra P são: ['DEM', 'DC', 'REPUBLICANOS', 'CIDADANIA', 'MDB', 'AVANTE', 'REDE', 'SOLIDARIEDADE', 'UP', 'NOVO'].\n"
          ],
          "name": "stdout"
        }
      ]
    },
    {
      "cell_type": "markdown",
      "metadata": {
        "id": "aMOe6QB5NazM"
      },
      "source": [
        "Nesse segundo exemplo, classificaremos os itens do dicionário em um dos seguintes grupos:\n",
        "\n",
        "18-24 anos\n",
        "\n",
        "25-34 anos\n",
        "\n",
        "35-44 anos\n",
        "\n",
        "45-54 anos\n",
        "\n",
        "55-64 anos\n",
        "\n",
        "acima 64 anos"
      ]
    },
    {
      "cell_type": "code",
      "metadata": {
        "id": "GllhFqVyGAXp"
      },
      "source": [
        "candidaturas = [{'DT_GERACAO': '22/05/2021',\n",
        "  'HH_GERACAO': '12:18:46',\n",
        "  'ANO_ELEICAO': 2020,\n",
        "  'CD_TIPO_ELEICAO': 2,\n",
        "  'NM_TIPO_ELEICAO': 'ELEIÇÃO ORDINÁRIA',\n",
        "  'NR_TURNO': 1,\n",
        "  'CD_ELEICAO': 426,\n",
        "  'DS_ELEICAO': 'Eleições Municipais 2020',\n",
        "  'DT_ELEICAO': '15/11/2020',\n",
        "  'TP_ABRANGENCIA': 'MUNICIPAL',\n",
        "  'SG_UF': 'PE',\n",
        "  'SG_UE': 25216,\n",
        "  'NM_UE': 'PETROLINA',\n",
        "  'CD_CARGO': 13,\n",
        "  'DS_CARGO': 'VEREADOR',\n",
        "  'SQ_CANDIDATO': 170000824939,\n",
        "  'NR_CANDIDATO': 25100,\n",
        "  'NM_CANDIDATO': 'DANIELA TAMARA SANTOS SILVA',\n",
        "  'NM_URNA_CANDIDATO': 'DANI PLUS',\n",
        "  'NM_SOCIAL_CANDIDATO': '#NULO#',\n",
        "  'NR_CPF_CANDIDATO': 4670632493,\n",
        "  'NM_EMAIL': 'DANIELE.SEDESDH@GMAIL.COM',\n",
        "  'CD_SITUACAO_CANDIDATURA': 12,\n",
        "  'DS_SITUACAO_CANDIDATURA': 'APTO',\n",
        "  'CD_DETALHE_SITUACAO_CAND': 2,\n",
        "  'DS_DETALHE_SITUACAO_CAND': 'DEFERIDO',\n",
        "  'TP_AGREMIACAO': 'PARTIDO ISOLADO',\n",
        "  'NR_PARTIDO': 25,\n",
        "  'SG_PARTIDO': 'DEM',\n",
        "  'NM_PARTIDO': 'DEMOCRATAS',\n",
        "  'SQ_COLIGACAO': 170000086526,\n",
        "  'NM_COLIGACAO': 'PARTIDO ISOLADO',\n",
        "  'DS_COMPOSICAO_COLIGACAO': 'DEM',\n",
        "  'CD_NACIONALIDADE': 1,\n",
        "  'DS_NACIONALIDADE': 'BRASILEIRA NATA',\n",
        "  'SG_UF_NASCIMENTO': 'BA',\n",
        "  'CD_MUNICIPIO_NASCIMENTO': -3,\n",
        "  'NM_MUNICIPIO_NASCIMENTO': 'JUAZEIRO',\n",
        "  'DT_NASCIMENTO': '01/05/1981',\n",
        "  'NR_IDADE_DATA_POSSE': 39,\n",
        "  'NR_TITULO_ELEITORAL_CANDIDATO': 53652250884,\n",
        "  'CD_GENERO': 4,\n",
        "  'DS_GENERO': 'FEMININO',\n",
        "  'CD_GRAU_INSTRUCAO': 7,\n",
        "  'DS_GRAU_INSTRUCAO': 'SUPERIOR INCOMPLETO',\n",
        "  'CD_ESTADO_CIVIL': 1,\n",
        "  'DS_ESTADO_CIVIL': 'SOLTEIRO(A)',\n",
        "  'CD_COR_RACA': 2,\n",
        "  'DS_COR_RACA': 'PRETA',\n",
        "  'CD_OCUPACAO': 931,\n",
        "  'DS_OCUPACAO': 'ESTUDANTE, BOLSISTA, ESTAGIÁRIO E ASSEMELHADOS',\n",
        "  'VR_DESPESA_MAX_CAMPANHA': 131218.52,\n",
        "  'CD_SIT_TOT_TURNO': 5,\n",
        "  'DS_SIT_TOT_TURNO': 'SUPLENTE',\n",
        "  'ST_REELEICAO': 'N',\n",
        "  'ST_DECLARAR_BENS': 'N',\n",
        "  'NR_PROTOCOLO_CANDIDATURA': -1,\n",
        "  'NR_PROCESSO': 6002695420206170083,\n",
        "  'CD_SITUACAO_CANDIDATO_PLEITO': 2,\n",
        "  'DS_SITUACAO_CANDIDATO_PLEITO': 'DEFERIDO',\n",
        "  'CD_SITUACAO_CANDIDATO_URNA': 2,\n",
        "  'DS_SITUACAO_CANDIDATO_URNA': 'DEFERIDO',\n",
        "  'ST_CANDIDATO_INSERIDO_URNA': 'SIM'},\n",
        " {'DT_GERACAO': '22/05/2021',\n",
        "  'HH_GERACAO': '12:18:46',\n",
        "  'ANO_ELEICAO': 2020,\n",
        "  'CD_TIPO_ELEICAO': 2,\n",
        "  'NM_TIPO_ELEICAO': 'ELEIÇÃO ORDINÁRIA',\n",
        "  'NR_TURNO': 1,\n",
        "  'CD_ELEICAO': 426,\n",
        "  'DS_ELEICAO': 'Eleições Municipais 2020',\n",
        "  'DT_ELEICAO': '15/11/2020',\n",
        "  'TP_ABRANGENCIA': 'MUNICIPAL',\n",
        "  'SG_UF': 'PE',\n",
        "  'SG_UE': 26310,\n",
        "  'NM_UE': 'ABREU E LIMA',\n",
        "  'CD_CARGO': 13,\n",
        "  'DS_CARGO': 'VEREADOR',\n",
        "  'SQ_CANDIDATO': 170001246990,\n",
        "  'NR_CANDIDATO': 27777,\n",
        "  'NM_CANDIDATO': 'SEVERINO ALVES DA SILVA FILHO',\n",
        "  'NM_URNA_CANDIDATO': 'SILVIO',\n",
        "  'NM_SOCIAL_CANDIDATO': '#NULO#',\n",
        "  'NR_CPF_CANDIDATO': 17986117400,\n",
        "  'NM_EMAIL': 'FENAMUDANCA01@GMAIL.COM',\n",
        "  'CD_SITUACAO_CANDIDATURA': 12,\n",
        "  'DS_SITUACAO_CANDIDATURA': 'APTO',\n",
        "  'CD_DETALHE_SITUACAO_CAND': 2,\n",
        "  'DS_DETALHE_SITUACAO_CAND': 'DEFERIDO',\n",
        "  'TP_AGREMIACAO': 'PARTIDO ISOLADO',\n",
        "  'NR_PARTIDO': 27,\n",
        "  'SG_PARTIDO': 'DC',\n",
        "  'NM_PARTIDO': 'DEMOCRACIA CRISTÃ',\n",
        "  'SQ_COLIGACAO': 170000154616,\n",
        "  'NM_COLIGACAO': 'PARTIDO ISOLADO',\n",
        "  'DS_COMPOSICAO_COLIGACAO': 'DC',\n",
        "  'CD_NACIONALIDADE': 1,\n",
        "  'DS_NACIONALIDADE': 'BRASILEIRA NATA',\n",
        "  'SG_UF_NASCIMENTO': 'RJ',\n",
        "  'CD_MUNICIPIO_NASCIMENTO': -3,\n",
        "  'NM_MUNICIPIO_NASCIMENTO': 'RIO DE JANEIRO',\n",
        "  'DT_NASCIMENTO': '25/09/1956',\n",
        "  'NR_IDADE_DATA_POSSE': 64,\n",
        "  'NR_TITULO_ELEITORAL_CANDIDATO': 11232980868,\n",
        "  'CD_GENERO': 2,\n",
        "  'DS_GENERO': 'MASCULINO',\n",
        "  'CD_GRAU_INSTRUCAO': 3,\n",
        "  'DS_GRAU_INSTRUCAO': 'ENSINO FUNDAMENTAL INCOMPLETO',\n",
        "  'CD_ESTADO_CIVIL': 5,\n",
        "  'DS_ESTADO_CIVIL': 'VIÚVO(A)',\n",
        "  'CD_COR_RACA': 3,\n",
        "  'DS_COR_RACA': 'PARDA',\n",
        "  'CD_OCUPACAO': 246,\n",
        "  'DS_OCUPACAO': 'TÉCNICO DE OBRAS CIVIS, ESTRADAS, SANEAMENTO E ASSEMELHADOS',\n",
        "  'VR_DESPESA_MAX_CAMPANHA': 28533.15,\n",
        "  'CD_SIT_TOT_TURNO': 4,\n",
        "  'DS_SIT_TOT_TURNO': 'NÃO ELEITO',\n",
        "  'ST_REELEICAO': 'N',\n",
        "  'ST_DECLARAR_BENS': 'S',\n",
        "  'NR_PROTOCOLO_CANDIDATURA': -1,\n",
        "  'NR_PROCESSO': 6003620620206170119,\n",
        "  'CD_SITUACAO_CANDIDATO_PLEITO': 2,\n",
        "  'DS_SITUACAO_CANDIDATO_PLEITO': 'DEFERIDO',\n",
        "  'CD_SITUACAO_CANDIDATO_URNA': 2,\n",
        "  'DS_SITUACAO_CANDIDATO_URNA': 'DEFERIDO',\n",
        "  'ST_CANDIDATO_INSERIDO_URNA': 'SIM'},\n",
        " {'DT_GERACAO': '22/05/2021',\n",
        "  'HH_GERACAO': '12:18:46',\n",
        "  'ANO_ELEICAO': 2020,\n",
        "  'CD_TIPO_ELEICAO': 2,\n",
        "  'NM_TIPO_ELEICAO': 'ELEIÇÃO ORDINÁRIA',\n",
        "  'NR_TURNO': 1,\n",
        "  'CD_ELEICAO': 426,\n",
        "  'DS_ELEICAO': 'Eleições Municipais 2020',\n",
        "  'DT_ELEICAO': '15/11/2020',\n",
        "  'TP_ABRANGENCIA': 'MUNICIPAL',\n",
        "  'SG_UF': 'PE',\n",
        "  'SG_UE': 23086,\n",
        "  'NM_UE': 'VERTENTE DO LÉRIO',\n",
        "  'CD_CARGO': 13,\n",
        "  'DS_CARGO': 'VEREADOR',\n",
        "  'SQ_CANDIDATO': 170000971541,\n",
        "  'NR_CANDIDATO': 14555,\n",
        "  'NM_CANDIDATO': 'SEVERINO DA SILVA NASCIMENTO',\n",
        "  'NM_URNA_CANDIDATO': 'SEVERINO DO POVO',\n",
        "  'NM_SOCIAL_CANDIDATO': '#NULO#',\n",
        "  'NR_CPF_CANDIDATO': 2541370407,\n",
        "  'NM_EMAIL': 'JOSILEAL@BOL.COM.BR',\n",
        "  'CD_SITUACAO_CANDIDATURA': 12,\n",
        "  'DS_SITUACAO_CANDIDATURA': 'APTO',\n",
        "  'CD_DETALHE_SITUACAO_CAND': 2,\n",
        "  'DS_DETALHE_SITUACAO_CAND': 'DEFERIDO',\n",
        "  'TP_AGREMIACAO': 'PARTIDO ISOLADO',\n",
        "  'NR_PARTIDO': 14,\n",
        "  'SG_PARTIDO': 'PTB',\n",
        "  'NM_PARTIDO': 'PARTIDO TRABALHISTA BRASILEIRO',\n",
        "  'SQ_COLIGACAO': 170000113103,\n",
        "  'NM_COLIGACAO': 'PARTIDO ISOLADO',\n",
        "  'DS_COMPOSICAO_COLIGACAO': 'PTB',\n",
        "  'CD_NACIONALIDADE': 1,\n",
        "  'DS_NACIONALIDADE': 'BRASILEIRA NATA',\n",
        "  'SG_UF_NASCIMENTO': 'PE',\n",
        "  'CD_MUNICIPIO_NASCIMENTO': -3,\n",
        "  'NM_MUNICIPIO_NASCIMENTO': 'VERTENTE DO LÉRIO',\n",
        "  'DT_NASCIMENTO': '10/12/1976',\n",
        "  'NR_IDADE_DATA_POSSE': 44,\n",
        "  'NR_TITULO_ELEITORAL_CANDIDATO': 48234550892,\n",
        "  'CD_GENERO': 2,\n",
        "  'DS_GENERO': 'MASCULINO',\n",
        "  'CD_GRAU_INSTRUCAO': 4,\n",
        "  'DS_GRAU_INSTRUCAO': 'ENSINO FUNDAMENTAL COMPLETO',\n",
        "  'CD_ESTADO_CIVIL': 3,\n",
        "  'DS_ESTADO_CIVIL': 'CASADO(A)',\n",
        "  'CD_COR_RACA': 3,\n",
        "  'DS_COR_RACA': 'PARDA',\n",
        "  'CD_OCUPACAO': 999,\n",
        "  'DS_OCUPACAO': 'OUTROS',\n",
        "  'VR_DESPESA_MAX_CAMPANHA': 12307.75,\n",
        "  'CD_SIT_TOT_TURNO': 2,\n",
        "  'DS_SIT_TOT_TURNO': 'ELEITO POR QP',\n",
        "  'ST_REELEICAO': 'N',\n",
        "  'ST_DECLARAR_BENS': 'S',\n",
        "  'NR_PROTOCOLO_CANDIDATURA': -1,\n",
        "  'NR_PROCESSO': 6002560820206170034,\n",
        "  'CD_SITUACAO_CANDIDATO_PLEITO': 2,\n",
        "  'DS_SITUACAO_CANDIDATO_PLEITO': 'DEFERIDO',\n",
        "  'CD_SITUACAO_CANDIDATO_URNA': 2,\n",
        "  'DS_SITUACAO_CANDIDATO_URNA': 'DEFERIDO',\n",
        "  'ST_CANDIDATO_INSERIDO_URNA': 'SIM'},\n",
        " {'DT_GERACAO': '22/05/2021',\n",
        "  'HH_GERACAO': '12:18:46',\n",
        "  'ANO_ELEICAO': 2020,\n",
        "  'CD_TIPO_ELEICAO': 2,\n",
        "  'NM_TIPO_ELEICAO': 'ELEIÇÃO ORDINÁRIA',\n",
        "  'NR_TURNO': 1,\n",
        "  'CD_ELEICAO': 426,\n",
        "  'DS_ELEICAO': 'Eleições Municipais 2020',\n",
        "  'DT_ELEICAO': '15/11/2020',\n",
        "  'TP_ABRANGENCIA': 'MUNICIPAL',\n",
        "  'SG_UF': 'PE',\n",
        "  'SG_UE': 24554,\n",
        "  'NM_UE': 'ITAQUITINGA',\n",
        "  'CD_CARGO': 13,\n",
        "  'DS_CARGO': 'VEREADOR',\n",
        "  'SQ_CANDIDATO': 170000990967,\n",
        "  'NR_CANDIDATO': 10456,\n",
        "  'NM_CANDIDATO': 'MARTA MARIA LEMOS DA SILVA',\n",
        "  'NM_URNA_CANDIDATO': 'MARTA LEMOS',\n",
        "  'NM_SOCIAL_CANDIDATO': '#NULO#',\n",
        "  'NR_CPF_CANDIDATO': 42672481415,\n",
        "  'NM_EMAIL': 'LUANMARTINSCASTRO@GMAIL.COM',\n",
        "  'CD_SITUACAO_CANDIDATURA': 12,\n",
        "  'DS_SITUACAO_CANDIDATURA': 'APTO',\n",
        "  'CD_DETALHE_SITUACAO_CAND': 2,\n",
        "  'DS_DETALHE_SITUACAO_CAND': 'DEFERIDO',\n",
        "  'TP_AGREMIACAO': 'PARTIDO ISOLADO',\n",
        "  'NR_PARTIDO': 10,\n",
        "  'SG_PARTIDO': 'REPUBLICANOS',\n",
        "  'NM_PARTIDO': 'REPUBLICANOS',\n",
        "  'SQ_COLIGACAO': 170000116162,\n",
        "  'NM_COLIGACAO': 'PARTIDO ISOLADO',\n",
        "  'DS_COMPOSICAO_COLIGACAO': 'REPUBLICANOS',\n",
        "  'CD_NACIONALIDADE': 1,\n",
        "  'DS_NACIONALIDADE': 'BRASILEIRA NATA',\n",
        "  'SG_UF_NASCIMENTO': 'PE',\n",
        "  'CD_MUNICIPIO_NASCIMENTO': -3,\n",
        "  'NM_MUNICIPIO_NASCIMENTO': 'GOIANA',\n",
        "  'DT_NASCIMENTO': '07/09/1957',\n",
        "  'NR_IDADE_DATA_POSSE': 63,\n",
        "  'NR_TITULO_ELEITORAL_CANDIDATO': 34202470817,\n",
        "  'CD_GENERO': 4,\n",
        "  'DS_GENERO': 'FEMININO',\n",
        "  'CD_GRAU_INSTRUCAO': 6,\n",
        "  'DS_GRAU_INSTRUCAO': 'ENSINO MÉDIO COMPLETO',\n",
        "  'CD_ESTADO_CIVIL': 3,\n",
        "  'DS_ESTADO_CIVIL': 'CASADO(A)',\n",
        "  'CD_COR_RACA': 1,\n",
        "  'DS_COR_RACA': 'BRANCA',\n",
        "  'CD_OCUPACAO': 999,\n",
        "  'DS_OCUPACAO': 'OUTROS',\n",
        "  'VR_DESPESA_MAX_CAMPANHA': 12307.75,\n",
        "  'CD_SIT_TOT_TURNO': 5,\n",
        "  'DS_SIT_TOT_TURNO': 'SUPLENTE',\n",
        "  'ST_REELEICAO': 'N',\n",
        "  'ST_DECLARAR_BENS': 'S',\n",
        "  'NR_PROTOCOLO_CANDIDATURA': -1,\n",
        "  'NR_PROCESSO': 6003827620206170125,\n",
        "  'CD_SITUACAO_CANDIDATO_PLEITO': 2,\n",
        "  'DS_SITUACAO_CANDIDATO_PLEITO': 'DEFERIDO',\n",
        "  'CD_SITUACAO_CANDIDATO_URNA': 2,\n",
        "  'DS_SITUACAO_CANDIDATO_URNA': 'DEFERIDO',\n",
        "  'ST_CANDIDATO_INSERIDO_URNA': 'SIM'},\n",
        " {'DT_GERACAO': '22/05/2021',\n",
        "  'HH_GERACAO': '12:18:46',\n",
        "  'ANO_ELEICAO': 2020,\n",
        "  'CD_TIPO_ELEICAO': 2,\n",
        "  'NM_TIPO_ELEICAO': 'ELEIÇÃO ORDINÁRIA',\n",
        "  'NR_TURNO': 1,\n",
        "  'CD_ELEICAO': 426,\n",
        "  'DS_ELEICAO': 'Eleições Municipais 2020',\n",
        "  'DT_ELEICAO': '15/11/2020',\n",
        "  'TP_ABRANGENCIA': 'MUNICIPAL',\n",
        "  'SG_UF': 'PE',\n",
        "  'SG_UE': 23264,\n",
        "  'NM_UE': 'JATOBÁ',\n",
        "  'CD_CARGO': 13,\n",
        "  'DS_CARGO': 'VEREADOR',\n",
        "  'SQ_CANDIDATO': 170000657782,\n",
        "  'NR_CANDIDATO': 17777,\n",
        "  'NM_CANDIDATO': 'SEBASTIÃO DA COSTA COELHO',\n",
        "  'NM_URNA_CANDIDATO': 'SEBASTIÃO COSTA',\n",
        "  'NM_SOCIAL_CANDIDATO': '#NULO#',\n",
        "  'NR_CPF_CANDIDATO': 13521691420,\n",
        "  'NM_EMAIL': 'PSLJATOBA17@GMAIL.COM',\n",
        "  'CD_SITUACAO_CANDIDATURA': 12,\n",
        "  'DS_SITUACAO_CANDIDATURA': 'APTO',\n",
        "  'CD_DETALHE_SITUACAO_CAND': 2,\n",
        "  'DS_DETALHE_SITUACAO_CAND': 'DEFERIDO',\n",
        "  'TP_AGREMIACAO': 'PARTIDO ISOLADO',\n",
        "  'NR_PARTIDO': 17,\n",
        "  'SG_PARTIDO': 'PSL',\n",
        "  'NM_PARTIDO': 'PARTIDO SOCIAL LIBERAL',\n",
        "  'SQ_COLIGACAO': 170000058640,\n",
        "  'NM_COLIGACAO': 'PARTIDO ISOLADO',\n",
        "  'DS_COMPOSICAO_COLIGACAO': 'PSL',\n",
        "  'CD_NACIONALIDADE': 1,\n",
        "  'DS_NACIONALIDADE': 'BRASILEIRA NATA',\n",
        "  'SG_UF_NASCIMENTO': 'PE',\n",
        "  'CD_MUNICIPIO_NASCIMENTO': -3,\n",
        "  'NM_MUNICIPIO_NASCIMENTO': 'PETROLÂNDIA',\n",
        "  'DT_NASCIMENTO': '22/01/1953',\n",
        "  'NR_IDADE_DATA_POSSE': 67,\n",
        "  'NR_TITULO_ELEITORAL_CANDIDATO': 20067470809,\n",
        "  'CD_GENERO': 2,\n",
        "  'DS_GENERO': 'MASCULINO',\n",
        "  'CD_GRAU_INSTRUCAO': 6,\n",
        "  'DS_GRAU_INSTRUCAO': 'ENSINO MÉDIO COMPLETO',\n",
        "  'CD_ESTADO_CIVIL': 3,\n",
        "  'DS_ESTADO_CIVIL': 'CASADO(A)',\n",
        "  'CD_COR_RACA': 1,\n",
        "  'DS_COR_RACA': 'BRANCA',\n",
        "  'CD_OCUPACAO': 923,\n",
        "  'DS_OCUPACAO': 'APOSENTADO (EXCETO SERVIDOR PÚBLICO)',\n",
        "  'VR_DESPESA_MAX_CAMPANHA': 12307.75,\n",
        "  'CD_SIT_TOT_TURNO': 4,\n",
        "  'DS_SIT_TOT_TURNO': 'NÃO ELEITO',\n",
        "  'ST_REELEICAO': 'N',\n",
        "  'ST_DECLARAR_BENS': 'S',\n",
        "  'NR_PROTOCOLO_CANDIDATURA': -1,\n",
        "  'NR_PROCESSO': 6000476820206170089,\n",
        "  'CD_SITUACAO_CANDIDATO_PLEITO': 2,\n",
        "  'DS_SITUACAO_CANDIDATO_PLEITO': 'DEFERIDO',\n",
        "  'CD_SITUACAO_CANDIDATO_URNA': 2,\n",
        "  'DS_SITUACAO_CANDIDATO_URNA': 'DEFERIDO',\n",
        "  'ST_CANDIDATO_INSERIDO_URNA': 'SIM'},\n",
        " {'DT_GERACAO': '22/05/2021',\n",
        "  'HH_GERACAO': '12:18:46',\n",
        "  'ANO_ELEICAO': 2020,\n",
        "  'CD_TIPO_ELEICAO': 2,\n",
        "  'NM_TIPO_ELEICAO': 'ELEIÇÃO ORDINÁRIA',\n",
        "  'NR_TURNO': 1,\n",
        "  'CD_ELEICAO': 426,\n",
        "  'DS_ELEICAO': 'Eleições Municipais 2020',\n",
        "  'DT_ELEICAO': '15/11/2020',\n",
        "  'TP_ABRANGENCIA': 'MUNICIPAL',\n",
        "  'SG_UF': 'PE',\n",
        "  'SG_UE': 25216,\n",
        "  'NM_UE': 'PETROLINA',\n",
        "  'CD_CARGO': 13,\n",
        "  'DS_CARGO': 'VEREADOR',\n",
        "  'SQ_CANDIDATO': 170001179423,\n",
        "  'NR_CANDIDATO': 17222,\n",
        "  'NM_CANDIDATO': 'DÁRIO CÉSAR MOREIRA',\n",
        "  'NM_URNA_CANDIDATO': 'DÁRIO MORORÓ',\n",
        "  'NM_SOCIAL_CANDIDATO': '#NULO#',\n",
        "  'NR_CPF_CANDIDATO': 7141808400,\n",
        "  'NM_EMAIL': 'DARIOMORORO@GMAIL.COM',\n",
        "  'CD_SITUACAO_CANDIDATURA': 12,\n",
        "  'DS_SITUACAO_CANDIDATURA': 'APTO',\n",
        "  'CD_DETALHE_SITUACAO_CAND': 2,\n",
        "  'DS_DETALHE_SITUACAO_CAND': 'DEFERIDO',\n",
        "  'TP_AGREMIACAO': 'PARTIDO ISOLADO',\n",
        "  'NR_PARTIDO': 17,\n",
        "  'SG_PARTIDO': 'PSL',\n",
        "  'NM_PARTIDO': 'PARTIDO SOCIAL LIBERAL',\n",
        "  'SQ_COLIGACAO': 170000145155,\n",
        "  'NM_COLIGACAO': 'PARTIDO ISOLADO',\n",
        "  'DS_COMPOSICAO_COLIGACAO': 'PSL',\n",
        "  'CD_NACIONALIDADE': 1,\n",
        "  'DS_NACIONALIDADE': 'BRASILEIRA NATA',\n",
        "  'SG_UF_NASCIMENTO': 'PE',\n",
        "  'CD_MUNICIPIO_NASCIMENTO': -3,\n",
        "  'NM_MUNICIPIO_NASCIMENTO': 'SERRA TALHADA',\n",
        "  'DT_NASCIMENTO': '27/09/1989',\n",
        "  'NR_IDADE_DATA_POSSE': 31,\n",
        "  'NR_TITULO_ELEITORAL_CANDIDATO': 74125090850,\n",
        "  'CD_GENERO': 2,\n",
        "  'DS_GENERO': 'MASCULINO',\n",
        "  'CD_GRAU_INSTRUCAO': 6,\n",
        "  'DS_GRAU_INSTRUCAO': 'ENSINO MÉDIO COMPLETO',\n",
        "  'CD_ESTADO_CIVIL': 3,\n",
        "  'DS_ESTADO_CIVIL': 'CASADO(A)',\n",
        "  'CD_COR_RACA': 3,\n",
        "  'DS_COR_RACA': 'PARDA',\n",
        "  'CD_OCUPACAO': 601,\n",
        "  'DS_OCUPACAO': 'AGRICULTOR',\n",
        "  'VR_DESPESA_MAX_CAMPANHA': 131218.52,\n",
        "  'CD_SIT_TOT_TURNO': 4,\n",
        "  'DS_SIT_TOT_TURNO': 'NÃO ELEITO',\n",
        "  'ST_REELEICAO': 'N',\n",
        "  'ST_DECLARAR_BENS': 'S',\n",
        "  'NR_PROTOCOLO_CANDIDATURA': -1,\n",
        "  'NR_PROCESSO': 6004176520206170083,\n",
        "  'CD_SITUACAO_CANDIDATO_PLEITO': 2,\n",
        "  'DS_SITUACAO_CANDIDATO_PLEITO': 'DEFERIDO',\n",
        "  'CD_SITUACAO_CANDIDATO_URNA': 2,\n",
        "  'DS_SITUACAO_CANDIDATO_URNA': 'DEFERIDO',\n",
        "  'ST_CANDIDATO_INSERIDO_URNA': 'SIM'},\n",
        " {'DT_GERACAO': '22/05/2021',\n",
        "  'HH_GERACAO': '12:18:46',\n",
        "  'ANO_ELEICAO': 2020,\n",
        "  'CD_TIPO_ELEICAO': 2,\n",
        "  'NM_TIPO_ELEICAO': 'ELEIÇÃO ORDINÁRIA',\n",
        "  'NR_TURNO': 1,\n",
        "  'CD_ELEICAO': 426,\n",
        "  'DS_ELEICAO': 'Eleições Municipais 2020',\n",
        "  'DT_ELEICAO': '15/11/2020',\n",
        "  'TP_ABRANGENCIA': 'MUNICIPAL',\n",
        "  'SG_UF': 'PE',\n",
        "  'SG_UE': 24350,\n",
        "  'NM_UE': 'IGARASSU',\n",
        "  'CD_CARGO': 13,\n",
        "  'DS_CARGO': 'VEREADOR',\n",
        "  'SQ_CANDIDATO': 170000944712,\n",
        "  'NR_CANDIDATO': 65455,\n",
        "  'NM_CANDIDATO': 'COSME CORDEIRO PAULINO',\n",
        "  'NM_URNA_CANDIDATO': 'COSME DOS MARCOS',\n",
        "  'NM_SOCIAL_CANDIDATO': '#NULO#',\n",
        "  'NR_CPF_CANDIDATO': 59259310415,\n",
        "  'NM_EMAIL': 'RCBUARQUE@GMAIL.COM',\n",
        "  'CD_SITUACAO_CANDIDATURA': 12,\n",
        "  'DS_SITUACAO_CANDIDATURA': 'APTO',\n",
        "  'CD_DETALHE_SITUACAO_CAND': 2,\n",
        "  'DS_DETALHE_SITUACAO_CAND': 'DEFERIDO',\n",
        "  'TP_AGREMIACAO': 'PARTIDO ISOLADO',\n",
        "  'NR_PARTIDO': 65,\n",
        "  'SG_PARTIDO': 'PC do B',\n",
        "  'NM_PARTIDO': 'PARTIDO COMUNISTA DO BRASIL',\n",
        "  'SQ_COLIGACAO': 170000109245,\n",
        "  'NM_COLIGACAO': 'PARTIDO ISOLADO',\n",
        "  'DS_COMPOSICAO_COLIGACAO': 'PC do B',\n",
        "  'CD_NACIONALIDADE': 1,\n",
        "  'DS_NACIONALIDADE': 'BRASILEIRA NATA',\n",
        "  'SG_UF_NASCIMENTO': 'PE',\n",
        "  'CD_MUNICIPIO_NASCIMENTO': -3,\n",
        "  'NM_MUNICIPIO_NASCIMENTO': 'IGARASSU',\n",
        "  'DT_NASCIMENTO': '27/07/1964',\n",
        "  'NR_IDADE_DATA_POSSE': 56,\n",
        "  'NR_TITULO_ELEITORAL_CANDIDATO': 23349670809,\n",
        "  'CD_GENERO': 2,\n",
        "  'DS_GENERO': 'MASCULINO',\n",
        "  'CD_GRAU_INSTRUCAO': 4,\n",
        "  'DS_GRAU_INSTRUCAO': 'ENSINO FUNDAMENTAL COMPLETO',\n",
        "  'CD_ESTADO_CIVIL': 3,\n",
        "  'DS_ESTADO_CIVIL': 'CASADO(A)',\n",
        "  'CD_COR_RACA': 3,\n",
        "  'DS_COR_RACA': 'PARDA',\n",
        "  'CD_OCUPACAO': 169,\n",
        "  'DS_OCUPACAO': 'COMERCIANTE',\n",
        "  'VR_DESPESA_MAX_CAMPANHA': 39466.41,\n",
        "  'CD_SIT_TOT_TURNO': 5,\n",
        "  'DS_SIT_TOT_TURNO': 'SUPLENTE',\n",
        "  'ST_REELEICAO': 'N',\n",
        "  'ST_DECLARAR_BENS': 'S',\n",
        "  'NR_PROTOCOLO_CANDIDATURA': -1,\n",
        "  'NR_PROCESSO': 6002772520206170085,\n",
        "  'CD_SITUACAO_CANDIDATO_PLEITO': 2,\n",
        "  'DS_SITUACAO_CANDIDATO_PLEITO': 'DEFERIDO',\n",
        "  'CD_SITUACAO_CANDIDATO_URNA': 2,\n",
        "  'DS_SITUACAO_CANDIDATO_URNA': 'DEFERIDO',\n",
        "  'ST_CANDIDATO_INSERIDO_URNA': 'SIM'},\n",
        " {'DT_GERACAO': '22/05/2021',\n",
        "  'HH_GERACAO': '12:18:46',\n",
        "  'ANO_ELEICAO': 2020,\n",
        "  'CD_TIPO_ELEICAO': 2,\n",
        "  'NM_TIPO_ELEICAO': 'ELEIÇÃO ORDINÁRIA',\n",
        "  'NR_TURNO': 1,\n",
        "  'CD_ELEICAO': 426,\n",
        "  'DS_ELEICAO': 'Eleições Municipais 2020',\n",
        "  'DT_ELEICAO': '15/11/2020',\n",
        "  'TP_ABRANGENCIA': 'MUNICIPAL',\n",
        "  'SG_UF': 'PE',\n",
        "  'SG_UE': 25615,\n",
        "  'NM_UE': 'SÃO CAITANO',\n",
        "  'CD_CARGO': 13,\n",
        "  'DS_CARGO': 'VEREADOR',\n",
        "  'SQ_CANDIDATO': 170000828281,\n",
        "  'NR_CANDIDATO': 17888,\n",
        "  'NM_CANDIDATO': 'SEVERINO VIEIRA RAMOS NETO',\n",
        "  'NM_URNA_CANDIDATO': 'NETO RAMOS',\n",
        "  'NM_SOCIAL_CANDIDATO': '#NULO#',\n",
        "  'NR_CPF_CANDIDATO': 4198870403,\n",
        "  'NM_EMAIL': 'ANDREDIREITOS@HOTMAIL.COM',\n",
        "  'CD_SITUACAO_CANDIDATURA': 12,\n",
        "  'DS_SITUACAO_CANDIDATURA': 'APTO',\n",
        "  'CD_DETALHE_SITUACAO_CAND': 2,\n",
        "  'DS_DETALHE_SITUACAO_CAND': 'DEFERIDO',\n",
        "  'TP_AGREMIACAO': 'PARTIDO ISOLADO',\n",
        "  'NR_PARTIDO': 17,\n",
        "  'SG_PARTIDO': 'PSL',\n",
        "  'NM_PARTIDO': 'PARTIDO SOCIAL LIBERAL',\n",
        "  'SQ_COLIGACAO': 170000087156,\n",
        "  'NM_COLIGACAO': 'PARTIDO ISOLADO',\n",
        "  'DS_COMPOSICAO_COLIGACAO': 'PSL',\n",
        "  'CD_NACIONALIDADE': 1,\n",
        "  'DS_NACIONALIDADE': 'BRASILEIRA NATA',\n",
        "  'SG_UF_NASCIMENTO': 'PE',\n",
        "  'CD_MUNICIPIO_NASCIMENTO': -3,\n",
        "  'NM_MUNICIPIO_NASCIMENTO': 'BELO JARDIM',\n",
        "  'DT_NASCIMENTO': '19/05/1983',\n",
        "  'NR_IDADE_DATA_POSSE': 37,\n",
        "  'NR_TITULO_ELEITORAL_CANDIDATO': 61604600876,\n",
        "  'CD_GENERO': 2,\n",
        "  'DS_GENERO': 'MASCULINO',\n",
        "  'CD_GRAU_INSTRUCAO': 5,\n",
        "  'DS_GRAU_INSTRUCAO': 'ENSINO MÉDIO INCOMPLETO',\n",
        "  'CD_ESTADO_CIVIL': 3,\n",
        "  'DS_ESTADO_CIVIL': 'CASADO(A)',\n",
        "  'CD_COR_RACA': 3,\n",
        "  'DS_COR_RACA': 'PARDA',\n",
        "  'CD_OCUPACAO': 169,\n",
        "  'DS_OCUPACAO': 'COMERCIANTE',\n",
        "  'VR_DESPESA_MAX_CAMPANHA': 41468.76,\n",
        "  'CD_SIT_TOT_TURNO': 2,\n",
        "  'DS_SIT_TOT_TURNO': 'ELEITO POR QP',\n",
        "  'ST_REELEICAO': 'N',\n",
        "  'ST_DECLARAR_BENS': 'S',\n",
        "  'NR_PROTOCOLO_CANDIDATURA': -1,\n",
        "  'NR_PROCESSO': 6001960520206170044,\n",
        "  'CD_SITUACAO_CANDIDATO_PLEITO': 2,\n",
        "  'DS_SITUACAO_CANDIDATO_PLEITO': 'DEFERIDO',\n",
        "  'CD_SITUACAO_CANDIDATO_URNA': 2,\n",
        "  'DS_SITUACAO_CANDIDATO_URNA': 'DEFERIDO',\n",
        "  'ST_CANDIDATO_INSERIDO_URNA': 'SIM'},\n",
        " {'DT_GERACAO': '22/05/2021',\n",
        "  'HH_GERACAO': '12:18:46',\n",
        "  'ANO_ELEICAO': 2020,\n",
        "  'CD_TIPO_ELEICAO': 2,\n",
        "  'NM_TIPO_ELEICAO': 'ELEIÇÃO ORDINÁRIA',\n",
        "  'NR_TURNO': 1,\n",
        "  'CD_ELEICAO': 426,\n",
        "  'DS_ELEICAO': 'Eleições Municipais 2020',\n",
        "  'DT_ELEICAO': '15/11/2020',\n",
        "  'TP_ABRANGENCIA': 'MUNICIPAL',\n",
        "  'SG_UF': 'PE',\n",
        "  'SG_UE': 24910,\n",
        "  'NM_UE': 'OLINDA',\n",
        "  'CD_CARGO': 13,\n",
        "  'DS_CARGO': 'VEREADOR',\n",
        "  'SQ_CANDIDATO': 170000942736,\n",
        "  'NR_CANDIDATO': 27000,\n",
        "  'NM_CANDIDATO': 'BRUNA RAFAELLA DA SILVA FREITAS',\n",
        "  'NM_URNA_CANDIDATO': 'BRUNA FREITAS',\n",
        "  'NM_SOCIAL_CANDIDATO': '#NULO#',\n",
        "  'NR_CPF_CANDIDATO': 9906778423,\n",
        "  'NM_EMAIL': 'BRUNA.R.FREITAS@BOL.COM.BR',\n",
        "  'CD_SITUACAO_CANDIDATURA': 12,\n",
        "  'DS_SITUACAO_CANDIDATURA': 'APTO',\n",
        "  'CD_DETALHE_SITUACAO_CAND': 2,\n",
        "  'DS_DETALHE_SITUACAO_CAND': 'DEFERIDO',\n",
        "  'TP_AGREMIACAO': 'PARTIDO ISOLADO',\n",
        "  'NR_PARTIDO': 27,\n",
        "  'SG_PARTIDO': 'DC',\n",
        "  'NM_PARTIDO': 'DEMOCRACIA CRISTÃ',\n",
        "  'SQ_COLIGACAO': 170000108952,\n",
        "  'NM_COLIGACAO': 'PARTIDO ISOLADO',\n",
        "  'DS_COMPOSICAO_COLIGACAO': 'DC',\n",
        "  'CD_NACIONALIDADE': 1,\n",
        "  'DS_NACIONALIDADE': 'BRASILEIRA NATA',\n",
        "  'SG_UF_NASCIMENTO': 'PE',\n",
        "  'CD_MUNICIPIO_NASCIMENTO': -3,\n",
        "  'NM_MUNICIPIO_NASCIMENTO': 'MORENO',\n",
        "  'DT_NASCIMENTO': '28/08/1991',\n",
        "  'NR_IDADE_DATA_POSSE': 29,\n",
        "  'NR_TITULO_ELEITORAL_CANDIDATO': 81203280841,\n",
        "  'CD_GENERO': 4,\n",
        "  'DS_GENERO': 'FEMININO',\n",
        "  'CD_GRAU_INSTRUCAO': 6,\n",
        "  'DS_GRAU_INSTRUCAO': 'ENSINO MÉDIO COMPLETO',\n",
        "  'CD_ESTADO_CIVIL': 3,\n",
        "  'DS_ESTADO_CIVIL': 'CASADO(A)',\n",
        "  'CD_COR_RACA': 3,\n",
        "  'DS_COR_RACA': 'PARDA',\n",
        "  'CD_OCUPACAO': 999,\n",
        "  'DS_OCUPACAO': 'OUTROS',\n",
        "  'VR_DESPESA_MAX_CAMPANHA': 105385.98,\n",
        "  'CD_SIT_TOT_TURNO': 4,\n",
        "  'DS_SIT_TOT_TURNO': 'NÃO ELEITO',\n",
        "  'ST_REELEICAO': 'N',\n",
        "  'ST_DECLARAR_BENS': 'S',\n",
        "  'NR_PROTOCOLO_CANDIDATURA': -1,\n",
        "  'NR_PROCESSO': 6003347420206170010,\n",
        "  'CD_SITUACAO_CANDIDATO_PLEITO': 2,\n",
        "  'DS_SITUACAO_CANDIDATO_PLEITO': 'DEFERIDO',\n",
        "  'CD_SITUACAO_CANDIDATO_URNA': 2,\n",
        "  'DS_SITUACAO_CANDIDATO_URNA': 'DEFERIDO',\n",
        "  'ST_CANDIDATO_INSERIDO_URNA': 'SIM'},\n",
        " {'DT_GERACAO': '22/05/2021',\n",
        "  'HH_GERACAO': '12:18:46',\n",
        "  'ANO_ELEICAO': 2020,\n",
        "  'CD_TIPO_ELEICAO': 2,\n",
        "  'NM_TIPO_ELEICAO': 'ELEIÇÃO ORDINÁRIA',\n",
        "  'NR_TURNO': 1,\n",
        "  'CD_ELEICAO': 426,\n",
        "  'DS_ELEICAO': 'Eleições Municipais 2020',\n",
        "  'DT_ELEICAO': '15/11/2020',\n",
        "  'TP_ABRANGENCIA': 'MUNICIPAL',\n",
        "  'SG_UF': 'PE',\n",
        "  'SG_UE': 23795,\n",
        "  'NM_UE': 'CARPINA',\n",
        "  'CD_CARGO': 13,\n",
        "  'DS_CARGO': 'VEREADOR',\n",
        "  'SQ_CANDIDATO': 170001209832,\n",
        "  'NR_CANDIDATO': 36123,\n",
        "  'NM_CANDIDATO': 'MARIA MADALENA NASCIMENTO DE SOUSA',\n",
        "  'NM_URNA_CANDIDATO': 'IRMÃ MADALENA',\n",
        "  'NM_SOCIAL_CANDIDATO': '#NULO#',\n",
        "  'NR_CPF_CANDIDATO': 35870125472,\n",
        "  'NM_EMAIL': 'BETACRISS_42@HOTMAIL.COM',\n",
        "  'CD_SITUACAO_CANDIDATURA': 12,\n",
        "  'DS_SITUACAO_CANDIDATURA': 'APTO',\n",
        "  'CD_DETALHE_SITUACAO_CAND': 2,\n",
        "  'DS_DETALHE_SITUACAO_CAND': 'DEFERIDO',\n",
        "  'TP_AGREMIACAO': 'PARTIDO ISOLADO',\n",
        "  'NR_PARTIDO': 36,\n",
        "  'SG_PARTIDO': 'PTC',\n",
        "  'NM_PARTIDO': 'PARTIDO TRABALHISTA CRISTÃO',\n",
        "  'SQ_COLIGACAO': 170000148880,\n",
        "  'NM_COLIGACAO': 'PARTIDO ISOLADO',\n",
        "  'DS_COMPOSICAO_COLIGACAO': 'PTC',\n",
        "  'CD_NACIONALIDADE': 1,\n",
        "  'DS_NACIONALIDADE': 'BRASILEIRA NATA',\n",
        "  'SG_UF_NASCIMENTO': 'PE',\n",
        "  'CD_MUNICIPIO_NASCIMENTO': -3,\n",
        "  'NM_MUNICIPIO_NASCIMENTO': 'TIMBAÚBA',\n",
        "  'DT_NASCIMENTO': '14/05/1958',\n",
        "  'NR_IDADE_DATA_POSSE': 62,\n",
        "  'NR_TITULO_ELEITORAL_CANDIDATO': 8997220850,\n",
        "  'CD_GENERO': 4,\n",
        "  'DS_GENERO': 'FEMININO',\n",
        "  'CD_GRAU_INSTRUCAO': 8,\n",
        "  'DS_GRAU_INSTRUCAO': 'SUPERIOR COMPLETO',\n",
        "  'CD_ESTADO_CIVIL': 3,\n",
        "  'DS_ESTADO_CIVIL': 'CASADO(A)',\n",
        "  'CD_COR_RACA': 3,\n",
        "  'DS_COR_RACA': 'PARDA',\n",
        "  'CD_OCUPACAO': 296,\n",
        "  'DS_OCUPACAO': 'SERVIDOR PÚBLICO FEDERAL',\n",
        "  'VR_DESPESA_MAX_CAMPANHA': 49954.88,\n",
        "  'CD_SIT_TOT_TURNO': 5,\n",
        "  'DS_SIT_TOT_TURNO': 'SUPLENTE',\n",
        "  'ST_REELEICAO': 'N',\n",
        "  'ST_DECLARAR_BENS': 'S',\n",
        "  'NR_PROTOCOLO_CANDIDATURA': -1,\n",
        "  'NR_PROCESSO': 6002296720206170020,\n",
        "  'CD_SITUACAO_CANDIDATO_PLEITO': 2,\n",
        "  'DS_SITUACAO_CANDIDATO_PLEITO': 'DEFERIDO',\n",
        "  'CD_SITUACAO_CANDIDATO_URNA': 2,\n",
        "  'DS_SITUACAO_CANDIDATO_URNA': 'DEFERIDO',\n",
        "  'ST_CANDIDATO_INSERIDO_URNA': 'SIM'}]"
      ],
      "execution_count": 18,
      "outputs": []
    },
    {
      "cell_type": "code",
      "metadata": {
        "id": "stsP9V-KGAci"
      },
      "source": [
        "anos_18_24 = []\n",
        "anos_25_34 = []\n",
        "anos_35_44 = []\n",
        "anos_45_54 = []\n",
        "anos_55_64 = []\n",
        "anos_acima_64 = []"
      ],
      "execution_count": 19,
      "outputs": []
    },
    {
      "cell_type": "code",
      "metadata": {
        "id": "0vSihSTQN_GD"
      },
      "source": [
        "for candidata in candidaturas:\n",
        "    \n",
        "    if candidata['NR_IDADE_DATA_POSSE'] >= 18 and candidata['NR_IDADE_DATA_POSSE'] <= 24:\n",
        "        anos_18_24.append(candidata['NM_CANDIDATO'])\n",
        "    elif candidata['NR_IDADE_DATA_POSSE'] >= 25 and candidata['NR_IDADE_DATA_POSSE'] <= 34:\n",
        "        anos_25_34.append(candidata['NM_CANDIDATO'])\n",
        "    elif candidata['NR_IDADE_DATA_POSSE'] >= 35 and candidata['NR_IDADE_DATA_POSSE'] <= 44:\n",
        "        anos_35_44.append(candidata['NM_CANDIDATO'])\n",
        "    elif candidata['NR_IDADE_DATA_POSSE'] >= 45 and candidata['NR_IDADE_DATA_POSSE'] <= 54:\n",
        "        anos_45_54.append(candidata['NM_CANDIDATO'])\n",
        "    elif candidata['NR_IDADE_DATA_POSSE'] >= 55 and candidata['NR_IDADE_DATA_POSSE'] <= 64:\n",
        "        anos_55_64.append(candidata['NM_CANDIDATO'])\n",
        "    else:\n",
        "        anos_acima_64.append(candidata['NM_CANDIDATO'])"
      ],
      "execution_count": 20,
      "outputs": []
    },
    {
      "cell_type": "code",
      "metadata": {
        "colab": {
          "base_uri": "https://localhost:8080/"
        },
        "id": "kQnA8iTpN_We",
        "outputId": "a819399e-e7cb-4bdd-a8a4-b17a77110f3d"
      },
      "source": [
        "print(f'Candidaturas por faixa etária:')\n",
        "print(f'18-24 anos: {anos_18_24}')\n",
        "print(f'25-34 anos: {anos_25_34}')\n",
        "print(f'35-44 anos: {anos_35_44}')\n",
        "print(f'45-54 anos: {anos_45_54}')\n",
        "print(f'55-64 anos: {anos_55_64}')\n",
        "print(f'acima 64 anos: {anos_acima_64}')"
      ],
      "execution_count": 21,
      "outputs": [
        {
          "output_type": "stream",
          "text": [
            "Candidaturas por faixa etária:\n",
            "18-24 anos: []\n",
            "25-34 anos: ['DÁRIO CÉSAR MOREIRA', 'BRUNA RAFAELLA DA SILVA FREITAS']\n",
            "35-44 anos: ['DANIELA TAMARA SANTOS SILVA', 'SEVERINO DA SILVA NASCIMENTO', 'SEVERINO VIEIRA RAMOS NETO']\n",
            "45-54 anos: []\n",
            "55-64 anos: ['SEVERINO ALVES DA SILVA FILHO', 'MARTA MARIA LEMOS DA SILVA', 'COSME CORDEIRO PAULINO', 'MARIA MADALENA NASCIMENTO DE SOUSA']\n",
            "acima 64 anos: ['SEBASTIÃO DA COSTA COELHO']\n"
          ],
          "name": "stdout"
        }
      ]
    },
    {
      "cell_type": "code",
      "metadata": {
        "id": "Z1b9pmz7N_bR"
      },
      "source": [
        "#Usando o mesmo dicionário do exercício anterior. Agrupe as candidaturas em \"feminino\" e \"masculino\" usando a chave \"DS_GENERO\"."
      ],
      "execution_count": null,
      "outputs": []
    },
    {
      "cell_type": "code",
      "metadata": {
        "id": "5hNO-ElPlYcr"
      },
      "source": [
        "mulher = []\n",
        "homem = []"
      ],
      "execution_count": 25,
      "outputs": []
    },
    {
      "cell_type": "code",
      "metadata": {
        "colab": {
          "base_uri": "https://localhost:8080/"
        },
        "id": "nq4iVBqNlYtN",
        "outputId": "8f3ecab0-537b-4fff-a66a-df18003a2d52"
      },
      "source": [
        "for candidata in candidaturas:\n",
        "    if candidata['DS_GENERO'] == 'FEMININO' and candidata['DS_GENERO'] == 'MASCULINO':\n",
        "        candidata.append(candidata['NM_CANDIDATO'])\n",
        "    else:\n",
        "        print(candidata['NM_CANDIDATO'])\n",
        "      \n",
        "    \n",
        "       "
      ],
      "execution_count": 41,
      "outputs": [
        {
          "output_type": "stream",
          "text": [
            "DANIELA TAMARA SANTOS SILVA\n",
            "SEVERINO ALVES DA SILVA FILHO\n",
            "SEVERINO DA SILVA NASCIMENTO\n",
            "MARTA MARIA LEMOS DA SILVA\n",
            "SEBASTIÃO DA COSTA COELHO\n",
            "DÁRIO CÉSAR MOREIRA\n",
            "COSME CORDEIRO PAULINO\n",
            "SEVERINO VIEIRA RAMOS NETO\n",
            "BRUNA RAFAELLA DA SILVA FREITAS\n",
            "MARIA MADALENA NASCIMENTO DE SOUSA\n"
          ],
          "name": "stdout"
        }
      ]
    },
    {
      "cell_type": "markdown",
      "metadata": {
        "id": "CJjMryOu7VFf"
      },
      "source": [
        "Exercício dia 10/08/2021 Aula ao Vivo"
      ]
    },
    {
      "cell_type": "code",
      "metadata": {
        "colab": {
          "base_uri": "https://localhost:8080/"
        },
        "id": "KKK4koFK7Sxt",
        "outputId": "f89e68a7-ee88-4887-f010-251a58ffde04"
      },
      "source": [
        "numero_1 = int(input('Insira um número positivo: '))\n",
        "numero_2 = int(input('Insira outro número positivo: '))"
      ],
      "execution_count": 44,
      "outputs": [
        {
          "output_type": "stream",
          "text": [
            "Insira um número positivo: 13\n",
            "Insira outro número positivo: 24\n"
          ],
          "name": "stdout"
        }
      ]
    },
    {
      "cell_type": "code",
      "metadata": {
        "colab": {
          "base_uri": "https://localhost:8080/"
        },
        "id": "wjMHOjlY7TEg",
        "outputId": "ff67f9b1-a52d-4461-e6ab-ebe0a769dd40"
      },
      "source": [
        "lista = list(range(numero_1, numero_2))\n",
        "print(lista)"
      ],
      "execution_count": 45,
      "outputs": [
        {
          "output_type": "stream",
          "text": [
            "[13, 14, 15, 16, 17, 18, 19, 20, 21, 22, 23]\n"
          ],
          "name": "stdout"
        }
      ]
    },
    {
      "cell_type": "code",
      "metadata": {
        "id": "edRoVRdT7TTo"
      },
      "source": [
        "lista_atual = []\n",
        "for n in lista:\n",
        "    if n % 3 == 0:\n",
        "        lista_atual.append('Tecnologia')\n",
        "    elif n % 5 ==0:\n",
        "        lista_atual.append('Cívica')\n",
        "    elif n % 3 == 0 and n % 5 ==0:\n",
        "        lista_atual.append('Tecnologia Cívica')\n",
        "    else:lista_atual.append (n)\n",
        "    "
      ],
      "execution_count": 46,
      "outputs": []
    },
    {
      "cell_type": "code",
      "metadata": {
        "colab": {
          "base_uri": "https://localhost:8080/"
        },
        "id": "-tNioEk-7TZ5",
        "outputId": "bc0411aa-1ec4-4e61-8b54-932297a83d09"
      },
      "source": [
        "print(lista_atual)"
      ],
      "execution_count": 47,
      "outputs": [
        {
          "output_type": "stream",
          "text": [
            "[13, 14, 'Tecnologia', 16, 17, 'Tecnologia', 19, 'Cívica', 'Tecnologia', 22, 23]\n"
          ],
          "name": "stdout"
        }
      ]
    },
    {
      "cell_type": "code",
      "metadata": {
        "colab": {
          "base_uri": "https://localhost:8080/"
        },
        "id": "SKn0B3Hg7TfQ",
        "outputId": "f35b4b40-ab54-48b2-f35b-c17adbe7e9cf"
      },
      "source": [
        "lista_atual = []\n",
        "for n in lista:\n",
        "    if n % 3 == 0 and n % 5 ==0:\n",
        "        lista_atual.append('Tecnologia Cívica')\n",
        "    elif n % 3 == 0:\n",
        "        lista_atual.append('Tecnologia')\n",
        "    elif n % 5 ==0:\n",
        "        lista_atual.append('Cívica')\n",
        "    else:lista_atual.append (n)\n",
        "print(lista_atual)"
      ],
      "execution_count": 48,
      "outputs": [
        {
          "output_type": "stream",
          "text": [
            "[13, 14, 'Tecnologia Cívica', 16, 17, 'Tecnologia', 19, 'Cívica', 'Tecnologia', 22, 23]\n"
          ],
          "name": "stdout"
        }
      ]
    }
  ]
}