{
 "cells": [
  {
   "cell_type": "markdown",
   "id": "4914c7df",
   "metadata": {
    "id": "bFYatS11gOtN"
   },
   "source": [
    "# Desafio 2\n",
    "\n",
    "Hey you! Esse desafio parte 2 é mais voltado para as perguntas de análise. "
   ]
  },
  {
   "cell_type": "markdown",
   "id": "4ac55729",
   "metadata": {},
   "source": [
    "### Faça a leitura do csv resultante do pre-processamento"
   ]
  },
  {
   "cell_type": "code",
   "execution_count": null,
   "id": "e335c8c7",
   "metadata": {
    "id": "H-ShSuQJ5ICY"
   },
   "outputs": [],
   "source": [
    "import pandas as pd\n",
    "\n",
    "\n"
   ]
  },
  {
   "cell_type": "markdown",
   "id": "e7244afa",
   "metadata": {
    "id": "9V6UrEjQiS4S"
   },
   "source": [
    "### Qual a média do `vlrLiquido`?"
   ]
  },
  {
   "cell_type": "code",
   "execution_count": null,
   "id": "55880b49",
   "metadata": {
    "id": "yalZ9LW96ONR",
    "scrolled": true
   },
   "outputs": [],
   "source": []
  },
  {
   "cell_type": "markdown",
   "id": "04ac3026",
   "metadata": {},
   "source": [
    "### Como o `vlrLiquido` se distribui?"
   ]
  },
  {
   "cell_type": "code",
   "execution_count": null,
   "id": "fbde4877",
   "metadata": {},
   "outputs": [],
   "source": []
  },
  {
   "cell_type": "markdown",
   "id": "be0725bb",
   "metadata": {
    "id": "3LhB4RCUVMm7"
   },
   "source": [
    "### Qual a ocorrência de cada tipo de despesa no campo `txtDescricao`?"
   ]
  },
  {
   "cell_type": "code",
   "execution_count": null,
   "id": "bc915fec",
   "metadata": {},
   "outputs": [],
   "source": []
  },
  {
   "cell_type": "markdown",
   "id": "f048cb6e",
   "metadata": {},
   "source": [
    "### Qual foi o valor máximo do campo `vlrLiquido`? Quais os parlamentes foram os responsáveis pelas despesas com esse valor?"
   ]
  },
  {
   "cell_type": "code",
   "execution_count": null,
   "id": "841f51c2",
   "metadata": {},
   "outputs": [],
   "source": []
  },
  {
   "cell_type": "markdown",
   "id": "a98577da",
   "metadata": {},
   "source": [
    "### Quantos parlamentares tiveram despesas com valor acima de 10.000 reais? e de 100.000 reais?"
   ]
  },
  {
   "cell_type": "code",
   "execution_count": null,
   "id": "00ff66d6",
   "metadata": {},
   "outputs": [],
   "source": []
  },
  {
   "cell_type": "markdown",
   "id": "20f62fea",
   "metadata": {},
   "source": [
    "### Quais foram os gastos associados a Fornecedores que na época da emissão do documento, estavam com a empresa com status **BAIXADA**?"
   ]
  },
  {
   "cell_type": "code",
   "execution_count": null,
   "id": "6a1ec58c",
   "metadata": {},
   "outputs": [],
   "source": []
  }
 ],
 "metadata": {
  "kernelspec": {
   "display_name": "Python 3",
   "language": "python",
   "name": "python3"
  },
  "language_info": {
   "codemirror_mode": {
    "name": "ipython",
    "version": 3
   },
   "file_extension": ".py",
   "mimetype": "text/x-python",
   "name": "python",
   "nbconvert_exporter": "python",
   "pygments_lexer": "ipython3",
   "version": "3.7.4"
  },
  "toc": {
   "base_numbering": 1,
   "nav_menu": {},
   "number_sections": true,
   "sideBar": true,
   "skip_h1_title": false,
   "title_cell": "Table of Contents",
   "title_sidebar": "Contents",
   "toc_cell": false,
   "toc_position": {
    "height": "calc(100% - 180px)",
    "left": "10px",
    "top": "150px",
    "width": "165px"
   },
   "toc_section_display": true,
   "toc_window_display": true
  }
 },
 "nbformat": 4,
 "nbformat_minor": 5
}
