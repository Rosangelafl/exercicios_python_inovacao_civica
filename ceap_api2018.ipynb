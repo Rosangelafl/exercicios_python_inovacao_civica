{
  "nbformat": 4,
  "nbformat_minor": 0,
  "metadata": {
    "colab": {
      "name": "ceap_api2018.ipynb",
      "provenance": [],
      "collapsed_sections": [],
      "authorship_tag": "ABX9TyOKzRIy3d3yC9pzwz70ePyc",
      "include_colab_link": true
    },
    "kernelspec": {
      "name": "python3",
      "display_name": "Python 3"
    },
    "language_info": {
      "name": "python"
    }
  },
  "cells": [
    {
      "cell_type": "markdown",
      "metadata": {
        "id": "view-in-github",
        "colab_type": "text"
      },
      "source": [
        "<a href=\"https://colab.research.google.com/github/Rosangelafl/python-inovacao-civica/blob/main/ceap_api2018.ipynb\" target=\"_parent\"><img src=\"https://colab.research.google.com/assets/colab-badge.svg\" alt=\"Open In Colab\"/></a>"
      ]
    },
    {
      "cell_type": "code",
      "metadata": {
        "colab": {
          "base_uri": "https://localhost:8080/"
        },
        "id": "b0M-w9N_nYw2",
        "outputId": "158fe075-a7ed-42f4-8dcc-eb7a12c26dbd"
      },
      "source": [
        "from google.colab import drive\n",
        "drive.mount('/content/drive')"
      ],
      "execution_count": 118,
      "outputs": [
        {
          "output_type": "stream",
          "text": [
            "Drive already mounted at /content/drive; to attempt to forcibly remount, call drive.mount(\"/content/drive\", force_remount=True).\n"
          ],
          "name": "stdout"
        }
      ]
    },
    {
      "cell_type": "code",
      "metadata": {
        "colab": {
          "base_uri": "https://localhost:8080/"
        },
        "id": "749iBtax8--4",
        "outputId": "660b52d7-aa44-4597-9a4f-dc1ac5d95efa"
      },
      "source": [
        "!pip install plotly==5.2.1"
      ],
      "execution_count": 119,
      "outputs": [
        {
          "output_type": "stream",
          "text": [
            "Requirement already satisfied: plotly==5.2.1 in /usr/local/lib/python3.7/dist-packages (5.2.1)\n",
            "Requirement already satisfied: tenacity>=6.2.0 in /usr/local/lib/python3.7/dist-packages (from plotly==5.2.1) (8.0.1)\n",
            "Requirement already satisfied: six in /usr/local/lib/python3.7/dist-packages (from plotly==5.2.1) (1.15.0)\n"
          ],
          "name": "stdout"
        }
      ]
    },
    {
      "cell_type": "code",
      "metadata": {
        "id": "abPtIhL7oBY6"
      },
      "source": [
        "import pandas as pd\n",
        "import zipfile\n",
        "pd.options.plotting.backend = \"plotly\"\n",
        "\n",
        "pd.set_option('display.max_columns', None)\n",
        "pd.options.display.float_format = '{:,.2f}'.format"
      ],
      "execution_count": 120,
      "outputs": []
    },
    {
      "cell_type": "code",
      "metadata": {
        "colab": {
          "base_uri": "https://localhost:8080/"
        },
        "id": "i5ZTscvIkgVY",
        "outputId": "5a51f98d-c928-4bf1-b5b6-05f0f0a86aee"
      },
      "source": [
        "with zipfile.ZipFile('/content/drive/MyDrive/Python para inovação civica/semana_3/Ano-2018.csv.zip') as z:\n",
        "  print(*z.namelist(), sep='\\n')"
      ],
      "execution_count": 121,
      "outputs": [
        {
          "output_type": "stream",
          "text": [
            "Ano-2018.csv\n"
          ],
          "name": "stdout"
        }
      ]
    },
    {
      "cell_type": "code",
      "metadata": {
        "id": "Dj2AKNS3kgmQ"
      },
      "source": [
        "with zipfile.ZipFile('/content/drive/MyDrive/Python para inovação civica/semana_3/Ano-2018.csv.zip') as z:\n",
        "  with z.open('Ano-2018.csv') as f:\n",
        "    ceap_2018 = pd.read_csv(f, sep=';', encoding='utf-8', dtype=DTYPE, low_memory=False, parse_dates=['datEmissao'])"
      ],
      "execution_count": 122,
      "outputs": []
    },
    {
      "cell_type": "code",
      "metadata": {
        "colab": {
          "base_uri": "https://localhost:8080/",
          "height": 564
        },
        "id": "yrNaE86Mkg0i",
        "outputId": "58a6cc8d-58d6-4f29-cd32-e4407fa8a141"
      },
      "source": [
        " ceap_2018.head()"
      ],
      "execution_count": 123,
      "outputs": [
        {
          "output_type": "execute_result",
          "data": {
            "text/html": [
              "<div>\n",
              "<style scoped>\n",
              "    .dataframe tbody tr th:only-of-type {\n",
              "        vertical-align: middle;\n",
              "    }\n",
              "\n",
              "    .dataframe tbody tr th {\n",
              "        vertical-align: top;\n",
              "    }\n",
              "\n",
              "    .dataframe thead th {\n",
              "        text-align: right;\n",
              "    }\n",
              "</style>\n",
              "<table border=\"1\" class=\"dataframe\">\n",
              "  <thead>\n",
              "    <tr style=\"text-align: right;\">\n",
              "      <th></th>\n",
              "      <th>txNomeParlamentar</th>\n",
              "      <th>cpf</th>\n",
              "      <th>ideCadastro</th>\n",
              "      <th>nuCarteiraParlamentar</th>\n",
              "      <th>nuLegislatura</th>\n",
              "      <th>sgUF</th>\n",
              "      <th>sgPartido</th>\n",
              "      <th>codLegislatura</th>\n",
              "      <th>numSubCota</th>\n",
              "      <th>txtDescricao</th>\n",
              "      <th>numEspecificacaoSubCota</th>\n",
              "      <th>txtDescricaoEspecificacao</th>\n",
              "      <th>txtFornecedor</th>\n",
              "      <th>txtCNPJCPF</th>\n",
              "      <th>txtNumero</th>\n",
              "      <th>indTipoDocumento</th>\n",
              "      <th>datEmissao</th>\n",
              "      <th>vlrDocumento</th>\n",
              "      <th>vlrGlosa</th>\n",
              "      <th>vlrLiquido</th>\n",
              "      <th>numMes</th>\n",
              "      <th>numAno</th>\n",
              "      <th>numParcela</th>\n",
              "      <th>txtPassageiro</th>\n",
              "      <th>txtTrecho</th>\n",
              "      <th>numLote</th>\n",
              "      <th>numRessarcimento</th>\n",
              "      <th>vlrRestituicao</th>\n",
              "      <th>nuDeputadoId</th>\n",
              "      <th>ideDocumento</th>\n",
              "      <th>urlDocumento</th>\n",
              "    </tr>\n",
              "  </thead>\n",
              "  <tbody>\n",
              "    <tr>\n",
              "      <th>0</th>\n",
              "      <td>LID.GOV-CD</td>\n",
              "      <td>nan</td>\n",
              "      <td>NaN</td>\n",
              "      <td>NaN</td>\n",
              "      <td>2015</td>\n",
              "      <td>NaN</td>\n",
              "      <td>NaN</td>\n",
              "      <td>55</td>\n",
              "      <td>13</td>\n",
              "      <td>FORNECIMENTO DE ALIMENTAÇÃO DO PARLAMENTAR</td>\n",
              "      <td>0</td>\n",
              "      <td>NaN</td>\n",
              "      <td>BISCOITOS CASEIROS HOMONNAI LTDA</td>\n",
              "      <td>046.448.200/0017-7</td>\n",
              "      <td>10473</td>\n",
              "      <td>4</td>\n",
              "      <td>2018-12-20</td>\n",
              "      <td>454.41</td>\n",
              "      <td>0</td>\n",
              "      <td>454.41</td>\n",
              "      <td>12</td>\n",
              "      <td>2018</td>\n",
              "      <td>0</td>\n",
              "      <td>NaN</td>\n",
              "      <td>NaN</td>\n",
              "      <td>1550817</td>\n",
              "      <td>NaN</td>\n",
              "      <td>nan</td>\n",
              "      <td>2812</td>\n",
              "      <td>6728796</td>\n",
              "      <td>http://camara.leg.br/cota-parlamentar/nota-fis...</td>\n",
              "    </tr>\n",
              "    <tr>\n",
              "      <th>1</th>\n",
              "      <td>LID.GOV-CD</td>\n",
              "      <td>nan</td>\n",
              "      <td>NaN</td>\n",
              "      <td>NaN</td>\n",
              "      <td>2015</td>\n",
              "      <td>NaN</td>\n",
              "      <td>NaN</td>\n",
              "      <td>55</td>\n",
              "      <td>13</td>\n",
              "      <td>FORNECIMENTO DE ALIMENTAÇÃO DO PARLAMENTAR</td>\n",
              "      <td>0</td>\n",
              "      <td>NaN</td>\n",
              "      <td>BONNA COMERCIAL DE ALIMENTOS EIRELI</td>\n",
              "      <td>106.385.970/0015-8</td>\n",
              "      <td>105</td>\n",
              "      <td>4</td>\n",
              "      <td>2018-02-21</td>\n",
              "      <td>242.90</td>\n",
              "      <td>0</td>\n",
              "      <td>242.90</td>\n",
              "      <td>2</td>\n",
              "      <td>2018</td>\n",
              "      <td>0</td>\n",
              "      <td>NaN</td>\n",
              "      <td>NaN</td>\n",
              "      <td>1467117</td>\n",
              "      <td>NaN</td>\n",
              "      <td>nan</td>\n",
              "      <td>2812</td>\n",
              "      <td>6508293</td>\n",
              "      <td>http://camara.leg.br/cota-parlamentar/nota-fis...</td>\n",
              "    </tr>\n",
              "    <tr>\n",
              "      <th>2</th>\n",
              "      <td>LID.GOV-CD</td>\n",
              "      <td>nan</td>\n",
              "      <td>NaN</td>\n",
              "      <td>NaN</td>\n",
              "      <td>2015</td>\n",
              "      <td>NaN</td>\n",
              "      <td>NaN</td>\n",
              "      <td>55</td>\n",
              "      <td>13</td>\n",
              "      <td>FORNECIMENTO DE ALIMENTAÇÃO DO PARLAMENTAR</td>\n",
              "      <td>0</td>\n",
              "      <td>NaN</td>\n",
              "      <td>CAFE DO FLAVIO EIRELLI-ME</td>\n",
              "      <td>248.825.670/0010-5</td>\n",
              "      <td>40792</td>\n",
              "      <td>4</td>\n",
              "      <td>2018-09-05</td>\n",
              "      <td>79.00</td>\n",
              "      <td>0</td>\n",
              "      <td>79.00</td>\n",
              "      <td>9</td>\n",
              "      <td>2018</td>\n",
              "      <td>0</td>\n",
              "      <td>NaN</td>\n",
              "      <td>NaN</td>\n",
              "      <td>1527969</td>\n",
              "      <td>NaN</td>\n",
              "      <td>nan</td>\n",
              "      <td>2812</td>\n",
              "      <td>6666881</td>\n",
              "      <td>http://camara.leg.br/cota-parlamentar/nota-fis...</td>\n",
              "    </tr>\n",
              "    <tr>\n",
              "      <th>3</th>\n",
              "      <td>LID.GOV-CD</td>\n",
              "      <td>nan</td>\n",
              "      <td>NaN</td>\n",
              "      <td>NaN</td>\n",
              "      <td>2015</td>\n",
              "      <td>NaN</td>\n",
              "      <td>NaN</td>\n",
              "      <td>55</td>\n",
              "      <td>13</td>\n",
              "      <td>FORNECIMENTO DE ALIMENTAÇÃO DO PARLAMENTAR</td>\n",
              "      <td>0</td>\n",
              "      <td>NaN</td>\n",
              "      <td>CAFE DO FLAVIO EIRELLI-ME</td>\n",
              "      <td>248.825.670/0010-5</td>\n",
              "      <td>42181</td>\n",
              "      <td>4</td>\n",
              "      <td>2018-10-16</td>\n",
              "      <td>207.00</td>\n",
              "      <td>0</td>\n",
              "      <td>207.00</td>\n",
              "      <td>10</td>\n",
              "      <td>2018</td>\n",
              "      <td>0</td>\n",
              "      <td>NaN</td>\n",
              "      <td>NaN</td>\n",
              "      <td>1532624</td>\n",
              "      <td>NaN</td>\n",
              "      <td>nan</td>\n",
              "      <td>2812</td>\n",
              "      <td>6681167</td>\n",
              "      <td>http://camara.leg.br/cota-parlamentar/nota-fis...</td>\n",
              "    </tr>\n",
              "    <tr>\n",
              "      <th>4</th>\n",
              "      <td>LID.GOV-CD</td>\n",
              "      <td>nan</td>\n",
              "      <td>NaN</td>\n",
              "      <td>NaN</td>\n",
              "      <td>2015</td>\n",
              "      <td>NaN</td>\n",
              "      <td>NaN</td>\n",
              "      <td>55</td>\n",
              "      <td>13</td>\n",
              "      <td>FORNECIMENTO DE ALIMENTAÇÃO DO PARLAMENTAR</td>\n",
              "      <td>0</td>\n",
              "      <td>NaN</td>\n",
              "      <td>CRISTIANE FERREIRA EPP</td>\n",
              "      <td>037.139.030/0010-8</td>\n",
              "      <td>409</td>\n",
              "      <td>4</td>\n",
              "      <td>2018-02-05</td>\n",
              "      <td>98.75</td>\n",
              "      <td>0</td>\n",
              "      <td>98.75</td>\n",
              "      <td>2</td>\n",
              "      <td>2018</td>\n",
              "      <td>0</td>\n",
              "      <td>NaN</td>\n",
              "      <td>NaN</td>\n",
              "      <td>1460984</td>\n",
              "      <td>NaN</td>\n",
              "      <td>nan</td>\n",
              "      <td>2812</td>\n",
              "      <td>6491959</td>\n",
              "      <td>http://camara.leg.br/cota-parlamentar/nota-fis...</td>\n",
              "    </tr>\n",
              "  </tbody>\n",
              "</table>\n",
              "</div>"
            ],
            "text/plain": [
              "  txNomeParlamentar  cpf ideCadastro nuCarteiraParlamentar nuLegislatura sgUF  \\\n",
              "0        LID.GOV-CD  nan         NaN                   NaN          2015  NaN   \n",
              "1        LID.GOV-CD  nan         NaN                   NaN          2015  NaN   \n",
              "2        LID.GOV-CD  nan         NaN                   NaN          2015  NaN   \n",
              "3        LID.GOV-CD  nan         NaN                   NaN          2015  NaN   \n",
              "4        LID.GOV-CD  nan         NaN                   NaN          2015  NaN   \n",
              "\n",
              "  sgPartido codLegislatura numSubCota  \\\n",
              "0       NaN             55         13   \n",
              "1       NaN             55         13   \n",
              "2       NaN             55         13   \n",
              "3       NaN             55         13   \n",
              "4       NaN             55         13   \n",
              "\n",
              "                                 txtDescricao numEspecificacaoSubCota  \\\n",
              "0  FORNECIMENTO DE ALIMENTAÇÃO DO PARLAMENTAR                       0   \n",
              "1  FORNECIMENTO DE ALIMENTAÇÃO DO PARLAMENTAR                       0   \n",
              "2  FORNECIMENTO DE ALIMENTAÇÃO DO PARLAMENTAR                       0   \n",
              "3  FORNECIMENTO DE ALIMENTAÇÃO DO PARLAMENTAR                       0   \n",
              "4  FORNECIMENTO DE ALIMENTAÇÃO DO PARLAMENTAR                       0   \n",
              "\n",
              "  txtDescricaoEspecificacao                        txtFornecedor  \\\n",
              "0                       NaN     BISCOITOS CASEIROS HOMONNAI LTDA   \n",
              "1                       NaN  BONNA COMERCIAL DE ALIMENTOS EIRELI   \n",
              "2                       NaN            CAFE DO FLAVIO EIRELLI-ME   \n",
              "3                       NaN            CAFE DO FLAVIO EIRELLI-ME   \n",
              "4                       NaN               CRISTIANE FERREIRA EPP   \n",
              "\n",
              "           txtCNPJCPF txtNumero indTipoDocumento datEmissao  vlrDocumento  \\\n",
              "0  046.448.200/0017-7     10473                4 2018-12-20        454.41   \n",
              "1  106.385.970/0015-8       105                4 2018-02-21        242.90   \n",
              "2  248.825.670/0010-5     40792                4 2018-09-05         79.00   \n",
              "3  248.825.670/0010-5     42181                4 2018-10-16        207.00   \n",
              "4  037.139.030/0010-8       409                4 2018-02-05         98.75   \n",
              "\n",
              "  vlrGlosa  vlrLiquido numMes numAno numParcela txtPassageiro txtTrecho  \\\n",
              "0        0      454.41     12   2018          0           NaN       NaN   \n",
              "1        0      242.90      2   2018          0           NaN       NaN   \n",
              "2        0       79.00      9   2018          0           NaN       NaN   \n",
              "3        0      207.00     10   2018          0           NaN       NaN   \n",
              "4        0       98.75      2   2018          0           NaN       NaN   \n",
              "\n",
              "   numLote numRessarcimento  vlrRestituicao nuDeputadoId ideDocumento  \\\n",
              "0  1550817              NaN             nan         2812      6728796   \n",
              "1  1467117              NaN             nan         2812      6508293   \n",
              "2  1527969              NaN             nan         2812      6666881   \n",
              "3  1532624              NaN             nan         2812      6681167   \n",
              "4  1460984              NaN             nan         2812      6491959   \n",
              "\n",
              "                                        urlDocumento  \n",
              "0  http://camara.leg.br/cota-parlamentar/nota-fis...  \n",
              "1  http://camara.leg.br/cota-parlamentar/nota-fis...  \n",
              "2  http://camara.leg.br/cota-parlamentar/nota-fis...  \n",
              "3  http://camara.leg.br/cota-parlamentar/nota-fis...  \n",
              "4  http://camara.leg.br/cota-parlamentar/nota-fis...  "
            ]
          },
          "metadata": {},
          "execution_count": 123
        }
      ]
    },
    {
      "cell_type": "code",
      "metadata": {
        "id": "_2oIA-97oBqD"
      },
      "source": [
        "DTYPE = {\n",
        "    'txNomeParlamentar': str,\n",
        "    'ideCadastro': str,\n",
        "    'nuCarteiraParlamentar': str,\n",
        "    'nuLegislatura': str,\n",
        "    'sgUF': str,\n",
        "    'sgPartido': str,\n",
        "    'codLegislatura': str,\n",
        "    'numSubCota': str,\n",
        "    'txtDescricao': str,\n",
        "    'numEspecificacaoSubCota': str,\n",
        "    'txtDescricaoEspecificacao': str,\n",
        "    'txtFornecedor': str,\n",
        "    'txtCNPJCPF': str,\n",
        "    'txtNumero': str,\n",
        "    'indTipoDocumento': str,\n",
        "    'datEmissao': str,\n",
        "    'vlrDocumento': float,\n",
        "    'vlrGlosa': str,\n",
        "    'vlrLiquido': float,\n",
        "    'numMes': str,\n",
        "    'numAno': str,\n",
        "    'numParcela': str,\n",
        "    'txtPassageiro': str,\n",
        "    'txtTrecho': str,\n",
        "    'numLote': str,\n",
        "    'numRessarcimento': str,\n",
        "    'nuDeputadoId': str,\n",
        "    'ideDocumento': str,\n",
        "}\n"
      ],
      "execution_count": 124,
      "outputs": []
    },
    {
      "cell_type": "code",
      "metadata": {
        "id": "4IKv2zxhpOb9",
        "colab": {
          "base_uri": "https://localhost:8080/"
        },
        "outputId": "466dda03-ff78-471d-d7f6-7548bd3bf2ef"
      },
      "source": [
        "ceap_2018.columns.values"
      ],
      "execution_count": 125,
      "outputs": [
        {
          "output_type": "execute_result",
          "data": {
            "text/plain": [
              "array(['txNomeParlamentar', 'cpf', 'ideCadastro', 'nuCarteiraParlamentar',\n",
              "       'nuLegislatura', 'sgUF', 'sgPartido', 'codLegislatura',\n",
              "       'numSubCota', 'txtDescricao', 'numEspecificacaoSubCota',\n",
              "       'txtDescricaoEspecificacao', 'txtFornecedor', 'txtCNPJCPF',\n",
              "       'txtNumero', 'indTipoDocumento', 'datEmissao', 'vlrDocumento',\n",
              "       'vlrGlosa', 'vlrLiquido', 'numMes', 'numAno', 'numParcela',\n",
              "       'txtPassageiro', 'txtTrecho', 'numLote', 'numRessarcimento',\n",
              "       'vlrRestituicao', 'nuDeputadoId', 'ideDocumento', 'urlDocumento'],\n",
              "      dtype=object)"
            ]
          },
          "metadata": {},
          "execution_count": 125
        }
      ]
    },
    {
      "cell_type": "code",
      "metadata": {
        "id": "izovEPKr0YP2",
        "colab": {
          "base_uri": "https://localhost:8080/"
        },
        "outputId": "1d3fd586-7564-47b3-bfae-3e8a4aae14c9"
      },
      "source": [
        "ceap_2018.info()"
      ],
      "execution_count": 126,
      "outputs": [
        {
          "output_type": "stream",
          "text": [
            "<class 'pandas.core.frame.DataFrame'>\n",
            "RangeIndex: 292632 entries, 0 to 292631\n",
            "Data columns (total 31 columns):\n",
            " #   Column                     Non-Null Count   Dtype         \n",
            "---  ------                     --------------   -----         \n",
            " 0   txNomeParlamentar          292632 non-null  object        \n",
            " 1   cpf                        291880 non-null  float64       \n",
            " 2   ideCadastro                291880 non-null  object        \n",
            " 3   nuCarteiraParlamentar      291880 non-null  object        \n",
            " 4   nuLegislatura              292632 non-null  object        \n",
            " 5   sgUF                       291880 non-null  object        \n",
            " 6   sgPartido                  291880 non-null  object        \n",
            " 7   codLegislatura             292632 non-null  object        \n",
            " 8   numSubCota                 292632 non-null  object        \n",
            " 9   txtDescricao               292632 non-null  object        \n",
            " 10  numEspecificacaoSubCota    292632 non-null  object        \n",
            " 11  txtDescricaoEspecificacao  61862 non-null   object        \n",
            " 12  txtFornecedor              292630 non-null  object        \n",
            " 13  txtCNPJCPF                 292632 non-null  object        \n",
            " 14  txtNumero                  292632 non-null  object        \n",
            " 15  indTipoDocumento           292632 non-null  object        \n",
            " 16  datEmissao                 282589 non-null  datetime64[ns]\n",
            " 17  vlrDocumento               292632 non-null  float64       \n",
            " 18  vlrGlosa                   292632 non-null  object        \n",
            " 19  vlrLiquido                 292632 non-null  float64       \n",
            " 20  numMes                     292632 non-null  object        \n",
            " 21  numAno                     292632 non-null  object        \n",
            " 22  numParcela                 292632 non-null  object        \n",
            " 23  txtPassageiro              92570 non-null   object        \n",
            " 24  txtTrecho                  92240 non-null   object        \n",
            " 25  numLote                    292632 non-null  object        \n",
            " 26  numRessarcimento           126503 non-null  object        \n",
            " 27  vlrRestituicao             78 non-null      float64       \n",
            " 28  nuDeputadoId               292632 non-null  object        \n",
            " 29  ideDocumento               292632 non-null  object        \n",
            " 30  urlDocumento               152018 non-null  object        \n",
            "dtypes: datetime64[ns](1), float64(4), object(26)\n",
            "memory usage: 69.2+ MB\n"
          ],
          "name": "stdout"
        }
      ]
    },
    {
      "cell_type": "code",
      "metadata": {
        "id": "5lAX2o5FpQ8R",
        "colab": {
          "base_uri": "https://localhost:8080/"
        },
        "outputId": "e444b287-8694-4604-ef4c-0e418eeee199"
      },
      "source": [
        "ceap_2018.isnull().sum()"
      ],
      "execution_count": 127,
      "outputs": [
        {
          "output_type": "execute_result",
          "data": {
            "text/plain": [
              "txNomeParlamentar                 0\n",
              "cpf                             752\n",
              "ideCadastro                     752\n",
              "nuCarteiraParlamentar           752\n",
              "nuLegislatura                     0\n",
              "sgUF                            752\n",
              "sgPartido                       752\n",
              "codLegislatura                    0\n",
              "numSubCota                        0\n",
              "txtDescricao                      0\n",
              "numEspecificacaoSubCota           0\n",
              "txtDescricaoEspecificacao    230770\n",
              "txtFornecedor                     2\n",
              "txtCNPJCPF                        0\n",
              "txtNumero                         0\n",
              "indTipoDocumento                  0\n",
              "datEmissao                    10043\n",
              "vlrDocumento                      0\n",
              "vlrGlosa                          0\n",
              "vlrLiquido                        0\n",
              "numMes                            0\n",
              "numAno                            0\n",
              "numParcela                        0\n",
              "txtPassageiro                200062\n",
              "txtTrecho                    200392\n",
              "numLote                           0\n",
              "numRessarcimento             166129\n",
              "vlrRestituicao               292554\n",
              "nuDeputadoId                      0\n",
              "ideDocumento                      0\n",
              "urlDocumento                 140614\n",
              "dtype: int64"
            ]
          },
          "metadata": {},
          "execution_count": 127
        }
      ]
    },
    {
      "cell_type": "code",
      "metadata": {
        "id": "vsgoOJjOshWS"
      },
      "source": [
        "ceap_2018['txNomeParlamentar'] = ceap_2018['txNomeParlamentar'].str.upper()"
      ],
      "execution_count": 128,
      "outputs": []
    },
    {
      "cell_type": "code",
      "metadata": {
        "colab": {
          "base_uri": "https://localhost:8080/"
        },
        "id": "o8nScDf0sLMB",
        "outputId": "da170fec-ea86-4239-cd49-55dce844d863"
      },
      "source": [
        "ceap_2018['txNomeParlamentar'].value_counts()"
      ],
      "execution_count": 129,
      "outputs": [
        {
          "output_type": "execute_result",
          "data": {
            "text/plain": [
              "DIEGO GARCIA           1931\n",
              "JORGE TADEU MUDALEN    1753\n",
              "CAPITÃO AUGUSTO        1666\n",
              "HENRIQUE FONTANA       1483\n",
              "DIMAS FABIANO          1409\n",
              "                       ... \n",
              "FELIPE SOUZA             14\n",
              "LIDERANÇA DO AVANTE       7\n",
              "LIDERANÇA DO PSOL         6\n",
              "LIDERANÇA DO PSD          6\n",
              "LIDERANÇA DO PHS          2\n",
              "Name: txNomeParlamentar, Length: 568, dtype: int64"
            ]
          },
          "metadata": {},
          "execution_count": 129
        }
      ]
    },
    {
      "cell_type": "code",
      "metadata": {
        "id": "Rv0DUsB0vGtw",
        "colab": {
          "base_uri": "https://localhost:8080/",
          "height": 564
        },
        "outputId": "34284bd5-c95f-43a0-c24d-71130353c677"
      },
      "source": [
        "ceap_2018.fillna(value='Não se aplica').head()"
      ],
      "execution_count": 130,
      "outputs": [
        {
          "output_type": "execute_result",
          "data": {
            "text/html": [
              "<div>\n",
              "<style scoped>\n",
              "    .dataframe tbody tr th:only-of-type {\n",
              "        vertical-align: middle;\n",
              "    }\n",
              "\n",
              "    .dataframe tbody tr th {\n",
              "        vertical-align: top;\n",
              "    }\n",
              "\n",
              "    .dataframe thead th {\n",
              "        text-align: right;\n",
              "    }\n",
              "</style>\n",
              "<table border=\"1\" class=\"dataframe\">\n",
              "  <thead>\n",
              "    <tr style=\"text-align: right;\">\n",
              "      <th></th>\n",
              "      <th>txNomeParlamentar</th>\n",
              "      <th>cpf</th>\n",
              "      <th>ideCadastro</th>\n",
              "      <th>nuCarteiraParlamentar</th>\n",
              "      <th>nuLegislatura</th>\n",
              "      <th>sgUF</th>\n",
              "      <th>sgPartido</th>\n",
              "      <th>codLegislatura</th>\n",
              "      <th>numSubCota</th>\n",
              "      <th>txtDescricao</th>\n",
              "      <th>numEspecificacaoSubCota</th>\n",
              "      <th>txtDescricaoEspecificacao</th>\n",
              "      <th>txtFornecedor</th>\n",
              "      <th>txtCNPJCPF</th>\n",
              "      <th>txtNumero</th>\n",
              "      <th>indTipoDocumento</th>\n",
              "      <th>datEmissao</th>\n",
              "      <th>vlrDocumento</th>\n",
              "      <th>vlrGlosa</th>\n",
              "      <th>vlrLiquido</th>\n",
              "      <th>numMes</th>\n",
              "      <th>numAno</th>\n",
              "      <th>numParcela</th>\n",
              "      <th>txtPassageiro</th>\n",
              "      <th>txtTrecho</th>\n",
              "      <th>numLote</th>\n",
              "      <th>numRessarcimento</th>\n",
              "      <th>vlrRestituicao</th>\n",
              "      <th>nuDeputadoId</th>\n",
              "      <th>ideDocumento</th>\n",
              "      <th>urlDocumento</th>\n",
              "    </tr>\n",
              "  </thead>\n",
              "  <tbody>\n",
              "    <tr>\n",
              "      <th>0</th>\n",
              "      <td>LID.GOV-CD</td>\n",
              "      <td>Não se aplica</td>\n",
              "      <td>Não se aplica</td>\n",
              "      <td>Não se aplica</td>\n",
              "      <td>2015</td>\n",
              "      <td>Não se aplica</td>\n",
              "      <td>Não se aplica</td>\n",
              "      <td>55</td>\n",
              "      <td>13</td>\n",
              "      <td>FORNECIMENTO DE ALIMENTAÇÃO DO PARLAMENTAR</td>\n",
              "      <td>0</td>\n",
              "      <td>Não se aplica</td>\n",
              "      <td>BISCOITOS CASEIROS HOMONNAI LTDA</td>\n",
              "      <td>046.448.200/0017-7</td>\n",
              "      <td>10473</td>\n",
              "      <td>4</td>\n",
              "      <td>2018-12-20 00:00:00</td>\n",
              "      <td>454.41</td>\n",
              "      <td>0</td>\n",
              "      <td>454.41</td>\n",
              "      <td>12</td>\n",
              "      <td>2018</td>\n",
              "      <td>0</td>\n",
              "      <td>Não se aplica</td>\n",
              "      <td>Não se aplica</td>\n",
              "      <td>1550817</td>\n",
              "      <td>Não se aplica</td>\n",
              "      <td>Não se aplica</td>\n",
              "      <td>2812</td>\n",
              "      <td>6728796</td>\n",
              "      <td>http://camara.leg.br/cota-parlamentar/nota-fis...</td>\n",
              "    </tr>\n",
              "    <tr>\n",
              "      <th>1</th>\n",
              "      <td>LID.GOV-CD</td>\n",
              "      <td>Não se aplica</td>\n",
              "      <td>Não se aplica</td>\n",
              "      <td>Não se aplica</td>\n",
              "      <td>2015</td>\n",
              "      <td>Não se aplica</td>\n",
              "      <td>Não se aplica</td>\n",
              "      <td>55</td>\n",
              "      <td>13</td>\n",
              "      <td>FORNECIMENTO DE ALIMENTAÇÃO DO PARLAMENTAR</td>\n",
              "      <td>0</td>\n",
              "      <td>Não se aplica</td>\n",
              "      <td>BONNA COMERCIAL DE ALIMENTOS EIRELI</td>\n",
              "      <td>106.385.970/0015-8</td>\n",
              "      <td>105</td>\n",
              "      <td>4</td>\n",
              "      <td>2018-02-21 00:00:00</td>\n",
              "      <td>242.90</td>\n",
              "      <td>0</td>\n",
              "      <td>242.90</td>\n",
              "      <td>2</td>\n",
              "      <td>2018</td>\n",
              "      <td>0</td>\n",
              "      <td>Não se aplica</td>\n",
              "      <td>Não se aplica</td>\n",
              "      <td>1467117</td>\n",
              "      <td>Não se aplica</td>\n",
              "      <td>Não se aplica</td>\n",
              "      <td>2812</td>\n",
              "      <td>6508293</td>\n",
              "      <td>http://camara.leg.br/cota-parlamentar/nota-fis...</td>\n",
              "    </tr>\n",
              "    <tr>\n",
              "      <th>2</th>\n",
              "      <td>LID.GOV-CD</td>\n",
              "      <td>Não se aplica</td>\n",
              "      <td>Não se aplica</td>\n",
              "      <td>Não se aplica</td>\n",
              "      <td>2015</td>\n",
              "      <td>Não se aplica</td>\n",
              "      <td>Não se aplica</td>\n",
              "      <td>55</td>\n",
              "      <td>13</td>\n",
              "      <td>FORNECIMENTO DE ALIMENTAÇÃO DO PARLAMENTAR</td>\n",
              "      <td>0</td>\n",
              "      <td>Não se aplica</td>\n",
              "      <td>CAFE DO FLAVIO EIRELLI-ME</td>\n",
              "      <td>248.825.670/0010-5</td>\n",
              "      <td>40792</td>\n",
              "      <td>4</td>\n",
              "      <td>2018-09-05 00:00:00</td>\n",
              "      <td>79.00</td>\n",
              "      <td>0</td>\n",
              "      <td>79.00</td>\n",
              "      <td>9</td>\n",
              "      <td>2018</td>\n",
              "      <td>0</td>\n",
              "      <td>Não se aplica</td>\n",
              "      <td>Não se aplica</td>\n",
              "      <td>1527969</td>\n",
              "      <td>Não se aplica</td>\n",
              "      <td>Não se aplica</td>\n",
              "      <td>2812</td>\n",
              "      <td>6666881</td>\n",
              "      <td>http://camara.leg.br/cota-parlamentar/nota-fis...</td>\n",
              "    </tr>\n",
              "    <tr>\n",
              "      <th>3</th>\n",
              "      <td>LID.GOV-CD</td>\n",
              "      <td>Não se aplica</td>\n",
              "      <td>Não se aplica</td>\n",
              "      <td>Não se aplica</td>\n",
              "      <td>2015</td>\n",
              "      <td>Não se aplica</td>\n",
              "      <td>Não se aplica</td>\n",
              "      <td>55</td>\n",
              "      <td>13</td>\n",
              "      <td>FORNECIMENTO DE ALIMENTAÇÃO DO PARLAMENTAR</td>\n",
              "      <td>0</td>\n",
              "      <td>Não se aplica</td>\n",
              "      <td>CAFE DO FLAVIO EIRELLI-ME</td>\n",
              "      <td>248.825.670/0010-5</td>\n",
              "      <td>42181</td>\n",
              "      <td>4</td>\n",
              "      <td>2018-10-16 00:00:00</td>\n",
              "      <td>207.00</td>\n",
              "      <td>0</td>\n",
              "      <td>207.00</td>\n",
              "      <td>10</td>\n",
              "      <td>2018</td>\n",
              "      <td>0</td>\n",
              "      <td>Não se aplica</td>\n",
              "      <td>Não se aplica</td>\n",
              "      <td>1532624</td>\n",
              "      <td>Não se aplica</td>\n",
              "      <td>Não se aplica</td>\n",
              "      <td>2812</td>\n",
              "      <td>6681167</td>\n",
              "      <td>http://camara.leg.br/cota-parlamentar/nota-fis...</td>\n",
              "    </tr>\n",
              "    <tr>\n",
              "      <th>4</th>\n",
              "      <td>LID.GOV-CD</td>\n",
              "      <td>Não se aplica</td>\n",
              "      <td>Não se aplica</td>\n",
              "      <td>Não se aplica</td>\n",
              "      <td>2015</td>\n",
              "      <td>Não se aplica</td>\n",
              "      <td>Não se aplica</td>\n",
              "      <td>55</td>\n",
              "      <td>13</td>\n",
              "      <td>FORNECIMENTO DE ALIMENTAÇÃO DO PARLAMENTAR</td>\n",
              "      <td>0</td>\n",
              "      <td>Não se aplica</td>\n",
              "      <td>CRISTIANE FERREIRA EPP</td>\n",
              "      <td>037.139.030/0010-8</td>\n",
              "      <td>409</td>\n",
              "      <td>4</td>\n",
              "      <td>2018-02-05 00:00:00</td>\n",
              "      <td>98.75</td>\n",
              "      <td>0</td>\n",
              "      <td>98.75</td>\n",
              "      <td>2</td>\n",
              "      <td>2018</td>\n",
              "      <td>0</td>\n",
              "      <td>Não se aplica</td>\n",
              "      <td>Não se aplica</td>\n",
              "      <td>1460984</td>\n",
              "      <td>Não se aplica</td>\n",
              "      <td>Não se aplica</td>\n",
              "      <td>2812</td>\n",
              "      <td>6491959</td>\n",
              "      <td>http://camara.leg.br/cota-parlamentar/nota-fis...</td>\n",
              "    </tr>\n",
              "  </tbody>\n",
              "</table>\n",
              "</div>"
            ],
            "text/plain": [
              "  txNomeParlamentar            cpf    ideCadastro nuCarteiraParlamentar  \\\n",
              "0        LID.GOV-CD  Não se aplica  Não se aplica         Não se aplica   \n",
              "1        LID.GOV-CD  Não se aplica  Não se aplica         Não se aplica   \n",
              "2        LID.GOV-CD  Não se aplica  Não se aplica         Não se aplica   \n",
              "3        LID.GOV-CD  Não se aplica  Não se aplica         Não se aplica   \n",
              "4        LID.GOV-CD  Não se aplica  Não se aplica         Não se aplica   \n",
              "\n",
              "  nuLegislatura           sgUF      sgPartido codLegislatura numSubCota  \\\n",
              "0          2015  Não se aplica  Não se aplica             55         13   \n",
              "1          2015  Não se aplica  Não se aplica             55         13   \n",
              "2          2015  Não se aplica  Não se aplica             55         13   \n",
              "3          2015  Não se aplica  Não se aplica             55         13   \n",
              "4          2015  Não se aplica  Não se aplica             55         13   \n",
              "\n",
              "                                 txtDescricao numEspecificacaoSubCota  \\\n",
              "0  FORNECIMENTO DE ALIMENTAÇÃO DO PARLAMENTAR                       0   \n",
              "1  FORNECIMENTO DE ALIMENTAÇÃO DO PARLAMENTAR                       0   \n",
              "2  FORNECIMENTO DE ALIMENTAÇÃO DO PARLAMENTAR                       0   \n",
              "3  FORNECIMENTO DE ALIMENTAÇÃO DO PARLAMENTAR                       0   \n",
              "4  FORNECIMENTO DE ALIMENTAÇÃO DO PARLAMENTAR                       0   \n",
              "\n",
              "  txtDescricaoEspecificacao                        txtFornecedor  \\\n",
              "0             Não se aplica     BISCOITOS CASEIROS HOMONNAI LTDA   \n",
              "1             Não se aplica  BONNA COMERCIAL DE ALIMENTOS EIRELI   \n",
              "2             Não se aplica            CAFE DO FLAVIO EIRELLI-ME   \n",
              "3             Não se aplica            CAFE DO FLAVIO EIRELLI-ME   \n",
              "4             Não se aplica               CRISTIANE FERREIRA EPP   \n",
              "\n",
              "           txtCNPJCPF txtNumero indTipoDocumento           datEmissao  \\\n",
              "0  046.448.200/0017-7     10473                4  2018-12-20 00:00:00   \n",
              "1  106.385.970/0015-8       105                4  2018-02-21 00:00:00   \n",
              "2  248.825.670/0010-5     40792                4  2018-09-05 00:00:00   \n",
              "3  248.825.670/0010-5     42181                4  2018-10-16 00:00:00   \n",
              "4  037.139.030/0010-8       409                4  2018-02-05 00:00:00   \n",
              "\n",
              "   vlrDocumento vlrGlosa  vlrLiquido numMes numAno numParcela  txtPassageiro  \\\n",
              "0        454.41        0      454.41     12   2018          0  Não se aplica   \n",
              "1        242.90        0      242.90      2   2018          0  Não se aplica   \n",
              "2         79.00        0       79.00      9   2018          0  Não se aplica   \n",
              "3        207.00        0      207.00     10   2018          0  Não se aplica   \n",
              "4         98.75        0       98.75      2   2018          0  Não se aplica   \n",
              "\n",
              "       txtTrecho  numLote numRessarcimento vlrRestituicao nuDeputadoId  \\\n",
              "0  Não se aplica  1550817    Não se aplica  Não se aplica         2812   \n",
              "1  Não se aplica  1467117    Não se aplica  Não se aplica         2812   \n",
              "2  Não se aplica  1527969    Não se aplica  Não se aplica         2812   \n",
              "3  Não se aplica  1532624    Não se aplica  Não se aplica         2812   \n",
              "4  Não se aplica  1460984    Não se aplica  Não se aplica         2812   \n",
              "\n",
              "  ideDocumento                                       urlDocumento  \n",
              "0      6728796  http://camara.leg.br/cota-parlamentar/nota-fis...  \n",
              "1      6508293  http://camara.leg.br/cota-parlamentar/nota-fis...  \n",
              "2      6666881  http://camara.leg.br/cota-parlamentar/nota-fis...  \n",
              "3      6681167  http://camara.leg.br/cota-parlamentar/nota-fis...  \n",
              "4      6491959  http://camara.leg.br/cota-parlamentar/nota-fis...  "
            ]
          },
          "metadata": {},
          "execution_count": 130
        }
      ]
    },
    {
      "cell_type": "code",
      "metadata": {
        "id": "U5v-qW9ovx2O",
        "colab": {
          "base_uri": "https://localhost:8080/",
          "height": 864
        },
        "outputId": "6e9e21f6-964e-46ca-a42b-e7f17bd27dd9"
      },
      "source": [
        "ceap_2018[ceap_2018.sgPartido.isna()]"
      ],
      "execution_count": 131,
      "outputs": [
        {
          "output_type": "execute_result",
          "data": {
            "text/html": [
              "<div>\n",
              "<style scoped>\n",
              "    .dataframe tbody tr th:only-of-type {\n",
              "        vertical-align: middle;\n",
              "    }\n",
              "\n",
              "    .dataframe tbody tr th {\n",
              "        vertical-align: top;\n",
              "    }\n",
              "\n",
              "    .dataframe thead th {\n",
              "        text-align: right;\n",
              "    }\n",
              "</style>\n",
              "<table border=\"1\" class=\"dataframe\">\n",
              "  <thead>\n",
              "    <tr style=\"text-align: right;\">\n",
              "      <th></th>\n",
              "      <th>txNomeParlamentar</th>\n",
              "      <th>cpf</th>\n",
              "      <th>ideCadastro</th>\n",
              "      <th>nuCarteiraParlamentar</th>\n",
              "      <th>nuLegislatura</th>\n",
              "      <th>sgUF</th>\n",
              "      <th>sgPartido</th>\n",
              "      <th>codLegislatura</th>\n",
              "      <th>numSubCota</th>\n",
              "      <th>txtDescricao</th>\n",
              "      <th>numEspecificacaoSubCota</th>\n",
              "      <th>txtDescricaoEspecificacao</th>\n",
              "      <th>txtFornecedor</th>\n",
              "      <th>txtCNPJCPF</th>\n",
              "      <th>txtNumero</th>\n",
              "      <th>indTipoDocumento</th>\n",
              "      <th>datEmissao</th>\n",
              "      <th>vlrDocumento</th>\n",
              "      <th>vlrGlosa</th>\n",
              "      <th>vlrLiquido</th>\n",
              "      <th>numMes</th>\n",
              "      <th>numAno</th>\n",
              "      <th>numParcela</th>\n",
              "      <th>txtPassageiro</th>\n",
              "      <th>txtTrecho</th>\n",
              "      <th>numLote</th>\n",
              "      <th>numRessarcimento</th>\n",
              "      <th>vlrRestituicao</th>\n",
              "      <th>nuDeputadoId</th>\n",
              "      <th>ideDocumento</th>\n",
              "      <th>urlDocumento</th>\n",
              "    </tr>\n",
              "  </thead>\n",
              "  <tbody>\n",
              "    <tr>\n",
              "      <th>0</th>\n",
              "      <td>LID.GOV-CD</td>\n",
              "      <td>nan</td>\n",
              "      <td>NaN</td>\n",
              "      <td>NaN</td>\n",
              "      <td>2015</td>\n",
              "      <td>NaN</td>\n",
              "      <td>NaN</td>\n",
              "      <td>55</td>\n",
              "      <td>13</td>\n",
              "      <td>FORNECIMENTO DE ALIMENTAÇÃO DO PARLAMENTAR</td>\n",
              "      <td>0</td>\n",
              "      <td>NaN</td>\n",
              "      <td>BISCOITOS CASEIROS HOMONNAI LTDA</td>\n",
              "      <td>046.448.200/0017-7</td>\n",
              "      <td>10473</td>\n",
              "      <td>4</td>\n",
              "      <td>2018-12-20</td>\n",
              "      <td>454.41</td>\n",
              "      <td>0</td>\n",
              "      <td>454.41</td>\n",
              "      <td>12</td>\n",
              "      <td>2018</td>\n",
              "      <td>0</td>\n",
              "      <td>NaN</td>\n",
              "      <td>NaN</td>\n",
              "      <td>1550817</td>\n",
              "      <td>NaN</td>\n",
              "      <td>nan</td>\n",
              "      <td>2812</td>\n",
              "      <td>6728796</td>\n",
              "      <td>http://camara.leg.br/cota-parlamentar/nota-fis...</td>\n",
              "    </tr>\n",
              "    <tr>\n",
              "      <th>1</th>\n",
              "      <td>LID.GOV-CD</td>\n",
              "      <td>nan</td>\n",
              "      <td>NaN</td>\n",
              "      <td>NaN</td>\n",
              "      <td>2015</td>\n",
              "      <td>NaN</td>\n",
              "      <td>NaN</td>\n",
              "      <td>55</td>\n",
              "      <td>13</td>\n",
              "      <td>FORNECIMENTO DE ALIMENTAÇÃO DO PARLAMENTAR</td>\n",
              "      <td>0</td>\n",
              "      <td>NaN</td>\n",
              "      <td>BONNA COMERCIAL DE ALIMENTOS EIRELI</td>\n",
              "      <td>106.385.970/0015-8</td>\n",
              "      <td>105</td>\n",
              "      <td>4</td>\n",
              "      <td>2018-02-21</td>\n",
              "      <td>242.90</td>\n",
              "      <td>0</td>\n",
              "      <td>242.90</td>\n",
              "      <td>2</td>\n",
              "      <td>2018</td>\n",
              "      <td>0</td>\n",
              "      <td>NaN</td>\n",
              "      <td>NaN</td>\n",
              "      <td>1467117</td>\n",
              "      <td>NaN</td>\n",
              "      <td>nan</td>\n",
              "      <td>2812</td>\n",
              "      <td>6508293</td>\n",
              "      <td>http://camara.leg.br/cota-parlamentar/nota-fis...</td>\n",
              "    </tr>\n",
              "    <tr>\n",
              "      <th>2</th>\n",
              "      <td>LID.GOV-CD</td>\n",
              "      <td>nan</td>\n",
              "      <td>NaN</td>\n",
              "      <td>NaN</td>\n",
              "      <td>2015</td>\n",
              "      <td>NaN</td>\n",
              "      <td>NaN</td>\n",
              "      <td>55</td>\n",
              "      <td>13</td>\n",
              "      <td>FORNECIMENTO DE ALIMENTAÇÃO DO PARLAMENTAR</td>\n",
              "      <td>0</td>\n",
              "      <td>NaN</td>\n",
              "      <td>CAFE DO FLAVIO EIRELLI-ME</td>\n",
              "      <td>248.825.670/0010-5</td>\n",
              "      <td>40792</td>\n",
              "      <td>4</td>\n",
              "      <td>2018-09-05</td>\n",
              "      <td>79.00</td>\n",
              "      <td>0</td>\n",
              "      <td>79.00</td>\n",
              "      <td>9</td>\n",
              "      <td>2018</td>\n",
              "      <td>0</td>\n",
              "      <td>NaN</td>\n",
              "      <td>NaN</td>\n",
              "      <td>1527969</td>\n",
              "      <td>NaN</td>\n",
              "      <td>nan</td>\n",
              "      <td>2812</td>\n",
              "      <td>6666881</td>\n",
              "      <td>http://camara.leg.br/cota-parlamentar/nota-fis...</td>\n",
              "    </tr>\n",
              "    <tr>\n",
              "      <th>3</th>\n",
              "      <td>LID.GOV-CD</td>\n",
              "      <td>nan</td>\n",
              "      <td>NaN</td>\n",
              "      <td>NaN</td>\n",
              "      <td>2015</td>\n",
              "      <td>NaN</td>\n",
              "      <td>NaN</td>\n",
              "      <td>55</td>\n",
              "      <td>13</td>\n",
              "      <td>FORNECIMENTO DE ALIMENTAÇÃO DO PARLAMENTAR</td>\n",
              "      <td>0</td>\n",
              "      <td>NaN</td>\n",
              "      <td>CAFE DO FLAVIO EIRELLI-ME</td>\n",
              "      <td>248.825.670/0010-5</td>\n",
              "      <td>42181</td>\n",
              "      <td>4</td>\n",
              "      <td>2018-10-16</td>\n",
              "      <td>207.00</td>\n",
              "      <td>0</td>\n",
              "      <td>207.00</td>\n",
              "      <td>10</td>\n",
              "      <td>2018</td>\n",
              "      <td>0</td>\n",
              "      <td>NaN</td>\n",
              "      <td>NaN</td>\n",
              "      <td>1532624</td>\n",
              "      <td>NaN</td>\n",
              "      <td>nan</td>\n",
              "      <td>2812</td>\n",
              "      <td>6681167</td>\n",
              "      <td>http://camara.leg.br/cota-parlamentar/nota-fis...</td>\n",
              "    </tr>\n",
              "    <tr>\n",
              "      <th>4</th>\n",
              "      <td>LID.GOV-CD</td>\n",
              "      <td>nan</td>\n",
              "      <td>NaN</td>\n",
              "      <td>NaN</td>\n",
              "      <td>2015</td>\n",
              "      <td>NaN</td>\n",
              "      <td>NaN</td>\n",
              "      <td>55</td>\n",
              "      <td>13</td>\n",
              "      <td>FORNECIMENTO DE ALIMENTAÇÃO DO PARLAMENTAR</td>\n",
              "      <td>0</td>\n",
              "      <td>NaN</td>\n",
              "      <td>CRISTIANE FERREIRA EPP</td>\n",
              "      <td>037.139.030/0010-8</td>\n",
              "      <td>409</td>\n",
              "      <td>4</td>\n",
              "      <td>2018-02-05</td>\n",
              "      <td>98.75</td>\n",
              "      <td>0</td>\n",
              "      <td>98.75</td>\n",
              "      <td>2</td>\n",
              "      <td>2018</td>\n",
              "      <td>0</td>\n",
              "      <td>NaN</td>\n",
              "      <td>NaN</td>\n",
              "      <td>1460984</td>\n",
              "      <td>NaN</td>\n",
              "      <td>nan</td>\n",
              "      <td>2812</td>\n",
              "      <td>6491959</td>\n",
              "      <td>http://camara.leg.br/cota-parlamentar/nota-fis...</td>\n",
              "    </tr>\n",
              "    <tr>\n",
              "      <th>...</th>\n",
              "      <td>...</td>\n",
              "      <td>...</td>\n",
              "      <td>...</td>\n",
              "      <td>...</td>\n",
              "      <td>...</td>\n",
              "      <td>...</td>\n",
              "      <td>...</td>\n",
              "      <td>...</td>\n",
              "      <td>...</td>\n",
              "      <td>...</td>\n",
              "      <td>...</td>\n",
              "      <td>...</td>\n",
              "      <td>...</td>\n",
              "      <td>...</td>\n",
              "      <td>...</td>\n",
              "      <td>...</td>\n",
              "      <td>...</td>\n",
              "      <td>...</td>\n",
              "      <td>...</td>\n",
              "      <td>...</td>\n",
              "      <td>...</td>\n",
              "      <td>...</td>\n",
              "      <td>...</td>\n",
              "      <td>...</td>\n",
              "      <td>...</td>\n",
              "      <td>...</td>\n",
              "      <td>...</td>\n",
              "      <td>...</td>\n",
              "      <td>...</td>\n",
              "      <td>...</td>\n",
              "      <td>...</td>\n",
              "    </tr>\n",
              "    <tr>\n",
              "      <th>747</th>\n",
              "      <td>LIDERANÇA DO SOLIDARIEDADE</td>\n",
              "      <td>nan</td>\n",
              "      <td>NaN</td>\n",
              "      <td>NaN</td>\n",
              "      <td>2015</td>\n",
              "      <td>NaN</td>\n",
              "      <td>NaN</td>\n",
              "      <td>55</td>\n",
              "      <td>13</td>\n",
              "      <td>FORNECIMENTO DE ALIMENTAÇÃO DO PARLAMENTAR</td>\n",
              "      <td>0</td>\n",
              "      <td>NaN</td>\n",
              "      <td>VASCONCELOS E LIMA BUFFET MAISON GOURMET LTDA-ME</td>\n",
              "      <td>261.717.630/0019-9</td>\n",
              "      <td>28</td>\n",
              "      <td>4</td>\n",
              "      <td>2018-05-02</td>\n",
              "      <td>1,600.00</td>\n",
              "      <td>0</td>\n",
              "      <td>1,600.00</td>\n",
              "      <td>4</td>\n",
              "      <td>2018</td>\n",
              "      <td>0</td>\n",
              "      <td>NaN</td>\n",
              "      <td>NaN</td>\n",
              "      <td>1489694</td>\n",
              "      <td>NaN</td>\n",
              "      <td>nan</td>\n",
              "      <td>2864</td>\n",
              "      <td>6566948</td>\n",
              "      <td>http://camara.leg.br/cota-parlamentar/nota-fis...</td>\n",
              "    </tr>\n",
              "    <tr>\n",
              "      <th>748</th>\n",
              "      <td>LIDERANÇA DO SOLIDARIEDADE</td>\n",
              "      <td>nan</td>\n",
              "      <td>NaN</td>\n",
              "      <td>NaN</td>\n",
              "      <td>2015</td>\n",
              "      <td>NaN</td>\n",
              "      <td>NaN</td>\n",
              "      <td>55</td>\n",
              "      <td>13</td>\n",
              "      <td>FORNECIMENTO DE ALIMENTAÇÃO DO PARLAMENTAR</td>\n",
              "      <td>0</td>\n",
              "      <td>NaN</td>\n",
              "      <td>VASCONCELOS E LIMA BUFFET MAISON GOURMET LTDA-ME</td>\n",
              "      <td>261.717.630/0019-9</td>\n",
              "      <td>29</td>\n",
              "      <td>4</td>\n",
              "      <td>2018-05-02</td>\n",
              "      <td>1,200.00</td>\n",
              "      <td>0</td>\n",
              "      <td>1,200.00</td>\n",
              "      <td>4</td>\n",
              "      <td>2018</td>\n",
              "      <td>0</td>\n",
              "      <td>NaN</td>\n",
              "      <td>NaN</td>\n",
              "      <td>1489694</td>\n",
              "      <td>NaN</td>\n",
              "      <td>nan</td>\n",
              "      <td>2864</td>\n",
              "      <td>6566931</td>\n",
              "      <td>http://camara.leg.br/cota-parlamentar/nota-fis...</td>\n",
              "    </tr>\n",
              "    <tr>\n",
              "      <th>749</th>\n",
              "      <td>LIDERANÇA DO SOLIDARIEDADE</td>\n",
              "      <td>nan</td>\n",
              "      <td>NaN</td>\n",
              "      <td>NaN</td>\n",
              "      <td>2015</td>\n",
              "      <td>NaN</td>\n",
              "      <td>NaN</td>\n",
              "      <td>55</td>\n",
              "      <td>13</td>\n",
              "      <td>FORNECIMENTO DE ALIMENTAÇÃO DO PARLAMENTAR</td>\n",
              "      <td>0</td>\n",
              "      <td>NaN</td>\n",
              "      <td>VASCONCELOS E LIMA BUFFET MAISON GOURMET LTDA-ME</td>\n",
              "      <td>261.717.630/0019-9</td>\n",
              "      <td>30</td>\n",
              "      <td>4</td>\n",
              "      <td>2018-05-30</td>\n",
              "      <td>400.00</td>\n",
              "      <td>0</td>\n",
              "      <td>400.00</td>\n",
              "      <td>5</td>\n",
              "      <td>2018</td>\n",
              "      <td>0</td>\n",
              "      <td>NaN</td>\n",
              "      <td>NaN</td>\n",
              "      <td>1501538</td>\n",
              "      <td>NaN</td>\n",
              "      <td>nan</td>\n",
              "      <td>2864</td>\n",
              "      <td>6596563</td>\n",
              "      <td>http://camara.leg.br/cota-parlamentar/nota-fis...</td>\n",
              "    </tr>\n",
              "    <tr>\n",
              "      <th>750</th>\n",
              "      <td>LIDERANÇA DO SOLIDARIEDADE</td>\n",
              "      <td>nan</td>\n",
              "      <td>NaN</td>\n",
              "      <td>NaN</td>\n",
              "      <td>2015</td>\n",
              "      <td>NaN</td>\n",
              "      <td>NaN</td>\n",
              "      <td>55</td>\n",
              "      <td>122</td>\n",
              "      <td>SERVIÇO DE TÁXI, PEDÁGIO E ESTACIONAMENTO</td>\n",
              "      <td>0</td>\n",
              "      <td>NaN</td>\n",
              "      <td>ASSOCIACAO DOS TAXISTAS DO DISTRITO FEDERAL</td>\n",
              "      <td>156.953.570/0010-9</td>\n",
              "      <td>S/N</td>\n",
              "      <td>1</td>\n",
              "      <td>2018-03-14</td>\n",
              "      <td>51.00</td>\n",
              "      <td>0</td>\n",
              "      <td>51.00</td>\n",
              "      <td>3</td>\n",
              "      <td>2018</td>\n",
              "      <td>0</td>\n",
              "      <td>NaN</td>\n",
              "      <td>NaN</td>\n",
              "      <td>1476851</td>\n",
              "      <td>NaN</td>\n",
              "      <td>nan</td>\n",
              "      <td>2864</td>\n",
              "      <td>6533466</td>\n",
              "      <td>https://www.camara.leg.br/cota-parlamentar/doc...</td>\n",
              "    </tr>\n",
              "    <tr>\n",
              "      <th>751</th>\n",
              "      <td>LIDERANÇA DO SOLIDARIEDADE</td>\n",
              "      <td>nan</td>\n",
              "      <td>NaN</td>\n",
              "      <td>NaN</td>\n",
              "      <td>2015</td>\n",
              "      <td>NaN</td>\n",
              "      <td>NaN</td>\n",
              "      <td>55</td>\n",
              "      <td>122</td>\n",
              "      <td>SERVIÇO DE TÁXI, PEDÁGIO E ESTACIONAMENTO</td>\n",
              "      <td>0</td>\n",
              "      <td>NaN</td>\n",
              "      <td>SINDICATO DOS PERMISSIONARIOS DE TAXIS E MOTOR...</td>\n",
              "      <td>000.317.080/0010-0</td>\n",
              "      <td>S/N</td>\n",
              "      <td>1</td>\n",
              "      <td>2018-03-15</td>\n",
              "      <td>74.87</td>\n",
              "      <td>0</td>\n",
              "      <td>74.87</td>\n",
              "      <td>3</td>\n",
              "      <td>2018</td>\n",
              "      <td>0</td>\n",
              "      <td>NaN</td>\n",
              "      <td>NaN</td>\n",
              "      <td>1476851</td>\n",
              "      <td>NaN</td>\n",
              "      <td>nan</td>\n",
              "      <td>2864</td>\n",
              "      <td>6533458</td>\n",
              "      <td>https://www.camara.leg.br/cota-parlamentar/doc...</td>\n",
              "    </tr>\n",
              "  </tbody>\n",
              "</table>\n",
              "<p>752 rows × 31 columns</p>\n",
              "</div>"
            ],
            "text/plain": [
              "              txNomeParlamentar  cpf ideCadastro nuCarteiraParlamentar  \\\n",
              "0                    LID.GOV-CD  nan         NaN                   NaN   \n",
              "1                    LID.GOV-CD  nan         NaN                   NaN   \n",
              "2                    LID.GOV-CD  nan         NaN                   NaN   \n",
              "3                    LID.GOV-CD  nan         NaN                   NaN   \n",
              "4                    LID.GOV-CD  nan         NaN                   NaN   \n",
              "..                          ...  ...         ...                   ...   \n",
              "747  LIDERANÇA DO SOLIDARIEDADE  nan         NaN                   NaN   \n",
              "748  LIDERANÇA DO SOLIDARIEDADE  nan         NaN                   NaN   \n",
              "749  LIDERANÇA DO SOLIDARIEDADE  nan         NaN                   NaN   \n",
              "750  LIDERANÇA DO SOLIDARIEDADE  nan         NaN                   NaN   \n",
              "751  LIDERANÇA DO SOLIDARIEDADE  nan         NaN                   NaN   \n",
              "\n",
              "    nuLegislatura sgUF sgPartido codLegislatura numSubCota  \\\n",
              "0            2015  NaN       NaN             55         13   \n",
              "1            2015  NaN       NaN             55         13   \n",
              "2            2015  NaN       NaN             55         13   \n",
              "3            2015  NaN       NaN             55         13   \n",
              "4            2015  NaN       NaN             55         13   \n",
              "..            ...  ...       ...            ...        ...   \n",
              "747          2015  NaN       NaN             55         13   \n",
              "748          2015  NaN       NaN             55         13   \n",
              "749          2015  NaN       NaN             55         13   \n",
              "750          2015  NaN       NaN             55        122   \n",
              "751          2015  NaN       NaN             55        122   \n",
              "\n",
              "                                   txtDescricao numEspecificacaoSubCota  \\\n",
              "0    FORNECIMENTO DE ALIMENTAÇÃO DO PARLAMENTAR                       0   \n",
              "1    FORNECIMENTO DE ALIMENTAÇÃO DO PARLAMENTAR                       0   \n",
              "2    FORNECIMENTO DE ALIMENTAÇÃO DO PARLAMENTAR                       0   \n",
              "3    FORNECIMENTO DE ALIMENTAÇÃO DO PARLAMENTAR                       0   \n",
              "4    FORNECIMENTO DE ALIMENTAÇÃO DO PARLAMENTAR                       0   \n",
              "..                                          ...                     ...   \n",
              "747  FORNECIMENTO DE ALIMENTAÇÃO DO PARLAMENTAR                       0   \n",
              "748  FORNECIMENTO DE ALIMENTAÇÃO DO PARLAMENTAR                       0   \n",
              "749  FORNECIMENTO DE ALIMENTAÇÃO DO PARLAMENTAR                       0   \n",
              "750   SERVIÇO DE TÁXI, PEDÁGIO E ESTACIONAMENTO                       0   \n",
              "751   SERVIÇO DE TÁXI, PEDÁGIO E ESTACIONAMENTO                       0   \n",
              "\n",
              "    txtDescricaoEspecificacao  \\\n",
              "0                         NaN   \n",
              "1                         NaN   \n",
              "2                         NaN   \n",
              "3                         NaN   \n",
              "4                         NaN   \n",
              "..                        ...   \n",
              "747                       NaN   \n",
              "748                       NaN   \n",
              "749                       NaN   \n",
              "750                       NaN   \n",
              "751                       NaN   \n",
              "\n",
              "                                         txtFornecedor          txtCNPJCPF  \\\n",
              "0                     BISCOITOS CASEIROS HOMONNAI LTDA  046.448.200/0017-7   \n",
              "1                  BONNA COMERCIAL DE ALIMENTOS EIRELI  106.385.970/0015-8   \n",
              "2                            CAFE DO FLAVIO EIRELLI-ME  248.825.670/0010-5   \n",
              "3                            CAFE DO FLAVIO EIRELLI-ME  248.825.670/0010-5   \n",
              "4                               CRISTIANE FERREIRA EPP  037.139.030/0010-8   \n",
              "..                                                 ...                 ...   \n",
              "747   VASCONCELOS E LIMA BUFFET MAISON GOURMET LTDA-ME  261.717.630/0019-9   \n",
              "748   VASCONCELOS E LIMA BUFFET MAISON GOURMET LTDA-ME  261.717.630/0019-9   \n",
              "749   VASCONCELOS E LIMA BUFFET MAISON GOURMET LTDA-ME  261.717.630/0019-9   \n",
              "750        ASSOCIACAO DOS TAXISTAS DO DISTRITO FEDERAL  156.953.570/0010-9   \n",
              "751  SINDICATO DOS PERMISSIONARIOS DE TAXIS E MOTOR...  000.317.080/0010-0   \n",
              "\n",
              "    txtNumero indTipoDocumento datEmissao  vlrDocumento vlrGlosa  vlrLiquido  \\\n",
              "0       10473                4 2018-12-20        454.41        0      454.41   \n",
              "1         105                4 2018-02-21        242.90        0      242.90   \n",
              "2       40792                4 2018-09-05         79.00        0       79.00   \n",
              "3       42181                4 2018-10-16        207.00        0      207.00   \n",
              "4         409                4 2018-02-05         98.75        0       98.75   \n",
              "..        ...              ...        ...           ...      ...         ...   \n",
              "747        28                4 2018-05-02      1,600.00        0    1,600.00   \n",
              "748        29                4 2018-05-02      1,200.00        0    1,200.00   \n",
              "749        30                4 2018-05-30        400.00        0      400.00   \n",
              "750       S/N                1 2018-03-14         51.00        0       51.00   \n",
              "751       S/N                1 2018-03-15         74.87        0       74.87   \n",
              "\n",
              "    numMes numAno numParcela txtPassageiro txtTrecho  numLote  \\\n",
              "0       12   2018          0           NaN       NaN  1550817   \n",
              "1        2   2018          0           NaN       NaN  1467117   \n",
              "2        9   2018          0           NaN       NaN  1527969   \n",
              "3       10   2018          0           NaN       NaN  1532624   \n",
              "4        2   2018          0           NaN       NaN  1460984   \n",
              "..     ...    ...        ...           ...       ...      ...   \n",
              "747      4   2018          0           NaN       NaN  1489694   \n",
              "748      4   2018          0           NaN       NaN  1489694   \n",
              "749      5   2018          0           NaN       NaN  1501538   \n",
              "750      3   2018          0           NaN       NaN  1476851   \n",
              "751      3   2018          0           NaN       NaN  1476851   \n",
              "\n",
              "    numRessarcimento  vlrRestituicao nuDeputadoId ideDocumento  \\\n",
              "0                NaN             nan         2812      6728796   \n",
              "1                NaN             nan         2812      6508293   \n",
              "2                NaN             nan         2812      6666881   \n",
              "3                NaN             nan         2812      6681167   \n",
              "4                NaN             nan         2812      6491959   \n",
              "..               ...             ...          ...          ...   \n",
              "747              NaN             nan         2864      6566948   \n",
              "748              NaN             nan         2864      6566931   \n",
              "749              NaN             nan         2864      6596563   \n",
              "750              NaN             nan         2864      6533466   \n",
              "751              NaN             nan         2864      6533458   \n",
              "\n",
              "                                          urlDocumento  \n",
              "0    http://camara.leg.br/cota-parlamentar/nota-fis...  \n",
              "1    http://camara.leg.br/cota-parlamentar/nota-fis...  \n",
              "2    http://camara.leg.br/cota-parlamentar/nota-fis...  \n",
              "3    http://camara.leg.br/cota-parlamentar/nota-fis...  \n",
              "4    http://camara.leg.br/cota-parlamentar/nota-fis...  \n",
              "..                                                 ...  \n",
              "747  http://camara.leg.br/cota-parlamentar/nota-fis...  \n",
              "748  http://camara.leg.br/cota-parlamentar/nota-fis...  \n",
              "749  http://camara.leg.br/cota-parlamentar/nota-fis...  \n",
              "750  https://www.camara.leg.br/cota-parlamentar/doc...  \n",
              "751  https://www.camara.leg.br/cota-parlamentar/doc...  \n",
              "\n",
              "[752 rows x 31 columns]"
            ]
          },
          "metadata": {},
          "execution_count": 131
        }
      ]
    },
    {
      "cell_type": "code",
      "metadata": {
        "id": "hwxdvgsmzuBX"
      },
      "source": [
        "ceap_2018[\"txtCNPJCPF\"] = ceap_2018[\"txtCNPJCPF\"].str.replace(r'\\D', '', regex=True)"
      ],
      "execution_count": 132,
      "outputs": []
    },
    {
      "cell_type": "code",
      "metadata": {
        "id": "8n7tIlVHwEBV",
        "colab": {
          "base_uri": "https://localhost:8080/",
          "height": 69
        },
        "outputId": "09664cb7-21fe-44a4-e82c-b28d4cb09669"
      },
      "source": [
        "ceap_2018[ceap_2018['ideDocumento'].isnull()]"
      ],
      "execution_count": 133,
      "outputs": [
        {
          "output_type": "execute_result",
          "data": {
            "text/html": [
              "<div>\n",
              "<style scoped>\n",
              "    .dataframe tbody tr th:only-of-type {\n",
              "        vertical-align: middle;\n",
              "    }\n",
              "\n",
              "    .dataframe tbody tr th {\n",
              "        vertical-align: top;\n",
              "    }\n",
              "\n",
              "    .dataframe thead th {\n",
              "        text-align: right;\n",
              "    }\n",
              "</style>\n",
              "<table border=\"1\" class=\"dataframe\">\n",
              "  <thead>\n",
              "    <tr style=\"text-align: right;\">\n",
              "      <th></th>\n",
              "      <th>txNomeParlamentar</th>\n",
              "      <th>cpf</th>\n",
              "      <th>ideCadastro</th>\n",
              "      <th>nuCarteiraParlamentar</th>\n",
              "      <th>nuLegislatura</th>\n",
              "      <th>sgUF</th>\n",
              "      <th>sgPartido</th>\n",
              "      <th>codLegislatura</th>\n",
              "      <th>numSubCota</th>\n",
              "      <th>txtDescricao</th>\n",
              "      <th>numEspecificacaoSubCota</th>\n",
              "      <th>txtDescricaoEspecificacao</th>\n",
              "      <th>txtFornecedor</th>\n",
              "      <th>txtCNPJCPF</th>\n",
              "      <th>txtNumero</th>\n",
              "      <th>indTipoDocumento</th>\n",
              "      <th>datEmissao</th>\n",
              "      <th>vlrDocumento</th>\n",
              "      <th>vlrGlosa</th>\n",
              "      <th>vlrLiquido</th>\n",
              "      <th>numMes</th>\n",
              "      <th>numAno</th>\n",
              "      <th>numParcela</th>\n",
              "      <th>txtPassageiro</th>\n",
              "      <th>txtTrecho</th>\n",
              "      <th>numLote</th>\n",
              "      <th>numRessarcimento</th>\n",
              "      <th>vlrRestituicao</th>\n",
              "      <th>nuDeputadoId</th>\n",
              "      <th>ideDocumento</th>\n",
              "      <th>urlDocumento</th>\n",
              "    </tr>\n",
              "  </thead>\n",
              "  <tbody>\n",
              "  </tbody>\n",
              "</table>\n",
              "</div>"
            ],
            "text/plain": [
              "Empty DataFrame\n",
              "Columns: [txNomeParlamentar, cpf, ideCadastro, nuCarteiraParlamentar, nuLegislatura, sgUF, sgPartido, codLegislatura, numSubCota, txtDescricao, numEspecificacaoSubCota, txtDescricaoEspecificacao, txtFornecedor, txtCNPJCPF, txtNumero, indTipoDocumento, datEmissao, vlrDocumento, vlrGlosa, vlrLiquido, numMes, numAno, numParcela, txtPassageiro, txtTrecho, numLote, numRessarcimento, vlrRestituicao, nuDeputadoId, ideDocumento, urlDocumento]\n",
              "Index: []"
            ]
          },
          "metadata": {},
          "execution_count": 133
        }
      ]
    },
    {
      "cell_type": "code",
      "metadata": {
        "id": "xPATNEzxwEQ_"
      },
      "source": [
        "ceap_2018['cpf'] = ceap_2018['cpf'].apply(str)"
      ],
      "execution_count": 134,
      "outputs": []
    },
    {
      "cell_type": "code",
      "metadata": {
        "id": "X4g0ioj2wEZn",
        "colab": {
          "base_uri": "https://localhost:8080/"
        },
        "outputId": "ef776eac-eaf5-4d95-da63-88844dcc5380"
      },
      "source": [
        "ceap_2018.set_index('datEmissao').loc['2018-01-01':'2018-03-30'].shape"
      ],
      "execution_count": 135,
      "outputs": [
        {
          "output_type": "execute_result",
          "data": {
            "text/plain": [
              "(71514, 30)"
            ]
          },
          "metadata": {},
          "execution_count": 135
        }
      ]
    },
    {
      "cell_type": "code",
      "metadata": {
        "id": "MyPXb-bpwEgT",
        "colab": {
          "base_uri": "https://localhost:8080/"
        },
        "outputId": "cebfabeb-65d2-47a2-e6cb-7216778d1759"
      },
      "source": [
        "ceap_2018.datEmissao.describe(datetime_is_numeric=True)"
      ],
      "execution_count": 136,
      "outputs": [
        {
          "output_type": "execute_result",
          "data": {
            "text/plain": [
              "count                           282589\n",
              "mean     2018-06-22 23:32:47.465455872\n",
              "min                2017-03-20 00:00:00\n",
              "25%                2018-03-28 00:00:00\n",
              "50%                2018-06-10 00:00:00\n",
              "75%                2018-09-18 00:00:00\n",
              "max                2019-03-22 00:00:00\n",
              "Name: datEmissao, dtype: object"
            ]
          },
          "metadata": {},
          "execution_count": 136
        }
      ]
    },
    {
      "cell_type": "code",
      "metadata": {
        "id": "DM8zgigI1Ulv",
        "colab": {
          "base_uri": "https://localhost:8080/"
        },
        "outputId": "4418fdc7-affe-4b2d-ce24-e4b02fa4e236"
      },
      "source": [
        "ceap_2018.indTipoDocumento.unique()"
      ],
      "execution_count": 137,
      "outputs": [
        {
          "output_type": "execute_result",
          "data": {
            "text/plain": [
              "array(['4', '0', '1', '2', '3'], dtype=object)"
            ]
          },
          "metadata": {},
          "execution_count": 137
        }
      ]
    },
    {
      "cell_type": "code",
      "metadata": {
        "id": "FrVrV2j11U1P",
        "colab": {
          "base_uri": "https://localhost:8080/"
        },
        "outputId": "dfa802c9-c186-4d52-d721-0c851299c90c"
      },
      "source": [
        "converters = {\n",
        "    \"0\": 'nota_fiscal',\n",
        "    \"1\": 'recibo',\n",
        "    \"2\": 'despesa_exterior',\n",
        "    \"4\": None,\n",
        "    \"3\": None\n",
        "}\n",
        "\n",
        "converters"
      ],
      "execution_count": 138,
      "outputs": [
        {
          "output_type": "execute_result",
          "data": {
            "text/plain": [
              "{'0': 'nota_fiscal',\n",
              " '1': 'recibo',\n",
              " '2': 'despesa_exterior',\n",
              " '3': None,\n",
              " '4': None}"
            ]
          },
          "metadata": {},
          "execution_count": 138
        }
      ]
    },
    {
      "cell_type": "code",
      "metadata": {
        "id": "GgyqWZjL1U-A"
      },
      "source": [
        "ceap_2018.indTipoDocumento.replace(converters, inplace=True)"
      ],
      "execution_count": 139,
      "outputs": []
    },
    {
      "cell_type": "code",
      "metadata": {
        "id": "BkvNraOM1VC_",
        "colab": {
          "base_uri": "https://localhost:8080/"
        },
        "outputId": "dc9baeb2-6cb5-4e51-8688-63a612df3a70"
      },
      "source": [
        "ceap_2018.indTipoDocumento.value_counts()"
      ],
      "execution_count": 140,
      "outputs": [
        {
          "output_type": "execute_result",
          "data": {
            "text/plain": [
              "nota_fiscal         177181\n",
              "recibo               51313\n",
              "despesa_exterior        33\n",
              "Name: indTipoDocumento, dtype: int64"
            ]
          },
          "metadata": {},
          "execution_count": 140
        }
      ]
    },
    {
      "cell_type": "code",
      "metadata": {
        "id": "R7Ijovih1VHR"
      },
      "source": [
        "gastos_exterior = ceap_2018[ceap_2018['indTipoDocumento'] == 'despesa_exterior']"
      ],
      "execution_count": 141,
      "outputs": []
    },
    {
      "cell_type": "code",
      "metadata": {
        "id": "ATKman3w3h0m",
        "colab": {
          "base_uri": "https://localhost:8080/"
        },
        "outputId": "87213a2e-ecc3-4939-c810-cd4c8159eebe"
      },
      "source": [
        "gastos_exterior.vlrLiquido.sum()"
      ],
      "execution_count": 142,
      "outputs": [
        {
          "output_type": "execute_result",
          "data": {
            "text/plain": [
              "126733.85"
            ]
          },
          "metadata": {},
          "execution_count": 142
        }
      ]
    },
    {
      "cell_type": "code",
      "metadata": {
        "id": "_P48c0d34EQM",
        "colab": {
          "base_uri": "https://localhost:8080/"
        },
        "outputId": "5f214881-3a4a-4cc7-9d7d-559698e86ed4"
      },
      "source": [
        "gastos_exterior.txtTrecho.value_counts()"
      ],
      "execution_count": 143,
      "outputs": [
        {
          "output_type": "execute_result",
          "data": {
            "text/plain": [
              "gru-cdg-bey-cdg-gru    1\n",
              "Name: txtTrecho, dtype: int64"
            ]
          },
          "metadata": {},
          "execution_count": 143
        }
      ]
    },
    {
      "cell_type": "code",
      "metadata": {
        "id": "tYpnJogz4Uqe",
        "colab": {
          "base_uri": "https://localhost:8080/"
        },
        "outputId": "2ed17f4a-d400-4d5a-8669-965cdb7297c0"
      },
      "source": [
        "ceap_2018.txtDescricao.value_counts()"
      ],
      "execution_count": 144,
      "outputs": [
        {
          "output_type": "execute_result",
          "data": {
            "text/plain": [
              "PASSAGEM AÉREA - RPA                                         92225\n",
              "COMBUSTÍVEIS E LUBRIFICANTES.                                61862\n",
              "TELEFONIA                                                    30831\n",
              "SERVIÇO DE TÁXI, PEDÁGIO E ESTACIONAMENTO                    23770\n",
              "MANUTENÇÃO DE ESCRITÓRIO DE APOIO À ATIVIDADE PARLAMENTAR    21506\n",
              "SERVIÇOS POSTAIS                                             18642\n",
              "FORNECIMENTO DE ALIMENTAÇÃO DO PARLAMENTAR                   14129\n",
              "DIVULGAÇÃO DA ATIVIDADE PARLAMENTAR.                          8614\n",
              "HOSPEDAGEM ,EXCETO DO PARLAMENTAR NO DISTRITO FEDERAL.        7961\n",
              "LOCAÇÃO OU FRETAMENTO DE VEÍCULOS AUTOMOTORES                 6240\n",
              "CONSULTORIAS, PESQUISAS E TRABALHOS TÉCNICOS.                 2347\n",
              "PASSAGEM AÉREA - REEMBOLSO                                    1742\n",
              "PASSAGENS TERRESTRES, MARÍTIMAS OU FLUVIAIS                    941\n",
              "SERVIÇO DE SEGURANÇA PRESTADO POR EMPRESA ESPECIALIZADA.       776\n",
              "ASSINATURA DE PUBLICAÇÕES                                      756\n",
              "LOCAÇÃO OU FRETAMENTO DE AERONAVES                             230\n",
              "LOCAÇÃO OU FRETAMENTO DE EMBARCAÇÕES                            42\n",
              "PARTICIPAÇÃO EM CURSO, PALESTRA OU EVENTO SIMILAR               18\n",
              "Name: txtDescricao, dtype: int64"
            ]
          },
          "metadata": {},
          "execution_count": 144
        }
      ]
    },
    {
      "cell_type": "code",
      "metadata": {
        "id": "NOqy7TWZ4z87",
        "colab": {
          "base_uri": "https://localhost:8080/"
        },
        "outputId": "dc0fc2b0-7793-4b55-ba23-70f959c54959"
      },
      "source": [
        "ceap_2018.groupby('txtDescricao')['vlrDocumento'].sum()"
      ],
      "execution_count": 145,
      "outputs": [
        {
          "output_type": "execute_result",
          "data": {
            "text/plain": [
              "txtDescricao\n",
              "ASSINATURA DE PUBLICAÇÕES                                      296,233.29\n",
              "COMBUSTÍVEIS E LUBRIFICANTES.                               18,153,763.39\n",
              "CONSULTORIAS, PESQUISAS E TRABALHOS TÉCNICOS.               21,712,797.34\n",
              "DIVULGAÇÃO DA ATIVIDADE PARLAMENTAR.                        52,747,071.39\n",
              "FORNECIMENTO DE ALIMENTAÇÃO DO PARLAMENTAR                     925,148.85\n",
              "HOSPEDAGEM ,EXCETO DO PARLAMENTAR NO DISTRITO FEDERAL.       2,179,239.79\n",
              "LOCAÇÃO OU FRETAMENTO DE AERONAVES                           2,530,125.99\n",
              "LOCAÇÃO OU FRETAMENTO DE EMBARCAÇÕES                           184,872.69\n",
              "LOCAÇÃO OU FRETAMENTO DE VEÍCULOS AUTOMOTORES               26,918,447.85\n",
              "MANUTENÇÃO DE ESCRITÓRIO DE APOIO À ATIVIDADE PARLAMENTAR   23,154,511.85\n",
              "PARTICIPAÇÃO EM CURSO, PALESTRA OU EVENTO SIMILAR               87,767.55\n",
              "PASSAGEM AÉREA - REEMBOLSO                                   2,124,514.50\n",
              "PASSAGEM AÉREA - RPA                                        53,393,402.76\n",
              "PASSAGENS TERRESTRES, MARÍTIMAS OU FLUVIAIS                     87,601.18\n",
              "SERVIÇO DE SEGURANÇA PRESTADO POR EMPRESA ESPECIALIZADA.     1,238,201.99\n",
              "SERVIÇO DE TÁXI, PEDÁGIO E ESTACIONAMENTO                      881,323.06\n",
              "SERVIÇOS POSTAIS                                             2,746,978.21\n",
              "TELEFONIA                                                    8,043,321.11\n",
              "Name: vlrDocumento, dtype: float64"
            ]
          },
          "metadata": {},
          "execution_count": 145
        }
      ]
    },
    {
      "cell_type": "code",
      "metadata": {
        "id": "B-BdewN85dpR",
        "colab": {
          "base_uri": "https://localhost:8080/"
        },
        "outputId": "8a940afa-a776-42a4-e703-48bbc4540d25"
      },
      "source": [
        "ceap_2018['vlrDocumento'].max()"
      ],
      "execution_count": 146,
      "outputs": [
        {
          "output_type": "execute_result",
          "data": {
            "text/plain": [
              "130000.0"
            ]
          },
          "metadata": {},
          "execution_count": 146
        }
      ]
    },
    {
      "cell_type": "code",
      "metadata": {
        "colab": {
          "base_uri": "https://localhost:8080/"
        },
        "id": "89ywbxtdpiIw",
        "outputId": "439e21c5-ee01-4241-b54a-f4dfbc4aecc6"
      },
      "source": [
        "round(ceap_2018['vlrDocumento'].mean(), 2)"
      ],
      "execution_count": 147,
      "outputs": [
        {
          "output_type": "execute_result",
          "data": {
            "text/plain": [
              "742.93"
            ]
          },
          "metadata": {},
          "execution_count": 147
        }
      ]
    },
    {
      "cell_type": "code",
      "metadata": {
        "colab": {
          "base_uri": "https://localhost:8080/"
        },
        "id": "cO9v67CepiWo",
        "outputId": "6673c2ca-c051-4e40-d851-c499a0336bba"
      },
      "source": [
        "round(ceap_2018['vlrDocumento'].median(), 2)"
      ],
      "execution_count": 148,
      "outputs": [
        {
          "output_type": "execute_result",
          "data": {
            "text/plain": [
              "195.0"
            ]
          },
          "metadata": {},
          "execution_count": 148
        }
      ]
    },
    {
      "cell_type": "code",
      "metadata": {
        "colab": {
          "base_uri": "https://localhost:8080/"
        },
        "id": "VuDYbCECpidc",
        "outputId": "308ae9a9-7fcd-40c9-dd4c-58ad743be36e"
      },
      "source": [
        "ceap_2018['vlrDocumento'].describe()"
      ],
      "execution_count": 149,
      "outputs": [
        {
          "output_type": "execute_result",
          "data": {
            "text/plain": [
              "count   292,632.00\n",
              "mean        742.93\n",
              "std       2,497.83\n",
              "min      -4,906.00\n",
              "25%          50.21\n",
              "50%         195.00\n",
              "75%         675.39\n",
              "max     130,000.00\n",
              "Name: vlrDocumento, dtype: float64"
            ]
          },
          "metadata": {},
          "execution_count": 149
        }
      ]
    },
    {
      "cell_type": "code",
      "metadata": {
        "colab": {
          "base_uri": "https://localhost:8080/"
        },
        "id": "-qg1c6gCpilQ",
        "outputId": "c5d75002-931a-4428-8578-d788c038a7f1"
      },
      "source": [
        "round(ceap_2018['vlrDocumento'].quantile(q=0.25), 2)"
      ],
      "execution_count": 150,
      "outputs": [
        {
          "output_type": "execute_result",
          "data": {
            "text/plain": [
              "50.21"
            ]
          },
          "metadata": {},
          "execution_count": 150
        }
      ]
    },
    {
      "cell_type": "code",
      "metadata": {
        "colab": {
          "base_uri": "https://localhost:8080/"
        },
        "id": "nXAFacKipirH",
        "outputId": "b5c3986c-a734-4c7c-c075-251353a9fdd8"
      },
      "source": [
        "round(ceap_2018['vlrDocumento'].quantile(q=0.75), 2)"
      ],
      "execution_count": 151,
      "outputs": [
        {
          "output_type": "execute_result",
          "data": {
            "text/plain": [
              "675.39"
            ]
          },
          "metadata": {},
          "execution_count": 151
        }
      ]
    },
    {
      "cell_type": "code",
      "metadata": {
        "colab": {
          "base_uri": "https://localhost:8080/"
        },
        "id": "D97zSPMMqVpP",
        "outputId": "d0d87225-d4c5-4a55-d0a6-b71072205424"
      },
      "source": [
        "round(ceap_2018['vlrDocumento'].var(),2)"
      ],
      "execution_count": 152,
      "outputs": [
        {
          "output_type": "execute_result",
          "data": {
            "text/plain": [
              "6239153.69"
            ]
          },
          "metadata": {},
          "execution_count": 152
        }
      ]
    },
    {
      "cell_type": "code",
      "metadata": {
        "colab": {
          "base_uri": "https://localhost:8080/"
        },
        "id": "CkG_szI7qV7D",
        "outputId": "c7b7e3eb-20bc-4eb4-e7dd-91198f8fe256"
      },
      "source": [
        "round(ceap_2018['vlrDocumento'].std(),2)"
      ],
      "execution_count": 153,
      "outputs": [
        {
          "output_type": "execute_result",
          "data": {
            "text/plain": [
              "2497.83"
            ]
          },
          "metadata": {},
          "execution_count": 153
        }
      ]
    },
    {
      "cell_type": "code",
      "metadata": {
        "colab": {
          "base_uri": "https://localhost:8080/"
        },
        "id": "nxFM13ybqqGM",
        "outputId": "afdefe18-b5dc-4004-f656-755df8f32044"
      },
      "source": [
        "#Desvio absoluto\n",
        "round(ceap_2018['vlrDocumento'].mad(),2)"
      ],
      "execution_count": 154,
      "outputs": [
        {
          "output_type": "execute_result",
          "data": {
            "text/plain": [
              "935.48"
            ]
          },
          "metadata": {},
          "execution_count": 154
        }
      ]
    },
    {
      "cell_type": "code",
      "metadata": {
        "colab": {
          "base_uri": "https://localhost:8080/"
        },
        "id": "3hdvVwZ1qWI3",
        "outputId": "6ef03a95-33ac-4cc6-d998-58df9c69e795"
      },
      "source": [
        "round(ceap_2018['vlrDocumento'].mode(),2)"
      ],
      "execution_count": 155,
      "outputs": [
        {
          "output_type": "execute_result",
          "data": {
            "text/plain": [
              "0   100.00\n",
              "dtype: float64"
            ]
          },
          "metadata": {},
          "execution_count": 155
        }
      ]
    },
    {
      "cell_type": "code",
      "metadata": {
        "colab": {
          "base_uri": "https://localhost:8080/"
        },
        "id": "MyM8c3kNq5OR",
        "outputId": "6a0b83db-4228-4869-ac40-91df62553ae5"
      },
      "source": [
        "print(ceap_2018.corr())"
      ],
      "execution_count": 156,
      "outputs": [
        {
          "output_type": "stream",
          "text": [
            "                vlrDocumento  vlrLiquido  vlrRestituicao\n",
            "vlrDocumento            1.00        1.00            1.00\n",
            "vlrLiquido              1.00        1.00             nan\n",
            "vlrRestituicao          1.00         nan            1.00\n"
          ],
          "name": "stdout"
        }
      ]
    },
    {
      "cell_type": "code",
      "metadata": {
        "colab": {
          "base_uri": "https://localhost:8080/",
          "height": 542
        },
        "id": "ec93eAHVq5gP",
        "outputId": "cb29b1c2-75f4-4fa5-fc1f-4b6aad690c76"
      },
      "source": [
        "ceap_2018['txtDescricao'].value_counts().head(10).sort_values(ascending=True).plot(kind='barh')\n"
      ],
      "execution_count": 157,
      "outputs": [
        {
          "output_type": "display_data",
          "data": {
            "text/html": [
              "<html>\n",
              "<head><meta charset=\"utf-8\" /></head>\n",
              "<body>\n",
              "    <div>            <script src=\"https://cdnjs.cloudflare.com/ajax/libs/mathjax/2.7.5/MathJax.js?config=TeX-AMS-MML_SVG\"></script><script type=\"text/javascript\">if (window.MathJax) {MathJax.Hub.Config({SVG: {font: \"STIX-Web\"}});}</script>                <script type=\"text/javascript\">window.PlotlyConfig = {MathJaxConfig: 'local'};</script>\n",
              "        <script src=\"https://cdn.plot.ly/plotly-2.3.1.min.js\"></script>                <div id=\"3445f3b5-2d8c-47fd-945d-188c7277c024\" class=\"plotly-graph-div\" style=\"height:525px; width:100%;\"></div>            <script type=\"text/javascript\">                                    window.PLOTLYENV=window.PLOTLYENV || {};                                    if (document.getElementById(\"3445f3b5-2d8c-47fd-945d-188c7277c024\")) {                    Plotly.newPlot(                        \"3445f3b5-2d8c-47fd-945d-188c7277c024\",                        [{\"alignmentgroup\":\"True\",\"hovertemplate\":\"variable=txtDescricao<br>value=%{x}<br>index=%{y}<extra></extra>\",\"legendgroup\":\"txtDescricao\",\"marker\":{\"color\":\"#636efa\",\"pattern\":{\"shape\":\"\"}},\"name\":\"txtDescricao\",\"offsetgroup\":\"txtDescricao\",\"orientation\":\"h\",\"showlegend\":true,\"textposition\":\"auto\",\"type\":\"bar\",\"x\":[6240,7961,8614,14129,18642,21506,23770,30831,61862,92225],\"xaxis\":\"x\",\"y\":[\"LOCA\\u00c7\\u00c3O OU FRETAMENTO DE VE\\u00cdCULOS AUTOMOTORES\",\"HOSPEDAGEM ,EXCETO DO PARLAMENTAR NO DISTRITO FEDERAL.\",\"DIVULGA\\u00c7\\u00c3O DA ATIVIDADE PARLAMENTAR.\",\"FORNECIMENTO DE ALIMENTA\\u00c7\\u00c3O DO PARLAMENTAR\",\"SERVI\\u00c7OS POSTAIS\",\"MANUTEN\\u00c7\\u00c3O DE ESCRIT\\u00d3RIO DE APOIO \\u00c0 ATIVIDADE PARLAMENTAR\",\"SERVI\\u00c7O DE T\\u00c1XI, PED\\u00c1GIO E ESTACIONAMENTO\",\"TELEFONIA\",\"COMBUST\\u00cdVEIS E LUBRIFICANTES.\",\"PASSAGEM A\\u00c9REA - RPA\"],\"yaxis\":\"y\"}],                        {\"barmode\":\"relative\",\"legend\":{\"title\":{\"text\":\"variable\"},\"tracegroupgap\":0},\"margin\":{\"t\":60},\"template\":{\"data\":{\"bar\":[{\"error_x\":{\"color\":\"#2a3f5f\"},\"error_y\":{\"color\":\"#2a3f5f\"},\"marker\":{\"line\":{\"color\":\"#E5ECF6\",\"width\":0.5},\"pattern\":{\"fillmode\":\"overlay\",\"size\":10,\"solidity\":0.2}},\"type\":\"bar\"}],\"barpolar\":[{\"marker\":{\"line\":{\"color\":\"#E5ECF6\",\"width\":0.5},\"pattern\":{\"fillmode\":\"overlay\",\"size\":10,\"solidity\":0.2}},\"type\":\"barpolar\"}],\"carpet\":[{\"aaxis\":{\"endlinecolor\":\"#2a3f5f\",\"gridcolor\":\"white\",\"linecolor\":\"white\",\"minorgridcolor\":\"white\",\"startlinecolor\":\"#2a3f5f\"},\"baxis\":{\"endlinecolor\":\"#2a3f5f\",\"gridcolor\":\"white\",\"linecolor\":\"white\",\"minorgridcolor\":\"white\",\"startlinecolor\":\"#2a3f5f\"},\"type\":\"carpet\"}],\"choropleth\":[{\"colorbar\":{\"outlinewidth\":0,\"ticks\":\"\"},\"type\":\"choropleth\"}],\"contour\":[{\"colorbar\":{\"outlinewidth\":0,\"ticks\":\"\"},\"colorscale\":[[0.0,\"#0d0887\"],[0.1111111111111111,\"#46039f\"],[0.2222222222222222,\"#7201a8\"],[0.3333333333333333,\"#9c179e\"],[0.4444444444444444,\"#bd3786\"],[0.5555555555555556,\"#d8576b\"],[0.6666666666666666,\"#ed7953\"],[0.7777777777777778,\"#fb9f3a\"],[0.8888888888888888,\"#fdca26\"],[1.0,\"#f0f921\"]],\"type\":\"contour\"}],\"contourcarpet\":[{\"colorbar\":{\"outlinewidth\":0,\"ticks\":\"\"},\"type\":\"contourcarpet\"}],\"heatmap\":[{\"colorbar\":{\"outlinewidth\":0,\"ticks\":\"\"},\"colorscale\":[[0.0,\"#0d0887\"],[0.1111111111111111,\"#46039f\"],[0.2222222222222222,\"#7201a8\"],[0.3333333333333333,\"#9c179e\"],[0.4444444444444444,\"#bd3786\"],[0.5555555555555556,\"#d8576b\"],[0.6666666666666666,\"#ed7953\"],[0.7777777777777778,\"#fb9f3a\"],[0.8888888888888888,\"#fdca26\"],[1.0,\"#f0f921\"]],\"type\":\"heatmap\"}],\"heatmapgl\":[{\"colorbar\":{\"outlinewidth\":0,\"ticks\":\"\"},\"colorscale\":[[0.0,\"#0d0887\"],[0.1111111111111111,\"#46039f\"],[0.2222222222222222,\"#7201a8\"],[0.3333333333333333,\"#9c179e\"],[0.4444444444444444,\"#bd3786\"],[0.5555555555555556,\"#d8576b\"],[0.6666666666666666,\"#ed7953\"],[0.7777777777777778,\"#fb9f3a\"],[0.8888888888888888,\"#fdca26\"],[1.0,\"#f0f921\"]],\"type\":\"heatmapgl\"}],\"histogram\":[{\"marker\":{\"pattern\":{\"fillmode\":\"overlay\",\"size\":10,\"solidity\":0.2}},\"type\":\"histogram\"}],\"histogram2d\":[{\"colorbar\":{\"outlinewidth\":0,\"ticks\":\"\"},\"colorscale\":[[0.0,\"#0d0887\"],[0.1111111111111111,\"#46039f\"],[0.2222222222222222,\"#7201a8\"],[0.3333333333333333,\"#9c179e\"],[0.4444444444444444,\"#bd3786\"],[0.5555555555555556,\"#d8576b\"],[0.6666666666666666,\"#ed7953\"],[0.7777777777777778,\"#fb9f3a\"],[0.8888888888888888,\"#fdca26\"],[1.0,\"#f0f921\"]],\"type\":\"histogram2d\"}],\"histogram2dcontour\":[{\"colorbar\":{\"outlinewidth\":0,\"ticks\":\"\"},\"colorscale\":[[0.0,\"#0d0887\"],[0.1111111111111111,\"#46039f\"],[0.2222222222222222,\"#7201a8\"],[0.3333333333333333,\"#9c179e\"],[0.4444444444444444,\"#bd3786\"],[0.5555555555555556,\"#d8576b\"],[0.6666666666666666,\"#ed7953\"],[0.7777777777777778,\"#fb9f3a\"],[0.8888888888888888,\"#fdca26\"],[1.0,\"#f0f921\"]],\"type\":\"histogram2dcontour\"}],\"mesh3d\":[{\"colorbar\":{\"outlinewidth\":0,\"ticks\":\"\"},\"type\":\"mesh3d\"}],\"parcoords\":[{\"line\":{\"colorbar\":{\"outlinewidth\":0,\"ticks\":\"\"}},\"type\":\"parcoords\"}],\"pie\":[{\"automargin\":true,\"type\":\"pie\"}],\"scatter\":[{\"marker\":{\"colorbar\":{\"outlinewidth\":0,\"ticks\":\"\"}},\"type\":\"scatter\"}],\"scatter3d\":[{\"line\":{\"colorbar\":{\"outlinewidth\":0,\"ticks\":\"\"}},\"marker\":{\"colorbar\":{\"outlinewidth\":0,\"ticks\":\"\"}},\"type\":\"scatter3d\"}],\"scattercarpet\":[{\"marker\":{\"colorbar\":{\"outlinewidth\":0,\"ticks\":\"\"}},\"type\":\"scattercarpet\"}],\"scattergeo\":[{\"marker\":{\"colorbar\":{\"outlinewidth\":0,\"ticks\":\"\"}},\"type\":\"scattergeo\"}],\"scattergl\":[{\"marker\":{\"colorbar\":{\"outlinewidth\":0,\"ticks\":\"\"}},\"type\":\"scattergl\"}],\"scattermapbox\":[{\"marker\":{\"colorbar\":{\"outlinewidth\":0,\"ticks\":\"\"}},\"type\":\"scattermapbox\"}],\"scatterpolar\":[{\"marker\":{\"colorbar\":{\"outlinewidth\":0,\"ticks\":\"\"}},\"type\":\"scatterpolar\"}],\"scatterpolargl\":[{\"marker\":{\"colorbar\":{\"outlinewidth\":0,\"ticks\":\"\"}},\"type\":\"scatterpolargl\"}],\"scatterternary\":[{\"marker\":{\"colorbar\":{\"outlinewidth\":0,\"ticks\":\"\"}},\"type\":\"scatterternary\"}],\"surface\":[{\"colorbar\":{\"outlinewidth\":0,\"ticks\":\"\"},\"colorscale\":[[0.0,\"#0d0887\"],[0.1111111111111111,\"#46039f\"],[0.2222222222222222,\"#7201a8\"],[0.3333333333333333,\"#9c179e\"],[0.4444444444444444,\"#bd3786\"],[0.5555555555555556,\"#d8576b\"],[0.6666666666666666,\"#ed7953\"],[0.7777777777777778,\"#fb9f3a\"],[0.8888888888888888,\"#fdca26\"],[1.0,\"#f0f921\"]],\"type\":\"surface\"}],\"table\":[{\"cells\":{\"fill\":{\"color\":\"#EBF0F8\"},\"line\":{\"color\":\"white\"}},\"header\":{\"fill\":{\"color\":\"#C8D4E3\"},\"line\":{\"color\":\"white\"}},\"type\":\"table\"}]},\"layout\":{\"annotationdefaults\":{\"arrowcolor\":\"#2a3f5f\",\"arrowhead\":0,\"arrowwidth\":1},\"autotypenumbers\":\"strict\",\"coloraxis\":{\"colorbar\":{\"outlinewidth\":0,\"ticks\":\"\"}},\"colorscale\":{\"diverging\":[[0,\"#8e0152\"],[0.1,\"#c51b7d\"],[0.2,\"#de77ae\"],[0.3,\"#f1b6da\"],[0.4,\"#fde0ef\"],[0.5,\"#f7f7f7\"],[0.6,\"#e6f5d0\"],[0.7,\"#b8e186\"],[0.8,\"#7fbc41\"],[0.9,\"#4d9221\"],[1,\"#276419\"]],\"sequential\":[[0.0,\"#0d0887\"],[0.1111111111111111,\"#46039f\"],[0.2222222222222222,\"#7201a8\"],[0.3333333333333333,\"#9c179e\"],[0.4444444444444444,\"#bd3786\"],[0.5555555555555556,\"#d8576b\"],[0.6666666666666666,\"#ed7953\"],[0.7777777777777778,\"#fb9f3a\"],[0.8888888888888888,\"#fdca26\"],[1.0,\"#f0f921\"]],\"sequentialminus\":[[0.0,\"#0d0887\"],[0.1111111111111111,\"#46039f\"],[0.2222222222222222,\"#7201a8\"],[0.3333333333333333,\"#9c179e\"],[0.4444444444444444,\"#bd3786\"],[0.5555555555555556,\"#d8576b\"],[0.6666666666666666,\"#ed7953\"],[0.7777777777777778,\"#fb9f3a\"],[0.8888888888888888,\"#fdca26\"],[1.0,\"#f0f921\"]]},\"colorway\":[\"#636efa\",\"#EF553B\",\"#00cc96\",\"#ab63fa\",\"#FFA15A\",\"#19d3f3\",\"#FF6692\",\"#B6E880\",\"#FF97FF\",\"#FECB52\"],\"font\":{\"color\":\"#2a3f5f\"},\"geo\":{\"bgcolor\":\"white\",\"lakecolor\":\"white\",\"landcolor\":\"#E5ECF6\",\"showlakes\":true,\"showland\":true,\"subunitcolor\":\"white\"},\"hoverlabel\":{\"align\":\"left\"},\"hovermode\":\"closest\",\"mapbox\":{\"style\":\"light\"},\"paper_bgcolor\":\"white\",\"plot_bgcolor\":\"#E5ECF6\",\"polar\":{\"angularaxis\":{\"gridcolor\":\"white\",\"linecolor\":\"white\",\"ticks\":\"\"},\"bgcolor\":\"#E5ECF6\",\"radialaxis\":{\"gridcolor\":\"white\",\"linecolor\":\"white\",\"ticks\":\"\"}},\"scene\":{\"xaxis\":{\"backgroundcolor\":\"#E5ECF6\",\"gridcolor\":\"white\",\"gridwidth\":2,\"linecolor\":\"white\",\"showbackground\":true,\"ticks\":\"\",\"zerolinecolor\":\"white\"},\"yaxis\":{\"backgroundcolor\":\"#E5ECF6\",\"gridcolor\":\"white\",\"gridwidth\":2,\"linecolor\":\"white\",\"showbackground\":true,\"ticks\":\"\",\"zerolinecolor\":\"white\"},\"zaxis\":{\"backgroundcolor\":\"#E5ECF6\",\"gridcolor\":\"white\",\"gridwidth\":2,\"linecolor\":\"white\",\"showbackground\":true,\"ticks\":\"\",\"zerolinecolor\":\"white\"}},\"shapedefaults\":{\"line\":{\"color\":\"#2a3f5f\"}},\"ternary\":{\"aaxis\":{\"gridcolor\":\"white\",\"linecolor\":\"white\",\"ticks\":\"\"},\"baxis\":{\"gridcolor\":\"white\",\"linecolor\":\"white\",\"ticks\":\"\"},\"bgcolor\":\"#E5ECF6\",\"caxis\":{\"gridcolor\":\"white\",\"linecolor\":\"white\",\"ticks\":\"\"}},\"title\":{\"x\":0.05},\"xaxis\":{\"automargin\":true,\"gridcolor\":\"white\",\"linecolor\":\"white\",\"ticks\":\"\",\"title\":{\"standoff\":15},\"zerolinecolor\":\"white\",\"zerolinewidth\":2},\"yaxis\":{\"automargin\":true,\"gridcolor\":\"white\",\"linecolor\":\"white\",\"ticks\":\"\",\"title\":{\"standoff\":15},\"zerolinecolor\":\"white\",\"zerolinewidth\":2}}},\"xaxis\":{\"anchor\":\"y\",\"domain\":[0.0,1.0],\"title\":{\"text\":\"value\"}},\"yaxis\":{\"anchor\":\"x\",\"domain\":[0.0,1.0],\"title\":{\"text\":\"index\"}}},                        {\"responsive\": true}                    ).then(function(){\n",
              "                            \n",
              "var gd = document.getElementById('3445f3b5-2d8c-47fd-945d-188c7277c024');\n",
              "var x = new MutationObserver(function (mutations, observer) {{\n",
              "        var display = window.getComputedStyle(gd).display;\n",
              "        if (!display || display === 'none') {{\n",
              "            console.log([gd, 'removed!']);\n",
              "            Plotly.purge(gd);\n",
              "            observer.disconnect();\n",
              "        }}\n",
              "}});\n",
              "\n",
              "// Listen for the removal of the full notebook cells\n",
              "var notebookContainer = gd.closest('#notebook-container');\n",
              "if (notebookContainer) {{\n",
              "    x.observe(notebookContainer, {childList: true});\n",
              "}}\n",
              "\n",
              "// Listen for the clearing of the current output cell\n",
              "var outputEl = gd.closest('.output');\n",
              "if (outputEl) {{\n",
              "    x.observe(outputEl, {childList: true});\n",
              "}}\n",
              "\n",
              "                        })                };                            </script>        </div>\n",
              "</body>\n",
              "</html>"
            ]
          },
          "metadata": {}
        }
      ]
    },
    {
      "cell_type": "code",
      "metadata": {
        "colab": {
          "base_uri": "https://localhost:8080/"
        },
        "id": "qebrRgbvq5tX",
        "outputId": "f28db72e-6c8e-40e9-91fa-a7eadccb9ad4"
      },
      "source": [
        "#Os deputados que mais viajaram?\n",
        "\n",
        "\n",
        "ceap_2018['txtPassageiro'].value_counts()"
      ],
      "execution_count": 158,
      "outputs": [
        {
          "output_type": "execute_result",
          "data": {
            "text/plain": [
              "Eduardo da Fonte               685\n",
              "ANDRE MOURA                    495\n",
              "Arthur Lira                    474\n",
              "Pedro Vilela                   465\n",
              "SILVIO TORRES                  455\n",
              "                              ... \n",
              "PAULO SEABRA                     1\n",
              "SCARIOT/MICHELE                  1\n",
              "CLODOALDO MR MIGUEL              1\n",
              "VANDILZON SRDE SOUZA MACEDO      1\n",
              "RENATA S MONTENEGRO              1\n",
              "Name: txtPassageiro, Length: 4876, dtype: int64"
            ]
          },
          "metadata": {},
          "execution_count": 158
        }
      ]
    },
    {
      "cell_type": "code",
      "metadata": {
        "colab": {
          "base_uri": "https://localhost:8080/",
          "height": 542
        },
        "id": "RUQfSYTXq5xO",
        "outputId": "d69cdd25-2415-4e12-fe55-2080824fae02"
      },
      "source": [
        "ceap_2018['txtPassageiro'].value_counts().head(10).sort_values(ascending=True).plot(kind='barh')"
      ],
      "execution_count": 159,
      "outputs": [
        {
          "output_type": "display_data",
          "data": {
            "text/html": [
              "<html>\n",
              "<head><meta charset=\"utf-8\" /></head>\n",
              "<body>\n",
              "    <div>            <script src=\"https://cdnjs.cloudflare.com/ajax/libs/mathjax/2.7.5/MathJax.js?config=TeX-AMS-MML_SVG\"></script><script type=\"text/javascript\">if (window.MathJax) {MathJax.Hub.Config({SVG: {font: \"STIX-Web\"}});}</script>                <script type=\"text/javascript\">window.PlotlyConfig = {MathJaxConfig: 'local'};</script>\n",
              "        <script src=\"https://cdn.plot.ly/plotly-2.3.1.min.js\"></script>                <div id=\"57c83451-3dfe-4bfb-bbd8-f273dbedfda4\" class=\"plotly-graph-div\" style=\"height:525px; width:100%;\"></div>            <script type=\"text/javascript\">                                    window.PLOTLYENV=window.PLOTLYENV || {};                                    if (document.getElementById(\"57c83451-3dfe-4bfb-bbd8-f273dbedfda4\")) {                    Plotly.newPlot(                        \"57c83451-3dfe-4bfb-bbd8-f273dbedfda4\",                        [{\"alignmentgroup\":\"True\",\"hovertemplate\":\"variable=txtPassageiro<br>value=%{x}<br>index=%{y}<extra></extra>\",\"legendgroup\":\"txtPassageiro\",\"marker\":{\"color\":\"#636efa\",\"pattern\":{\"shape\":\"\"}},\"name\":\"txtPassageiro\",\"offsetgroup\":\"txtPassageiro\",\"orientation\":\"h\",\"showlegend\":true,\"textposition\":\"auto\",\"type\":\"bar\",\"x\":[408,416,417,426,449,455,465,474,495,685],\"xaxis\":\"x\",\"y\":[\"FELIPE BORNIER\",\"Wolney Queiroz\",\"Claudio Cajado\",\"Soraya Santos\",\"WALDIR MARANH\\u00c3O\",\"SILVIO TORRES\",\"Pedro Vilela\",\"Arthur Lira\",\"ANDRE MOURA\",\"Eduardo da Fonte\"],\"yaxis\":\"y\"}],                        {\"barmode\":\"relative\",\"legend\":{\"title\":{\"text\":\"variable\"},\"tracegroupgap\":0},\"margin\":{\"t\":60},\"template\":{\"data\":{\"bar\":[{\"error_x\":{\"color\":\"#2a3f5f\"},\"error_y\":{\"color\":\"#2a3f5f\"},\"marker\":{\"line\":{\"color\":\"#E5ECF6\",\"width\":0.5},\"pattern\":{\"fillmode\":\"overlay\",\"size\":10,\"solidity\":0.2}},\"type\":\"bar\"}],\"barpolar\":[{\"marker\":{\"line\":{\"color\":\"#E5ECF6\",\"width\":0.5},\"pattern\":{\"fillmode\":\"overlay\",\"size\":10,\"solidity\":0.2}},\"type\":\"barpolar\"}],\"carpet\":[{\"aaxis\":{\"endlinecolor\":\"#2a3f5f\",\"gridcolor\":\"white\",\"linecolor\":\"white\",\"minorgridcolor\":\"white\",\"startlinecolor\":\"#2a3f5f\"},\"baxis\":{\"endlinecolor\":\"#2a3f5f\",\"gridcolor\":\"white\",\"linecolor\":\"white\",\"minorgridcolor\":\"white\",\"startlinecolor\":\"#2a3f5f\"},\"type\":\"carpet\"}],\"choropleth\":[{\"colorbar\":{\"outlinewidth\":0,\"ticks\":\"\"},\"type\":\"choropleth\"}],\"contour\":[{\"colorbar\":{\"outlinewidth\":0,\"ticks\":\"\"},\"colorscale\":[[0.0,\"#0d0887\"],[0.1111111111111111,\"#46039f\"],[0.2222222222222222,\"#7201a8\"],[0.3333333333333333,\"#9c179e\"],[0.4444444444444444,\"#bd3786\"],[0.5555555555555556,\"#d8576b\"],[0.6666666666666666,\"#ed7953\"],[0.7777777777777778,\"#fb9f3a\"],[0.8888888888888888,\"#fdca26\"],[1.0,\"#f0f921\"]],\"type\":\"contour\"}],\"contourcarpet\":[{\"colorbar\":{\"outlinewidth\":0,\"ticks\":\"\"},\"type\":\"contourcarpet\"}],\"heatmap\":[{\"colorbar\":{\"outlinewidth\":0,\"ticks\":\"\"},\"colorscale\":[[0.0,\"#0d0887\"],[0.1111111111111111,\"#46039f\"],[0.2222222222222222,\"#7201a8\"],[0.3333333333333333,\"#9c179e\"],[0.4444444444444444,\"#bd3786\"],[0.5555555555555556,\"#d8576b\"],[0.6666666666666666,\"#ed7953\"],[0.7777777777777778,\"#fb9f3a\"],[0.8888888888888888,\"#fdca26\"],[1.0,\"#f0f921\"]],\"type\":\"heatmap\"}],\"heatmapgl\":[{\"colorbar\":{\"outlinewidth\":0,\"ticks\":\"\"},\"colorscale\":[[0.0,\"#0d0887\"],[0.1111111111111111,\"#46039f\"],[0.2222222222222222,\"#7201a8\"],[0.3333333333333333,\"#9c179e\"],[0.4444444444444444,\"#bd3786\"],[0.5555555555555556,\"#d8576b\"],[0.6666666666666666,\"#ed7953\"],[0.7777777777777778,\"#fb9f3a\"],[0.8888888888888888,\"#fdca26\"],[1.0,\"#f0f921\"]],\"type\":\"heatmapgl\"}],\"histogram\":[{\"marker\":{\"pattern\":{\"fillmode\":\"overlay\",\"size\":10,\"solidity\":0.2}},\"type\":\"histogram\"}],\"histogram2d\":[{\"colorbar\":{\"outlinewidth\":0,\"ticks\":\"\"},\"colorscale\":[[0.0,\"#0d0887\"],[0.1111111111111111,\"#46039f\"],[0.2222222222222222,\"#7201a8\"],[0.3333333333333333,\"#9c179e\"],[0.4444444444444444,\"#bd3786\"],[0.5555555555555556,\"#d8576b\"],[0.6666666666666666,\"#ed7953\"],[0.7777777777777778,\"#fb9f3a\"],[0.8888888888888888,\"#fdca26\"],[1.0,\"#f0f921\"]],\"type\":\"histogram2d\"}],\"histogram2dcontour\":[{\"colorbar\":{\"outlinewidth\":0,\"ticks\":\"\"},\"colorscale\":[[0.0,\"#0d0887\"],[0.1111111111111111,\"#46039f\"],[0.2222222222222222,\"#7201a8\"],[0.3333333333333333,\"#9c179e\"],[0.4444444444444444,\"#bd3786\"],[0.5555555555555556,\"#d8576b\"],[0.6666666666666666,\"#ed7953\"],[0.7777777777777778,\"#fb9f3a\"],[0.8888888888888888,\"#fdca26\"],[1.0,\"#f0f921\"]],\"type\":\"histogram2dcontour\"}],\"mesh3d\":[{\"colorbar\":{\"outlinewidth\":0,\"ticks\":\"\"},\"type\":\"mesh3d\"}],\"parcoords\":[{\"line\":{\"colorbar\":{\"outlinewidth\":0,\"ticks\":\"\"}},\"type\":\"parcoords\"}],\"pie\":[{\"automargin\":true,\"type\":\"pie\"}],\"scatter\":[{\"marker\":{\"colorbar\":{\"outlinewidth\":0,\"ticks\":\"\"}},\"type\":\"scatter\"}],\"scatter3d\":[{\"line\":{\"colorbar\":{\"outlinewidth\":0,\"ticks\":\"\"}},\"marker\":{\"colorbar\":{\"outlinewidth\":0,\"ticks\":\"\"}},\"type\":\"scatter3d\"}],\"scattercarpet\":[{\"marker\":{\"colorbar\":{\"outlinewidth\":0,\"ticks\":\"\"}},\"type\":\"scattercarpet\"}],\"scattergeo\":[{\"marker\":{\"colorbar\":{\"outlinewidth\":0,\"ticks\":\"\"}},\"type\":\"scattergeo\"}],\"scattergl\":[{\"marker\":{\"colorbar\":{\"outlinewidth\":0,\"ticks\":\"\"}},\"type\":\"scattergl\"}],\"scattermapbox\":[{\"marker\":{\"colorbar\":{\"outlinewidth\":0,\"ticks\":\"\"}},\"type\":\"scattermapbox\"}],\"scatterpolar\":[{\"marker\":{\"colorbar\":{\"outlinewidth\":0,\"ticks\":\"\"}},\"type\":\"scatterpolar\"}],\"scatterpolargl\":[{\"marker\":{\"colorbar\":{\"outlinewidth\":0,\"ticks\":\"\"}},\"type\":\"scatterpolargl\"}],\"scatterternary\":[{\"marker\":{\"colorbar\":{\"outlinewidth\":0,\"ticks\":\"\"}},\"type\":\"scatterternary\"}],\"surface\":[{\"colorbar\":{\"outlinewidth\":0,\"ticks\":\"\"},\"colorscale\":[[0.0,\"#0d0887\"],[0.1111111111111111,\"#46039f\"],[0.2222222222222222,\"#7201a8\"],[0.3333333333333333,\"#9c179e\"],[0.4444444444444444,\"#bd3786\"],[0.5555555555555556,\"#d8576b\"],[0.6666666666666666,\"#ed7953\"],[0.7777777777777778,\"#fb9f3a\"],[0.8888888888888888,\"#fdca26\"],[1.0,\"#f0f921\"]],\"type\":\"surface\"}],\"table\":[{\"cells\":{\"fill\":{\"color\":\"#EBF0F8\"},\"line\":{\"color\":\"white\"}},\"header\":{\"fill\":{\"color\":\"#C8D4E3\"},\"line\":{\"color\":\"white\"}},\"type\":\"table\"}]},\"layout\":{\"annotationdefaults\":{\"arrowcolor\":\"#2a3f5f\",\"arrowhead\":0,\"arrowwidth\":1},\"autotypenumbers\":\"strict\",\"coloraxis\":{\"colorbar\":{\"outlinewidth\":0,\"ticks\":\"\"}},\"colorscale\":{\"diverging\":[[0,\"#8e0152\"],[0.1,\"#c51b7d\"],[0.2,\"#de77ae\"],[0.3,\"#f1b6da\"],[0.4,\"#fde0ef\"],[0.5,\"#f7f7f7\"],[0.6,\"#e6f5d0\"],[0.7,\"#b8e186\"],[0.8,\"#7fbc41\"],[0.9,\"#4d9221\"],[1,\"#276419\"]],\"sequential\":[[0.0,\"#0d0887\"],[0.1111111111111111,\"#46039f\"],[0.2222222222222222,\"#7201a8\"],[0.3333333333333333,\"#9c179e\"],[0.4444444444444444,\"#bd3786\"],[0.5555555555555556,\"#d8576b\"],[0.6666666666666666,\"#ed7953\"],[0.7777777777777778,\"#fb9f3a\"],[0.8888888888888888,\"#fdca26\"],[1.0,\"#f0f921\"]],\"sequentialminus\":[[0.0,\"#0d0887\"],[0.1111111111111111,\"#46039f\"],[0.2222222222222222,\"#7201a8\"],[0.3333333333333333,\"#9c179e\"],[0.4444444444444444,\"#bd3786\"],[0.5555555555555556,\"#d8576b\"],[0.6666666666666666,\"#ed7953\"],[0.7777777777777778,\"#fb9f3a\"],[0.8888888888888888,\"#fdca26\"],[1.0,\"#f0f921\"]]},\"colorway\":[\"#636efa\",\"#EF553B\",\"#00cc96\",\"#ab63fa\",\"#FFA15A\",\"#19d3f3\",\"#FF6692\",\"#B6E880\",\"#FF97FF\",\"#FECB52\"],\"font\":{\"color\":\"#2a3f5f\"},\"geo\":{\"bgcolor\":\"white\",\"lakecolor\":\"white\",\"landcolor\":\"#E5ECF6\",\"showlakes\":true,\"showland\":true,\"subunitcolor\":\"white\"},\"hoverlabel\":{\"align\":\"left\"},\"hovermode\":\"closest\",\"mapbox\":{\"style\":\"light\"},\"paper_bgcolor\":\"white\",\"plot_bgcolor\":\"#E5ECF6\",\"polar\":{\"angularaxis\":{\"gridcolor\":\"white\",\"linecolor\":\"white\",\"ticks\":\"\"},\"bgcolor\":\"#E5ECF6\",\"radialaxis\":{\"gridcolor\":\"white\",\"linecolor\":\"white\",\"ticks\":\"\"}},\"scene\":{\"xaxis\":{\"backgroundcolor\":\"#E5ECF6\",\"gridcolor\":\"white\",\"gridwidth\":2,\"linecolor\":\"white\",\"showbackground\":true,\"ticks\":\"\",\"zerolinecolor\":\"white\"},\"yaxis\":{\"backgroundcolor\":\"#E5ECF6\",\"gridcolor\":\"white\",\"gridwidth\":2,\"linecolor\":\"white\",\"showbackground\":true,\"ticks\":\"\",\"zerolinecolor\":\"white\"},\"zaxis\":{\"backgroundcolor\":\"#E5ECF6\",\"gridcolor\":\"white\",\"gridwidth\":2,\"linecolor\":\"white\",\"showbackground\":true,\"ticks\":\"\",\"zerolinecolor\":\"white\"}},\"shapedefaults\":{\"line\":{\"color\":\"#2a3f5f\"}},\"ternary\":{\"aaxis\":{\"gridcolor\":\"white\",\"linecolor\":\"white\",\"ticks\":\"\"},\"baxis\":{\"gridcolor\":\"white\",\"linecolor\":\"white\",\"ticks\":\"\"},\"bgcolor\":\"#E5ECF6\",\"caxis\":{\"gridcolor\":\"white\",\"linecolor\":\"white\",\"ticks\":\"\"}},\"title\":{\"x\":0.05},\"xaxis\":{\"automargin\":true,\"gridcolor\":\"white\",\"linecolor\":\"white\",\"ticks\":\"\",\"title\":{\"standoff\":15},\"zerolinecolor\":\"white\",\"zerolinewidth\":2},\"yaxis\":{\"automargin\":true,\"gridcolor\":\"white\",\"linecolor\":\"white\",\"ticks\":\"\",\"title\":{\"standoff\":15},\"zerolinecolor\":\"white\",\"zerolinewidth\":2}}},\"xaxis\":{\"anchor\":\"y\",\"domain\":[0.0,1.0],\"title\":{\"text\":\"value\"}},\"yaxis\":{\"anchor\":\"x\",\"domain\":[0.0,1.0],\"title\":{\"text\":\"index\"}}},                        {\"responsive\": true}                    ).then(function(){\n",
              "                            \n",
              "var gd = document.getElementById('57c83451-3dfe-4bfb-bbd8-f273dbedfda4');\n",
              "var x = new MutationObserver(function (mutations, observer) {{\n",
              "        var display = window.getComputedStyle(gd).display;\n",
              "        if (!display || display === 'none') {{\n",
              "            console.log([gd, 'removed!']);\n",
              "            Plotly.purge(gd);\n",
              "            observer.disconnect();\n",
              "        }}\n",
              "}});\n",
              "\n",
              "// Listen for the removal of the full notebook cells\n",
              "var notebookContainer = gd.closest('#notebook-container');\n",
              "if (notebookContainer) {{\n",
              "    x.observe(notebookContainer, {childList: true});\n",
              "}}\n",
              "\n",
              "// Listen for the clearing of the current output cell\n",
              "var outputEl = gd.closest('.output');\n",
              "if (outputEl) {{\n",
              "    x.observe(outputEl, {childList: true});\n",
              "}}\n",
              "\n",
              "                        })                };                            </script>        </div>\n",
              "</body>\n",
              "</html>"
            ]
          },
          "metadata": {}
        }
      ]
    },
    {
      "cell_type": "code",
      "metadata": {
        "colab": {
          "base_uri": "https://localhost:8080/",
          "height": 722
        },
        "id": "RcOaXgDRrlfn",
        "outputId": "b5423b2f-be01-4024-b5b2-4c4b1924ff72"
      },
      "source": [
        "ceap_2018[ceap_2018['vlrLiquido'] > 100000]"
      ],
      "execution_count": 160,
      "outputs": [
        {
          "output_type": "execute_result",
          "data": {
            "text/html": [
              "<div>\n",
              "<style scoped>\n",
              "    .dataframe tbody tr th:only-of-type {\n",
              "        vertical-align: middle;\n",
              "    }\n",
              "\n",
              "    .dataframe tbody tr th {\n",
              "        vertical-align: top;\n",
              "    }\n",
              "\n",
              "    .dataframe thead th {\n",
              "        text-align: right;\n",
              "    }\n",
              "</style>\n",
              "<table border=\"1\" class=\"dataframe\">\n",
              "  <thead>\n",
              "    <tr style=\"text-align: right;\">\n",
              "      <th></th>\n",
              "      <th>txNomeParlamentar</th>\n",
              "      <th>cpf</th>\n",
              "      <th>ideCadastro</th>\n",
              "      <th>nuCarteiraParlamentar</th>\n",
              "      <th>nuLegislatura</th>\n",
              "      <th>sgUF</th>\n",
              "      <th>sgPartido</th>\n",
              "      <th>codLegislatura</th>\n",
              "      <th>numSubCota</th>\n",
              "      <th>txtDescricao</th>\n",
              "      <th>numEspecificacaoSubCota</th>\n",
              "      <th>txtDescricaoEspecificacao</th>\n",
              "      <th>txtFornecedor</th>\n",
              "      <th>txtCNPJCPF</th>\n",
              "      <th>txtNumero</th>\n",
              "      <th>indTipoDocumento</th>\n",
              "      <th>datEmissao</th>\n",
              "      <th>vlrDocumento</th>\n",
              "      <th>vlrGlosa</th>\n",
              "      <th>vlrLiquido</th>\n",
              "      <th>numMes</th>\n",
              "      <th>numAno</th>\n",
              "      <th>numParcela</th>\n",
              "      <th>txtPassageiro</th>\n",
              "      <th>txtTrecho</th>\n",
              "      <th>numLote</th>\n",
              "      <th>numRessarcimento</th>\n",
              "      <th>vlrRestituicao</th>\n",
              "      <th>nuDeputadoId</th>\n",
              "      <th>ideDocumento</th>\n",
              "      <th>urlDocumento</th>\n",
              "    </tr>\n",
              "  </thead>\n",
              "  <tbody>\n",
              "    <tr>\n",
              "      <th>6802</th>\n",
              "      <td>ARLINDO CHINAGLIA</td>\n",
              "      <td>6821146187.0</td>\n",
              "      <td>73433</td>\n",
              "      <td>336</td>\n",
              "      <td>2015</td>\n",
              "      <td>SP</td>\n",
              "      <td>PT</td>\n",
              "      <td>55</td>\n",
              "      <td>5</td>\n",
              "      <td>DIVULGAÇÃO DA ATIVIDADE PARLAMENTAR.</td>\n",
              "      <td>0</td>\n",
              "      <td>NaN</td>\n",
              "      <td>COP BEM GRAFICA E EDITORA EIRELI</td>\n",
              "      <td>00158540000106</td>\n",
              "      <td>00016797</td>\n",
              "      <td>nota_fiscal</td>\n",
              "      <td>2018-11-06</td>\n",
              "      <td>104,160.00</td>\n",
              "      <td>0</td>\n",
              "      <td>104,160.00</td>\n",
              "      <td>11</td>\n",
              "      <td>2018</td>\n",
              "      <td>0</td>\n",
              "      <td>NaN</td>\n",
              "      <td>NaN</td>\n",
              "      <td>1540775</td>\n",
              "      <td>NaN</td>\n",
              "      <td>nan</td>\n",
              "      <td>974</td>\n",
              "      <td>6703192</td>\n",
              "      <td>https://www.camara.leg.br/cota-parlamentar/doc...</td>\n",
              "    </tr>\n",
              "    <tr>\n",
              "      <th>53265</th>\n",
              "      <td>SANDES JÚNIOR</td>\n",
              "      <td>19681550153.0</td>\n",
              "      <td>74372</td>\n",
              "      <td>524</td>\n",
              "      <td>2015</td>\n",
              "      <td>GO</td>\n",
              "      <td>PP</td>\n",
              "      <td>55</td>\n",
              "      <td>5</td>\n",
              "      <td>DIVULGAÇÃO DA ATIVIDADE PARLAMENTAR.</td>\n",
              "      <td>0</td>\n",
              "      <td>NaN</td>\n",
              "      <td>CRIATIVA GRAFICA E EDITORA LTDA</td>\n",
              "      <td>72646714000182</td>\n",
              "      <td>515</td>\n",
              "      <td>None</td>\n",
              "      <td>2018-12-13</td>\n",
              "      <td>101,000.00</td>\n",
              "      <td>0</td>\n",
              "      <td>101,000.00</td>\n",
              "      <td>12</td>\n",
              "      <td>2018</td>\n",
              "      <td>0</td>\n",
              "      <td>NaN</td>\n",
              "      <td>NaN</td>\n",
              "      <td>1548841</td>\n",
              "      <td>NaN</td>\n",
              "      <td>nan</td>\n",
              "      <td>1688</td>\n",
              "      <td>6723719</td>\n",
              "      <td>http://camara.leg.br/cota-parlamentar/nota-fis...</td>\n",
              "    </tr>\n",
              "    <tr>\n",
              "      <th>67059</th>\n",
              "      <td>GIVALDO CARIMBÃO</td>\n",
              "      <td>10270060510.0</td>\n",
              "      <td>74558</td>\n",
              "      <td>166</td>\n",
              "      <td>2015</td>\n",
              "      <td>AL</td>\n",
              "      <td>AVANTE</td>\n",
              "      <td>55</td>\n",
              "      <td>5</td>\n",
              "      <td>DIVULGAÇÃO DA ATIVIDADE PARLAMENTAR.</td>\n",
              "      <td>0</td>\n",
              "      <td>NaN</td>\n",
              "      <td>GRAFMARQUES INDUSTRIA EDITORA E SERVICOS LTDA</td>\n",
              "      <td>00887925000104</td>\n",
              "      <td>1645</td>\n",
              "      <td>None</td>\n",
              "      <td>2018-12-21</td>\n",
              "      <td>130,000.00</td>\n",
              "      <td>0</td>\n",
              "      <td>130,000.00</td>\n",
              "      <td>12</td>\n",
              "      <td>2018</td>\n",
              "      <td>0</td>\n",
              "      <td>NaN</td>\n",
              "      <td>NaN</td>\n",
              "      <td>1554078</td>\n",
              "      <td>NaN</td>\n",
              "      <td>nan</td>\n",
              "      <td>1332</td>\n",
              "      <td>6737727</td>\n",
              "      <td>http://camara.leg.br/cota-parlamentar/nota-fis...</td>\n",
              "    </tr>\n",
              "    <tr>\n",
              "      <th>128523</th>\n",
              "      <td>LELO COIMBRA</td>\n",
              "      <td>34318100715.0</td>\n",
              "      <td>141562</td>\n",
              "      <td>277</td>\n",
              "      <td>2015</td>\n",
              "      <td>ES</td>\n",
              "      <td>MDB</td>\n",
              "      <td>55</td>\n",
              "      <td>5</td>\n",
              "      <td>DIVULGAÇÃO DA ATIVIDADE PARLAMENTAR.</td>\n",
              "      <td>0</td>\n",
              "      <td>NaN</td>\n",
              "      <td>STILO GRAFICA E EDITORA LTDA - EPP</td>\n",
              "      <td>00539486000130</td>\n",
              "      <td>758</td>\n",
              "      <td>None</td>\n",
              "      <td>2018-12-27</td>\n",
              "      <td>102,500.00</td>\n",
              "      <td>0</td>\n",
              "      <td>102,500.00</td>\n",
              "      <td>12</td>\n",
              "      <td>2018</td>\n",
              "      <td>0</td>\n",
              "      <td>NaN</td>\n",
              "      <td>NaN</td>\n",
              "      <td>1551898</td>\n",
              "      <td>NaN</td>\n",
              "      <td>nan</td>\n",
              "      <td>1871</td>\n",
              "      <td>6731671</td>\n",
              "      <td>http://camara.leg.br/cota-parlamentar/nota-fis...</td>\n",
              "    </tr>\n",
              "    <tr>\n",
              "      <th>156255</th>\n",
              "      <td>CÉSAR HALUM</td>\n",
              "      <td>8584060120.0</td>\n",
              "      <td>160576</td>\n",
              "      <td>64</td>\n",
              "      <td>2015</td>\n",
              "      <td>TO</td>\n",
              "      <td>PRB</td>\n",
              "      <td>55</td>\n",
              "      <td>5</td>\n",
              "      <td>DIVULGAÇÃO DA ATIVIDADE PARLAMENTAR.</td>\n",
              "      <td>0</td>\n",
              "      <td>NaN</td>\n",
              "      <td>OLIVER EIRELI</td>\n",
              "      <td>02817685000350</td>\n",
              "      <td>201800000000014</td>\n",
              "      <td>nota_fiscal</td>\n",
              "      <td>2018-11-22</td>\n",
              "      <td>104,000.00</td>\n",
              "      <td>0</td>\n",
              "      <td>104,000.00</td>\n",
              "      <td>11</td>\n",
              "      <td>2018</td>\n",
              "      <td>0</td>\n",
              "      <td>NaN</td>\n",
              "      <td>NaN</td>\n",
              "      <td>1541509</td>\n",
              "      <td>NaN</td>\n",
              "      <td>nan</td>\n",
              "      <td>2336</td>\n",
              "      <td>6704958</td>\n",
              "      <td>https://www.camara.leg.br/cota-parlamentar/doc...</td>\n",
              "    </tr>\n",
              "    <tr>\n",
              "      <th>175378</th>\n",
              "      <td>PROFESSORA DORINHA SEABRA REZENDE</td>\n",
              "      <td>43196926168.0</td>\n",
              "      <td>160639</td>\n",
              "      <td>67</td>\n",
              "      <td>2015</td>\n",
              "      <td>TO</td>\n",
              "      <td>DEM</td>\n",
              "      <td>55</td>\n",
              "      <td>5</td>\n",
              "      <td>DIVULGAÇÃO DA ATIVIDADE PARLAMENTAR.</td>\n",
              "      <td>0</td>\n",
              "      <td>NaN</td>\n",
              "      <td>WR GRAFICA E EDITORA LTDA</td>\n",
              "      <td>13343037000164</td>\n",
              "      <td>201800000000096</td>\n",
              "      <td>nota_fiscal</td>\n",
              "      <td>2018-12-17</td>\n",
              "      <td>104,800.00</td>\n",
              "      <td>0</td>\n",
              "      <td>104,800.00</td>\n",
              "      <td>12</td>\n",
              "      <td>2018</td>\n",
              "      <td>0</td>\n",
              "      <td>NaN</td>\n",
              "      <td>NaN</td>\n",
              "      <td>1549506</td>\n",
              "      <td>NaN</td>\n",
              "      <td>nan</td>\n",
              "      <td>2300</td>\n",
              "      <td>6725847</td>\n",
              "      <td>https://www.camara.leg.br/cota-parlamentar/doc...</td>\n",
              "    </tr>\n",
              "    <tr>\n",
              "      <th>228485</th>\n",
              "      <td>CAIO NARCIO</td>\n",
              "      <td>1338190601.0</td>\n",
              "      <td>178891</td>\n",
              "      <td>225</td>\n",
              "      <td>2015</td>\n",
              "      <td>MG</td>\n",
              "      <td>PSDB</td>\n",
              "      <td>55</td>\n",
              "      <td>5</td>\n",
              "      <td>DIVULGAÇÃO DA ATIVIDADE PARLAMENTAR.</td>\n",
              "      <td>0</td>\n",
              "      <td>NaN</td>\n",
              "      <td>GRAFICA FORMATO</td>\n",
              "      <td>07219437000160</td>\n",
              "      <td>0000001898</td>\n",
              "      <td>nota_fiscal</td>\n",
              "      <td>2018-12-07</td>\n",
              "      <td>112,000.00</td>\n",
              "      <td>0</td>\n",
              "      <td>112,000.00</td>\n",
              "      <td>12</td>\n",
              "      <td>2018</td>\n",
              "      <td>0</td>\n",
              "      <td>NaN</td>\n",
              "      <td>NaN</td>\n",
              "      <td>1546838</td>\n",
              "      <td>NaN</td>\n",
              "      <td>nan</td>\n",
              "      <td>2990</td>\n",
              "      <td>6719286</td>\n",
              "      <td>https://www.camara.leg.br/cota-parlamentar/doc...</td>\n",
              "    </tr>\n",
              "    <tr>\n",
              "      <th>236970</th>\n",
              "      <td>FRANCISCO CHAPADINHA</td>\n",
              "      <td>8073961334.0</td>\n",
              "      <td>178907</td>\n",
              "      <td>28</td>\n",
              "      <td>2015</td>\n",
              "      <td>PA</td>\n",
              "      <td>PODE</td>\n",
              "      <td>55</td>\n",
              "      <td>5</td>\n",
              "      <td>DIVULGAÇÃO DA ATIVIDADE PARLAMENTAR.</td>\n",
              "      <td>0</td>\n",
              "      <td>NaN</td>\n",
              "      <td>GLOBAL GRAFICA DA AMAZONIA LTDA.</td>\n",
              "      <td>03339851000151</td>\n",
              "      <td>668</td>\n",
              "      <td>None</td>\n",
              "      <td>2018-03-01</td>\n",
              "      <td>102,000.00</td>\n",
              "      <td>0</td>\n",
              "      <td>102,000.00</td>\n",
              "      <td>3</td>\n",
              "      <td>2018</td>\n",
              "      <td>0</td>\n",
              "      <td>NaN</td>\n",
              "      <td>NaN</td>\n",
              "      <td>1470184</td>\n",
              "      <td>NaN</td>\n",
              "      <td>nan</td>\n",
              "      <td>2916</td>\n",
              "      <td>6516320</td>\n",
              "      <td>http://camara.leg.br/cota-parlamentar/nota-fis...</td>\n",
              "    </tr>\n",
              "    <tr>\n",
              "      <th>253206</th>\n",
              "      <td>ALEXANDRE VALLE</td>\n",
              "      <td>1486095704.0</td>\n",
              "      <td>178936</td>\n",
              "      <td>285</td>\n",
              "      <td>2015</td>\n",
              "      <td>RJ</td>\n",
              "      <td>PR</td>\n",
              "      <td>55</td>\n",
              "      <td>5</td>\n",
              "      <td>DIVULGAÇÃO DA ATIVIDADE PARLAMENTAR.</td>\n",
              "      <td>0</td>\n",
              "      <td>NaN</td>\n",
              "      <td>MIL COMUNICAÇÃO E EVENTOS LTDA EPP</td>\n",
              "      <td>28660364000117</td>\n",
              "      <td>00000144</td>\n",
              "      <td>nota_fiscal</td>\n",
              "      <td>2018-12-17</td>\n",
              "      <td>113,440.00</td>\n",
              "      <td>0</td>\n",
              "      <td>113,440.00</td>\n",
              "      <td>12</td>\n",
              "      <td>2018</td>\n",
              "      <td>0</td>\n",
              "      <td>NaN</td>\n",
              "      <td>NaN</td>\n",
              "      <td>1549383</td>\n",
              "      <td>NaN</td>\n",
              "      <td>nan</td>\n",
              "      <td>2952</td>\n",
              "      <td>6725467</td>\n",
              "      <td>https://www.camara.leg.br/cota-parlamentar/doc...</td>\n",
              "    </tr>\n",
              "  </tbody>\n",
              "</table>\n",
              "</div>"
            ],
            "text/plain": [
              "                        txNomeParlamentar            cpf ideCadastro  \\\n",
              "6802                    ARLINDO CHINAGLIA   6821146187.0       73433   \n",
              "53265                       SANDES JÚNIOR  19681550153.0       74372   \n",
              "67059                    GIVALDO CARIMBÃO  10270060510.0       74558   \n",
              "128523                       LELO COIMBRA  34318100715.0      141562   \n",
              "156255                        CÉSAR HALUM   8584060120.0      160576   \n",
              "175378  PROFESSORA DORINHA SEABRA REZENDE  43196926168.0      160639   \n",
              "228485                        CAIO NARCIO   1338190601.0      178891   \n",
              "236970               FRANCISCO CHAPADINHA   8073961334.0      178907   \n",
              "253206                    ALEXANDRE VALLE   1486095704.0      178936   \n",
              "\n",
              "       nuCarteiraParlamentar nuLegislatura sgUF sgPartido codLegislatura  \\\n",
              "6802                     336          2015   SP        PT             55   \n",
              "53265                    524          2015   GO        PP             55   \n",
              "67059                    166          2015   AL    AVANTE             55   \n",
              "128523                   277          2015   ES       MDB             55   \n",
              "156255                    64          2015   TO       PRB             55   \n",
              "175378                    67          2015   TO       DEM             55   \n",
              "228485                   225          2015   MG      PSDB             55   \n",
              "236970                    28          2015   PA      PODE             55   \n",
              "253206                   285          2015   RJ        PR             55   \n",
              "\n",
              "       numSubCota                          txtDescricao  \\\n",
              "6802            5  DIVULGAÇÃO DA ATIVIDADE PARLAMENTAR.   \n",
              "53265           5  DIVULGAÇÃO DA ATIVIDADE PARLAMENTAR.   \n",
              "67059           5  DIVULGAÇÃO DA ATIVIDADE PARLAMENTAR.   \n",
              "128523          5  DIVULGAÇÃO DA ATIVIDADE PARLAMENTAR.   \n",
              "156255          5  DIVULGAÇÃO DA ATIVIDADE PARLAMENTAR.   \n",
              "175378          5  DIVULGAÇÃO DA ATIVIDADE PARLAMENTAR.   \n",
              "228485          5  DIVULGAÇÃO DA ATIVIDADE PARLAMENTAR.   \n",
              "236970          5  DIVULGAÇÃO DA ATIVIDADE PARLAMENTAR.   \n",
              "253206          5  DIVULGAÇÃO DA ATIVIDADE PARLAMENTAR.   \n",
              "\n",
              "       numEspecificacaoSubCota txtDescricaoEspecificacao  \\\n",
              "6802                         0                       NaN   \n",
              "53265                        0                       NaN   \n",
              "67059                        0                       NaN   \n",
              "128523                       0                       NaN   \n",
              "156255                       0                       NaN   \n",
              "175378                       0                       NaN   \n",
              "228485                       0                       NaN   \n",
              "236970                       0                       NaN   \n",
              "253206                       0                       NaN   \n",
              "\n",
              "                                        txtFornecedor      txtCNPJCPF  \\\n",
              "6802                 COP BEM GRAFICA E EDITORA EIRELI  00158540000106   \n",
              "53265                 CRIATIVA GRAFICA E EDITORA LTDA  72646714000182   \n",
              "67059   GRAFMARQUES INDUSTRIA EDITORA E SERVICOS LTDA  00887925000104   \n",
              "128523             STILO GRAFICA E EDITORA LTDA - EPP  00539486000130   \n",
              "156255                                  OLIVER EIRELI  02817685000350   \n",
              "175378                      WR GRAFICA E EDITORA LTDA  13343037000164   \n",
              "228485                                GRAFICA FORMATO  07219437000160   \n",
              "236970               GLOBAL GRAFICA DA AMAZONIA LTDA.  03339851000151   \n",
              "253206             MIL COMUNICAÇÃO E EVENTOS LTDA EPP  28660364000117   \n",
              "\n",
              "              txtNumero indTipoDocumento datEmissao  vlrDocumento vlrGlosa  \\\n",
              "6802           00016797      nota_fiscal 2018-11-06    104,160.00        0   \n",
              "53265               515             None 2018-12-13    101,000.00        0   \n",
              "67059              1645             None 2018-12-21    130,000.00        0   \n",
              "128523              758             None 2018-12-27    102,500.00        0   \n",
              "156255  201800000000014      nota_fiscal 2018-11-22    104,000.00        0   \n",
              "175378  201800000000096      nota_fiscal 2018-12-17    104,800.00        0   \n",
              "228485       0000001898      nota_fiscal 2018-12-07    112,000.00        0   \n",
              "236970              668             None 2018-03-01    102,000.00        0   \n",
              "253206         00000144      nota_fiscal 2018-12-17    113,440.00        0   \n",
              "\n",
              "        vlrLiquido numMes numAno numParcela txtPassageiro txtTrecho  numLote  \\\n",
              "6802    104,160.00     11   2018          0           NaN       NaN  1540775   \n",
              "53265   101,000.00     12   2018          0           NaN       NaN  1548841   \n",
              "67059   130,000.00     12   2018          0           NaN       NaN  1554078   \n",
              "128523  102,500.00     12   2018          0           NaN       NaN  1551898   \n",
              "156255  104,000.00     11   2018          0           NaN       NaN  1541509   \n",
              "175378  104,800.00     12   2018          0           NaN       NaN  1549506   \n",
              "228485  112,000.00     12   2018          0           NaN       NaN  1546838   \n",
              "236970  102,000.00      3   2018          0           NaN       NaN  1470184   \n",
              "253206  113,440.00     12   2018          0           NaN       NaN  1549383   \n",
              "\n",
              "       numRessarcimento  vlrRestituicao nuDeputadoId ideDocumento  \\\n",
              "6802                NaN             nan          974      6703192   \n",
              "53265               NaN             nan         1688      6723719   \n",
              "67059               NaN             nan         1332      6737727   \n",
              "128523              NaN             nan         1871      6731671   \n",
              "156255              NaN             nan         2336      6704958   \n",
              "175378              NaN             nan         2300      6725847   \n",
              "228485              NaN             nan         2990      6719286   \n",
              "236970              NaN             nan         2916      6516320   \n",
              "253206              NaN             nan         2952      6725467   \n",
              "\n",
              "                                             urlDocumento  \n",
              "6802    https://www.camara.leg.br/cota-parlamentar/doc...  \n",
              "53265   http://camara.leg.br/cota-parlamentar/nota-fis...  \n",
              "67059   http://camara.leg.br/cota-parlamentar/nota-fis...  \n",
              "128523  http://camara.leg.br/cota-parlamentar/nota-fis...  \n",
              "156255  https://www.camara.leg.br/cota-parlamentar/doc...  \n",
              "175378  https://www.camara.leg.br/cota-parlamentar/doc...  \n",
              "228485  https://www.camara.leg.br/cota-parlamentar/doc...  \n",
              "236970  http://camara.leg.br/cota-parlamentar/nota-fis...  \n",
              "253206  https://www.camara.leg.br/cota-parlamentar/doc...  "
            ]
          },
          "metadata": {},
          "execution_count": 160
        }
      ]
    }
  ]
}