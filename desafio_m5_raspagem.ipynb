{
  "nbformat": 4,
  "nbformat_minor": 0,
  "metadata": {
    "colab": {
      "name": "desafio_m5_raspagem.ipynb",
      "provenance": [],
      "collapsed_sections": [],
      "authorship_tag": "ABX9TyO6T6JJnnD36kGVMoCpdpwV",
      "include_colab_link": true
    },
    "kernelspec": {
      "name": "python3",
      "display_name": "Python 3"
    },
    "language_info": {
      "name": "python"
    }
  },
  "cells": [
    {
      "cell_type": "markdown",
      "metadata": {
        "id": "view-in-github",
        "colab_type": "text"
      },
      "source": [
        "<a href=\"https://colab.research.google.com/github/Rosangelafl/exercicios_python_inovacao_civica/blob/main/desafio_m5_raspagem.ipynb\" target=\"_parent\"><img src=\"https://colab.research.google.com/assets/colab-badge.svg\" alt=\"Open In Colab\"/></a>"
      ]
    },
    {
      "cell_type": "markdown",
      "metadata": {
        "id": "kUtDQq0gW2KL"
      },
      "source": [
        "### Raspagem da secretaria de educação de São Paulo"
      ]
    },
    {
      "cell_type": "code",
      "metadata": {
        "colab": {
          "base_uri": "https://localhost:8080/"
        },
        "id": "SZSRlWQVTjXh",
        "outputId": "c774d148-b3d8-4836-84d8-18202734ce13"
      },
      "source": [
        "from google.colab import drive\n",
        "drive.mount('/content/drive')"
      ],
      "execution_count": 11,
      "outputs": [
        {
          "output_type": "stream",
          "name": "stdout",
          "text": [
            "Drive already mounted at /content/drive; to attempt to forcibly remount, call drive.mount(\"/content/drive\", force_remount=True).\n"
          ]
        }
      ]
    },
    {
      "cell_type": "code",
      "metadata": {
        "colab": {
          "base_uri": "https://localhost:8080/"
        },
        "id": "zhoJ38oaVvsO",
        "outputId": "3df8937f-4922-428e-96a6-26993599b442"
      },
      "source": [
        "!pip install requests-html"
      ],
      "execution_count": 12,
      "outputs": [
        {
          "output_type": "stream",
          "name": "stdout",
          "text": [
            "Requirement already satisfied: requests-html in /usr/local/lib/python3.7/dist-packages (0.10.0)\n",
            "Requirement already satisfied: parse in /usr/local/lib/python3.7/dist-packages (from requests-html) (1.19.0)\n",
            "Requirement already satisfied: bs4 in /usr/local/lib/python3.7/dist-packages (from requests-html) (0.0.1)\n",
            "Requirement already satisfied: requests in /usr/local/lib/python3.7/dist-packages (from requests-html) (2.23.0)\n",
            "Requirement already satisfied: w3lib in /usr/local/lib/python3.7/dist-packages (from requests-html) (1.22.0)\n",
            "Requirement already satisfied: pyquery in /usr/local/lib/python3.7/dist-packages (from requests-html) (1.4.3)\n",
            "Requirement already satisfied: pyppeteer>=0.0.14 in /usr/local/lib/python3.7/dist-packages (from requests-html) (0.2.6)\n",
            "Requirement already satisfied: fake-useragent in /usr/local/lib/python3.7/dist-packages (from requests-html) (0.1.11)\n",
            "Requirement already satisfied: appdirs<2.0.0,>=1.4.3 in /usr/local/lib/python3.7/dist-packages (from pyppeteer>=0.0.14->requests-html) (1.4.4)\n",
            "Requirement already satisfied: urllib3<2.0.0,>=1.25.8 in /usr/local/lib/python3.7/dist-packages (from pyppeteer>=0.0.14->requests-html) (1.25.11)\n",
            "Requirement already satisfied: pyee<9.0.0,>=8.1.0 in /usr/local/lib/python3.7/dist-packages (from pyppeteer>=0.0.14->requests-html) (8.2.2)\n",
            "Requirement already satisfied: importlib-metadata>=1.4 in /usr/local/lib/python3.7/dist-packages (from pyppeteer>=0.0.14->requests-html) (4.8.1)\n",
            "Requirement already satisfied: websockets<10.0,>=9.1 in /usr/local/lib/python3.7/dist-packages (from pyppeteer>=0.0.14->requests-html) (9.1)\n",
            "Requirement already satisfied: tqdm<5.0.0,>=4.42.1 in /usr/local/lib/python3.7/dist-packages (from pyppeteer>=0.0.14->requests-html) (4.62.2)\n",
            "Requirement already satisfied: typing-extensions>=3.6.4 in /usr/local/lib/python3.7/dist-packages (from importlib-metadata>=1.4->pyppeteer>=0.0.14->requests-html) (3.7.4.3)\n",
            "Requirement already satisfied: zipp>=0.5 in /usr/local/lib/python3.7/dist-packages (from importlib-metadata>=1.4->pyppeteer>=0.0.14->requests-html) (3.5.0)\n",
            "Requirement already satisfied: beautifulsoup4 in /usr/local/lib/python3.7/dist-packages (from bs4->requests-html) (4.6.3)\n",
            "Requirement already satisfied: lxml>=2.1 in /usr/local/lib/python3.7/dist-packages (from pyquery->requests-html) (4.2.6)\n",
            "Requirement already satisfied: cssselect>0.7.9 in /usr/local/lib/python3.7/dist-packages (from pyquery->requests-html) (1.1.0)\n",
            "Requirement already satisfied: chardet<4,>=3.0.2 in /usr/local/lib/python3.7/dist-packages (from requests->requests-html) (3.0.4)\n",
            "Requirement already satisfied: certifi>=2017.4.17 in /usr/local/lib/python3.7/dist-packages (from requests->requests-html) (2021.5.30)\n",
            "Requirement already satisfied: idna<3,>=2.5 in /usr/local/lib/python3.7/dist-packages (from requests->requests-html) (2.10)\n",
            "Requirement already satisfied: six>=1.4.1 in /usr/local/lib/python3.7/dist-packages (from w3lib->requests-html) (1.15.0)\n"
          ]
        }
      ]
    },
    {
      "cell_type": "code",
      "metadata": {
        "colab": {
          "base_uri": "https://localhost:8080/"
        },
        "id": "faJcC-u6VcdF",
        "outputId": "b962e04d-f2e2-4ff6-a2ae-924da8358d01"
      },
      "source": [
        "!pip install folium==0.2.1"
      ],
      "execution_count": 13,
      "outputs": [
        {
          "output_type": "stream",
          "name": "stdout",
          "text": [
            "Requirement already satisfied: folium==0.2.1 in /usr/local/lib/python3.7/dist-packages (0.2.1)\n",
            "Requirement already satisfied: Jinja2 in /usr/local/lib/python3.7/dist-packages (from folium==0.2.1) (2.11.3)\n",
            "Requirement already satisfied: MarkupSafe>=0.23 in /usr/local/lib/python3.7/dist-packages (from Jinja2->folium==0.2.1) (2.0.1)\n"
          ]
        }
      ]
    },
    {
      "cell_type": "code",
      "metadata": {
        "id": "OxDiv4ZMUD-L"
      },
      "source": [
        "import csv\n",
        "import pandas as pd\n",
        "from requests_html import HTMLSession"
      ],
      "execution_count": 14,
      "outputs": []
    },
    {
      "cell_type": "code",
      "metadata": {
        "id": "hxpkYyWaVZn2"
      },
      "source": [
        "url = \"http://comprasnet.gov.br/acesso.asp?url=/livre/Pregao/lista_pregao_filtro.asp?Opc=2\""
      ],
      "execution_count": 17,
      "outputs": []
    },
    {
      "cell_type": "code",
      "metadata": {
        "id": "NlIDYOKbWfGL"
      },
      "source": [
        "session = HTMLSession()\n",
        "first_page = session.get(url)"
      ],
      "execution_count": 16,
      "outputs": []
    },
    {
      "cell_type": "markdown",
      "metadata": {
        "id": "7rOy1TD-YGkv"
      },
      "source": [
        "Qual a URL você identificou nessa requisição que realiza a consulta? Guarde-a numa variável:"
      ]
    },
    {
      "cell_type": "code",
      "metadata": {
        "id": "c-xHnmYMWokM"
      },
      "source": [
        "form_url = \"http://comprasnet.gov.br/livre/Pregao/lista_pregao.asp\""
      ],
      "execution_count": 18,
      "outputs": []
    },
    {
      "cell_type": "code",
      "metadata": {
        "id": "J_QPGIPeYNOx"
      },
      "source": [
        "formdata = {\n",
        "    \"Opc\": \"2\",\n",
        "    \"rdTpPregao\": \"E\",\n",
        "    \"lstSrp\": \"T\",\n",
        "    \"lstICMS\": \"T\",\n",
        "    \"lstSituacao\": \"5\",\n",
        "    \"lstTipoSuspensao\": \"0\",\n",
        "    \"co_uasg\": \"925013\",\n",
        "}"
      ],
      "execution_count": 19,
      "outputs": []
    },
    {
      "cell_type": "code",
      "metadata": {
        "id": "eRVZTpfBYVDR"
      },
      "source": [
        "form_response = session.post(form_url, data=formdata)"
      ],
      "execution_count": 20,
      "outputs": []
    },
    {
      "cell_type": "markdown",
      "metadata": {
        "id": "cLueuhjAY2WF"
      },
      "source": [
        "Agora vamos raspar os itens da página\n",
        "Analise a página de resultados para encontrar o Xpath que seleciona todas as linhas da tabela de resultados, ou seja, queremos que cada linha da tabela seja um resultado dessa nossa seleção.\n",
        "\n",
        "Preencha aqui o Xpath correto para que obtenhamos os pregões da tabela de resultados (apenas as linhas que contém pregões mesmo!):"
      ]
    },
    {
      "cell_type": "code",
      "metadata": {
        "id": "qNPd-4FCYhcA"
      },
      "source": [
        "xpath = \"//table[@class='td']//tr[@class='tex3']\"\n",
        "rows = form_response.html.xpath(xpath)"
      ],
      "execution_count": 21,
      "outputs": []
    },
    {
      "cell_type": "code",
      "metadata": {
        "colab": {
          "base_uri": "https://localhost:8080/"
        },
        "id": "-AxRMe5XY_TI",
        "outputId": "b8df2e1a-2f06-4579-ba4d-88bbe7e01c8d"
      },
      "source": [
        "print(rows[0].html)"
      ],
      "execution_count": 22,
      "outputs": [
        {
          "output_type": "stream",
          "name": "stdout",
          "text": [
            "<tr bgcolor=\"#FFFFFF\" class=\"tex3\" valign=\"middle\">\n",
            "<td align=\"center\">\n",
            "<a href=\"#\" onclick=\"lista_itens('962837','492021');\">492021</a>\n",
            "</td>\n",
            "<td align=\"center\">925013</td>\n",
            "<td align=\"center\">PMSP - SECRETARIA MUNICIPAL DE EDUCAÇÃO</td>\n",
            "<td align=\"center\">19/07/2021 08:00</td>\n",
            "<td align=\"center\">29/07/2021 09:30</td>\n",
            "<td align=\"center\">Julgamento/Habilitação</td>\n",
            "<td align=\"center\">\n",
            "<br/>\n",
            "<a href=\"javascript:void(0)\" onclick=\"Esclar_Pregao(962837);\">Esclarecimentos</a><br/>\n",
            "<a href=\"javascript:void(0)\" onclick=\"Avisos_Pregao(962837);\">Avisos</a><br/>\n",
            "</td>\n",
            "</tr>\n"
          ]
        }
      ]
    },
    {
      "cell_type": "markdown",
      "metadata": {
        "id": "LN80zAYaZY5O"
      },
      "source": [
        "Queremos raspar o texto de cada campo apresentado na tabela (exceto o campo \"Informações do Pregão\") e salvar todos os itens em formato de dicionário numa lista de pregões"
      ]
    },
    {
      "cell_type": "code",
      "metadata": {
        "id": "L_jp5FJhZG8A"
      },
      "source": [
        "pregoes = []\n",
        "for row in rows:\n",
        "    numero_pregao = row.xpath(\"./tr/td[1]/a/text()\")[0]\n",
        "    codigo_uasg = row.xpath(\"./tr/td[2]/text()\")[0]\n",
        "    nome_uasg = row.xpath(\"./tr/td[3]/text()\")[0]\n",
        "    data_hora_inicio = row.xpath(\"./tr/td[4]/text()\")[0]\n",
        "    data_hora_abertura = row.xpath(\"./tr/td[5]/text()\")[0]\n",
        "    situacao = row.xpath(\"./tr/td[6]/text()\")[0]\n",
        "    item = {\n",
        "        \"numero_pregao\": numero_pregao,\n",
        "        \"codigo_uasg\": codigo_uasg,\n",
        "        \"nome_uasg\": nome_uasg,\n",
        "        \"data_hora_inicio\": data_hora_inicio,\n",
        "        \"data_hora_abertura\": data_hora_abertura,\n",
        "        \"situacao\": situacao,\n",
        "    }\n",
        "pregoes.append(item)"
      ],
      "execution_count": 23,
      "outputs": []
    },
    {
      "cell_type": "markdown",
      "metadata": {
        "id": "iRimhlm5Z1qa"
      },
      "source": [
        "salvar itens em CSV sem precisar utilizar bibliotecas externas"
      ]
    },
    {
      "cell_type": "code",
      "metadata": {
        "id": "7L05TFiKZr0n"
      },
      "source": [
        "with open('pregoes.csv', 'w') as f:\n",
        "    fieldnames = pregoes[0].keys()\n",
        "    writer = csv.DictWriter(f, fieldnames=fieldnames)\n",
        "    writer.writeheader()\n",
        "    writer.writerows(pregoes)"
      ],
      "execution_count": 24,
      "outputs": []
    },
    {
      "cell_type": "markdown",
      "metadata": {
        "id": "VD2RqhEiaK_t"
      },
      "source": [
        "criar um DataFrame a partir da variável pregoes"
      ]
    },
    {
      "cell_type": "code",
      "metadata": {
        "id": "9GgvEF8_Z9HP"
      },
      "source": [
        "df_pregoes = pd.DataFrame(pregoes)"
      ],
      "execution_count": 25,
      "outputs": []
    },
    {
      "cell_type": "code",
      "metadata": {
        "colab": {
          "base_uri": "https://localhost:8080/",
          "height": 17
        },
        "id": "NAgxzgOkaS1G",
        "outputId": "9c0a5969-70ab-4aea-b521-2688e8c69b86"
      },
      "source": [
        "from google.colab import files\n",
        "df_pregoes.to_csv('df_pregoes.csv')\n",
        "files.download('df_pregoes.csv')"
      ],
      "execution_count": 29,
      "outputs": [
        {
          "output_type": "display_data",
          "data": {
            "application/javascript": [
              "\n",
              "    async function download(id, filename, size) {\n",
              "      if (!google.colab.kernel.accessAllowed) {\n",
              "        return;\n",
              "      }\n",
              "      const div = document.createElement('div');\n",
              "      const label = document.createElement('label');\n",
              "      label.textContent = `Downloading \"${filename}\": `;\n",
              "      div.appendChild(label);\n",
              "      const progress = document.createElement('progress');\n",
              "      progress.max = size;\n",
              "      div.appendChild(progress);\n",
              "      document.body.appendChild(div);\n",
              "\n",
              "      const buffers = [];\n",
              "      let downloaded = 0;\n",
              "\n",
              "      const channel = await google.colab.kernel.comms.open(id);\n",
              "      // Send a message to notify the kernel that we're ready.\n",
              "      channel.send({})\n",
              "\n",
              "      for await (const message of channel.messages) {\n",
              "        // Send a message to notify the kernel that we're ready.\n",
              "        channel.send({})\n",
              "        if (message.buffers) {\n",
              "          for (const buffer of message.buffers) {\n",
              "            buffers.push(buffer);\n",
              "            downloaded += buffer.byteLength;\n",
              "            progress.value = downloaded;\n",
              "          }\n",
              "        }\n",
              "      }\n",
              "      const blob = new Blob(buffers, {type: 'application/binary'});\n",
              "      const a = document.createElement('a');\n",
              "      a.href = window.URL.createObjectURL(blob);\n",
              "      a.download = filename;\n",
              "      div.appendChild(a);\n",
              "      a.click();\n",
              "      div.remove();\n",
              "    }\n",
              "  "
            ],
            "text/plain": [
              "<IPython.core.display.Javascript object>"
            ]
          },
          "metadata": {}
        },
        {
          "output_type": "display_data",
          "data": {
            "application/javascript": [
              "download(\"download_3e6ab68b-e24b-483d-bb8b-1da66a9fd749\", \"df_pregoes.csv\", 199)"
            ],
            "text/plain": [
              "<IPython.core.display.Javascript object>"
            ]
          },
          "metadata": {}
        }
      ]
    },
    {
      "cell_type": "code",
      "metadata": {
        "id": "_adPNxiIbszU"
      },
      "source": [
        ""
      ],
      "execution_count": null,
      "outputs": []
    }
  ]
}