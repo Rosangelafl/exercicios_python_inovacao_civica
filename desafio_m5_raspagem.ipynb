{
  "nbformat": 4,
  "nbformat_minor": 0,
  "metadata": {
    "colab": {
      "name": "desafio_m5_raspagem.ipynb",
      "provenance": [],
      "collapsed_sections": [],
      "authorship_tag": "ABX9TyM8uS+ZC5KU/kotPzfSjwlm",
      "include_colab_link": true
    },
    "kernelspec": {
      "name": "python3",
      "display_name": "Python 3"
    },
    "language_info": {
      "name": "python"
    }
  },
  "cells": [
    {
      "cell_type": "markdown",
      "metadata": {
        "id": "view-in-github",
        "colab_type": "text"
      },
      "source": [
        "<a href=\"https://colab.research.google.com/github/Rosangelafl/exercicios_python_inovacao_civica/blob/main/desafio_m5_raspagem.ipynb\" target=\"_parent\"><img src=\"https://colab.research.google.com/assets/colab-badge.svg\" alt=\"Open In Colab\"/></a>"
      ]
    },
    {
      "cell_type": "markdown",
      "metadata": {
        "id": "kUtDQq0gW2KL"
      },
      "source": [
        "### Raspagem da secretaria de educação de São Paulo"
      ]
    },
    {
      "cell_type": "code",
      "metadata": {
        "colab": {
          "base_uri": "https://localhost:8080/"
        },
        "id": "SZSRlWQVTjXh",
        "outputId": "c774d148-b3d8-4836-84d8-18202734ce13"
      },
      "source": [
        "from google.colab import drive\n",
        "drive.mount('/content/drive')"
      ],
      "execution_count": 11,
      "outputs": [
        {
          "output_type": "stream",
          "name": "stdout",
          "text": [
            "Drive already mounted at /content/drive; to attempt to forcibly remount, call drive.mount(\"/content/drive\", force_remount=True).\n"
          ]
        }
      ]
    },
    {
      "cell_type": "code",
      "metadata": {
        "colab": {
          "base_uri": "https://localhost:8080/"
        },
        "id": "zhoJ38oaVvsO",
        "outputId": "3df8937f-4922-428e-96a6-26993599b442"
      },
      "source": [
        "!pip install requests-html"
      ],
      "execution_count": 12,
      "outputs": [
        {
          "output_type": "stream",
          "name": "stdout",
          "text": [
            "Requirement already satisfied: requests-html in /usr/local/lib/python3.7/dist-packages (0.10.0)\n",
            "Requirement already satisfied: parse in /usr/local/lib/python3.7/dist-packages (from requests-html) (1.19.0)\n",
            "Requirement already satisfied: bs4 in /usr/local/lib/python3.7/dist-packages (from requests-html) (0.0.1)\n",
            "Requirement already satisfied: requests in /usr/local/lib/python3.7/dist-packages (from requests-html) (2.23.0)\n",
            "Requirement already satisfied: w3lib in /usr/local/lib/python3.7/dist-packages (from requests-html) (1.22.0)\n",
            "Requirement already satisfied: pyquery in /usr/local/lib/python3.7/dist-packages (from requests-html) (1.4.3)\n",
            "Requirement already satisfied: pyppeteer>=0.0.14 in /usr/local/lib/python3.7/dist-packages (from requests-html) (0.2.6)\n",
            "Requirement already satisfied: fake-useragent in /usr/local/lib/python3.7/dist-packages (from requests-html) (0.1.11)\n",
            "Requirement already satisfied: appdirs<2.0.0,>=1.4.3 in /usr/local/lib/python3.7/dist-packages (from pyppeteer>=0.0.14->requests-html) (1.4.4)\n",
            "Requirement already satisfied: urllib3<2.0.0,>=1.25.8 in /usr/local/lib/python3.7/dist-packages (from pyppeteer>=0.0.14->requests-html) (1.25.11)\n",
            "Requirement already satisfied: pyee<9.0.0,>=8.1.0 in /usr/local/lib/python3.7/dist-packages (from pyppeteer>=0.0.14->requests-html) (8.2.2)\n",
            "Requirement already satisfied: importlib-metadata>=1.4 in /usr/local/lib/python3.7/dist-packages (from pyppeteer>=0.0.14->requests-html) (4.8.1)\n",
            "Requirement already satisfied: websockets<10.0,>=9.1 in /usr/local/lib/python3.7/dist-packages (from pyppeteer>=0.0.14->requests-html) (9.1)\n",
            "Requirement already satisfied: tqdm<5.0.0,>=4.42.1 in /usr/local/lib/python3.7/dist-packages (from pyppeteer>=0.0.14->requests-html) (4.62.2)\n",
            "Requirement already satisfied: typing-extensions>=3.6.4 in /usr/local/lib/python3.7/dist-packages (from importlib-metadata>=1.4->pyppeteer>=0.0.14->requests-html) (3.7.4.3)\n",
            "Requirement already satisfied: zipp>=0.5 in /usr/local/lib/python3.7/dist-packages (from importlib-metadata>=1.4->pyppeteer>=0.0.14->requests-html) (3.5.0)\n",
            "Requirement already satisfied: beautifulsoup4 in /usr/local/lib/python3.7/dist-packages (from bs4->requests-html) (4.6.3)\n",
            "Requirement already satisfied: lxml>=2.1 in /usr/local/lib/python3.7/dist-packages (from pyquery->requests-html) (4.2.6)\n",
            "Requirement already satisfied: cssselect>0.7.9 in /usr/local/lib/python3.7/dist-packages (from pyquery->requests-html) (1.1.0)\n",
            "Requirement already satisfied: chardet<4,>=3.0.2 in /usr/local/lib/python3.7/dist-packages (from requests->requests-html) (3.0.4)\n",
            "Requirement already satisfied: certifi>=2017.4.17 in /usr/local/lib/python3.7/dist-packages (from requests->requests-html) (2021.5.30)\n",
            "Requirement already satisfied: idna<3,>=2.5 in /usr/local/lib/python3.7/dist-packages (from requests->requests-html) (2.10)\n",
            "Requirement already satisfied: six>=1.4.1 in /usr/local/lib/python3.7/dist-packages (from w3lib->requests-html) (1.15.0)\n"
          ]
        }
      ]
    },
    {
      "cell_type": "code",
      "metadata": {
        "colab": {
          "base_uri": "https://localhost:8080/"
        },
        "id": "faJcC-u6VcdF",
        "outputId": "b962e04d-f2e2-4ff6-a2ae-924da8358d01"
      },
      "source": [
        "!pip install folium==0.2.1"
      ],
      "execution_count": 13,
      "outputs": [
        {
          "output_type": "stream",
          "name": "stdout",
          "text": [
            "Requirement already satisfied: folium==0.2.1 in /usr/local/lib/python3.7/dist-packages (0.2.1)\n",
            "Requirement already satisfied: Jinja2 in /usr/local/lib/python3.7/dist-packages (from folium==0.2.1) (2.11.3)\n",
            "Requirement already satisfied: MarkupSafe>=0.23 in /usr/local/lib/python3.7/dist-packages (from Jinja2->folium==0.2.1) (2.0.1)\n"
          ]
        }
      ]
    },
    {
      "cell_type": "code",
      "metadata": {
        "id": "OxDiv4ZMUD-L"
      },
      "source": [
        "import csv\n",
        "import pandas as pd\n",
        "from requests_html import HTMLSession"
      ],
      "execution_count": 14,
      "outputs": []
    },
    {
      "cell_type": "code",
      "metadata": {
        "id": "hxpkYyWaVZn2"
      },
      "source": [
        "url = \"http://comprasnet.gov.br/acesso.asp?url=/livre/Pregao/lista_pregao_filtro.asp?Opc=2\""
      ],
      "execution_count": 17,
      "outputs": []
    },
    {
      "cell_type": "code",
      "metadata": {
        "id": "NlIDYOKbWfGL"
      },
      "source": [
        "session = HTMLSession()\n",
        "first_page = session.get(url)"
      ],
      "execution_count": 16,
      "outputs": []
    },
    {
      "cell_type": "markdown",
      "metadata": {
        "id": "7rOy1TD-YGkv"
      },
      "source": [
        "Qual a URL você identificou nessa requisição que realiza a consulta? Guarde-a numa variável:"
      ]
    },
    {
      "cell_type": "code",
      "metadata": {
        "id": "c-xHnmYMWokM"
      },
      "source": [
        "form_url = \"http://comprasnet.gov.br/livre/Pregao/lista_pregao.asp\""
      ],
      "execution_count": 18,
      "outputs": []
    },
    {
      "cell_type": "code",
      "metadata": {
        "id": "J_QPGIPeYNOx"
      },
      "source": [
        "formdata = {\n",
        "    \"Opc\": \"2\",\n",
        "    \"rdTpPregao\": \"E\",\n",
        "    \"lstSrp\": \"T\",\n",
        "    \"lstICMS\": \"T\",\n",
        "    \"lstSituacao\": \"5\",\n",
        "    \"lstTipoSuspensao\": \"0\",\n",
        "    \"co_uasg\": \"925013\",\n",
        "}"
      ],
      "execution_count": 19,
      "outputs": []
    },
    {
      "cell_type": "code",
      "metadata": {
        "id": "eRVZTpfBYVDR"
      },
      "source": [
        "form_response = session.post(form_url, data=formdata)"
      ],
      "execution_count": 20,
      "outputs": []
    },
    {
      "cell_type": "code",
      "metadata": {
        "colab": {
          "base_uri": "https://localhost:8080/",
          "height": 137
        },
        "id": "1UT0SJZvc24Q",
        "outputId": "75ef4600-e376-4031-ee0d-7af6ee90494c"
      },
      "source": [
        "form_response.text"
      ],
      "execution_count": 32,
      "outputs": [
        {
          "output_type": "execute_result",
          "data": {
            "application/vnd.google.colaboratory.intrinsic+json": {
              "type": "string"
            },
            "text/plain": [
              "'\\n<html>\\n<head>\\n<meta http-equiv=\"expires\" content=\"0\">\\n<meta http-equiv=\"cache-control\" content=\"private\">\\n<meta http-equiv=\"pragma\" content=\"no-cache\">\\n<meta http-equiv=\"Content-Type\" content=\"text/html; charset=iso-8859-1\">\\n<script language=\"javascript\" type=\"text/javascript\" SRC=\"../../imagens/action.js\"></script>\\n<link rel=\"stylesheet\" href=\"../../imagens/style1.css\" type=\"text/css\">\\n<script LANGUAGE=\"javascript\">\\n\\tfunction Dados_Pregao(pCod, pTp){\\n\\t\\tvar url = \"dados_pregao.asp?prgcod=\"+pCod+\"&Tipo=\"+pTp\\n\\t\\twindow.open(url, \\'DadosPregao\\', \\'maximized=yes, screenX=250, screenY=0, toolbar=no,location=no,directories=no,status=no,menubar=no,scrollbars=yes,resizable=no,copyhistory=no,width=550,height=400\\');\\n\\t\\treturn false;\\n\\t}\\n\\tfunction Motivo_Suspensao(pCod, pOpc){\\n\\t\\tvar url = \"motiv_suspensao.asp?prgCod=\"+pCod+\"&Opc=\"+pOpc\\n\\t\\twindow.open (url,\\'Suspensao\\',\\'maximized=yes, screenX=250, screenY=0, toolbar=no,location=no,directories=no,status=no,menubar=no,scrollbars=yes,resizable=no,copyhistory=no,width=550,height=400\\');\\n\\t\\treturn false;\\n\\t}\\n\\tfunction Avisos_Pregao(pCod,pOrigem){\\n\\t\\tvar url = \"avisos1.asp?prgCod=\"+pCod+\"&Origem=Avisos&Tipo=A\"\\n\\t\\twindow.open (url,\\'Avisos\\',\\'maximized=yes, screenX=250, screenY=0, toolbar=no,location=no,directories=no,status=no,menubar=no,scrollbars=yes,resizable=no,copyhistory=no,width=700,height=400\\');\\n\\t\\treturn false;\\n\\t}\\n\\tfunction Esclar_Pregao(pCod,pOrigem){\\n\\t\\tvar url = \"avisos1.asp?prgCod=\"+pCod+\"&Origem=Avisos&Tipo=E\"\\n\\t\\twindow.open (url,\\'Escareciemtos\\',\\'maximized=yes, screenX=250, screenY=0, toolbar=no,location=no,directories=no,status=no,menubar=no,scrollbars=yes,resizable=no,copyhistory=no,width=700,height=400\\');\\n\\t\\treturn false;\\n\\t}\\n\\tfunction Impugn_Pregao(pCod,pOrigem){\\n\\t\\tvar url = \"avisos1.asp?prgCod=\"+pCod+\"&Origem=Avisos&Tipo=I\"\\n\\t\\twindow.open (url,\\'Impugnacoes\\',\\'maximized=yes, screenX=250, screenY=0, toolbar=no,location=no,directories=no,status=no,menubar=no,scrollbars=yes,resizable=no,copyhistory=no,width=600,height=400\\');\\n\\t\\treturn false;\\n\\t}\\n\\tfunction Intencao_Recurso(pprgCod){\\n\\t    var url = \"Intencao_Recurso.asp?Opc=2&rdTpPregao=E&lstSrp=T&lstICMS=T&uf=&numprp=0&co_uasg=925013&dt_entrega=&dt_abertura=&lstSituacao=5&lstTipoSuspensao=0&prgCod=\"+pprgCod;\\n\\t\\tlocation.href = url;\\n\\t\\treturn false;\\n\\t}\\n\\tfunction lista_itens(prgCod, numprpXsl){\\t\\t\\n\\t\\tvar url = \"lista_itens.asp?Opc=2&rdTpPregao=E&lstSrp=T&lstICMS=T&uf=&numprp=0&co_uasg=925013&dt_entrega=&dt_abertura=&lstSituacao=5&lstTipoSuspensao=0&prgCod=\"+prgCod+\"&numprpXsl=\"+numprpXsl+\"&pagina=1\"\\n\\t\\tlocation.href = url;\\n\\t}\\n\\tfunction lista_itensPres(prgCod){\\n\\t\\tvar url = \"lista_itensPres.asp?Opc=2&rdTpPregao=E&lstSrp=T&lstICMS=T&uf=&numprp=0&co_uasg=925013&dt_entrega=&dt_abertura=&lstSituacao=5&lstTipoSuspensao=0&prgCod=\"+prgCod;\\n\\t\\tlocation.href = url;\\n\\t}\\n\\t\\n\\t//var msg = \\'Função desativada!\\';\\n    \\n    //ESSAS SERÃO AS TECLAS DESABILITADAS\\n    var asciiF2        = 113;\\n    var asciiF3        = 114;\\n    var asciiF4        = 115;\\n    var asciiF5        = 116;\\n    var asciiF6        = 117;\\n    var asciiF11       = 122;\\n    var asciiF12       = 123;\\n    var asciiF1        = 112;\\n    \\n    //ie has to block in the key down\\n    if(document.all){ \\n        document.onkeydown = onKeyPress;\\n    //NS and mozilla have to block in the key press\\n    }else if (document.layers || document.getElementById){ \\n        document.onkeypress = onKeyPress;\\n    }\\n    \\n    function onKeyPress(evt) {\\n        window.status = \\'\\';\\n        //get the event object\\n        var oEvent = (window.event) ? window.event : evt;\\n      \\n        //hmmm in mozilla this is jacked, so i have to record these seperate\\n        //what key was pressed\\n        var nKeyCode =  oEvent.keyCode ? oEvent.keyCode : oEvent.which ? oEvent.which : void 0;\\n        var bIsFunctionKey = false;\\n    \\n        //hmmm in mozilla the keycode would contain a function key ONLY IF the charcode IS 0  \\n        //else key code and charcode read funny, the charcode for \\'t\\'\\n        //returns 116, which is the same as the ascii for F5\\n        //SOOO,... to check if a the keycode is truly a function key,\\n        //ONLY check when the charcode is null OR 0, IE returns null, mozilla returns 0\\n        if(oEvent.charCode == null || oEvent.charCode == 0){\\n            bIsFunctionKey = (nKeyCode >= asciiF1 && nKeyCode <= asciiF12)\\n        }\\n      \\n        //convert the key to a character, makes for more readable code\\n        var sChar = String.fromCharCode(nKeyCode).toUpperCase();\\n    \\n        //get the active tag that has the focus on the page, and its tag type\\n        var oTarget = (oEvent.target) ? oEvent.target : oEvent.srcElement;\\n        var sTag = oTarget.tagName.toLowerCase();\\n        var sTagType = oTarget.getAttribute(\"type\");\\n      \\n        var bAltPressed = (oEvent.altKey) ? oEvent.altKey : oEvent.modifiers & 1 > 0;\\n        var bShiftPressed = (oEvent.shiftKey) ? oEvent.shiftKey : oEvent.modifiers & 4 > 0;\\n        var bCtrlPressed = (oEvent.ctrlKey) ? oEvent.ctrlKey : oEvent.modifiers & 2 > 0;\\n    \\n        var bRet = true; //assume true as that will be the case most times\\n        //alert (nKeyCode + \\' \\' + sChar + \\' \\' + sTag + \\' \\' + sTagType + \\' \\' + bShiftPressed + \\' \\' + bCtrlPressed + \\' \\' + bAltPressed);\\n    \\n        if(sTagType != null){sTagType = sTagType.toLowerCase();}\\n    \\n        //allow these keys inside a text box\\n        //if  (sTag == \"textarea\" || (sTag == \"input\" && (sTagType == \"text\" || sTagType == \"password\")) && ((bCtrlPressed && (nKeyCode == asciiLeftArrow || nKeyCode == asciiRightArrow)))){\\n        //    return true;\\n        //}else if(bAltPressed && (nKeyCode == asciiLeftArrow || nKeyCode == asciiRightArrow)){ // block alt + left or right arrow\\n        //    bRet = false;\\n        //}else if(bCtrlPressed && (sChar == \\'A\\' || sChar == \\'C\\' || sChar == \\'V\\' || sChar == \\'X\\')){ // ALLOW cut, copy and paste, and SELECT ALL\\n        //    bRet = true;\\n        //}else \\n        if(bIsFunctionKey){ // Capture and stop these keys\\n            bRet = false;\\n        }else if(bCtrlPressed && (sChar == \\'R\\')){ // block Control + R\\n            bRet = false;\\n        }    \\n      \\n        if(!bRet){\\n            try{\\n                oEvent.returnValue = false;\\n                oEvent.cancelBubble = true;\\n    \\n                if(document.all){ //IE\\n                    oEvent.keyCode = 0;\\n                }else{ //NS\\n                    oEvent.preventDefault();\\n                    oEvent.stopPropagation();\\n                }\\n\\t\\t\\t\\t//alert(msg);\\n            }catch(ex){\\n                //alert(msg);\\n            }\\n        }\\n        return bRet;\\n    }\\t\\n</script>\\n</head>\\n<body onload=\"setMouseCursortoHand(\\'type\\',\\'button\\'); javascript:{if(parent.frames[0]&amp;&amp;parent.frames[\\'nav\\'].Go)parent.frames[\\'nav\\'].Go()};\" bgcolor=\"#ffffff\" text=\"#000000\" leftmargin=\"0\" topmargin=\"0\" marginwidth=\"0\" marginheight=\"0\" class=\"body_2\">\\n\\n<table width=\"100%\" border=\"0\" cellspacing=\"0\" cellpadding=\"0\">\\n\\t<tr>\\n\\t\\t<td colspan=\"2\"><img height=5 src=\"/imagens/x2_dot.gif\" width=5></td>\\n\\t</tr>\\n\\t<tr> \\n\\t\\t<td valign=\"top\">\\n\\t\\t\\t<table width=\"100%\" border=\"0\" cellspacing=\"1\" cellpadding=\"2\">\\n\\t\\t\\t\\t<tr>\\n\\t\\t\\t\\t\\t<td width=\"5\"><img height=2 src=\"../../imagens/x2_dot.gif\" width=2></td>\\n\\t\\t\\t\\t\\t<td>\\n\\t\\t\\t\\t\\t\\t<table width=\"100%\" border=\"0\" cellspacing=\"0\" cellpadding=\"0\">\\n\\t\\t\\t\\t\\t\\t\\t<tr>\\n\\t\\t\\t\\t\\t\\t\\t\\t<td colspan=\"2\"><img height=23 src=\"../../imagens/T_aconpanhamento_pregao.gif\" width=208 align=absBottom></td>\\n\\t\\t\\t\\t\\t\\t\\t</tr>\\n\\t\\t\\t\\t\\t\\t\\t<tr>\\n\\t\\t\\t\\t\\t\\t\\t\\t<td width=\"5\"><img height=3 src=\"../../imagens/risco.gif\" width=5></td>\\n\\t\\t\\t\\t\\t\\t\\t\\t<td width=\"100%\"><img height=3 src=\"../../imagens/risco2.gif\" width=\"100%\"></td>\\n\\t\\t\\t\\t\\t\\t\\t</tr>\\n\\t\\t\\t\\t\\t\\t</table>\\n\\t\\t\\t\\t\\t</td>\\n\\t\\t\\t\\t\\t<td width=\"5\"><img height=2 src=\"../../imagens/x2_dot.gif\" width=2></td>\\n\\t\\t\\t\\t</tr>\\t\\t\\t\\t\\n\\t\\t\\t</table>\\t\\t\\t\\n\\t\\t\\t<table border=\"0\" cellspacing=\"1\" cellpadding=\"2\" width=\"100%\">\\n\\t\\t\\t\\t<tr>\\n\\t\\t\\t\\t\\t<td valign=\"top\" align=\"right\" width=\"23\"><img height=14 src=\"../../imagens/tm_bullet4.gif\" width=6></td>\\n\\t\\t\\t\\t\\t<td class=\"tex3\"><a id=4>Clique no número do pregão para ver detalhes</a></td>\\n\\t\\t\\t\\t</tr>\\n\\t\\t\\t\\t<tr>\\n\\t\\t\\t\\t\\t<td valign=\"top\" align=\"right\" width=\"23\">&nbsp;</td>\\n\\t\\t\\t\\t\\t<td class=\"tex3\">\\n\\t\\t\\t\\t\\t\\t<table border=\"0\" cellpadding=\"0\" cellspacing=\"0\" width=\"100%\">\\n\\t\\t\\t\\t\\t\\t\\t<tr valign=\"top\">\\n\\t\\t\\t\\t\\t\\t\\t\\t<td rowspan=\"3\" bgcolor=\"white\">\\n\\t\\t\\t\\t\\t\\t\\t\\t\\t<table border=\"0\" width=\"100%\">\\n\\t\\t\\t\\t\\t\\t\\t\\t\\t\\t<form id=\"form1\" name=\"form1\">\\n\\t\\t\\t\\t\\t\\t\\t\\t\\t\\t    <tbody>\\t\\t\\t\\t\\t\\t\\t\\t\\t\\t\\t\\n\\t\\t\\t\\t\\t\\t\\t\\t\\t\\t    \\n\\t\\t\\t\\t\\t\\t\\t\\t\\t\\t\\t\\n\\t\\t\\t\\t\\t\\t\\t\\t\\t\\t\\t\\t\\t\\t<tr>\\n\\t\\t\\t\\t\\t\\t\\t\\t\\t\\t\\t\\t\\t\\t\\t<td colspan=\"2\" class=\"tex3\" nowrap><br>Pregões Eletrônicos Em Andamento\\n\\t\\t\\t\\t\\t\\t\\t\\t\\t\\t\\t\\t\\t\\t\\t\\t<span class=\"mensagem\">\\n\\t\\t\\t\\t\\t\\t\\t\\t\\t\\t\\t\\t\\t\\t\\t\\t\\t\\n\\t\\t\\t\\t\\t\\t\\t\\t\\t\\t\\t\\t\\t\\t\\t\\t</span>\\n\\t\\t\\t\\t\\t\\t\\t\\t\\t\\t\\t\\t\\t\\t\\t</td>\\t\\t\\t\\t\\t\\t\\t\\t\\t\\t\\t\\t\\n\\t\\t\\t\\t\\t\\t\\t\\t\\t\\t\\t\\t\\t\\t</tr>\\t\\t\\t\\t\\t\\t\\t\\t\\t\\t\\t\\t\\n\\t\\t\\t\\t\\t\\t\\t\\t\\t\\t\\t\\t\\t\\t\\n\\t\\t\\t\\t\\t\\t\\t\\t\\t\\t\\t\\t\\t\\t\\t<tr>\\n\\t\\t\\t\\t\\t\\t\\t\\t\\t\\t\\t\\t\\t\\t\\t\\t<td width=\"1%\" class=\"tex3\" nowrap>Situação: Todas</td>\\n\\t\\t\\t\\t\\t\\t\\t\\t\\t\\t\\t\\t\\t\\t\\t\\t<td id=\"QtdPregoes\" class=\"mensagem\" valign=\"bottom\"></td>\\n\\t\\t\\t\\t\\t\\t\\t\\t\\t\\t\\t\\t\\t\\t\\t</tr>\\n\\t\\t\\t\\t\\t\\t\\t\\t\\t\\t\\t\\t\\t\\t\\n\\t\\t\\t\\t\\t\\t\\t\\t\\t\\t\\t\\t\\t\\t<tr>\\n\\t\\t\\t\\t\\t\\t\\t\\t\\t\\t\\t\\t\\t\\t\\t<td colspan=\"2\">\\n\\t\\t\\t\\t\\t\\t\\t\\t\\t\\t\\t\\t\\t\\t\\t\\t<table width=\"100%\" border=\"0\" cellpadding=\"2\" cellspacing=\"1\" class=\"td\">\\r\\n<tr class=\"tex3b\" align=\"center\">\\r\\n<td>Nº do Pregão</td>\\r\\n<td nowrap=\"nowrap\">Cód. UASG <br /> (Unid. de Compra)</td>\\r\\n<td nowrap=\"nowrap\">Nome da UASG <br /> (Unid. de Compra)</td>\\r\\n<td>Data/hora início PROPOSTAS</td>\\r\\n<td>Data/hora abertura PROPOSTAS</td>\\r\\n<td>Situação</td>\\r\\n<td>Informações do Pregão</td>\\r\\n</tr>\\r\\n<tr bgcolor=\"#FFFFFF\" valign=\"middle\" class=\"tex3\">\\r\\n<td align=\"center\">\\r\\n<a href=\"#\" onclick=\"lista_itens(\\'962837\\',\\'492021\\');\">492021</a>\\r\\n</td>\\r\\n<td align=\"center\">925013</td>\\r\\n<td align=\"center\">PMSP - SECRETARIA MUNICIPAL DE EDUCAÇÃO</td>\\r\\n<td align=\"center\">19/07/2021 08:00</td>\\r\\n<td align=\"center\">29/07/2021 09:30</td>\\r\\n<td align=\"center\">Julgamento/Habilitação</td>\\r\\n<td align=\"center\">\\r\\n<br />\\r\\n<a href=\"javascript:void(0)\" onclick=\"Esclar_Pregao(962837);\">Esclarecimentos</a><br />\\r\\n<a href=\"javascript:void(0)\" onclick=\"Avisos_Pregao(962837);\">Avisos</a><br />\\r\\n</td>\\r\\n</tr>\\r\\n<tr bgcolor=\"#FFFFFF\" valign=\"middle\" class=\"tex3\">\\r\\n<td align=\"center\">\\r\\n<a href=\"#\" onclick=\"lista_itens(\\'969962\\',\\'572021\\');\">572021</a>\\r\\n</td>\\r\\n<td align=\"center\">925013</td>\\r\\n<td align=\"center\">PMSP - SECRETARIA MUNICIPAL DE EDUCAÇÃO</td>\\r\\n<td align=\"center\">12/08/2021 08:00</td>\\r\\n<td align=\"center\">24/08/2021 09:30</td>\\r\\n<td align=\"center\">Julgamento/Habilitação</td>\\r\\n<td align=\"center\">\\r\\n<a href=\"javascript:void(0)\" onclick=\"Motivo_Suspensao(969962, \\'1\\');\">Suspensão Administrativa\\r\\n</a>\\r\\n<br />\\r\\n<a href=\"javascript:void(0)\" onclick=\"Esclar_Pregao(969962);\">Esclarecimentos</a><br />\\r\\n</td>\\r\\n</tr>\\r\\n<tr bgcolor=\"#FFFFFF\" valign=\"middle\" class=\"tex3\">\\r\\n<td align=\"center\">\\r\\n<a href=\"#\" onclick=\"lista_itens(\\'971825\\',\\'602021\\');\">602021</a>\\r\\n</td>\\r\\n<td align=\"center\">925013</td>\\r\\n<td align=\"center\">PMSP - SECRETARIA MUNICIPAL DE EDUCAÇÃO</td>\\r\\n<td align=\"center\">19/08/2021 08:00</td>\\r\\n<td align=\"center\">31/08/2021 09:30</td>\\r\\n<td align=\"center\">Julgamento/Habilitação</td>\\r\\n<td align=\"center\">\\r\\n<a href=\"javascript:void(0)\" onclick=\"Motivo_Suspensao(971825, \\'1\\');\">Suspensão Administrativa\\r\\n</a>\\r\\n<br />\\r\\n<a href=\"javascript:void(0)\" onclick=\"Esclar_Pregao(971825);\">Esclarecimentos</a><br />\\r\\n</td>\\r\\n</tr>\\r\\n<tr bgcolor=\"#FFFFFF\" valign=\"middle\" class=\"tex3\">\\r\\n<td align=\"center\">\\r\\n<a href=\"#\" onclick=\"lista_itens(\\'973793\\',\\'612021\\');\">612021</a>\\r\\n</td>\\r\\n<td align=\"center\">925013</td>\\r\\n<td align=\"center\">PMSP - SECRETARIA MUNICIPAL DE EDUCAÇÃO</td>\\r\\n<td align=\"center\">25/08/2021 08:00</td>\\r\\n<td align=\"center\">08/09/2021 09:30</td>\\r\\n<td align=\"center\">Julgamento/Habilitação</td>\\r\\n<td align=\"center\">\\r\\n<a href=\"javascript:void(0)\" onclick=\"Motivo_Suspensao(973793, \\'1\\');\">Suspensão Administrativa\\r\\n</a>\\r\\n<br />\\r\\n<a href=\"javascript:void(0)\" onclick=\"Esclar_Pregao(973793);\">Esclarecimentos</a><br />\\r\\n<a href=\"javascript:void(0)\" onclick=\"Avisos_Pregao(973793);\">Avisos</a><br />\\r\\n</td>\\r\\n</tr>\\r\\n<tr bgcolor=\"#FFFFFF\" valign=\"middle\" class=\"tex3\">\\r\\n<td align=\"center\">\\r\\n<a href=\"#\" onclick=\"lista_itens(\\'976609\\',\\'622021\\');\">622021</a>\\r\\n</td>\\r\\n<td align=\"center\">925013</td>\\r\\n<td align=\"center\">PMSP - SECRETARIA MUNICIPAL DE EDUCAÇÃO</td>\\r\\n<td align=\"center\">03/09/2021 08:00</td>\\r\\n<td align=\"center\">17/09/2021 09:30</td>\\r\\n<td align=\"center\">Julgamento/Habilitação</td>\\r\\n<td align=\"center\">\\r\\n<a href=\"javascript:void(0)\" onclick=\"Motivo_Suspensao(976609, \\'1\\');\">Suspensão Administrativa\\r\\n</a>\\r\\n<br />\\r\\n<a href=\"javascript:void(0)\" onclick=\"Esclar_Pregao(976609);\">Esclarecimentos</a><br />\\r\\n</td>\\r\\n</tr>\\r\\n<tr bgcolor=\"#FFFFFF\" valign=\"middle\" class=\"tex3\">\\r\\n<td align=\"center\">\\r\\n<a href=\"#\" onclick=\"lista_itens(\\'977586\\',\\'632021\\');\">632021</a>\\r\\n</td>\\r\\n<td align=\"center\">925013</td>\\r\\n<td align=\"center\">PMSP - SECRETARIA MUNICIPAL DE EDUCAÇÃO</td>\\r\\n<td align=\"center\">09/09/2021 08:00</td>\\r\\n<td align=\"center\">21/09/2021 09:30</td>\\r\\n<td align=\"center\">Julgamento/Habilitação</td>\\r\\n<td align=\"center\">\\r\\n<a href=\"javascript:void(0)\" onclick=\"Motivo_Suspensao(977586, \\'1\\');\">Suspensão Administrativa\\r\\n</a>\\r\\n<br />\\r\\n</td>\\r\\n</tr>\\r\\n<tr bgcolor=\"#FFFFFF\" valign=\"middle\" class=\"tex3\">\\r\\n<td align=\"center\">\\r\\n<a href=\"#\" onclick=\"lista_itens(\\'977740\\',\\'642021\\');\">642021</a>\\r\\n</td>\\r\\n<td align=\"center\">925013</td>\\r\\n<td align=\"center\">PMSP - SECRETARIA MUNICIPAL DE EDUCAÇÃO</td>\\r\\n<td align=\"center\">09/09/2021 08:00</td>\\r\\n<td align=\"center\">21/09/2021 09:30</td>\\r\\n<td align=\"center\">Julgamento/Habilitação</td>\\r\\n<td align=\"center\">\\r\\n<a href=\"javascript:void(0)\" onclick=\"Motivo_Suspensao(977740, \\'1\\');\">Suspensão Administrativa\\r\\n</a>\\r\\n<br />\\r\\n</td>\\r\\n</tr>\\r\\n</table>\\r\\n\\n\\t\\t\\t\\t\\t\\t\\t\\t\\t\\t\\t\\t\\t\\t\\t</td>\\n\\t\\t\\t\\t\\t\\t\\t\\t\\t\\t\\t\\t\\t\\t</tr>\\n\\t\\t\\t\\t\\t\\t\\t\\t\\t\\t\\t\\t\\t\\t\\t\\t\\t\\t\\t\\t\\t\\t\\t\\t\\t\\n\\t\\t\\t\\t\\t\\t\\t\\t\\t\\t\\t    \\n\\t\\t\\t\\t\\t\\t\\t\\t\\t\\t\\t<tr>\\t\\t\\t\\t\\t\\t\\t\\t\\t\\t\\t\\n\\t\\t\\t\\t\\t\\t\\t\\t\\t\\t\\t  <td colspan=\"2\">\\n\\t\\t\\t\\t\\t\\t\\t\\t\\t\\t\\t    <br/><input type=\"button\" name=\"voltar\" value=\"Voltar\" class=\"texField2\" onClick=\"javascript:location.href=\\'Lista_Pregao_Filtro.asp?Opc=2\\'; return false;\">\\n\\t\\t\\t\\t\\t\\t\\t\\t\\t\\t\\t  </td>\\n\\t\\t\\t\\t\\t\\t\\t\\t\\t\\t\\t</tr>\\n\\t\\t\\t\\t\\t\\t\\t\\t\\t\\t</tbody>\\n\\t\\t\\t\\t\\t\\t\\t\\t\\t\\t</form>\\n\\t\\t\\t\\t\\t\\t\\t\\t\\t</table>\\n\\t\\t\\t\\t\\t\\t\\t\\t</td>\\n\\t\\t\\t\\t\\t\\t\\t</tr>\\n\\t\\t\\t\\t\\t\\t</table>\\n\\t\\t\\t\\t\\t</td>\\n\\t\\t\\t\\t</tr>\\n\\t\\t\\t</table>\\t\\t\\t\\n\\n\\t\\t</td>\\n\\t</tr>\\n</table>\\n\\n\\n    <script Language=\"Javascript\">\\n    var preg = \\' pregões\\';\\n    \\n    document.getElementById(\\'QtdPregoes\\').innerHTML = \\'= 7\\' + preg;\\n\\n    </script>\\n\\n</body>\\n</html>\\n'"
            ]
          },
          "metadata": {},
          "execution_count": 32
        }
      ]
    },
    {
      "cell_type": "markdown",
      "metadata": {
        "id": "cLueuhjAY2WF"
      },
      "source": [
        "Agora vamos raspar os itens da página\n",
        "Analise a página de resultados para encontrar o Xpath que seleciona todas as linhas da tabela de resultados, ou seja, queremos que cada linha da tabela seja um resultado dessa nossa seleção.\n",
        "\n",
        "Preencha aqui o Xpath correto para que obtenhamos os pregões da tabela de resultados (apenas as linhas que contém pregões mesmo!):"
      ]
    },
    {
      "cell_type": "code",
      "metadata": {
        "id": "qNPd-4FCYhcA"
      },
      "source": [
        "xpath = \"//table[@class='td']//tr[@class='tex3']\"\n",
        "rows = form_response.html.xpath(xpath)"
      ],
      "execution_count": 21,
      "outputs": []
    },
    {
      "cell_type": "code",
      "metadata": {
        "colab": {
          "base_uri": "https://localhost:8080/"
        },
        "id": "-AxRMe5XY_TI",
        "outputId": "b8df2e1a-2f06-4579-ba4d-88bbe7e01c8d"
      },
      "source": [
        "print(rows[0].html)"
      ],
      "execution_count": 22,
      "outputs": [
        {
          "output_type": "stream",
          "name": "stdout",
          "text": [
            "<tr bgcolor=\"#FFFFFF\" class=\"tex3\" valign=\"middle\">\n",
            "<td align=\"center\">\n",
            "<a href=\"#\" onclick=\"lista_itens('962837','492021');\">492021</a>\n",
            "</td>\n",
            "<td align=\"center\">925013</td>\n",
            "<td align=\"center\">PMSP - SECRETARIA MUNICIPAL DE EDUCAÇÃO</td>\n",
            "<td align=\"center\">19/07/2021 08:00</td>\n",
            "<td align=\"center\">29/07/2021 09:30</td>\n",
            "<td align=\"center\">Julgamento/Habilitação</td>\n",
            "<td align=\"center\">\n",
            "<br/>\n",
            "<a href=\"javascript:void(0)\" onclick=\"Esclar_Pregao(962837);\">Esclarecimentos</a><br/>\n",
            "<a href=\"javascript:void(0)\" onclick=\"Avisos_Pregao(962837);\">Avisos</a><br/>\n",
            "</td>\n",
            "</tr>\n"
          ]
        }
      ]
    },
    {
      "cell_type": "markdown",
      "metadata": {
        "id": "LN80zAYaZY5O"
      },
      "source": [
        "Queremos raspar o texto de cada campo apresentado na tabela (exceto o campo \"Informações do Pregão\") e salvar todos os itens em formato de dicionário numa lista de pregões"
      ]
    },
    {
      "cell_type": "code",
      "metadata": {
        "id": "L_jp5FJhZG8A"
      },
      "source": [
        "pregoes = []\n",
        "for row in rows:\n",
        "    numero_pregao = row.xpath(\"./tr/td[1]/a/text()\")[0]\n",
        "    codigo_uasg = row.xpath(\"./tr/td[2]/text()\")[0]\n",
        "    nome_uasg = row.xpath(\"./tr/td[3]/text()\")[0]\n",
        "    data_hora_inicio = row.xpath(\"./tr/td[4]/text()\")[0]\n",
        "    data_hora_abertura = row.xpath(\"./tr/td[5]/text()\")[0]\n",
        "    situacao = row.xpath(\"./tr/td[6]/text()\")[0]\n",
        "    item = {\n",
        "        \"numero_pregao\": numero_pregao,\n",
        "        \"codigo_uasg\": codigo_uasg,\n",
        "        \"nome_uasg\": nome_uasg,\n",
        "        \"data_hora_inicio\": data_hora_inicio,\n",
        "        \"data_hora_abertura\": data_hora_abertura,\n",
        "        \"situacao\": situacao,\n",
        "    }\n",
        "pregoes.append(item)"
      ],
      "execution_count": 23,
      "outputs": []
    },
    {
      "cell_type": "code",
      "metadata": {
        "colab": {
          "base_uri": "https://localhost:8080/"
        },
        "id": "cNOniXZhdkDe",
        "outputId": "58195ce8-3067-4b95-b938-623dfd0d2d02"
      },
      "source": [
        "pregoes"
      ],
      "execution_count": 33,
      "outputs": [
        {
          "output_type": "execute_result",
          "data": {
            "text/plain": [
              "[{'codigo_uasg': '925013',\n",
              "  'data_hora_abertura': '21/09/2021 09:30',\n",
              "  'data_hora_inicio': '09/09/2021 08:00',\n",
              "  'nome_uasg': 'PMSP - SECRETARIA MUNICIPAL DE EDUCAÇÃO',\n",
              "  'numero_pregao': '642021',\n",
              "  'situacao': 'Julgamento/Habilitação'}]"
            ]
          },
          "metadata": {},
          "execution_count": 33
        }
      ]
    },
    {
      "cell_type": "markdown",
      "metadata": {
        "id": "iRimhlm5Z1qa"
      },
      "source": [
        "salvar itens em CSV sem precisar utilizar bibliotecas externas"
      ]
    },
    {
      "cell_type": "code",
      "metadata": {
        "id": "7L05TFiKZr0n"
      },
      "source": [
        "with open('pregoes.csv', 'w') as f:\n",
        "    fieldnames = pregoes[0].keys()\n",
        "    writer = csv.DictWriter(f, fieldnames=fieldnames)\n",
        "    writer.writeheader()\n",
        "    writer.writerows(pregoes)"
      ],
      "execution_count": 36,
      "outputs": []
    },
    {
      "cell_type": "markdown",
      "metadata": {
        "id": "VD2RqhEiaK_t"
      },
      "source": [
        "criar um DataFrame a partir da variável pregoes"
      ]
    },
    {
      "cell_type": "code",
      "metadata": {
        "id": "9GgvEF8_Z9HP"
      },
      "source": [
        "df_pregoes = pd.DataFrame(pregoes)"
      ],
      "execution_count": 25,
      "outputs": []
    },
    {
      "cell_type": "code",
      "metadata": {
        "colab": {
          "base_uri": "https://localhost:8080/",
          "height": 80
        },
        "id": "aQq6KRjydt81",
        "outputId": "0eb609cd-46bc-45d8-fff9-a36cf46b8106"
      },
      "source": [
        "df_pregoes"
      ],
      "execution_count": 34,
      "outputs": [
        {
          "output_type": "execute_result",
          "data": {
            "text/html": [
              "<div>\n",
              "<style scoped>\n",
              "    .dataframe tbody tr th:only-of-type {\n",
              "        vertical-align: middle;\n",
              "    }\n",
              "\n",
              "    .dataframe tbody tr th {\n",
              "        vertical-align: top;\n",
              "    }\n",
              "\n",
              "    .dataframe thead th {\n",
              "        text-align: right;\n",
              "    }\n",
              "</style>\n",
              "<table border=\"1\" class=\"dataframe\">\n",
              "  <thead>\n",
              "    <tr style=\"text-align: right;\">\n",
              "      <th></th>\n",
              "      <th>numero_pregao</th>\n",
              "      <th>codigo_uasg</th>\n",
              "      <th>nome_uasg</th>\n",
              "      <th>data_hora_inicio</th>\n",
              "      <th>data_hora_abertura</th>\n",
              "      <th>situacao</th>\n",
              "    </tr>\n",
              "  </thead>\n",
              "  <tbody>\n",
              "    <tr>\n",
              "      <th>0</th>\n",
              "      <td>642021</td>\n",
              "      <td>925013</td>\n",
              "      <td>PMSP - SECRETARIA MUNICIPAL DE EDUCAÇÃO</td>\n",
              "      <td>09/09/2021 08:00</td>\n",
              "      <td>21/09/2021 09:30</td>\n",
              "      <td>Julgamento/Habilitação</td>\n",
              "    </tr>\n",
              "  </tbody>\n",
              "</table>\n",
              "</div>"
            ],
            "text/plain": [
              "  numero_pregao codigo_uasg  ... data_hora_abertura                situacao\n",
              "0        642021      925013  ...   21/09/2021 09:30  Julgamento/Habilitação\n",
              "\n",
              "[1 rows x 6 columns]"
            ]
          },
          "metadata": {},
          "execution_count": 34
        }
      ]
    },
    {
      "cell_type": "code",
      "metadata": {
        "colab": {
          "base_uri": "https://localhost:8080/",
          "height": 17
        },
        "id": "NAgxzgOkaS1G",
        "outputId": "9c0a5969-70ab-4aea-b521-2688e8c69b86"
      },
      "source": [
        "from google.colab import files\n",
        "df_pregoes.to_csv('df_pregoes.csv')\n",
        "files.download('df_pregoes.csv')"
      ],
      "execution_count": 29,
      "outputs": [
        {
          "output_type": "display_data",
          "data": {
            "application/javascript": [
              "\n",
              "    async function download(id, filename, size) {\n",
              "      if (!google.colab.kernel.accessAllowed) {\n",
              "        return;\n",
              "      }\n",
              "      const div = document.createElement('div');\n",
              "      const label = document.createElement('label');\n",
              "      label.textContent = `Downloading \"${filename}\": `;\n",
              "      div.appendChild(label);\n",
              "      const progress = document.createElement('progress');\n",
              "      progress.max = size;\n",
              "      div.appendChild(progress);\n",
              "      document.body.appendChild(div);\n",
              "\n",
              "      const buffers = [];\n",
              "      let downloaded = 0;\n",
              "\n",
              "      const channel = await google.colab.kernel.comms.open(id);\n",
              "      // Send a message to notify the kernel that we're ready.\n",
              "      channel.send({})\n",
              "\n",
              "      for await (const message of channel.messages) {\n",
              "        // Send a message to notify the kernel that we're ready.\n",
              "        channel.send({})\n",
              "        if (message.buffers) {\n",
              "          for (const buffer of message.buffers) {\n",
              "            buffers.push(buffer);\n",
              "            downloaded += buffer.byteLength;\n",
              "            progress.value = downloaded;\n",
              "          }\n",
              "        }\n",
              "      }\n",
              "      const blob = new Blob(buffers, {type: 'application/binary'});\n",
              "      const a = document.createElement('a');\n",
              "      a.href = window.URL.createObjectURL(blob);\n",
              "      a.download = filename;\n",
              "      div.appendChild(a);\n",
              "      a.click();\n",
              "      div.remove();\n",
              "    }\n",
              "  "
            ],
            "text/plain": [
              "<IPython.core.display.Javascript object>"
            ]
          },
          "metadata": {}
        },
        {
          "output_type": "display_data",
          "data": {
            "application/javascript": [
              "download(\"download_3e6ab68b-e24b-483d-bb8b-1da66a9fd749\", \"df_pregoes.csv\", 199)"
            ],
            "text/plain": [
              "<IPython.core.display.Javascript object>"
            ]
          },
          "metadata": {}
        }
      ]
    },
    {
      "cell_type": "code",
      "metadata": {
        "id": "_adPNxiIbszU"
      },
      "source": [
        ""
      ],
      "execution_count": null,
      "outputs": []
    }
  ]
}